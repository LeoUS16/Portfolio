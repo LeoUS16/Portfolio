{
 "cells": [
  {
   "cell_type": "markdown",
   "metadata": {},
   "source": [
    "# Определение стоимости автомобилей\n",
    "___"
   ]
  },
  {
   "cell_type": "markdown",
   "metadata": {},
   "source": [
    "Нам необходимо построить модель для определения стоимости автомобилей для сервиса по продаже автомобилей. Модель должна определить рыночную стоимость автомобиля на основании исторических данных: технические характеристики, комплектации и цены автомобилей. "
   ]
  },
  {
   "cell_type": "markdown",
   "metadata": {},
   "source": [
    "## Признаки"
   ]
  },
  {
   "cell_type": "markdown",
   "metadata": {},
   "source": [
    "Датасет содержит следующие признаки:\n",
    "\n",
    "- `DateCrawled` — дата скачивания анкеты из базы;\n",
    "\n",
    "\n",
    "- `VehicleType` — тип автомобильного кузова;\n",
    "\n",
    "\n",
    "- `RegistrationYear` — год регистрации автомобиля;\n",
    "\n",
    "\n",
    "- `Gearbox` — тип коробки передач;\n",
    "\n",
    "\n",
    "- `Power` — мощность (л.с.);\n",
    "\n",
    "\n",
    "- `Model` — модель автомобиля;\n",
    "\n",
    "\n",
    "- `Kilometer` — пробег (км);\n",
    "\n",
    "\n",
    "- `RegistrationMonth` — месяц регистрации автомобиля;\n",
    "\n",
    "\n",
    "- `FuelType` — тип топлива;\n",
    "\n",
    "\n",
    "- `Brand` — марка автомобиля;\n",
    "\n",
    "\n",
    "- `Repaired` — была машина в ремонте или нет;\n",
    "\n",
    "\n",
    "- `DateCreated` — дата создания анкеты;\n",
    "\n",
    "\n",
    "- `NumberOfPictures` — количество фотографий автомобиля;\n",
    "\n",
    "\n",
    "- `PostalCode` — почтовый индекс владельца анкеты (пользователя);\n",
    "\n",
    "\n",
    "- `LastSeen` — дата последней активности пользователя;\n",
    "\n",
    "\n",
    "- `Price` - цена (евро)."
   ]
  },
  {
   "cell_type": "markdown",
   "metadata": {},
   "source": [
    "## Содержание"
   ]
  },
  {
   "cell_type": "markdown",
   "metadata": {},
   "source": [
    "1. Подготовка данных\n",
    "2. Обучение моделей\n",
    "3. Анализ моделей"
   ]
  },
  {
   "cell_type": "markdown",
   "metadata": {},
   "source": [
    "## Подготовка данных"
   ]
  },
  {
   "cell_type": "markdown",
   "metadata": {},
   "source": [
    "Импортируем необходимые для дальнейшего анализа библиотеки:"
   ]
  },
  {
   "cell_type": "code",
   "execution_count": 1,
   "metadata": {},
   "outputs": [],
   "source": [
    "import time\n",
    "\n",
    "import numpy as np\n",
    "import pandas as pd\n",
    "import seaborn as sns\n",
    "import matplotlib.pyplot as plt\n",
    "\n",
    "from lightgbm import LGBMRegressor\n",
    "from catboost import CatBoostRegressor, Pool, cv\n",
    "\n",
    "from sklearn.compose import ColumnTransformer\n",
    "from sklearn.pipeline import Pipeline\n",
    "from sklearn.model_selection import train_test_split, GridSearchCV, KFold\n",
    "from sklearn.preprocessing import OrdinalEncoder, StandardScaler, OneHotEncoder\n",
    "from sklearn.ensemble import RandomForestRegressor\n",
    "from sklearn.linear_model import LinearRegression\n",
    "from sklearn.metrics import mean_squared_error\n",
    "\n",
    "import warnings\n",
    "warnings.filterwarnings(\"ignore\")\n",
    "pd.set_option('display.max_columns', None)"
   ]
  },
  {
   "cell_type": "markdown",
   "metadata": {},
   "source": [
    "Прочитаем наш датасет и выведем основную информацию о нем:"
   ]
  },
  {
   "cell_type": "code",
   "execution_count": 4,
   "metadata": {},
   "outputs": [],
   "source": [
    "data = pd.read_csv('autos.csv')"
   ]
  },
  {
   "cell_type": "code",
   "execution_count": 5,
   "metadata": {},
   "outputs": [
    {
     "name": "stdout",
     "output_type": "stream",
     "text": [
      "<class 'pandas.core.frame.DataFrame'>\n",
      "RangeIndex: 354369 entries, 0 to 354368\n",
      "Data columns (total 16 columns):\n",
      " #   Column             Non-Null Count   Dtype \n",
      "---  ------             --------------   ----- \n",
      " 0   DateCrawled        354369 non-null  object\n",
      " 1   Price              354369 non-null  int64 \n",
      " 2   VehicleType        316879 non-null  object\n",
      " 3   RegistrationYear   354369 non-null  int64 \n",
      " 4   Gearbox            334536 non-null  object\n",
      " 5   Power              354369 non-null  int64 \n",
      " 6   Model              334664 non-null  object\n",
      " 7   Kilometer          354369 non-null  int64 \n",
      " 8   RegistrationMonth  354369 non-null  int64 \n",
      " 9   FuelType           321474 non-null  object\n",
      " 10  Brand              354369 non-null  object\n",
      " 11  Repaired           283215 non-null  object\n",
      " 12  DateCreated        354369 non-null  object\n",
      " 13  NumberOfPictures   354369 non-null  int64 \n",
      " 14  PostalCode         354369 non-null  int64 \n",
      " 15  LastSeen           354369 non-null  object\n",
      "dtypes: int64(7), object(9)\n",
      "memory usage: 43.3+ MB\n"
     ]
    }
   ],
   "source": [
    "data.info()"
   ]
  },
  {
   "cell_type": "code",
   "execution_count": 6,
   "metadata": {},
   "outputs": [
    {
     "data": {
      "text/html": [
       "<div>\n",
       "<style scoped>\n",
       "    .dataframe tbody tr th:only-of-type {\n",
       "        vertical-align: middle;\n",
       "    }\n",
       "\n",
       "    .dataframe tbody tr th {\n",
       "        vertical-align: top;\n",
       "    }\n",
       "\n",
       "    .dataframe thead th {\n",
       "        text-align: right;\n",
       "    }\n",
       "</style>\n",
       "<table border=\"1\" class=\"dataframe\">\n",
       "  <thead>\n",
       "    <tr style=\"text-align: right;\">\n",
       "      <th></th>\n",
       "      <th>DateCrawled</th>\n",
       "      <th>Price</th>\n",
       "      <th>VehicleType</th>\n",
       "      <th>RegistrationYear</th>\n",
       "      <th>Gearbox</th>\n",
       "      <th>Power</th>\n",
       "      <th>Model</th>\n",
       "      <th>Kilometer</th>\n",
       "      <th>RegistrationMonth</th>\n",
       "      <th>FuelType</th>\n",
       "      <th>Brand</th>\n",
       "      <th>Repaired</th>\n",
       "      <th>DateCreated</th>\n",
       "      <th>NumberOfPictures</th>\n",
       "      <th>PostalCode</th>\n",
       "      <th>LastSeen</th>\n",
       "    </tr>\n",
       "  </thead>\n",
       "  <tbody>\n",
       "    <tr>\n",
       "      <th>0</th>\n",
       "      <td>2016-03-24 11:52:17</td>\n",
       "      <td>480</td>\n",
       "      <td>NaN</td>\n",
       "      <td>1993</td>\n",
       "      <td>manual</td>\n",
       "      <td>0</td>\n",
       "      <td>golf</td>\n",
       "      <td>150000</td>\n",
       "      <td>0</td>\n",
       "      <td>petrol</td>\n",
       "      <td>volkswagen</td>\n",
       "      <td>NaN</td>\n",
       "      <td>2016-03-24 00:00:00</td>\n",
       "      <td>0</td>\n",
       "      <td>70435</td>\n",
       "      <td>2016-04-07 03:16:57</td>\n",
       "    </tr>\n",
       "    <tr>\n",
       "      <th>1</th>\n",
       "      <td>2016-03-24 10:58:45</td>\n",
       "      <td>18300</td>\n",
       "      <td>coupe</td>\n",
       "      <td>2011</td>\n",
       "      <td>manual</td>\n",
       "      <td>190</td>\n",
       "      <td>NaN</td>\n",
       "      <td>125000</td>\n",
       "      <td>5</td>\n",
       "      <td>gasoline</td>\n",
       "      <td>audi</td>\n",
       "      <td>yes</td>\n",
       "      <td>2016-03-24 00:00:00</td>\n",
       "      <td>0</td>\n",
       "      <td>66954</td>\n",
       "      <td>2016-04-07 01:46:50</td>\n",
       "    </tr>\n",
       "    <tr>\n",
       "      <th>2</th>\n",
       "      <td>2016-03-14 12:52:21</td>\n",
       "      <td>9800</td>\n",
       "      <td>suv</td>\n",
       "      <td>2004</td>\n",
       "      <td>auto</td>\n",
       "      <td>163</td>\n",
       "      <td>grand</td>\n",
       "      <td>125000</td>\n",
       "      <td>8</td>\n",
       "      <td>gasoline</td>\n",
       "      <td>jeep</td>\n",
       "      <td>NaN</td>\n",
       "      <td>2016-03-14 00:00:00</td>\n",
       "      <td>0</td>\n",
       "      <td>90480</td>\n",
       "      <td>2016-04-05 12:47:46</td>\n",
       "    </tr>\n",
       "    <tr>\n",
       "      <th>3</th>\n",
       "      <td>2016-03-17 16:54:04</td>\n",
       "      <td>1500</td>\n",
       "      <td>small</td>\n",
       "      <td>2001</td>\n",
       "      <td>manual</td>\n",
       "      <td>75</td>\n",
       "      <td>golf</td>\n",
       "      <td>150000</td>\n",
       "      <td>6</td>\n",
       "      <td>petrol</td>\n",
       "      <td>volkswagen</td>\n",
       "      <td>no</td>\n",
       "      <td>2016-03-17 00:00:00</td>\n",
       "      <td>0</td>\n",
       "      <td>91074</td>\n",
       "      <td>2016-03-17 17:40:17</td>\n",
       "    </tr>\n",
       "    <tr>\n",
       "      <th>4</th>\n",
       "      <td>2016-03-31 17:25:20</td>\n",
       "      <td>3600</td>\n",
       "      <td>small</td>\n",
       "      <td>2008</td>\n",
       "      <td>manual</td>\n",
       "      <td>69</td>\n",
       "      <td>fabia</td>\n",
       "      <td>90000</td>\n",
       "      <td>7</td>\n",
       "      <td>gasoline</td>\n",
       "      <td>skoda</td>\n",
       "      <td>no</td>\n",
       "      <td>2016-03-31 00:00:00</td>\n",
       "      <td>0</td>\n",
       "      <td>60437</td>\n",
       "      <td>2016-04-06 10:17:21</td>\n",
       "    </tr>\n",
       "  </tbody>\n",
       "</table>\n",
       "</div>"
      ],
      "text/plain": [
       "           DateCrawled  Price VehicleType  RegistrationYear Gearbox  Power  \\\n",
       "0  2016-03-24 11:52:17    480         NaN              1993  manual      0   \n",
       "1  2016-03-24 10:58:45  18300       coupe              2011  manual    190   \n",
       "2  2016-03-14 12:52:21   9800         suv              2004    auto    163   \n",
       "3  2016-03-17 16:54:04   1500       small              2001  manual     75   \n",
       "4  2016-03-31 17:25:20   3600       small              2008  manual     69   \n",
       "\n",
       "   Model  Kilometer  RegistrationMonth  FuelType       Brand Repaired  \\\n",
       "0   golf     150000                  0    petrol  volkswagen      NaN   \n",
       "1    NaN     125000                  5  gasoline        audi      yes   \n",
       "2  grand     125000                  8  gasoline        jeep      NaN   \n",
       "3   golf     150000                  6    petrol  volkswagen       no   \n",
       "4  fabia      90000                  7  gasoline       skoda       no   \n",
       "\n",
       "           DateCreated  NumberOfPictures  PostalCode             LastSeen  \n",
       "0  2016-03-24 00:00:00                 0       70435  2016-04-07 03:16:57  \n",
       "1  2016-03-24 00:00:00                 0       66954  2016-04-07 01:46:50  \n",
       "2  2016-03-14 00:00:00                 0       90480  2016-04-05 12:47:46  \n",
       "3  2016-03-17 00:00:00                 0       91074  2016-03-17 17:40:17  \n",
       "4  2016-03-31 00:00:00                 0       60437  2016-04-06 10:17:21  "
      ]
     },
     "execution_count": 6,
     "metadata": {},
     "output_type": "execute_result"
    }
   ],
   "source": [
    "data.head()"
   ]
  },
  {
   "cell_type": "markdown",
   "metadata": {},
   "source": [
    "Как видим, наш датасет содержит в себе 16 столбцов и 354369 строк."
   ]
  },
  {
   "cell_type": "markdown",
   "metadata": {},
   "source": [
    "Из общей информации о датасете видно, что в данных есть пропуски. Для дальнейшего анализа проведем предобработку данных с целью исключения дубликатов в данных, заполнении пропусков и исключении из данных аномальных значений."
   ]
  },
  {
   "cell_type": "markdown",
   "metadata": {},
   "source": [
    "Посмотрим, на столбцы с численными данными, построим графики и увидим, как они коррелируют между собой:"
   ]
  },
  {
   "cell_type": "code",
   "execution_count": 7,
   "metadata": {},
   "outputs": [
    {
     "data": {
      "text/html": [
       "<div>\n",
       "<style scoped>\n",
       "    .dataframe tbody tr th:only-of-type {\n",
       "        vertical-align: middle;\n",
       "    }\n",
       "\n",
       "    .dataframe tbody tr th {\n",
       "        vertical-align: top;\n",
       "    }\n",
       "\n",
       "    .dataframe thead th {\n",
       "        text-align: right;\n",
       "    }\n",
       "</style>\n",
       "<table border=\"1\" class=\"dataframe\">\n",
       "  <thead>\n",
       "    <tr style=\"text-align: right;\">\n",
       "      <th></th>\n",
       "      <th>Price</th>\n",
       "      <th>RegistrationYear</th>\n",
       "      <th>Power</th>\n",
       "      <th>Kilometer</th>\n",
       "      <th>RegistrationMonth</th>\n",
       "      <th>NumberOfPictures</th>\n",
       "      <th>PostalCode</th>\n",
       "    </tr>\n",
       "  </thead>\n",
       "  <tbody>\n",
       "    <tr>\n",
       "      <th>count</th>\n",
       "      <td>354369.000000</td>\n",
       "      <td>354369.000000</td>\n",
       "      <td>354369.000000</td>\n",
       "      <td>354369.000000</td>\n",
       "      <td>354369.000000</td>\n",
       "      <td>354369.0</td>\n",
       "      <td>354369.000000</td>\n",
       "    </tr>\n",
       "    <tr>\n",
       "      <th>mean</th>\n",
       "      <td>4416.656776</td>\n",
       "      <td>2004.234448</td>\n",
       "      <td>110.094337</td>\n",
       "      <td>128211.172535</td>\n",
       "      <td>5.714645</td>\n",
       "      <td>0.0</td>\n",
       "      <td>50508.689087</td>\n",
       "    </tr>\n",
       "    <tr>\n",
       "      <th>std</th>\n",
       "      <td>4514.158514</td>\n",
       "      <td>90.227958</td>\n",
       "      <td>189.850405</td>\n",
       "      <td>37905.341530</td>\n",
       "      <td>3.726421</td>\n",
       "      <td>0.0</td>\n",
       "      <td>25783.096248</td>\n",
       "    </tr>\n",
       "    <tr>\n",
       "      <th>min</th>\n",
       "      <td>0.000000</td>\n",
       "      <td>1000.000000</td>\n",
       "      <td>0.000000</td>\n",
       "      <td>5000.000000</td>\n",
       "      <td>0.000000</td>\n",
       "      <td>0.0</td>\n",
       "      <td>1067.000000</td>\n",
       "    </tr>\n",
       "    <tr>\n",
       "      <th>25%</th>\n",
       "      <td>1050.000000</td>\n",
       "      <td>1999.000000</td>\n",
       "      <td>69.000000</td>\n",
       "      <td>125000.000000</td>\n",
       "      <td>3.000000</td>\n",
       "      <td>0.0</td>\n",
       "      <td>30165.000000</td>\n",
       "    </tr>\n",
       "    <tr>\n",
       "      <th>50%</th>\n",
       "      <td>2700.000000</td>\n",
       "      <td>2003.000000</td>\n",
       "      <td>105.000000</td>\n",
       "      <td>150000.000000</td>\n",
       "      <td>6.000000</td>\n",
       "      <td>0.0</td>\n",
       "      <td>49413.000000</td>\n",
       "    </tr>\n",
       "    <tr>\n",
       "      <th>75%</th>\n",
       "      <td>6400.000000</td>\n",
       "      <td>2008.000000</td>\n",
       "      <td>143.000000</td>\n",
       "      <td>150000.000000</td>\n",
       "      <td>9.000000</td>\n",
       "      <td>0.0</td>\n",
       "      <td>71083.000000</td>\n",
       "    </tr>\n",
       "    <tr>\n",
       "      <th>max</th>\n",
       "      <td>20000.000000</td>\n",
       "      <td>9999.000000</td>\n",
       "      <td>20000.000000</td>\n",
       "      <td>150000.000000</td>\n",
       "      <td>12.000000</td>\n",
       "      <td>0.0</td>\n",
       "      <td>99998.000000</td>\n",
       "    </tr>\n",
       "  </tbody>\n",
       "</table>\n",
       "</div>"
      ],
      "text/plain": [
       "               Price  RegistrationYear          Power      Kilometer  \\\n",
       "count  354369.000000     354369.000000  354369.000000  354369.000000   \n",
       "mean     4416.656776       2004.234448     110.094337  128211.172535   \n",
       "std      4514.158514         90.227958     189.850405   37905.341530   \n",
       "min         0.000000       1000.000000       0.000000    5000.000000   \n",
       "25%      1050.000000       1999.000000      69.000000  125000.000000   \n",
       "50%      2700.000000       2003.000000     105.000000  150000.000000   \n",
       "75%      6400.000000       2008.000000     143.000000  150000.000000   \n",
       "max     20000.000000       9999.000000   20000.000000  150000.000000   \n",
       "\n",
       "       RegistrationMonth  NumberOfPictures     PostalCode  \n",
       "count      354369.000000          354369.0  354369.000000  \n",
       "mean            5.714645               0.0   50508.689087  \n",
       "std             3.726421               0.0   25783.096248  \n",
       "min             0.000000               0.0    1067.000000  \n",
       "25%             3.000000               0.0   30165.000000  \n",
       "50%             6.000000               0.0   49413.000000  \n",
       "75%             9.000000               0.0   71083.000000  \n",
       "max            12.000000               0.0   99998.000000  "
      ]
     },
     "execution_count": 7,
     "metadata": {},
     "output_type": "execute_result"
    }
   ],
   "source": [
    "data.describe()"
   ]
  },
  {
   "cell_type": "code",
   "execution_count": 8,
   "metadata": {},
   "outputs": [
    {
     "data": {
      "text/plain": [
       "array([[<AxesSubplot:title={'center':'Price'}>,\n",
       "        <AxesSubplot:title={'center':'RegistrationYear'}>,\n",
       "        <AxesSubplot:title={'center':'Power'}>],\n",
       "       [<AxesSubplot:title={'center':'Kilometer'}>,\n",
       "        <AxesSubplot:title={'center':'RegistrationMonth'}>,\n",
       "        <AxesSubplot:title={'center':'NumberOfPictures'}>],\n",
       "       [<AxesSubplot:title={'center':'PostalCode'}>, <AxesSubplot:>,\n",
       "        <AxesSubplot:>]], dtype=object)"
      ]
     },
     "execution_count": 8,
     "metadata": {},
     "output_type": "execute_result"
    },
    {
     "data": {
      "image/png": "[encoded data removed]",
      "text/plain": [
       "<Figure size 864x864 with 9 Axes>"
      ]
     },
     "metadata": {
      "needs_background": "light"
     },
     "output_type": "display_data"
    }
   ],
   "source": [
    "data.hist(figsize=(12, 12), bins=50, alpha=0.7, color='deepskyblue')"
   ]
  },
  {
   "cell_type": "code",
   "execution_count": 9,
   "metadata": {},
   "outputs": [
    {
     "data": {
      "image/png": "[encoded data removed]",
      "text/plain": [
       "<Figure size 432x360 with 2 Axes>"
      ]
     },
     "metadata": {
      "needs_background": "light"
     },
     "output_type": "display_data"
    }
   ],
   "source": [
    "plt.figure(figsize=(6,5))\n",
    "sns.heatmap(data[['Price', 'RegistrationYear', 'Power', 'Kilometer']].corr(), annot=True, fmt = '.2f', vmin=-1, vmax=1, center=0, cmap='coolwarm')\n",
    "plt.title('Корреляция признаков')\n",
    "plt.show()"
   ]
  },
  {
   "cell_type": "markdown",
   "metadata": {},
   "source": [
    "Как видно из графиков, в данных присутствуют аномалии, распределение значений на графике выглядит неестественно."
   ]
  },
  {
   "cell_type": "markdown",
   "metadata": {},
   "source": [
    "Найдем количество дубликатов в нашем датасете:"
   ]
  },
  {
   "cell_type": "code",
   "execution_count": 10,
   "metadata": {},
   "outputs": [
    {
     "data": {
      "text/plain": [
       "4"
      ]
     },
     "execution_count": 10,
     "metadata": {},
     "output_type": "execute_result"
    }
   ],
   "source": [
    "data.duplicated().sum()"
   ]
  },
  {
   "cell_type": "markdown",
   "metadata": {},
   "source": [
    "Отлично, всего 4 строки являются дублирующими, удалим их из наших данных:"
   ]
  },
  {
   "cell_type": "code",
   "execution_count": 11,
   "metadata": {},
   "outputs": [],
   "source": [
    "data = data.drop_duplicates().reset_index(drop=True)"
   ]
  },
  {
   "cell_type": "markdown",
   "metadata": {},
   "source": [
    "В наших данных есть столбцы, которые не влияют на стоимость автомобиля. Это столбцы:\n",
    "\n",
    "- `DateCrawled` — дата скачивания анкеты из базы\n",
    "- `RegistrationMonth` — месяц регистрации автомобиля\n",
    "- `DateCreated` — дата создания анкеты\n",
    "- `NumberOfPictures` — количество фотографий автомобиля\n",
    "- `PostalCode` — почтовый индекс владельца анкеты (пользователя).\n",
    "\n",
    "Если рассуждать, что автовладельцы с хорошими автомобилями делают более качественные фотографии и большее их число, то столбец `NumberOfPictures` мог бы влиять на стоимость автомобиля. Однако в нашем случае, он равен 0 значению, поэтому его мы тоже удаляем."
   ]
  },
  {
   "cell_type": "code",
   "execution_count": 12,
   "metadata": {},
   "outputs": [],
   "source": [
    "data = data.drop(['DateCrawled', 'RegistrationMonth', 'DateCreated', 'PostalCode', 'LastSeen', 'NumberOfPictures'], axis=1)"
   ]
  },
  {
   "cell_type": "code",
   "execution_count": 13,
   "metadata": {},
   "outputs": [
    {
     "data": {
      "text/html": [
       "<div>\n",
       "<style scoped>\n",
       "    .dataframe tbody tr th:only-of-type {\n",
       "        vertical-align: middle;\n",
       "    }\n",
       "\n",
       "    .dataframe tbody tr th {\n",
       "        vertical-align: top;\n",
       "    }\n",
       "\n",
       "    .dataframe thead th {\n",
       "        text-align: right;\n",
       "    }\n",
       "</style>\n",
       "<table border=\"1\" class=\"dataframe\">\n",
       "  <thead>\n",
       "    <tr style=\"text-align: right;\">\n",
       "      <th></th>\n",
       "      <th>Price</th>\n",
       "      <th>VehicleType</th>\n",
       "      <th>RegistrationYear</th>\n",
       "      <th>Gearbox</th>\n",
       "      <th>Power</th>\n",
       "      <th>Model</th>\n",
       "      <th>Kilometer</th>\n",
       "      <th>FuelType</th>\n",
       "      <th>Brand</th>\n",
       "      <th>Repaired</th>\n",
       "    </tr>\n",
       "  </thead>\n",
       "  <tbody>\n",
       "    <tr>\n",
       "      <th>0</th>\n",
       "      <td>480</td>\n",
       "      <td>NaN</td>\n",
       "      <td>1993</td>\n",
       "      <td>manual</td>\n",
       "      <td>0</td>\n",
       "      <td>golf</td>\n",
       "      <td>150000</td>\n",
       "      <td>petrol</td>\n",
       "      <td>volkswagen</td>\n",
       "      <td>NaN</td>\n",
       "    </tr>\n",
       "    <tr>\n",
       "      <th>1</th>\n",
       "      <td>18300</td>\n",
       "      <td>coupe</td>\n",
       "      <td>2011</td>\n",
       "      <td>manual</td>\n",
       "      <td>190</td>\n",
       "      <td>NaN</td>\n",
       "      <td>125000</td>\n",
       "      <td>gasoline</td>\n",
       "      <td>audi</td>\n",
       "      <td>yes</td>\n",
       "    </tr>\n",
       "    <tr>\n",
       "      <th>2</th>\n",
       "      <td>9800</td>\n",
       "      <td>suv</td>\n",
       "      <td>2004</td>\n",
       "      <td>auto</td>\n",
       "      <td>163</td>\n",
       "      <td>grand</td>\n",
       "      <td>125000</td>\n",
       "      <td>gasoline</td>\n",
       "      <td>jeep</td>\n",
       "      <td>NaN</td>\n",
       "    </tr>\n",
       "    <tr>\n",
       "      <th>3</th>\n",
       "      <td>1500</td>\n",
       "      <td>small</td>\n",
       "      <td>2001</td>\n",
       "      <td>manual</td>\n",
       "      <td>75</td>\n",
       "      <td>golf</td>\n",
       "      <td>150000</td>\n",
       "      <td>petrol</td>\n",
       "      <td>volkswagen</td>\n",
       "      <td>no</td>\n",
       "    </tr>\n",
       "    <tr>\n",
       "      <th>4</th>\n",
       "      <td>3600</td>\n",
       "      <td>small</td>\n",
       "      <td>2008</td>\n",
       "      <td>manual</td>\n",
       "      <td>69</td>\n",
       "      <td>fabia</td>\n",
       "      <td>90000</td>\n",
       "      <td>gasoline</td>\n",
       "      <td>skoda</td>\n",
       "      <td>no</td>\n",
       "    </tr>\n",
       "  </tbody>\n",
       "</table>\n",
       "</div>"
      ],
      "text/plain": [
       "   Price VehicleType  RegistrationYear Gearbox  Power  Model  Kilometer  \\\n",
       "0    480         NaN              1993  manual      0   golf     150000   \n",
       "1  18300       coupe              2011  manual    190    NaN     125000   \n",
       "2   9800         suv              2004    auto    163  grand     125000   \n",
       "3   1500       small              2001  manual     75   golf     150000   \n",
       "4   3600       small              2008  manual     69  fabia      90000   \n",
       "\n",
       "   FuelType       Brand Repaired  \n",
       "0    petrol  volkswagen      NaN  \n",
       "1  gasoline        audi      yes  \n",
       "2  gasoline        jeep      NaN  \n",
       "3    petrol  volkswagen       no  \n",
       "4  gasoline       skoda       no  "
      ]
     },
     "execution_count": 13,
     "metadata": {},
     "output_type": "execute_result"
    }
   ],
   "source": [
    "data.head()"
   ]
  },
  {
   "cell_type": "markdown",
   "metadata": {},
   "source": [
    "Отлично, мы сократили количество столбцов в наших данных до 10 штук и избавились от дубликатов, теперь перейдем к аномальных значениям и пропускам в данных. Посмотрим снова на распредление данных с помощью функции `describe`."
   ]
  },
  {
   "cell_type": "code",
   "execution_count": 14,
   "metadata": {},
   "outputs": [
    {
     "data": {
      "text/html": [
       "<div>\n",
       "<style scoped>\n",
       "    .dataframe tbody tr th:only-of-type {\n",
       "        vertical-align: middle;\n",
       "    }\n",
       "\n",
       "    .dataframe tbody tr th {\n",
       "        vertical-align: top;\n",
       "    }\n",
       "\n",
       "    .dataframe thead th {\n",
       "        text-align: right;\n",
       "    }\n",
       "</style>\n",
       "<table border=\"1\" class=\"dataframe\">\n",
       "  <thead>\n",
       "    <tr style=\"text-align: right;\">\n",
       "      <th></th>\n",
       "      <th>Price</th>\n",
       "      <th>RegistrationYear</th>\n",
       "      <th>Power</th>\n",
       "      <th>Kilometer</th>\n",
       "    </tr>\n",
       "  </thead>\n",
       "  <tbody>\n",
       "    <tr>\n",
       "      <th>count</th>\n",
       "      <td>354365.000000</td>\n",
       "      <td>354365.000000</td>\n",
       "      <td>354365.000000</td>\n",
       "      <td>354365.000000</td>\n",
       "    </tr>\n",
       "    <tr>\n",
       "      <th>mean</th>\n",
       "      <td>4416.679830</td>\n",
       "      <td>2004.234481</td>\n",
       "      <td>110.093816</td>\n",
       "      <td>128211.363989</td>\n",
       "    </tr>\n",
       "    <tr>\n",
       "      <th>std</th>\n",
       "      <td>4514.176349</td>\n",
       "      <td>90.228466</td>\n",
       "      <td>189.851330</td>\n",
       "      <td>37905.083858</td>\n",
       "    </tr>\n",
       "    <tr>\n",
       "      <th>min</th>\n",
       "      <td>0.000000</td>\n",
       "      <td>1000.000000</td>\n",
       "      <td>0.000000</td>\n",
       "      <td>5000.000000</td>\n",
       "    </tr>\n",
       "    <tr>\n",
       "      <th>25%</th>\n",
       "      <td>1050.000000</td>\n",
       "      <td>1999.000000</td>\n",
       "      <td>69.000000</td>\n",
       "      <td>125000.000000</td>\n",
       "    </tr>\n",
       "    <tr>\n",
       "      <th>50%</th>\n",
       "      <td>2700.000000</td>\n",
       "      <td>2003.000000</td>\n",
       "      <td>105.000000</td>\n",
       "      <td>150000.000000</td>\n",
       "    </tr>\n",
       "    <tr>\n",
       "      <th>75%</th>\n",
       "      <td>6400.000000</td>\n",
       "      <td>2008.000000</td>\n",
       "      <td>143.000000</td>\n",
       "      <td>150000.000000</td>\n",
       "    </tr>\n",
       "    <tr>\n",
       "      <th>max</th>\n",
       "      <td>20000.000000</td>\n",
       "      <td>9999.000000</td>\n",
       "      <td>20000.000000</td>\n",
       "      <td>150000.000000</td>\n",
       "    </tr>\n",
       "  </tbody>\n",
       "</table>\n",
       "</div>"
      ],
      "text/plain": [
       "               Price  RegistrationYear          Power      Kilometer\n",
       "count  354365.000000     354365.000000  354365.000000  354365.000000\n",
       "mean     4416.679830       2004.234481     110.093816  128211.363989\n",
       "std      4514.176349         90.228466     189.851330   37905.083858\n",
       "min         0.000000       1000.000000       0.000000    5000.000000\n",
       "25%      1050.000000       1999.000000      69.000000  125000.000000\n",
       "50%      2700.000000       2003.000000     105.000000  150000.000000\n",
       "75%      6400.000000       2008.000000     143.000000  150000.000000\n",
       "max     20000.000000       9999.000000   20000.000000  150000.000000"
      ]
     },
     "execution_count": 14,
     "metadata": {},
     "output_type": "execute_result"
    }
   ],
   "source": [
    "data.describe()"
   ]
  },
  {
   "cell_type": "markdown",
   "metadata": {},
   "source": [
    "Из таблицы видно, что в столбцах `Price`, `RegistrationYear` и `Power` присутствуют аномальные значения. Например, в столбцах `Price` и `Power` есть значения равные 0, а в столбце `RegistrationYear` минимальное значение составляет 1000, вряд ли в то время регистрировали машину... Тоже самое и с максимальными значениями, в столбце `RegistrationYear` максимумом является значение 9999, а в столбце `Power` 200000, вряд ли кто то в будущем продает ракету.\n",
    "\n",
    "Для того, чтобы избавиться от явных аномалий, построим графики распределения значений - ящик с усами:"
   ]
  },
  {
   "cell_type": "code",
   "execution_count": 15,
   "metadata": {},
   "outputs": [
    {
     "data": {
      "image/png": "[encoded data removed]",
      "text/plain": [
       "<Figure size 1152x360 with 1 Axes>"
      ]
     },
     "metadata": {
      "needs_background": "light"
     },
     "output_type": "display_data"
    }
   ],
   "source": [
    "data.boxplot(column='Price', figsize=(16, 5))\n",
    "plt.xlabel(\"Цена автомобиля\")\n",
    "plt.ylabel('Распределение цены автомобиля (евро)')\n",
    "plt.title('Распределение цены автомобиля')\n",
    "plt.show()"
   ]
  },
  {
   "cell_type": "markdown",
   "metadata": {},
   "source": [
    "Как видно из графика, явными аномалиями являются автомобили со стоимостью выше 14000, но их единицы и это могут быть какие-то редкие, либо действительно дорогие автомобили, нас интересует больше нижний порог стоимости. Немало значений имеет стоимость автомобилей = 0 или близкой к нему, возможно кто-то действительно отдает свой автомобиль беспллатно, но это не поможет в нашем исследовании, поэтому уберем из данных автомобили со стоимостью меньше 50 евро:"
   ]
  },
  {
   "cell_type": "code",
   "execution_count": 16,
   "metadata": {},
   "outputs": [],
   "source": [
    "data = data[data['Price'] > 50]"
   ]
  },
  {
   "cell_type": "markdown",
   "metadata": {},
   "source": [
    "Посмотрим, как изменилось количество строк:"
   ]
  },
  {
   "cell_type": "code",
   "execution_count": 17,
   "metadata": {},
   "outputs": [
    {
     "data": {
      "text/plain": [
       "(341615, 10)"
      ]
     },
     "execution_count": 17,
     "metadata": {},
     "output_type": "execute_result"
    }
   ],
   "source": [
    "data.shape"
   ]
  },
  {
   "cell_type": "markdown",
   "metadata": {},
   "source": [
    "В исходных данных было 354369 строк, теперь их насчитывает 341615, то есть мы исключили из датасета приблизительно 4,5% данных, пока в пределах допустимого."
   ]
  },
  {
   "cell_type": "markdown",
   "metadata": {},
   "source": [
    "Для определения границ года регистрации автомобилей посмотрим на данные создания и размещения анкеты:"
   ]
  },
  {
   "cell_type": "code",
   "execution_count": 18,
   "metadata": {},
   "outputs": [
    {
     "data": {
      "text/html": [
       "<div>\n",
       "<style scoped>\n",
       "    .dataframe tbody tr th:only-of-type {\n",
       "        vertical-align: middle;\n",
       "    }\n",
       "\n",
       "    .dataframe tbody tr th {\n",
       "        vertical-align: top;\n",
       "    }\n",
       "\n",
       "    .dataframe thead th {\n",
       "        text-align: right;\n",
       "    }\n",
       "</style>\n",
       "<table border=\"1\" class=\"dataframe\">\n",
       "  <thead>\n",
       "    <tr style=\"text-align: right;\">\n",
       "      <th></th>\n",
       "      <th>DateCrawled</th>\n",
       "      <th>RegistrationYear</th>\n",
       "      <th>DateCreated</th>\n",
       "    </tr>\n",
       "  </thead>\n",
       "  <tbody>\n",
       "    <tr>\n",
       "      <th>0</th>\n",
       "      <td>2016-03-24 11:52:17</td>\n",
       "      <td>1993</td>\n",
       "      <td>2016-03-24 00:00:00</td>\n",
       "    </tr>\n",
       "    <tr>\n",
       "      <th>1</th>\n",
       "      <td>2016-03-24 10:58:45</td>\n",
       "      <td>2011</td>\n",
       "      <td>2016-03-24 00:00:00</td>\n",
       "    </tr>\n",
       "    <tr>\n",
       "      <th>2</th>\n",
       "      <td>2016-03-14 12:52:21</td>\n",
       "      <td>2004</td>\n",
       "      <td>2016-03-14 00:00:00</td>\n",
       "    </tr>\n",
       "    <tr>\n",
       "      <th>3</th>\n",
       "      <td>2016-03-17 16:54:04</td>\n",
       "      <td>2001</td>\n",
       "      <td>2016-03-17 00:00:00</td>\n",
       "    </tr>\n",
       "    <tr>\n",
       "      <th>4</th>\n",
       "      <td>2016-03-31 17:25:20</td>\n",
       "      <td>2008</td>\n",
       "      <td>2016-03-31 00:00:00</td>\n",
       "    </tr>\n",
       "    <tr>\n",
       "      <th>...</th>\n",
       "      <td>...</td>\n",
       "      <td>...</td>\n",
       "      <td>...</td>\n",
       "    </tr>\n",
       "    <tr>\n",
       "      <th>354364</th>\n",
       "      <td>2016-03-21 09:50:58</td>\n",
       "      <td>2005</td>\n",
       "      <td>2016-03-21 00:00:00</td>\n",
       "    </tr>\n",
       "    <tr>\n",
       "      <th>354365</th>\n",
       "      <td>2016-03-14 17:48:27</td>\n",
       "      <td>2005</td>\n",
       "      <td>2016-03-14 00:00:00</td>\n",
       "    </tr>\n",
       "    <tr>\n",
       "      <th>354366</th>\n",
       "      <td>2016-03-05 19:56:21</td>\n",
       "      <td>2000</td>\n",
       "      <td>2016-03-05 00:00:00</td>\n",
       "    </tr>\n",
       "    <tr>\n",
       "      <th>354367</th>\n",
       "      <td>2016-03-19 18:57:12</td>\n",
       "      <td>1996</td>\n",
       "      <td>2016-03-19 00:00:00</td>\n",
       "    </tr>\n",
       "    <tr>\n",
       "      <th>354368</th>\n",
       "      <td>2016-03-20 19:41:08</td>\n",
       "      <td>2002</td>\n",
       "      <td>2016-03-20 00:00:00</td>\n",
       "    </tr>\n",
       "  </tbody>\n",
       "</table>\n",
       "<p>354369 rows × 3 columns</p>\n",
       "</div>"
      ],
      "text/plain": [
       "                DateCrawled  RegistrationYear          DateCreated\n",
       "0       2016-03-24 11:52:17              1993  2016-03-24 00:00:00\n",
       "1       2016-03-24 10:58:45              2011  2016-03-24 00:00:00\n",
       "2       2016-03-14 12:52:21              2004  2016-03-14 00:00:00\n",
       "3       2016-03-17 16:54:04              2001  2016-03-17 00:00:00\n",
       "4       2016-03-31 17:25:20              2008  2016-03-31 00:00:00\n",
       "...                     ...               ...                  ...\n",
       "354364  2016-03-21 09:50:58              2005  2016-03-21 00:00:00\n",
       "354365  2016-03-14 17:48:27              2005  2016-03-14 00:00:00\n",
       "354366  2016-03-05 19:56:21              2000  2016-03-05 00:00:00\n",
       "354367  2016-03-19 18:57:12              1996  2016-03-19 00:00:00\n",
       "354368  2016-03-20 19:41:08              2002  2016-03-20 00:00:00\n",
       "\n",
       "[354369 rows x 3 columns]"
      ]
     },
     "metadata": {},
     "output_type": "display_data"
    }
   ],
   "source": [
    "display(pd.read_csv('autos.csv')[['DateCrawled', 'RegistrationYear', 'DateCreated']])"
   ]
  },
  {
   "cell_type": "markdown",
   "metadata": {},
   "source": [
    "Создание и размещение анкет содержит только 2016 год, значит верхняя граница года регистрации - 2016.\n",
    "\n",
    "Нижний порог задан отметкой в 1000, это вероятно ошибка, поставим нижний диапазон в 1970 год, возможны редкие и коллекционные автомобили, поэтому не будем их выбрасывать из данных."
   ]
  },
  {
   "cell_type": "code",
   "execution_count": 22,
   "metadata": {},
   "outputs": [],
   "source": [
    "data = data[(data['RegistrationYear'] < 2017) & (data['RegistrationYear'] > 1970)]"
   ]
  },
  {
   "cell_type": "code",
   "execution_count": 23,
   "metadata": {},
   "outputs": [
    {
     "data": {
      "image/png": "[encoded data removed]",
      "text/plain": [
       "<Figure size 1152x360 with 1 Axes>"
      ]
     },
     "metadata": {
      "needs_background": "light"
     },
     "output_type": "display_data"
    }
   ],
   "source": [
    "data.boxplot(column='RegistrationYear', figsize=(16, 5))\n",
    "plt.xlabel(\"Год регистрации автомобиля\")\n",
    "plt.ylabel('Распределение года регистрации автомобиля')\n",
    "plt.title('Распределение года регистрации автомобиля')\n",
    "plt.show()"
   ]
  },
  {
   "cell_type": "markdown",
   "metadata": {},
   "source": [
    "Аномалии все еще есть, но выбрасывать такой объем данных не будем."
   ]
  },
  {
   "cell_type": "markdown",
   "metadata": {},
   "source": [
    "Теперь глянем на распределение данных в столбце `Power`:"
   ]
  },
  {
   "cell_type": "code",
   "execution_count": 24,
   "metadata": {},
   "outputs": [
    {
     "data": {
      "image/png": "[encoded data removed]",
      "text/plain": [
       "<Figure size 1152x360 with 1 Axes>"
      ]
     },
     "metadata": {
      "needs_background": "light"
     },
     "output_type": "display_data"
    }
   ],
   "source": [
    "data.boxplot(column='Power', figsize=(16, 5))\n",
    "plt.xlabel(\"Мощность автомобиля\")\n",
    "plt.ylabel('Распределение мощности автомобиля, л/с')\n",
    "plt.title('Распределение мощности автомобиля, л/с')\n",
    "plt.show()"
   ]
  },
  {
   "cell_type": "markdown",
   "metadata": {},
   "source": [
    "Отсечем данные ниже отметки в 1000 л/с, чтобы график был более читаемым:"
   ]
  },
  {
   "cell_type": "code",
   "execution_count": 25,
   "metadata": {},
   "outputs": [],
   "source": [
    "data = data[data['Power'] < 1000]"
   ]
  },
  {
   "cell_type": "code",
   "execution_count": 26,
   "metadata": {},
   "outputs": [
    {
     "data": {
      "image/png": "[encoded data removed]",
      "text/plain": [
       "<Figure size 1152x360 with 1 Axes>"
      ]
     },
     "metadata": {
      "needs_background": "light"
     },
     "output_type": "display_data"
    }
   ],
   "source": [
    "data.boxplot(column='Power', figsize=(16, 5))\n",
    "plt.xlabel(\"Мощность автомобиля\")\n",
    "plt.ylabel('Распределение мощности автомобиля, л/с')\n",
    "plt.title('Распределение мощности автомобиля, л/с')\n",
    "plt.show()"
   ]
  },
  {
   "cell_type": "markdown",
   "metadata": {},
   "source": [
    "Как видим, за пределами нормальных значений находятся автомобили с мощностью более 250 л/с, но такие машины существуют и выбрасывать их из датасета нелогично, поэтому примем за пороговое значение мощность автомобилей в 500 л/с. \n",
    "нулевые значения мы не выбрасываем, заполним их медианными значениями по бренду автомобиля."
   ]
  },
  {
   "cell_type": "code",
   "execution_count": 27,
   "metadata": {},
   "outputs": [],
   "source": [
    "data = data[data['Power'] < 500]"
   ]
  },
  {
   "cell_type": "code",
   "execution_count": 28,
   "metadata": {},
   "outputs": [],
   "source": [
    "data.loc[data['Power'] == 0, 'Power'] = np.NaN\n",
    "data['Power'] = data['Power'].fillna(\n",
    "    data.groupby('Brand')['Power'].transform(lambda x: x.median() if x.median() else np.nan))"
   ]
  },
  {
   "cell_type": "code",
   "execution_count": 29,
   "metadata": {},
   "outputs": [
    {
     "data": {
      "text/html": [
       "<div>\n",
       "<style scoped>\n",
       "    .dataframe tbody tr th:only-of-type {\n",
       "        vertical-align: middle;\n",
       "    }\n",
       "\n",
       "    .dataframe tbody tr th {\n",
       "        vertical-align: top;\n",
       "    }\n",
       "\n",
       "    .dataframe thead th {\n",
       "        text-align: right;\n",
       "    }\n",
       "</style>\n",
       "<table border=\"1\" class=\"dataframe\">\n",
       "  <thead>\n",
       "    <tr style=\"text-align: right;\">\n",
       "      <th></th>\n",
       "      <th>Price</th>\n",
       "      <th>RegistrationYear</th>\n",
       "      <th>Power</th>\n",
       "      <th>Kilometer</th>\n",
       "    </tr>\n",
       "  </thead>\n",
       "  <tbody>\n",
       "    <tr>\n",
       "      <th>count</th>\n",
       "      <td>326113.000000</td>\n",
       "      <td>326113.000000</td>\n",
       "      <td>326113.000000</td>\n",
       "      <td>326113.000000</td>\n",
       "    </tr>\n",
       "    <tr>\n",
       "      <th>mean</th>\n",
       "      <td>4619.131641</td>\n",
       "      <td>2002.785354</td>\n",
       "      <td>119.661892</td>\n",
       "      <td>128553.246881</td>\n",
       "    </tr>\n",
       "    <tr>\n",
       "      <th>std</th>\n",
       "      <td>4532.915453</td>\n",
       "      <td>6.323146</td>\n",
       "      <td>51.492728</td>\n",
       "      <td>37067.985859</td>\n",
       "    </tr>\n",
       "    <tr>\n",
       "      <th>min</th>\n",
       "      <td>55.000000</td>\n",
       "      <td>1971.000000</td>\n",
       "      <td>1.000000</td>\n",
       "      <td>5000.000000</td>\n",
       "    </tr>\n",
       "    <tr>\n",
       "      <th>25%</th>\n",
       "      <td>1200.000000</td>\n",
       "      <td>1999.000000</td>\n",
       "      <td>80.000000</td>\n",
       "      <td>125000.000000</td>\n",
       "    </tr>\n",
       "    <tr>\n",
       "      <th>50%</th>\n",
       "      <td>2950.000000</td>\n",
       "      <td>2003.000000</td>\n",
       "      <td>109.000000</td>\n",
       "      <td>150000.000000</td>\n",
       "    </tr>\n",
       "    <tr>\n",
       "      <th>75%</th>\n",
       "      <td>6650.000000</td>\n",
       "      <td>2007.000000</td>\n",
       "      <td>150.000000</td>\n",
       "      <td>150000.000000</td>\n",
       "    </tr>\n",
       "    <tr>\n",
       "      <th>max</th>\n",
       "      <td>20000.000000</td>\n",
       "      <td>2016.000000</td>\n",
       "      <td>490.000000</td>\n",
       "      <td>150000.000000</td>\n",
       "    </tr>\n",
       "  </tbody>\n",
       "</table>\n",
       "</div>"
      ],
      "text/plain": [
       "               Price  RegistrationYear          Power      Kilometer\n",
       "count  326113.000000     326113.000000  326113.000000  326113.000000\n",
       "mean     4619.131641       2002.785354     119.661892  128553.246881\n",
       "std      4532.915453          6.323146      51.492728   37067.985859\n",
       "min        55.000000       1971.000000       1.000000    5000.000000\n",
       "25%      1200.000000       1999.000000      80.000000  125000.000000\n",
       "50%      2950.000000       2003.000000     109.000000  150000.000000\n",
       "75%      6650.000000       2007.000000     150.000000  150000.000000\n",
       "max     20000.000000       2016.000000     490.000000  150000.000000"
      ]
     },
     "execution_count": 29,
     "metadata": {},
     "output_type": "execute_result"
    }
   ],
   "source": [
    "data.describe()"
   ]
  },
  {
   "cell_type": "markdown",
   "metadata": {},
   "source": [
    "Теперь посмотрим на пропуски в данных:"
   ]
  },
  {
   "cell_type": "code",
   "execution_count": 30,
   "metadata": {},
   "outputs": [
    {
     "data": {
      "text/plain": [
       "Price                   0\n",
       "VehicleType         18877\n",
       "RegistrationYear        0\n",
       "Gearbox             14474\n",
       "Power                   0\n",
       "Model               14793\n",
       "Kilometer               0\n",
       "FuelType            22943\n",
       "Brand                   0\n",
       "Repaired            58149\n",
       "dtype: int64"
      ]
     },
     "execution_count": 30,
     "metadata": {},
     "output_type": "execute_result"
    }
   ],
   "source": [
    "data.isna().sum()"
   ]
  },
  {
   "cell_type": "markdown",
   "metadata": {},
   "source": [
    "Пропуски имеются в столбцах:\n",
    "- `VehicleType` \n",
    "- `Gearbox`\n",
    "- `FuelType`\n",
    "- `Repaired`\n",
    "\n",
    "Посмотрим, какие данные содержат эти столбцы:"
   ]
  },
  {
   "cell_type": "code",
   "execution_count": 31,
   "metadata": {},
   "outputs": [
    {
     "data": {
      "text/plain": [
       "sedan          88549\n",
       "small          77469\n",
       "wagon          63378\n",
       "bus            28211\n",
       "convertible    19679\n",
       "coupe          15328\n",
       "suv            11665\n",
       "other           2957\n",
       "Name: VehicleType, dtype: int64"
      ]
     },
     "execution_count": 31,
     "metadata": {},
     "output_type": "execute_result"
    }
   ],
   "source": [
    "data['VehicleType'].value_counts()"
   ]
  },
  {
   "cell_type": "markdown",
   "metadata": {},
   "source": [
    "Столбец `VehicleType` содержит типы кузова автомобиля и одним из вариантов является наименование `other`, заполним пропуски этим значением."
   ]
  },
  {
   "cell_type": "code",
   "execution_count": 32,
   "metadata": {},
   "outputs": [],
   "source": [
    "data['VehicleType'] = data['VehicleType'].fillna('other')"
   ]
  },
  {
   "cell_type": "code",
   "execution_count": 33,
   "metadata": {},
   "outputs": [
    {
     "data": {
      "text/plain": [
       "manual    249146\n",
       "auto       62493\n",
       "Name: Gearbox, dtype: int64"
      ]
     },
     "execution_count": 33,
     "metadata": {},
     "output_type": "execute_result"
    }
   ],
   "source": [
    "data['Gearbox'].value_counts()"
   ]
  },
  {
   "cell_type": "markdown",
   "metadata": {},
   "source": [
    "Столбец `Gearbox` содержит всего два значения: автоматическая коробка передач и механическая. Заполнять их случайным образом бессмысленно, поэтому создадим новое наименование и назовем его `unknown`."
   ]
  },
  {
   "cell_type": "code",
   "execution_count": 34,
   "metadata": {},
   "outputs": [],
   "source": [
    "data['Gearbox'] = data['Gearbox'].fillna('unknown')"
   ]
  },
  {
   "cell_type": "code",
   "execution_count": 35,
   "metadata": {},
   "outputs": [
    {
     "data": {
      "text/plain": [
       "golf                  26586\n",
       "other                 22389\n",
       "3er                   18563\n",
       "polo                  11937\n",
       "corsa                 11484\n",
       "                      ...  \n",
       "serie_2                   3\n",
       "rangerover                3\n",
       "serie_3                   3\n",
       "range_rover_evoque        2\n",
       "serie_1                   1\n",
       "Name: Model, Length: 250, dtype: int64"
      ]
     },
     "execution_count": 35,
     "metadata": {},
     "output_type": "execute_result"
    }
   ],
   "source": [
    "data['Model'].value_counts()"
   ]
  },
  {
   "cell_type": "code",
   "execution_count": 36,
   "metadata": {},
   "outputs": [
    {
     "data": {
      "text/plain": [
       "array(['golf', nan, 'grand', 'fabia', '3er', '2_reihe', 'c_max',\n",
       "       '3_reihe', 'passat', 'navara', 'polo', 'twingo', 'a_klasse',\n",
       "       'scirocco', '5er', 'arosa', 'other', 'civic', 'transporter',\n",
       "       'punto', 'e_klasse', 'clio', 'kadett', 'kangoo', 'one', 'fortwo',\n",
       "       '1er', 'b_klasse', 'signum', 'astra', 'a8', 'jetta', 'fiesta',\n",
       "       'c_klasse', 'micra', 'vito', 'sprinter', '156', 'escort',\n",
       "       'forester', 'xc_reihe', 'scenic', 'a4', 'ka', 'a1', 'insignia',\n",
       "       'combo', 'focus', 'tt', 'corsa', 'a6', 'jazz', 'omega', 'slk',\n",
       "       '7er', '80', '147', '100', 'z_reihe', 'sorento', 'v40', 'ibiza',\n",
       "       'mustang', 'eos', 'touran', 'getz', 'a3', 'almera', 'megane',\n",
       "       'lupo', 'r19', 'caddy', 'mondeo', 'cordoba', 'colt', 'impreza',\n",
       "       'vectra', 'berlingo', 'tiguan', 'sharan', '6_reihe', 'c4', 'panda',\n",
       "       'up', 'i_reihe', 'ceed', '5_reihe', 'yeti', 'octavia', 'zafira',\n",
       "       'mii', 'rx_reihe', '6er', 'modus', 'fox', 'matiz', 'beetle', 'c1',\n",
       "       'rio', 'touareg', 'logan', 'spider', 'cuore', 's_max', 'a2',\n",
       "       'galaxy', 'c3', 'viano', 's_klasse', '1_reihe', 'avensis',\n",
       "       'roomster', 'sl', 'kaefer', 'santa', 'cooper', 'leon', '4_reihe',\n",
       "       'a5', 'sportage', 'laguna', 'ptcruiser', 'clk', 'primera',\n",
       "       'espace', 'x_reihe', 'exeo', '159', 'transit', 'juke', 'qashqai',\n",
       "       'carisma', 'accord', 'corolla', 'lanos', 'phaeton', 'verso',\n",
       "       'swift', 'rav', 'picanto', 'boxster', 'kalos', 'superb', 'stilo',\n",
       "       'alhambra', 'roadster', 'ypsilon', 'cayenne', 'galant', 'justy',\n",
       "       '90', 'sirion', 'crossfire', 'agila', 'duster', 'v50', 'mx_reihe',\n",
       "       '500', 'meriva', 'c_reihe', 'v_klasse', 'm_klasse', 'yaris', 'c5',\n",
       "       'aygo', 'seicento', 'cc', 'carnival', 'fusion', '911', 'bora',\n",
       "       'forfour', 'cl', 'tigra', '300c', 'cr_reihe', 'spark', 'v70',\n",
       "       'kuga', 'x_type', 'ducato', 's_type', 'x_trail', 'toledo', 'altea',\n",
       "       'voyager', 'calibra', 'bravo', 'antara', 'tucson', 'citigo',\n",
       "       'jimny', 'wrangler', 'lybra', 'q7', 'lancer', 'captiva',\n",
       "       'discovery', 'freelander', 'sandero', 'note', '900', 'cherokee',\n",
       "       'clubman', 'samara', 'defender', 'cx_reihe', 'legacy', 'pajero',\n",
       "       'auris', 'c2', 'niva', 's60', 'm_reihe', 'nubira', 'vivaro',\n",
       "       'g_klasse', 'lodgy', '850', 'range_rover', '601', 'q3', 'serie_2',\n",
       "       'glk', 'charade', 'croma', 'outlander', 'doblo', 'musa', 'move',\n",
       "       '9000', 'v60', '145', '200', 'b_max', 'range_rover_sport', 'aveo',\n",
       "       'terios', 'rangerover', 'q5', 'range_rover_evoque', 'materia',\n",
       "       'delta', 'gl', 'kalina', 'elefantino', 'i3', 'amarok', 'kappa',\n",
       "       'serie_3', 'serie_1'], dtype=object)"
      ]
     },
     "execution_count": 36,
     "metadata": {},
     "output_type": "execute_result"
    }
   ],
   "source": [
    "data['Model'].unique()"
   ]
  },
  {
   "cell_type": "markdown",
   "metadata": {},
   "source": [
    "Моделей машин достаточно много, но и тут есть значение `other`, этим же значением и заполним пропуски."
   ]
  },
  {
   "cell_type": "code",
   "execution_count": 37,
   "metadata": {},
   "outputs": [],
   "source": [
    "data['Model'] = data['Model'].fillna('other')"
   ]
  },
  {
   "cell_type": "code",
   "execution_count": 38,
   "metadata": {},
   "outputs": [
    {
     "data": {
      "text/plain": [
       "petrol      202665\n",
       "gasoline     94541\n",
       "lpg           5004\n",
       "cng            526\n",
       "hybrid         219\n",
       "other          131\n",
       "electric        84\n",
       "Name: FuelType, dtype: int64"
      ]
     },
     "execution_count": 38,
     "metadata": {},
     "output_type": "execute_result"
    }
   ],
   "source": [
    "data['FuelType'].value_counts()"
   ]
  },
  {
   "cell_type": "markdown",
   "metadata": {},
   "source": [
    "В столбце типа топлива также присутствует наименование `other`, сюда и запишем наши пропуски. "
   ]
  },
  {
   "cell_type": "code",
   "execution_count": 39,
   "metadata": {},
   "outputs": [],
   "source": [
    "data['FuelType'] = data['FuelType'].fillna('other')"
   ]
  },
  {
   "cell_type": "code",
   "execution_count": 40,
   "metadata": {},
   "outputs": [
    {
     "data": {
      "text/plain": [
       "no     235583\n",
       "yes     32381\n",
       "Name: Repaired, dtype: int64"
      ]
     },
     "execution_count": 40,
     "metadata": {},
     "output_type": "execute_result"
    }
   ],
   "source": [
    "data['Repaired'].value_counts()"
   ]
  },
  {
   "cell_type": "markdown",
   "metadata": {},
   "source": [
    "Столбец `Repaired` содержит данные о том, была ли машина в ремонте или нет. Думаю речь идет про ремонт после аварий. Заполним пропуски значением `no`. Считаю, что если человек не заполнил графу наличия ремонта, то это потому что его и правда не было, а не потому что он хочет что-то скрыть."
   ]
  },
  {
   "cell_type": "code",
   "execution_count": 41,
   "metadata": {},
   "outputs": [],
   "source": [
    "data['Repaired'] = data['Repaired'].fillna('no')"
   ]
  },
  {
   "cell_type": "markdown",
   "metadata": {},
   "source": [
    "Посмотрим на пропуски:"
   ]
  },
  {
   "cell_type": "code",
   "execution_count": 42,
   "metadata": {},
   "outputs": [
    {
     "data": {
      "text/plain": [
       "Price               0\n",
       "VehicleType         0\n",
       "RegistrationYear    0\n",
       "Gearbox             0\n",
       "Power               0\n",
       "Model               0\n",
       "Kilometer           0\n",
       "FuelType            0\n",
       "Brand               0\n",
       "Repaired            0\n",
       "dtype: int64"
      ]
     },
     "execution_count": 42,
     "metadata": {},
     "output_type": "execute_result"
    }
   ],
   "source": [
    "data.isna().sum()"
   ]
  },
  {
   "cell_type": "markdown",
   "metadata": {},
   "source": [
    "Пропусков нет, идем дальше!"
   ]
  },
  {
   "cell_type": "code",
   "execution_count": 43,
   "metadata": {},
   "outputs": [
    {
     "name": "stdout",
     "output_type": "stream",
     "text": [
      "<class 'pandas.core.frame.DataFrame'>\n",
      "Int64Index: 326113 entries, 0 to 354364\n",
      "Data columns (total 10 columns):\n",
      " #   Column            Non-Null Count   Dtype  \n",
      "---  ------            --------------   -----  \n",
      " 0   Price             326113 non-null  int64  \n",
      " 1   VehicleType       326113 non-null  object \n",
      " 2   RegistrationYear  326113 non-null  int64  \n",
      " 3   Gearbox           326113 non-null  object \n",
      " 4   Power             326113 non-null  float64\n",
      " 5   Model             326113 non-null  object \n",
      " 6   Kilometer         326113 non-null  int64  \n",
      " 7   FuelType          326113 non-null  object \n",
      " 8   Brand             326113 non-null  object \n",
      " 9   Repaired          326113 non-null  object \n",
      "dtypes: float64(1), int64(3), object(6)\n",
      "memory usage: 27.4+ MB\n"
     ]
    }
   ],
   "source": [
    "data.info()"
   ]
  },
  {
   "cell_type": "markdown",
   "metadata": {},
   "source": [
    "Переведем столбцы типа `object` к типу `category`, а столбец типа `float64` к типу `int64`:"
   ]
  },
  {
   "cell_type": "code",
   "execution_count": 44,
   "metadata": {},
   "outputs": [],
   "source": [
    "categorial_columns = ['VehicleType','Gearbox', 'Model','FuelType', 'Brand', 'Repaired']\n",
    "data[categorial_columns] = data[categorial_columns].astype('category')\n",
    "data['Power'] = data['Power'].astype('int64')"
   ]
  },
  {
   "cell_type": "code",
   "execution_count": 45,
   "metadata": {},
   "outputs": [
    {
     "name": "stdout",
     "output_type": "stream",
     "text": [
      "<class 'pandas.core.frame.DataFrame'>\n",
      "Int64Index: 326113 entries, 0 to 354364\n",
      "Data columns (total 10 columns):\n",
      " #   Column            Non-Null Count   Dtype   \n",
      "---  ------            --------------   -----   \n",
      " 0   Price             326113 non-null  int64   \n",
      " 1   VehicleType       326113 non-null  category\n",
      " 2   RegistrationYear  326113 non-null  int64   \n",
      " 3   Gearbox           326113 non-null  category\n",
      " 4   Power             326113 non-null  int64   \n",
      " 5   Model             326113 non-null  category\n",
      " 6   Kilometer         326113 non-null  int64   \n",
      " 7   FuelType          326113 non-null  category\n",
      " 8   Brand             326113 non-null  category\n",
      " 9   Repaired          326113 non-null  category\n",
      "dtypes: category(6), int64(4)\n",
      "memory usage: 14.6 MB\n"
     ]
    }
   ],
   "source": [
    "data.info()"
   ]
  },
  {
   "cell_type": "markdown",
   "metadata": {},
   "source": [
    "Напишем два ColumnTransformer'а. transformer - для 'деревянных' моделей; применяется порядковое кодирование категориальных признаков, численные не меняются. transformer_linear - для линейной регрессии; для категориальных признаков - прямое кодирование, для численных - масштабирование."
   ]
  },
  {
   "cell_type": "code",
   "execution_count": 47,
   "metadata": {},
   "outputs": [],
   "source": [
    "num_columns = ['RegistrationYear', 'Power', 'Kilometer']\n",
    "cat_columns = ['VehicleType','Gearbox', 'Model','FuelType', 'Brand', 'Repaired']\n",
    "\n",
    "transformer = ColumnTransformer(\n",
    "    [(\"enc\", OrdinalEncoder(handle_unknown=\"use_encoded_value\", unknown_value=-1), cat_columns)],\n",
    "    remainder='passthrough'\n",
    ")\n",
    "\n",
    "transformer_linear = ColumnTransformer(\n",
    "            [(\"ohe\", OneHotEncoder(drop = 'first', handle_unknown = 'ignore', sparse=False), cat_columns),\n",
    "            (\"scaler\", StandardScaler(), num_columns)],\n",
    "            remainder='passthrough'\n",
    ")"
   ]
  },
  {
   "cell_type": "markdown",
   "metadata": {},
   "source": [
    "Данные готовы к обучению моделей."
   ]
  },
  {
   "cell_type": "markdown",
   "metadata": {},
   "source": [
    "## Обучение моделей"
   ]
  },
  {
   "cell_type": "markdown",
   "metadata": {},
   "source": [
    "### Подготовка данных"
   ]
  },
  {
   "cell_type": "markdown",
   "metadata": {},
   "source": [
    "Разделим наш датасет на обучающие и тестовые данные:"
   ]
  },
  {
   "cell_type": "code",
   "execution_count": 48,
   "metadata": {},
   "outputs": [],
   "source": [
    "features_train, features_test, target_train, target_test = train_test_split(\n",
    "    data.drop('Price', axis=1), data.Price, test_size=0.25, random_state=12345)"
   ]
  },
  {
   "cell_type": "code",
   "execution_count": 49,
   "metadata": {},
   "outputs": [
    {
     "name": "stdout",
     "output_type": "stream",
     "text": [
      "Размеры получившихся выборок: \n",
      "Обучающая: 244584\n",
      "Тестовая: 81529\n"
     ]
    }
   ],
   "source": [
    "print('Размеры получившихся выборок: ')\n",
    "print('Обучающая:', len(features_train))\n",
    "print('Тестовая:', len(features_test))"
   ]
  },
  {
   "cell_type": "code",
   "execution_count": 50,
   "metadata": {},
   "outputs": [],
   "source": [
    "cat_features = ['VehicleType','Gearbox', 'Model','FuelType', 'Brand', 'Repaired']"
   ]
  },
  {
   "cell_type": "markdown",
   "metadata": {},
   "source": [
    "Создадим функцию для поиска лучших гиперпараметров:"
   ]
  },
  {
   "cell_type": "code",
   "execution_count": 51,
   "metadata": {},
   "outputs": [],
   "source": [
    "def fit_model(estimator, param_grid, x, y):\n",
    "    model = GridSearchCV(estimator=estimator, \n",
    "                            param_grid=param_grid, \n",
    "                            #n_jobs=-1, \n",
    "                            cv=4,\n",
    "                            scoring='neg_root_mean_squared_error')\n",
    "\n",
    "    model.fit(features_train, target_train)\n",
    "\n",
    "    best_index = model.best_index_\n",
    "    best_rmse = round(model.cv_results_['mean_test_score'][best_index], 1)\n",
    "\n",
    "    print(f\"Best RMSE: {abs(best_rmse)}\")\n",
    "    print(f\"Best params: {model.best_params_}\")\n",
    "\n",
    "    return model.best_estimator_"
   ]
  },
  {
   "cell_type": "markdown",
   "metadata": {},
   "source": [
    "### Модель случайного леса"
   ]
  },
  {
   "cell_type": "code",
   "execution_count": 52,
   "metadata": {},
   "outputs": [
    {
     "name": "stdout",
     "output_type": "stream",
     "text": [
      "CPU times: user 76 µs, sys: 1 µs, total: 77 µs\n",
      "Wall time: 82.3 µs\n"
     ]
    }
   ],
   "source": [
    "%%time\n",
    "\n",
    "rf_estimator = Pipeline([\n",
    "    ('transformer', transformer),\n",
    "    ('rf', RandomForestRegressor(random_state=12345, n_jobs=-1))\n",
    "])"
   ]
  },
  {
   "cell_type": "code",
   "execution_count": 53,
   "metadata": {},
   "outputs": [
    {
     "name": "stdout",
     "output_type": "stream",
     "text": [
      "CPU times: user 11 µs, sys: 1 µs, total: 12 µs\n",
      "Wall time: 15.7 µs\n"
     ]
    }
   ],
   "source": [
    "%%time\n",
    "\n",
    "rf_param_grid =  {\n",
    "    'rf__n_estimators': list(range(50, 151, 50)),\n",
    "    \"rf__max_depth\": list(range(15, 31, 5)),\n",
    "}"
   ]
  },
  {
   "cell_type": "code",
   "execution_count": 54,
   "metadata": {},
   "outputs": [
    {
     "name": "stdout",
     "output_type": "stream",
     "text": [
      "Best RMSE: 1605.2\n",
      "Best params: {'rf__max_depth': 20, 'rf__n_estimators': 150}\n",
      "CPU times: user 4min 9s, sys: 59.4 s, total: 5min 9s\n",
      "Wall time: 6min 31s\n"
     ]
    }
   ],
   "source": [
    "%%time\n",
    "\n",
    "rf_best_model = fit_model(\n",
    "estimator=rf_estimator,\n",
    "param_grid=rf_param_grid,\n",
    "x=features_train,\n",
    "y=target_train\n",
    ")"
   ]
  },
  {
   "cell_type": "markdown",
   "metadata": {},
   "source": [
    "Лучшими гиперпараметрами модели случайного леса являются:\n",
    "- глубина дерева = 20;\n",
    "- количество деревьев = 150.\n",
    "\n",
    "Показатель метрики RMSE составил 1605,2."
   ]
  },
  {
   "cell_type": "markdown",
   "metadata": {},
   "source": [
    "### Модель линейной регрессии"
   ]
  },
  {
   "cell_type": "markdown",
   "metadata": {},
   "source": [
    "Для обучения модельной регрессии нам необходимо поделить обучающую выборку на обучающую и валидационную:"
   ]
  },
  {
   "cell_type": "code",
   "execution_count": 55,
   "metadata": {},
   "outputs": [],
   "source": [
    "features_train_1, features_valid, target_train_1, target_valid = train_test_split(\n",
    "    features_train, target_train, test_size=0.25, random_state=12345)"
   ]
  },
  {
   "cell_type": "code",
   "execution_count": 56,
   "metadata": {},
   "outputs": [
    {
     "name": "stdout",
     "output_type": "stream",
     "text": [
      "RMSE: 2564.8\n",
      "CPU times: user 7.51 s, sys: 2.74 s, total: 10.2 s\n",
      "Wall time: 3.67 s\n"
     ]
    }
   ],
   "source": [
    "%%time\n",
    "\n",
    "lr_estimator = Pipeline([\n",
    "    ('tranformer', transformer_linear),\n",
    "    ('lr', LinearRegression())\n",
    "])\n",
    "\n",
    "lr_estimator.fit(features_train_1, target_train_1)\n",
    "rmse = mean_squared_error(target_valid, lr_estimator.predict(features_valid)) ** 0.5\n",
    "print(f\"RMSE: {rmse:.1f}\")"
   ]
  },
  {
   "cell_type": "markdown",
   "metadata": {},
   "source": [
    "Показатель RMSE составил колоссальные 2564.8."
   ]
  },
  {
   "cell_type": "markdown",
   "metadata": {},
   "source": [
    "### Модель LGBMRegressor"
   ]
  },
  {
   "cell_type": "code",
   "execution_count": 57,
   "metadata": {},
   "outputs": [],
   "source": [
    "features_train_lgbm = features_train.copy()\n",
    "features_train_lgbm[cat_columns] = features_train_lgbm[cat_columns].astype(\"category\")"
   ]
  },
  {
   "cell_type": "code",
   "execution_count": 58,
   "metadata": {},
   "outputs": [
    {
     "name": "stdout",
     "output_type": "stream",
     "text": [
      "Best RMSE: 1553.9\n",
      "Best params: {'learning_rate': 0.2, 'max_depth': 14, 'n_estimators': 350}\n",
      "CPU times: user 17min 2s, sys: 2min 51s, total: 19min 53s\n",
      "Wall time: 3min 4s\n"
     ]
    }
   ],
   "source": [
    "%%time\n",
    "\n",
    "lgbm_estimator = LGBMRegressor(random_state=12345, n_jobs=-1)\n",
    "\n",
    "lgbm_param_grid = {\n",
    "    \"n_estimators\": range(250, 351, 50), \n",
    "    \"max_depth\": range(5, 17, 3),\n",
    "    'learning_rate': [0.1, 0.2]\n",
    "}\n",
    "\n",
    "lgbm_best_model = fit_model(\n",
    "    estimator=lgbm_estimator,\n",
    "    param_grid=lgbm_param_grid,\n",
    "    x=features_train,\n",
    "    y=target_train\n",
    ")"
   ]
  },
  {
   "cell_type": "markdown",
   "metadata": {},
   "source": [
    "Лучшими гиперпараметрами модели LGBMRegressor являются:\n",
    "- метрика `learning_rate` = 0.2;\n",
    "- глубина дерева = 14;\n",
    "- количество деревьев = 350.\n",
    "\n",
    "Показатель метрики RMSE составил 1553.9."
   ]
  },
  {
   "cell_type": "markdown",
   "metadata": {},
   "source": [
    "### Модель CatBoostRegressor"
   ]
  },
  {
   "cell_type": "code",
   "execution_count": 59,
   "metadata": {},
   "outputs": [
    {
     "name": "stdout",
     "output_type": "stream",
     "text": [
      "Best RMSE: 1549.7\n",
      "Best params: {'depth': 15, 'iterations': 300, 'learning_rate': 0.15}\n",
      "CPU times: user 3h 5min 27s, sys: 6min 46s, total: 3h 12min 13s\n",
      "Wall time: 36min 46s\n"
     ]
    }
   ],
   "source": [
    "%%time\n",
    "\n",
    "catboost_estimator = CatBoostRegressor(random_state=12345, verbose=False, cat_features=cat_columns)\n",
    "\n",
    "catboost_param_grid = {\n",
    "    \"iterations\": range(200, 301, 100),\n",
    "    \"learning_rate\": [0.15, 0.20],\n",
    "    \"depth\": range(12, 16, 3)\n",
    "}\n",
    "\n",
    "catboost_best_model = fit_model(\n",
    "    estimator=catboost_estimator,\n",
    "    param_grid=catboost_param_grid,\n",
    "    x=features_train,\n",
    "    y=target_train\n",
    ")"
   ]
  },
  {
   "cell_type": "markdown",
   "metadata": {},
   "source": [
    "Лучшими параметрами модели CatBoostRegressor являются: \n",
    "- метрика `learning_rate` = 0.15;\n",
    "- глубина дерева = 15;\n",
    "- количество деревьев = 300.\n",
    "\n",
    "Показатель метрики RMSE составил 1549.7."
   ]
  },
  {
   "cell_type": "markdown",
   "metadata": {},
   "source": [
    "Теперь можем провести анализ моделей для выбора лучшей."
   ]
  },
  {
   "cell_type": "markdown",
   "metadata": {},
   "source": [
    "## Анализ моделей"
   ]
  },
  {
   "cell_type": "code",
   "execution_count": 61,
   "metadata": {},
   "outputs": [],
   "source": [
    "features_train_transformed = transformer.fit_transform(features_train) \n",
    "features_train_l_transformed = transformer_linear.fit_transform(features_train)"
   ]
  },
  {
   "cell_type": "markdown",
   "metadata": {},
   "source": [
    "### Модель случайного леса"
   ]
  },
  {
   "cell_type": "code",
   "execution_count": 62,
   "metadata": {},
   "outputs": [
    {
     "name": "stdout",
     "output_type": "stream",
     "text": [
      "CPU times: user 1min 22s, sys: 1.04 s, total: 1min 23s\n",
      "Wall time: 11.8 s\n"
     ]
    }
   ],
   "source": [
    "%%time\n",
    "rf = RandomForestRegressor(\n",
    "    n_estimators=150,\n",
    "    max_depth=20,\n",
    "    random_state=12345,\n",
    "    n_jobs=-1).fit(features_train_transformed, target_train)"
   ]
  },
  {
   "cell_type": "code",
   "execution_count": 63,
   "metadata": {},
   "outputs": [
    {
     "name": "stdout",
     "output_type": "stream",
     "text": [
      "CPU times: user 10.9 s, sys: 281 ms, total: 11.1 s\n",
      "Wall time: 1.47 s\n"
     ]
    },
    {
     "data": {
      "text/plain": [
       "array([13473.65916326,  4963.06360802,  2530.16758695, ...,\n",
       "         540.31772997, 16562.58262072,  3804.65739833])"
      ]
     },
     "execution_count": 63,
     "metadata": {},
     "output_type": "execute_result"
    }
   ],
   "source": [
    "%%time\n",
    "rf.predict(features_train_transformed)"
   ]
  },
  {
   "cell_type": "markdown",
   "metadata": {},
   "source": [
    "### Модель линейной регрессии"
   ]
  },
  {
   "cell_type": "code",
   "execution_count": 64,
   "metadata": {},
   "outputs": [
    {
     "name": "stdout",
     "output_type": "stream",
     "text": [
      "CPU times: user 9.69 s, sys: 2.54 s, total: 12.2 s\n",
      "Wall time: 3.65 s\n"
     ]
    }
   ],
   "source": [
    "%%time\n",
    "lr = LinearRegression().fit(features_train_l_transformed, target_train)"
   ]
  },
  {
   "cell_type": "code",
   "execution_count": 65,
   "metadata": {},
   "outputs": [
    {
     "name": "stdout",
     "output_type": "stream",
     "text": [
      "CPU times: user 698 ms, sys: 287 ms, total: 985 ms\n",
      "Wall time: 137 ms\n"
     ]
    },
    {
     "data": {
      "text/plain": [
       "array([ 5078.85118074,  6062.72884647,  2461.33357871, ...,\n",
       "        -707.71954313, 12540.19367567,  4416.008834  ])"
      ]
     },
     "execution_count": 65,
     "metadata": {},
     "output_type": "execute_result"
    }
   ],
   "source": [
    "%%time\n",
    "lr.predict(features_train_l_transformed)"
   ]
  },
  {
   "cell_type": "markdown",
   "metadata": {},
   "source": [
    "### Модель LGBMRegressor"
   ]
  },
  {
   "cell_type": "code",
   "execution_count": 66,
   "metadata": {},
   "outputs": [
    {
     "name": "stdout",
     "output_type": "stream",
     "text": [
      "CPU times: user 7.21 s, sys: 711 ms, total: 7.92 s\n",
      "Wall time: 1.11 s\n"
     ]
    }
   ],
   "source": [
    "%%time\n",
    "lgbm = LGBMRegressor(\n",
    "    learning_rate=0.2,\n",
    "    max_depth=14,\n",
    "    n_estimators=350,\n",
    "    random_state=12345,\n",
    "    n_jobs=-1).fit(features_train_lgbm, target_train)"
   ]
  },
  {
   "cell_type": "code",
   "execution_count": 67,
   "metadata": {},
   "outputs": [
    {
     "name": "stdout",
     "output_type": "stream",
     "text": [
      "CPU times: user 3.88 s, sys: 67.1 ms, total: 3.95 s\n",
      "Wall time: 523 ms\n"
     ]
    },
    {
     "data": {
      "text/plain": [
       "array([ 9433.42518603,  6389.55841853,  2661.28409609, ...,\n",
       "         399.09109449, 15547.40804114,  4290.70524455])"
      ]
     },
     "execution_count": 67,
     "metadata": {},
     "output_type": "execute_result"
    }
   ],
   "source": [
    "%%time\n",
    "lgbm.predict(features_train_lgbm)"
   ]
  },
  {
   "cell_type": "markdown",
   "metadata": {},
   "source": [
    "### Модель CatBoostRegressor"
   ]
  },
  {
   "cell_type": "code",
   "execution_count": 68,
   "metadata": {},
   "outputs": [
    {
     "name": "stdout",
     "output_type": "stream",
     "text": [
      "CPU times: user 9min 55s, sys: 26.7 s, total: 10min 21s\n",
      "Wall time: 2min 1s\n"
     ]
    }
   ],
   "source": [
    "%%time\n",
    "cat = CatBoostRegressor(\n",
    "    depth=15,\n",
    "    iterations=300,\n",
    "    learning_rate=0.15,\n",
    "    random_state=12345,\n",
    "    cat_features=cat_columns,\n",
    "    verbose=False).fit(features_train, target_train)"
   ]
  },
  {
   "cell_type": "code",
   "execution_count": 69,
   "metadata": {},
   "outputs": [
    {
     "name": "stdout",
     "output_type": "stream",
     "text": [
      "CPU times: user 2.52 s, sys: 28.9 ms, total: 2.55 s\n",
      "Wall time: 448 ms\n"
     ]
    },
    {
     "data": {
      "text/plain": [
       "array([10323.13926189,  5731.6448906 ,  2454.71247289, ...,\n",
       "         448.59613113, 16219.97748772,  4417.84974268])"
      ]
     },
     "execution_count": 69,
     "metadata": {},
     "output_type": "execute_result"
    }
   ],
   "source": [
    "%%time\n",
    "cat.predict(features_train)"
   ]
  },
  {
   "cell_type": "markdown",
   "metadata": {},
   "source": [
    "Соберем в одну таблицу время обучения модели, время предсказания и показатель `RMSE`:"
   ]
  },
  {
   "cell_type": "code",
   "execution_count": 71,
   "metadata": {},
   "outputs": [
    {
     "data": {
      "text/html": [
       "<div>\n",
       "<style scoped>\n",
       "    .dataframe tbody tr th:only-of-type {\n",
       "        vertical-align: middle;\n",
       "    }\n",
       "\n",
       "    .dataframe tbody tr th {\n",
       "        vertical-align: top;\n",
       "    }\n",
       "\n",
       "    .dataframe thead th {\n",
       "        text-align: right;\n",
       "    }\n",
       "</style>\n",
       "<table border=\"1\" class=\"dataframe\">\n",
       "  <thead>\n",
       "    <tr style=\"text-align: right;\">\n",
       "      <th></th>\n",
       "      <th>Время обучения, с</th>\n",
       "      <th>Время предсказания, с</th>\n",
       "      <th>rmse</th>\n",
       "    </tr>\n",
       "  </thead>\n",
       "  <tbody>\n",
       "    <tr>\n",
       "      <th>RandomForestRegressor</th>\n",
       "      <td>11.80</td>\n",
       "      <td>1.470</td>\n",
       "      <td>1605.2</td>\n",
       "    </tr>\n",
       "    <tr>\n",
       "      <th>LinearRegressor</th>\n",
       "      <td>3.65</td>\n",
       "      <td>0.137</td>\n",
       "      <td>2564.8</td>\n",
       "    </tr>\n",
       "    <tr>\n",
       "      <th>LGBMRegressor</th>\n",
       "      <td>1.11</td>\n",
       "      <td>0.523</td>\n",
       "      <td>1553.9</td>\n",
       "    </tr>\n",
       "    <tr>\n",
       "      <th>CatBoostRegressor</th>\n",
       "      <td>121.00</td>\n",
       "      <td>0.448</td>\n",
       "      <td>1549.7</td>\n",
       "    </tr>\n",
       "  </tbody>\n",
       "</table>\n",
       "</div>"
      ],
      "text/plain": [
       "                       Время обучения, с  Время предсказания, с    rmse\n",
       "RandomForestRegressor              11.80                  1.470  1605.2\n",
       "LinearRegressor                     3.65                  0.137  2564.8\n",
       "LGBMRegressor                       1.11                  0.523  1553.9\n",
       "CatBoostRegressor                 121.00                  0.448  1549.7"
      ]
     },
     "metadata": {},
     "output_type": "display_data"
    }
   ],
   "source": [
    "values = [[11.8, 1.47, 1605.2],\n",
    "         [3.65, 0.137, 2564.8],\n",
    "         [1.11, 0.523, 1553.9],\n",
    "         [121, 0.448, 1549.7]]\n",
    "table = pd.DataFrame(data=values, \n",
    "                     columns=['Время обучения, с', 'Время предсказания, с', 'rmse'], \n",
    "                     index=['RandomForestRegressor','LinearRegressor', 'LGBMRegressor', 'CatBoostRegressor']\n",
    "                    )\n",
    "display(table)"
   ]
  },
  {
   "cell_type": "markdown",
   "metadata": {},
   "source": [
    "Наилучший результат по времени и по показателю `RMSE` показала модель CatBoostRegressor, следовательно на ней мы и опробуем тестовые данные:"
   ]
  },
  {
   "cell_type": "code",
   "execution_count": 72,
   "metadata": {},
   "outputs": [
    {
     "name": "stdout",
     "output_type": "stream",
     "text": [
      "RMSE на тестовой: 1532.2\n"
     ]
    }
   ],
   "source": [
    "features_test_catboost = features_test.copy()\n",
    "features_test_catboost[cat_columns] = features_test_catboost[cat_columns].astype(\"category\")\n",
    "\n",
    "rmse = mean_squared_error(target_test, catboost_best_model.predict(features_test_catboost)) ** 0.5\n",
    "print(f\"RMSE на тестовой: {rmse:.1f}\")"
   ]
  },
  {
   "cell_type": "markdown",
   "metadata": {},
   "source": [
    "Показатель `RMSE` составляет 1532.2"
   ]
  },
  {
   "cell_type": "markdown",
   "metadata": {},
   "source": [
    "# Вывод"
   ]
  },
  {
   "cell_type": "markdown",
   "metadata": {},
   "source": [
    "Задачей являлось разработать модель обучения, которая будет помогать определить рыночную стоимость автомобиля.\n",
    "\n",
    "При работе над проектом был проведен анализ представленных данных, исключены данные, обработаны пропуски и аномалии.\n",
    "\n",
    "Обучены четыре разные модели обучения для выявления лучшей по следующим показателям:\n",
    "- качество предсказания;\n",
    "- время обучения модели;\n",
    "- время предсказания модели.\n",
    "\n",
    "Лучшей моделью по данным показателям является CatBoostRegressor, показатель качества предсказания составил 1532.2, что ниже нашего порогового значения."
   ]
  }
 ],
 "metadata": {
  "ExecuteTimeLog": [
   {
    "duration": 1661,
    "start_time": "2023-01-15T19:01:40.278Z"
   },
   {
    "duration": 1231,
    "start_time": "2023-01-15T19:02:04.927Z"
   },
   {
    "duration": 132,
    "start_time": "2023-01-15T19:02:12.109Z"
   },
   {
    "duration": 16,
    "start_time": "2023-01-15T19:04:49.906Z"
   },
   {
    "duration": 128,
    "start_time": "2023-01-15T19:05:08.807Z"
   },
   {
    "duration": 2,
    "start_time": "2023-01-15T19:11:52.153Z"
   },
   {
    "duration": 824,
    "start_time": "2023-01-15T19:11:52.502Z"
   },
   {
    "duration": 155,
    "start_time": "2023-01-15T19:11:53.328Z"
   },
   {
    "duration": 14,
    "start_time": "2023-01-15T19:11:53.491Z"
   },
   {
    "duration": 137,
    "start_time": "2023-01-15T19:11:54.230Z"
   },
   {
    "duration": 490,
    "start_time": "2023-01-15T19:11:55.630Z"
   },
   {
    "duration": 1602,
    "start_time": "2023-01-18T20:42:54.546Z"
   },
   {
    "duration": 2969,
    "start_time": "2023-01-18T20:42:57.005Z"
   },
   {
    "duration": 131,
    "start_time": "2023-01-18T20:42:59.976Z"
   },
   {
    "duration": 30,
    "start_time": "2023-01-18T20:43:00.109Z"
   },
   {
    "duration": 132,
    "start_time": "2023-01-18T20:43:00.141Z"
   },
   {
    "duration": 464,
    "start_time": "2023-01-18T20:43:00.275Z"
   },
   {
    "duration": 228,
    "start_time": "2023-01-18T20:43:01.198Z"
   },
   {
    "duration": 3,
    "start_time": "2023-01-18T20:43:01.647Z"
   },
   {
    "duration": 4,
    "start_time": "2023-01-18T20:43:02.523Z"
   },
   {
    "duration": 1591,
    "start_time": "2023-01-18T20:43:03.536Z"
   },
   {
    "duration": 1414,
    "start_time": "2023-01-18T20:43:15.033Z"
   },
   {
    "duration": 4,
    "start_time": "2023-01-18T20:44:50.385Z"
   },
   {
    "duration": 14,
    "start_time": "2023-01-18T20:45:30.503Z"
   },
   {
    "duration": 5,
    "start_time": "2023-01-18T20:45:46.338Z"
   },
   {
    "duration": 1355,
    "start_time": "2023-01-18T20:48:23.481Z"
   },
   {
    "duration": 840,
    "start_time": "2023-01-18T20:48:24.838Z"
   },
   {
    "duration": 145,
    "start_time": "2023-01-18T20:48:25.680Z"
   },
   {
    "duration": 24,
    "start_time": "2023-01-18T20:48:25.827Z"
   },
   {
    "duration": 142,
    "start_time": "2023-01-18T20:48:25.853Z"
   },
   {
    "duration": 445,
    "start_time": "2023-01-18T20:48:25.996Z"
   },
   {
    "duration": 223,
    "start_time": "2023-01-18T20:48:26.442Z"
   },
   {
    "duration": 4,
    "start_time": "2023-01-18T20:48:26.667Z"
   },
   {
    "duration": 14,
    "start_time": "2023-01-18T20:48:26.672Z"
   },
   {
    "duration": 30,
    "start_time": "2023-01-18T20:48:26.687Z"
   },
   {
    "duration": 1435,
    "start_time": "2023-01-18T20:48:26.719Z"
   },
   {
    "duration": 1357,
    "start_time": "2023-01-18T20:48:59.619Z"
   },
   {
    "duration": 1603,
    "start_time": "2023-01-19T17:49:53.140Z"
   },
   {
    "duration": 1127,
    "start_time": "2023-01-19T17:49:56.288Z"
   },
   {
    "duration": 136,
    "start_time": "2023-01-19T17:49:57.416Z"
   },
   {
    "duration": 18,
    "start_time": "2023-01-19T17:49:57.554Z"
   },
   {
    "duration": 127,
    "start_time": "2023-01-19T17:49:57.980Z"
   },
   {
    "duration": 543,
    "start_time": "2023-01-19T17:49:58.621Z"
   },
   {
    "duration": 221,
    "start_time": "2023-01-19T17:50:00.463Z"
   },
   {
    "duration": 4,
    "start_time": "2023-01-19T17:50:01.052Z"
   },
   {
    "duration": 4,
    "start_time": "2023-01-19T17:50:02.247Z"
   },
   {
    "duration": 3,
    "start_time": "2023-01-19T17:50:03.070Z"
   },
   {
    "duration": 2301,
    "start_time": "2023-01-19T17:50:04.609Z"
   },
   {
    "duration": 3,
    "start_time": "2023-01-19T18:01:43.708Z"
   },
   {
    "duration": 2164,
    "start_time": "2023-01-19T18:01:45.824Z"
   },
   {
    "duration": 3,
    "start_time": "2023-01-19T18:02:22.821Z"
   },
   {
    "duration": 2228,
    "start_time": "2023-01-19T18:02:23.453Z"
   },
   {
    "duration": 2180,
    "start_time": "2023-01-19T18:02:54.180Z"
   },
   {
    "duration": 1782,
    "start_time": "2023-01-22T16:53:14.222Z"
   },
   {
    "duration": 2832,
    "start_time": "2023-01-22T16:53:16.645Z"
   },
   {
    "duration": 126,
    "start_time": "2023-01-22T16:53:19.478Z"
   },
   {
    "duration": 20,
    "start_time": "2023-01-22T16:53:19.606Z"
   },
   {
    "duration": 130,
    "start_time": "2023-01-22T16:53:19.628Z"
   },
   {
    "duration": 444,
    "start_time": "2023-01-22T16:53:25.463Z"
   },
   {
    "duration": 626,
    "start_time": "2023-01-22T16:54:09.618Z"
   },
   {
    "duration": 491,
    "start_time": "2023-01-22T16:54:21.516Z"
   },
   {
    "duration": 459,
    "start_time": "2023-01-22T16:54:34.483Z"
   },
   {
    "duration": 509,
    "start_time": "2023-01-22T16:54:35.125Z"
   },
   {
    "duration": 383,
    "start_time": "2023-01-22T16:54:37.627Z"
   },
   {
    "duration": 28,
    "start_time": "2023-01-22T17:05:19.563Z"
   },
   {
    "duration": 12,
    "start_time": "2023-01-22T17:05:28.437Z"
   },
   {
    "duration": 81,
    "start_time": "2023-01-22T17:05:50.730Z"
   },
   {
    "duration": 71,
    "start_time": "2023-01-22T17:06:25.467Z"
   },
   {
    "duration": 108,
    "start_time": "2023-01-22T17:07:43.281Z"
   },
   {
    "duration": 64,
    "start_time": "2023-01-22T17:07:52.891Z"
   },
   {
    "duration": 1515,
    "start_time": "2023-01-22T17:20:39.030Z"
   },
   {
    "duration": 873,
    "start_time": "2023-01-22T17:20:41.559Z"
   },
   {
    "duration": 162,
    "start_time": "2023-01-22T17:20:42.434Z"
   },
   {
    "duration": 18,
    "start_time": "2023-01-22T17:20:42.920Z"
   },
   {
    "duration": 1143,
    "start_time": "2023-01-22T17:20:48.716Z"
   },
   {
    "duration": 1298,
    "start_time": "2023-01-22T17:21:05.980Z"
   },
   {
    "duration": 120,
    "start_time": "2023-01-22T17:21:29.419Z"
   },
   {
    "duration": 438,
    "start_time": "2023-01-22T17:21:29.927Z"
   },
   {
    "duration": 596,
    "start_time": "2023-01-22T17:21:30.862Z"
   },
   {
    "duration": 34,
    "start_time": "2023-01-22T17:21:31.672Z"
   },
   {
    "duration": 14,
    "start_time": "2023-01-22T17:21:32.364Z"
   },
   {
    "duration": 69,
    "start_time": "2023-01-22T17:21:33.247Z"
   },
   {
    "duration": 1416,
    "start_time": "2023-01-22T17:22:04.958Z"
   },
   {
    "duration": 830,
    "start_time": "2023-01-22T17:22:06.376Z"
   },
   {
    "duration": 127,
    "start_time": "2023-01-22T17:22:07.208Z"
   },
   {
    "duration": 17,
    "start_time": "2023-01-22T17:22:07.337Z"
   },
   {
    "duration": 1394,
    "start_time": "2023-01-22T17:22:07.355Z"
   },
   {
    "duration": 592,
    "start_time": "2023-01-22T17:22:08.751Z"
   },
   {
    "duration": 132,
    "start_time": "2023-01-22T17:24:27.582Z"
   },
   {
    "duration": 471,
    "start_time": "2023-01-22T17:24:29.104Z"
   },
   {
    "duration": 512,
    "start_time": "2023-01-22T17:24:35.410Z"
   },
   {
    "duration": 32,
    "start_time": "2023-01-22T17:24:35.966Z"
   },
   {
    "duration": 11,
    "start_time": "2023-01-22T17:24:36.492Z"
   },
   {
    "duration": 125,
    "start_time": "2023-01-22T17:24:56.637Z"
   },
   {
    "duration": 11,
    "start_time": "2023-01-22T17:24:57.266Z"
   },
   {
    "duration": 1499,
    "start_time": "2023-01-22T17:25:12.686Z"
   },
   {
    "duration": 898,
    "start_time": "2023-01-22T17:25:14.187Z"
   },
   {
    "duration": 168,
    "start_time": "2023-01-22T17:25:15.088Z"
   },
   {
    "duration": 16,
    "start_time": "2023-01-22T17:25:15.258Z"
   },
   {
    "duration": 1566,
    "start_time": "2023-01-22T17:25:15.276Z"
   },
   {
    "duration": 631,
    "start_time": "2023-01-22T17:25:16.844Z"
   },
   {
    "duration": 150,
    "start_time": "2023-01-22T17:25:17.477Z"
   },
   {
    "duration": 489,
    "start_time": "2023-01-22T17:25:17.628Z"
   },
   {
    "duration": 594,
    "start_time": "2023-01-22T17:25:18.121Z"
   },
   {
    "duration": 36,
    "start_time": "2023-01-22T17:25:18.717Z"
   },
   {
    "duration": 15,
    "start_time": "2023-01-22T17:25:18.755Z"
   },
   {
    "duration": 78,
    "start_time": "2023-01-22T17:25:18.771Z"
   },
   {
    "duration": 8,
    "start_time": "2023-01-22T17:27:01.994Z"
   },
   {
    "duration": 7,
    "start_time": "2023-01-22T17:27:05.409Z"
   },
   {
    "duration": 355,
    "start_time": "2023-01-22T17:36:39.784Z"
   },
   {
    "duration": 471,
    "start_time": "2023-01-22T17:36:53.132Z"
   },
   {
    "duration": 300,
    "start_time": "2023-01-22T17:37:08.680Z"
   },
   {
    "duration": 501,
    "start_time": "2023-01-22T17:37:19.426Z"
   },
   {
    "duration": 360,
    "start_time": "2023-01-22T17:38:07.946Z"
   },
   {
    "duration": 202,
    "start_time": "2023-01-22T17:38:13.209Z"
   },
   {
    "duration": 233,
    "start_time": "2023-01-22T17:39:00.421Z"
   },
   {
    "duration": 325,
    "start_time": "2023-01-22T17:39:13.046Z"
   },
   {
    "duration": 433,
    "start_time": "2023-01-22T17:40:02.251Z"
   },
   {
    "duration": 250,
    "start_time": "2023-01-22T17:40:12.043Z"
   },
   {
    "duration": 422,
    "start_time": "2023-01-22T17:40:21.034Z"
   },
   {
    "duration": 1267,
    "start_time": "2023-01-22T17:40:56.280Z"
   },
   {
    "duration": 409,
    "start_time": "2023-01-22T17:41:06.647Z"
   },
   {
    "duration": 292,
    "start_time": "2023-01-22T17:41:18.746Z"
   },
   {
    "duration": 307,
    "start_time": "2023-01-22T17:41:22.780Z"
   },
   {
    "duration": 198,
    "start_time": "2023-01-22T17:41:39.719Z"
   },
   {
    "duration": 192,
    "start_time": "2023-01-22T17:41:44.630Z"
   },
   {
    "duration": 7,
    "start_time": "2023-01-22T17:41:55.771Z"
   },
   {
    "duration": 1447,
    "start_time": "2023-01-22T17:43:56.901Z"
   },
   {
    "duration": 820,
    "start_time": "2023-01-22T17:43:59.030Z"
   },
   {
    "duration": 125,
    "start_time": "2023-01-22T17:43:59.852Z"
   },
   {
    "duration": 16,
    "start_time": "2023-01-22T17:44:00.066Z"
   },
   {
    "duration": 128,
    "start_time": "2023-01-22T17:44:00.965Z"
   },
   {
    "duration": 1466,
    "start_time": "2023-01-22T17:44:13.255Z"
   },
   {
    "duration": 640,
    "start_time": "2023-01-22T17:44:14.724Z"
   },
   {
    "duration": 124,
    "start_time": "2023-01-22T17:44:18.901Z"
   },
   {
    "duration": 446,
    "start_time": "2023-01-22T17:44:19.743Z"
   },
   {
    "duration": 523,
    "start_time": "2023-01-22T17:44:20.619Z"
   },
   {
    "duration": 24,
    "start_time": "2023-01-22T17:44:27.067Z"
   },
   {
    "duration": 12,
    "start_time": "2023-01-22T17:44:27.752Z"
   },
   {
    "duration": 382,
    "start_time": "2023-01-22T17:44:33.149Z"
   },
   {
    "duration": 502,
    "start_time": "2023-01-22T17:48:32.665Z"
   },
   {
    "duration": 452,
    "start_time": "2023-01-22T17:53:02.264Z"
   },
   {
    "duration": 1427,
    "start_time": "2023-01-22T17:54:51.103Z"
   },
   {
    "duration": 821,
    "start_time": "2023-01-22T17:54:52.533Z"
   },
   {
    "duration": 132,
    "start_time": "2023-01-22T17:54:53.356Z"
   },
   {
    "duration": 17,
    "start_time": "2023-01-22T17:54:54.152Z"
   },
   {
    "duration": 95,
    "start_time": "2023-01-22T17:54:54.654Z"
   },
   {
    "duration": 1425,
    "start_time": "2023-01-22T17:54:55.436Z"
   },
   {
    "duration": 584,
    "start_time": "2023-01-22T17:54:56.959Z"
   },
   {
    "duration": 446,
    "start_time": "2023-01-22T17:54:57.665Z"
   },
   {
    "duration": 494,
    "start_time": "2023-01-22T17:54:58.860Z"
   },
   {
    "duration": 25,
    "start_time": "2023-01-22T17:55:01.066Z"
   },
   {
    "duration": 10,
    "start_time": "2023-01-22T17:55:01.438Z"
   },
   {
    "duration": 448,
    "start_time": "2023-01-22T17:55:01.630Z"
   },
   {
    "duration": 456,
    "start_time": "2023-01-22T17:55:02.080Z"
   },
   {
    "duration": 813,
    "start_time": "2023-01-22T17:55:05.433Z"
   },
   {
    "duration": 109,
    "start_time": "2023-01-22T17:57:25.230Z"
   },
   {
    "duration": 163,
    "start_time": "2023-01-22T17:57:57.337Z"
   },
   {
    "duration": 492,
    "start_time": "2023-01-22T17:58:06.299Z"
   },
   {
    "duration": 72,
    "start_time": "2023-01-22T17:58:52.534Z"
   },
   {
    "duration": 514,
    "start_time": "2023-01-22T17:58:58.233Z"
   },
   {
    "duration": 385,
    "start_time": "2023-01-22T17:59:10.333Z"
   },
   {
    "duration": 1499,
    "start_time": "2023-01-22T17:59:44.947Z"
   },
   {
    "duration": 862,
    "start_time": "2023-01-22T17:59:46.448Z"
   },
   {
    "duration": 137,
    "start_time": "2023-01-22T17:59:47.312Z"
   },
   {
    "duration": 16,
    "start_time": "2023-01-22T17:59:47.452Z"
   },
   {
    "duration": 106,
    "start_time": "2023-01-22T17:59:47.470Z"
   },
   {
    "duration": 1415,
    "start_time": "2023-01-22T17:59:47.577Z"
   },
   {
    "duration": 598,
    "start_time": "2023-01-22T17:59:48.994Z"
   },
   {
    "duration": 458,
    "start_time": "2023-01-22T17:59:49.594Z"
   },
   {
    "duration": 563,
    "start_time": "2023-01-22T17:59:50.054Z"
   },
   {
    "duration": 28,
    "start_time": "2023-01-22T17:59:50.619Z"
   },
   {
    "duration": 13,
    "start_time": "2023-01-22T17:59:50.649Z"
   },
   {
    "duration": 57,
    "start_time": "2023-01-22T18:00:02.397Z"
   },
   {
    "duration": 572,
    "start_time": "2023-01-22T18:00:04.353Z"
   },
   {
    "duration": 468,
    "start_time": "2023-01-22T18:00:13.181Z"
   },
   {
    "duration": 1637,
    "start_time": "2023-01-22T19:23:16.526Z"
   },
   {
    "duration": 2855,
    "start_time": "2023-01-22T19:23:18.166Z"
   },
   {
    "duration": 135,
    "start_time": "2023-01-22T19:23:21.023Z"
   },
   {
    "duration": 19,
    "start_time": "2023-01-22T19:23:21.160Z"
   },
   {
    "duration": 113,
    "start_time": "2023-01-22T19:23:21.181Z"
   },
   {
    "duration": 1522,
    "start_time": "2023-01-22T19:23:21.295Z"
   },
   {
    "duration": 712,
    "start_time": "2023-01-22T19:23:22.819Z"
   },
   {
    "duration": 466,
    "start_time": "2023-01-22T19:23:23.533Z"
   },
   {
    "duration": 540,
    "start_time": "2023-01-22T19:23:24.001Z"
   },
   {
    "duration": 25,
    "start_time": "2023-01-22T19:23:24.543Z"
   },
   {
    "duration": 10,
    "start_time": "2023-01-22T19:23:24.569Z"
   },
   {
    "duration": 72,
    "start_time": "2023-01-22T19:23:24.581Z"
   },
   {
    "duration": 25,
    "start_time": "2023-01-22T19:23:30.469Z"
   },
   {
    "duration": 58,
    "start_time": "2023-01-22T19:23:36.718Z"
   },
   {
    "duration": 1358,
    "start_time": "2023-01-22T19:24:56.075Z"
   },
   {
    "duration": 790,
    "start_time": "2023-01-22T19:24:57.435Z"
   },
   {
    "duration": 149,
    "start_time": "2023-01-22T19:24:58.227Z"
   },
   {
    "duration": 21,
    "start_time": "2023-01-22T19:24:58.379Z"
   },
   {
    "duration": 107,
    "start_time": "2023-01-22T19:24:58.403Z"
   },
   {
    "duration": 1323,
    "start_time": "2023-01-22T19:24:58.512Z"
   },
   {
    "duration": 624,
    "start_time": "2023-01-22T19:24:59.838Z"
   },
   {
    "duration": 474,
    "start_time": "2023-01-22T19:25:00.464Z"
   },
   {
    "duration": 531,
    "start_time": "2023-01-22T19:25:00.939Z"
   },
   {
    "duration": 24,
    "start_time": "2023-01-22T19:25:01.472Z"
   },
   {
    "duration": 45,
    "start_time": "2023-01-22T19:25:01.498Z"
   },
   {
    "duration": 75,
    "start_time": "2023-01-22T19:25:18.055Z"
   },
   {
    "duration": 487,
    "start_time": "2023-01-22T19:25:34.570Z"
   },
   {
    "duration": 5,
    "start_time": "2023-01-22T19:26:18.182Z"
   },
   {
    "duration": 797,
    "start_time": "2023-01-22T19:26:39.033Z"
   },
   {
    "duration": 117,
    "start_time": "2023-01-22T19:26:54.872Z"
   },
   {
    "duration": 11,
    "start_time": "2023-01-22T19:27:15.100Z"
   },
   {
    "duration": 1564,
    "start_time": "2023-01-22T19:27:47.167Z"
   },
   {
    "duration": 863,
    "start_time": "2023-01-22T19:27:48.733Z"
   },
   {
    "duration": 180,
    "start_time": "2023-01-22T19:27:49.598Z"
   },
   {
    "duration": 17,
    "start_time": "2023-01-22T19:27:49.781Z"
   },
   {
    "duration": 129,
    "start_time": "2023-01-22T19:27:49.801Z"
   },
   {
    "duration": 1617,
    "start_time": "2023-01-22T19:27:49.932Z"
   },
   {
    "duration": 628,
    "start_time": "2023-01-22T19:27:51.551Z"
   },
   {
    "duration": 525,
    "start_time": "2023-01-22T19:27:52.181Z"
   },
   {
    "duration": 588,
    "start_time": "2023-01-22T19:27:52.708Z"
   },
   {
    "duration": 26,
    "start_time": "2023-01-22T19:27:53.298Z"
   },
   {
    "duration": 17,
    "start_time": "2023-01-22T19:27:53.326Z"
   },
   {
    "duration": 61,
    "start_time": "2023-01-22T19:27:53.345Z"
   },
   {
    "duration": 482,
    "start_time": "2023-01-22T19:27:53.408Z"
   },
   {
    "duration": 5,
    "start_time": "2023-01-22T19:27:53.894Z"
   },
   {
    "duration": 758,
    "start_time": "2023-01-22T19:27:53.900Z"
   },
   {
    "duration": 122,
    "start_time": "2023-01-22T19:27:54.661Z"
   },
   {
    "duration": 0,
    "start_time": "2023-01-22T19:27:54.785Z"
   },
   {
    "duration": 0,
    "start_time": "2023-01-22T19:27:54.786Z"
   },
   {
    "duration": 0,
    "start_time": "2023-01-22T19:27:54.787Z"
   },
   {
    "duration": 0,
    "start_time": "2023-01-22T19:27:54.788Z"
   },
   {
    "duration": 1,
    "start_time": "2023-01-22T19:27:54.788Z"
   },
   {
    "duration": 0,
    "start_time": "2023-01-22T19:27:54.789Z"
   },
   {
    "duration": 0,
    "start_time": "2023-01-22T19:27:54.790Z"
   },
   {
    "duration": 0,
    "start_time": "2023-01-22T19:27:54.791Z"
   },
   {
    "duration": 0,
    "start_time": "2023-01-22T19:27:54.792Z"
   },
   {
    "duration": 13,
    "start_time": "2023-01-22T19:28:18.420Z"
   },
   {
    "duration": 1439,
    "start_time": "2023-01-22T19:29:57.073Z"
   },
   {
    "duration": 819,
    "start_time": "2023-01-22T19:29:58.514Z"
   },
   {
    "duration": 146,
    "start_time": "2023-01-22T19:29:59.335Z"
   },
   {
    "duration": 18,
    "start_time": "2023-01-22T19:29:59.482Z"
   },
   {
    "duration": 113,
    "start_time": "2023-01-22T19:29:59.502Z"
   },
   {
    "duration": 1413,
    "start_time": "2023-01-22T19:29:59.617Z"
   },
   {
    "duration": 630,
    "start_time": "2023-01-22T19:30:01.032Z"
   },
   {
    "duration": 471,
    "start_time": "2023-01-22T19:30:01.664Z"
   },
   {
    "duration": 616,
    "start_time": "2023-01-22T19:30:02.137Z"
   },
   {
    "duration": 28,
    "start_time": "2023-01-22T19:30:02.755Z"
   },
   {
    "duration": 12,
    "start_time": "2023-01-22T19:30:02.785Z"
   },
   {
    "duration": 76,
    "start_time": "2023-01-22T19:30:02.799Z"
   },
   {
    "duration": 512,
    "start_time": "2023-01-22T19:30:02.877Z"
   },
   {
    "duration": 5,
    "start_time": "2023-01-22T19:30:03.392Z"
   },
   {
    "duration": 21,
    "start_time": "2023-01-22T19:30:03.399Z"
   },
   {
    "duration": 125,
    "start_time": "2023-01-22T19:30:07.590Z"
   },
   {
    "duration": 1328,
    "start_time": "2023-01-22T19:31:22.890Z"
   },
   {
    "duration": 839,
    "start_time": "2023-01-22T19:31:24.220Z"
   },
   {
    "duration": 138,
    "start_time": "2023-01-22T19:31:25.060Z"
   },
   {
    "duration": 16,
    "start_time": "2023-01-22T19:31:25.200Z"
   },
   {
    "duration": 124,
    "start_time": "2023-01-22T19:31:25.218Z"
   },
   {
    "duration": 1545,
    "start_time": "2023-01-22T19:31:25.343Z"
   },
   {
    "duration": 612,
    "start_time": "2023-01-22T19:31:26.890Z"
   },
   {
    "duration": 499,
    "start_time": "2023-01-22T19:31:27.503Z"
   },
   {
    "duration": 612,
    "start_time": "2023-01-22T19:31:28.004Z"
   },
   {
    "duration": 34,
    "start_time": "2023-01-22T19:31:28.618Z"
   },
   {
    "duration": 12,
    "start_time": "2023-01-22T19:31:28.654Z"
   },
   {
    "duration": 75,
    "start_time": "2023-01-22T19:31:28.668Z"
   },
   {
    "duration": 498,
    "start_time": "2023-01-22T19:31:28.745Z"
   },
   {
    "duration": 24,
    "start_time": "2023-01-22T19:31:34.606Z"
   },
   {
    "duration": 856,
    "start_time": "2023-01-22T19:31:39.138Z"
   },
   {
    "duration": 20,
    "start_time": "2023-01-22T19:31:48.572Z"
   },
   {
    "duration": 396,
    "start_time": "2023-01-22T19:31:54.114Z"
   },
   {
    "duration": 21,
    "start_time": "2023-01-22T19:32:39.304Z"
   },
   {
    "duration": 383,
    "start_time": "2023-01-22T19:32:40.903Z"
   },
   {
    "duration": 337,
    "start_time": "2023-01-22T19:34:55.755Z"
   },
   {
    "duration": 20,
    "start_time": "2023-01-22T19:35:36.996Z"
   },
   {
    "duration": 336,
    "start_time": "2023-01-22T19:35:37.735Z"
   },
   {
    "duration": 57,
    "start_time": "2023-01-22T19:36:38.971Z"
   },
   {
    "duration": 1575,
    "start_time": "2023-01-22T19:42:05.439Z"
   },
   {
    "duration": 943,
    "start_time": "2023-01-22T19:42:07.017Z"
   },
   {
    "duration": 176,
    "start_time": "2023-01-22T19:42:07.962Z"
   },
   {
    "duration": 29,
    "start_time": "2023-01-22T19:42:08.140Z"
   },
   {
    "duration": 118,
    "start_time": "2023-01-22T19:42:08.172Z"
   },
   {
    "duration": 1521,
    "start_time": "2023-01-22T19:42:08.292Z"
   },
   {
    "duration": 662,
    "start_time": "2023-01-22T19:42:09.815Z"
   },
   {
    "duration": 500,
    "start_time": "2023-01-22T19:42:10.479Z"
   },
   {
    "duration": 617,
    "start_time": "2023-01-22T19:42:10.981Z"
   },
   {
    "duration": 29,
    "start_time": "2023-01-22T19:42:11.600Z"
   },
   {
    "duration": 12,
    "start_time": "2023-01-22T19:42:11.638Z"
   },
   {
    "duration": 86,
    "start_time": "2023-01-22T19:42:11.653Z"
   },
   {
    "duration": 529,
    "start_time": "2023-01-22T19:42:11.741Z"
   },
   {
    "duration": 21,
    "start_time": "2023-01-22T19:42:12.273Z"
   },
   {
    "duration": 979,
    "start_time": "2023-01-22T19:42:12.296Z"
   },
   {
    "duration": 29,
    "start_time": "2023-01-22T19:42:13.276Z"
   },
   {
    "duration": 418,
    "start_time": "2023-01-22T19:42:13.738Z"
   },
   {
    "duration": 338,
    "start_time": "2023-01-22T19:42:21.411Z"
   },
   {
    "duration": 22,
    "start_time": "2023-01-22T19:42:41.068Z"
   },
   {
    "duration": 351,
    "start_time": "2023-01-22T19:42:50.251Z"
   },
   {
    "duration": 20,
    "start_time": "2023-01-22T19:43:15.565Z"
   },
   {
    "duration": 51,
    "start_time": "2023-01-22T19:43:16.313Z"
   },
   {
    "duration": 1570,
    "start_time": "2023-01-22T19:44:11.991Z"
   },
   {
    "duration": 965,
    "start_time": "2023-01-22T19:44:13.563Z"
   },
   {
    "duration": 152,
    "start_time": "2023-01-22T19:44:14.530Z"
   },
   {
    "duration": 19,
    "start_time": "2023-01-22T19:44:14.685Z"
   },
   {
    "duration": 175,
    "start_time": "2023-01-22T19:44:14.706Z"
   },
   {
    "duration": 1529,
    "start_time": "2023-01-22T19:44:14.883Z"
   },
   {
    "duration": 665,
    "start_time": "2023-01-22T19:44:16.414Z"
   },
   {
    "duration": 518,
    "start_time": "2023-01-22T19:44:17.081Z"
   },
   {
    "duration": 621,
    "start_time": "2023-01-22T19:44:17.601Z"
   },
   {
    "duration": 31,
    "start_time": "2023-01-22T19:44:18.225Z"
   },
   {
    "duration": 12,
    "start_time": "2023-01-22T19:44:18.258Z"
   },
   {
    "duration": 78,
    "start_time": "2023-01-22T19:44:18.272Z"
   },
   {
    "duration": 555,
    "start_time": "2023-01-22T19:44:18.352Z"
   },
   {
    "duration": 536,
    "start_time": "2023-01-22T19:44:23.938Z"
   },
   {
    "duration": 26,
    "start_time": "2023-01-22T19:44:25.569Z"
   },
   {
    "duration": 32,
    "start_time": "2023-01-22T19:44:29.368Z"
   },
   {
    "duration": 872,
    "start_time": "2023-01-22T19:44:29.532Z"
   },
   {
    "duration": 32,
    "start_time": "2023-01-22T19:44:30.406Z"
   },
   {
    "duration": 440,
    "start_time": "2023-01-22T19:44:30.440Z"
   },
   {
    "duration": 387,
    "start_time": "2023-01-22T19:44:30.883Z"
   },
   {
    "duration": 22,
    "start_time": "2023-01-22T19:44:31.272Z"
   },
   {
    "duration": 361,
    "start_time": "2023-01-22T19:44:31.296Z"
   },
   {
    "duration": 26,
    "start_time": "2023-01-22T19:44:31.659Z"
   },
   {
    "duration": 60,
    "start_time": "2023-01-22T19:44:32.830Z"
   },
   {
    "duration": 102,
    "start_time": "2023-01-22T19:47:04.313Z"
   },
   {
    "duration": 54,
    "start_time": "2023-01-22T19:47:19.107Z"
   },
   {
    "duration": 1449,
    "start_time": "2023-01-22T19:47:55.097Z"
   },
   {
    "duration": 953,
    "start_time": "2023-01-22T19:47:56.548Z"
   },
   {
    "duration": 182,
    "start_time": "2023-01-22T19:47:57.503Z"
   },
   {
    "duration": 17,
    "start_time": "2023-01-22T19:47:57.686Z"
   },
   {
    "duration": 126,
    "start_time": "2023-01-22T19:47:57.705Z"
   },
   {
    "duration": 1632,
    "start_time": "2023-01-22T19:47:57.833Z"
   },
   {
    "duration": 634,
    "start_time": "2023-01-22T19:47:59.468Z"
   },
   {
    "duration": 488,
    "start_time": "2023-01-22T19:48:00.105Z"
   },
   {
    "duration": 542,
    "start_time": "2023-01-22T19:48:00.595Z"
   },
   {
    "duration": 26,
    "start_time": "2023-01-22T19:48:01.139Z"
   },
   {
    "duration": 13,
    "start_time": "2023-01-22T19:48:01.166Z"
   },
   {
    "duration": 121,
    "start_time": "2023-01-22T19:48:01.180Z"
   },
   {
    "duration": 492,
    "start_time": "2023-01-22T19:48:01.302Z"
   },
   {
    "duration": 24,
    "start_time": "2023-01-22T19:48:01.797Z"
   },
   {
    "duration": 911,
    "start_time": "2023-01-22T19:48:01.823Z"
   },
   {
    "duration": 27,
    "start_time": "2023-01-22T19:48:02.737Z"
   },
   {
    "duration": 436,
    "start_time": "2023-01-22T19:48:02.766Z"
   },
   {
    "duration": 399,
    "start_time": "2023-01-22T19:48:03.204Z"
   },
   {
    "duration": 33,
    "start_time": "2023-01-22T19:48:03.605Z"
   },
   {
    "duration": 361,
    "start_time": "2023-01-22T19:48:03.639Z"
   },
   {
    "duration": 23,
    "start_time": "2023-01-22T19:48:04.002Z"
   },
   {
    "duration": 54,
    "start_time": "2023-01-22T19:48:04.037Z"
   },
   {
    "duration": 119,
    "start_time": "2023-01-22T19:48:04.093Z"
   },
   {
    "duration": 71,
    "start_time": "2023-01-22T19:48:04.213Z"
   },
   {
    "duration": 55,
    "start_time": "2023-01-22T19:48:16.439Z"
   },
   {
    "duration": 83,
    "start_time": "2023-01-22T19:48:21.369Z"
   },
   {
    "duration": 1546,
    "start_time": "2023-01-22T19:52:15.900Z"
   },
   {
    "duration": 965,
    "start_time": "2023-01-22T19:52:17.448Z"
   },
   {
    "duration": 148,
    "start_time": "2023-01-22T19:52:18.415Z"
   },
   {
    "duration": 18,
    "start_time": "2023-01-22T19:52:18.565Z"
   },
   {
    "duration": 175,
    "start_time": "2023-01-22T19:52:18.587Z"
   },
   {
    "duration": 1530,
    "start_time": "2023-01-22T19:52:18.764Z"
   },
   {
    "duration": 665,
    "start_time": "2023-01-22T19:52:20.296Z"
   },
   {
    "duration": 507,
    "start_time": "2023-01-22T19:52:20.963Z"
   },
   {
    "duration": 605,
    "start_time": "2023-01-22T19:52:21.472Z"
   },
   {
    "duration": 26,
    "start_time": "2023-01-22T19:52:22.079Z"
   },
   {
    "duration": 14,
    "start_time": "2023-01-22T19:52:22.107Z"
   },
   {
    "duration": 88,
    "start_time": "2023-01-22T19:52:22.123Z"
   },
   {
    "duration": 602,
    "start_time": "2023-01-22T19:52:22.212Z"
   },
   {
    "duration": 38,
    "start_time": "2023-01-22T19:52:22.817Z"
   },
   {
    "duration": 30,
    "start_time": "2023-01-22T19:52:30.160Z"
   },
   {
    "duration": 4,
    "start_time": "2023-01-22T19:52:30.516Z"
   },
   {
    "duration": 28,
    "start_time": "2023-01-22T19:52:47.873Z"
   },
   {
    "duration": 5,
    "start_time": "2023-01-22T19:52:48.524Z"
   },
   {
    "duration": 51,
    "start_time": "2023-01-22T19:53:07.990Z"
   },
   {
    "duration": 1485,
    "start_time": "2023-01-22T19:53:12.795Z"
   },
   {
    "duration": 957,
    "start_time": "2023-01-22T19:53:14.283Z"
   },
   {
    "duration": 156,
    "start_time": "2023-01-22T19:53:15.242Z"
   },
   {
    "duration": 19,
    "start_time": "2023-01-22T19:53:15.399Z"
   },
   {
    "duration": 112,
    "start_time": "2023-01-22T19:53:15.438Z"
   },
   {
    "duration": 1571,
    "start_time": "2023-01-22T19:53:15.552Z"
   },
   {
    "duration": 665,
    "start_time": "2023-01-22T19:53:17.124Z"
   },
   {
    "duration": 550,
    "start_time": "2023-01-22T19:53:17.792Z"
   },
   {
    "duration": 608,
    "start_time": "2023-01-22T19:53:18.345Z"
   },
   {
    "duration": 28,
    "start_time": "2023-01-22T19:53:18.955Z"
   },
   {
    "duration": 15,
    "start_time": "2023-01-22T19:53:18.985Z"
   },
   {
    "duration": 83,
    "start_time": "2023-01-22T19:53:19.002Z"
   },
   {
    "duration": 540,
    "start_time": "2023-01-22T19:53:19.087Z"
   },
   {
    "duration": 30,
    "start_time": "2023-01-22T19:53:33.894Z"
   },
   {
    "duration": 4,
    "start_time": "2023-01-22T19:53:34.865Z"
   },
   {
    "duration": 939,
    "start_time": "2023-01-22T19:53:37.761Z"
   },
   {
    "duration": 37,
    "start_time": "2023-01-22T19:53:38.703Z"
   },
   {
    "duration": 499,
    "start_time": "2023-01-22T19:53:38.742Z"
   },
   {
    "duration": 405,
    "start_time": "2023-01-22T19:53:39.244Z"
   },
   {
    "duration": 23,
    "start_time": "2023-01-22T19:53:39.652Z"
   },
   {
    "duration": 398,
    "start_time": "2023-01-22T19:53:39.677Z"
   },
   {
    "duration": 35,
    "start_time": "2023-01-22T19:53:40.078Z"
   },
   {
    "duration": 74,
    "start_time": "2023-01-22T19:53:40.115Z"
   },
   {
    "duration": 126,
    "start_time": "2023-01-22T19:53:40.191Z"
   },
   {
    "duration": 86,
    "start_time": "2023-01-22T19:53:40.319Z"
   },
   {
    "duration": 111,
    "start_time": "2023-01-22T19:53:40.407Z"
   },
   {
    "duration": 44,
    "start_time": "2023-01-22T20:03:20.724Z"
   },
   {
    "duration": 63,
    "start_time": "2023-01-22T20:04:13.420Z"
   },
   {
    "duration": 41,
    "start_time": "2023-01-22T20:04:20.437Z"
   },
   {
    "duration": 35,
    "start_time": "2023-01-22T20:04:25.038Z"
   },
   {
    "duration": 32,
    "start_time": "2023-01-22T20:04:29.069Z"
   },
   {
    "duration": 22,
    "start_time": "2023-01-22T20:06:15.610Z"
   },
   {
    "duration": 19,
    "start_time": "2023-01-22T20:08:39.667Z"
   },
   {
    "duration": 32,
    "start_time": "2023-01-22T20:08:42.259Z"
   },
   {
    "duration": 38,
    "start_time": "2023-01-22T20:08:42.551Z"
   },
   {
    "duration": 23,
    "start_time": "2023-01-22T20:08:44.768Z"
   },
   {
    "duration": 20,
    "start_time": "2023-01-22T20:12:07.866Z"
   },
   {
    "duration": 35,
    "start_time": "2023-01-22T20:12:09.859Z"
   },
   {
    "duration": 21,
    "start_time": "2023-01-22T20:12:10.170Z"
   },
   {
    "duration": 34,
    "start_time": "2023-01-22T20:12:12.690Z"
   },
   {
    "duration": 22,
    "start_time": "2023-01-22T20:12:12.933Z"
   },
   {
    "duration": 1450,
    "start_time": "2023-01-22T20:14:43.578Z"
   },
   {
    "duration": 931,
    "start_time": "2023-01-22T20:14:45.030Z"
   },
   {
    "duration": 142,
    "start_time": "2023-01-22T20:14:45.963Z"
   },
   {
    "duration": 33,
    "start_time": "2023-01-22T20:14:46.106Z"
   },
   {
    "duration": 108,
    "start_time": "2023-01-22T20:14:46.143Z"
   },
   {
    "duration": 1609,
    "start_time": "2023-01-22T20:14:46.254Z"
   },
   {
    "duration": 663,
    "start_time": "2023-01-22T20:14:47.864Z"
   },
   {
    "duration": 534,
    "start_time": "2023-01-22T20:14:48.530Z"
   },
   {
    "duration": 594,
    "start_time": "2023-01-22T20:14:49.066Z"
   },
   {
    "duration": 29,
    "start_time": "2023-01-22T20:14:49.661Z"
   },
   {
    "duration": 12,
    "start_time": "2023-01-22T20:14:49.692Z"
   },
   {
    "duration": 91,
    "start_time": "2023-01-22T20:14:49.706Z"
   },
   {
    "duration": 525,
    "start_time": "2023-01-22T20:14:49.799Z"
   },
   {
    "duration": 36,
    "start_time": "2023-01-22T20:14:50.327Z"
   },
   {
    "duration": 9,
    "start_time": "2023-01-22T20:14:50.366Z"
   },
   {
    "duration": 966,
    "start_time": "2023-01-22T20:14:50.377Z"
   },
   {
    "duration": 35,
    "start_time": "2023-01-22T20:14:51.346Z"
   },
   {
    "duration": 532,
    "start_time": "2023-01-22T20:14:51.383Z"
   },
   {
    "duration": 440,
    "start_time": "2023-01-22T20:14:51.917Z"
   },
   {
    "duration": 29,
    "start_time": "2023-01-22T20:14:52.360Z"
   },
   {
    "duration": 463,
    "start_time": "2023-01-22T20:14:52.391Z"
   },
   {
    "duration": 22,
    "start_time": "2023-01-22T20:14:52.856Z"
   },
   {
    "duration": 77,
    "start_time": "2023-01-22T20:14:52.880Z"
   },
   {
    "duration": 126,
    "start_time": "2023-01-22T20:14:52.959Z"
   },
   {
    "duration": 74,
    "start_time": "2023-01-22T20:14:53.088Z"
   },
   {
    "duration": 97,
    "start_time": "2023-01-22T20:14:53.164Z"
   },
   {
    "duration": 34,
    "start_time": "2023-01-22T20:14:53.263Z"
   },
   {
    "duration": 48,
    "start_time": "2023-01-22T20:14:53.299Z"
   },
   {
    "duration": 39,
    "start_time": "2023-01-22T20:14:53.354Z"
   },
   {
    "duration": 30,
    "start_time": "2023-01-22T20:14:53.395Z"
   },
   {
    "duration": 61,
    "start_time": "2023-01-22T20:14:53.427Z"
   },
   {
    "duration": 36,
    "start_time": "2023-01-22T20:14:53.490Z"
   },
   {
    "duration": 59,
    "start_time": "2023-01-22T20:14:53.528Z"
   },
   {
    "duration": 34,
    "start_time": "2023-01-22T20:14:53.589Z"
   },
   {
    "duration": 34,
    "start_time": "2023-01-22T20:14:53.624Z"
   },
   {
    "duration": 19,
    "start_time": "2023-01-22T20:14:55.788Z"
   },
   {
    "duration": 31,
    "start_time": "2023-01-22T20:14:57.032Z"
   },
   {
    "duration": 21,
    "start_time": "2023-01-22T20:14:59.195Z"
   },
   {
    "duration": 84,
    "start_time": "2023-01-22T20:15:12.210Z"
   },
   {
    "duration": 4,
    "start_time": "2023-01-22T20:15:41.176Z"
   },
   {
    "duration": 82,
    "start_time": "2023-01-22T20:15:47.743Z"
   },
   {
    "duration": 158,
    "start_time": "2023-01-22T20:20:10.610Z"
   },
   {
    "duration": 19,
    "start_time": "2023-01-22T20:20:22.597Z"
   },
   {
    "duration": 23,
    "start_time": "2023-01-22T20:20:30.074Z"
   },
   {
    "duration": 54,
    "start_time": "2023-01-22T20:20:59.370Z"
   },
   {
    "duration": 5,
    "start_time": "2023-01-22T20:21:00.063Z"
   },
   {
    "duration": 47,
    "start_time": "2023-01-22T20:21:22.628Z"
   },
   {
    "duration": 4,
    "start_time": "2023-01-22T20:21:22.853Z"
   },
   {
    "duration": 38,
    "start_time": "2023-01-22T20:21:29.150Z"
   },
   {
    "duration": 4,
    "start_time": "2023-01-22T20:21:29.303Z"
   },
   {
    "duration": 209,
    "start_time": "2023-01-22T20:26:07.893Z"
   },
   {
    "duration": 135,
    "start_time": "2023-01-22T20:32:13.978Z"
   },
   {
    "duration": 1612,
    "start_time": "2023-01-22T20:32:18.489Z"
   },
   {
    "duration": 1035,
    "start_time": "2023-01-22T20:32:20.103Z"
   },
   {
    "duration": 169,
    "start_time": "2023-01-22T20:32:21.140Z"
   },
   {
    "duration": 28,
    "start_time": "2023-01-22T20:32:21.311Z"
   },
   {
    "duration": 122,
    "start_time": "2023-01-22T20:32:21.343Z"
   },
   {
    "duration": 1712,
    "start_time": "2023-01-22T20:32:21.468Z"
   },
   {
    "duration": 674,
    "start_time": "2023-01-22T20:32:23.182Z"
   },
   {
    "duration": 569,
    "start_time": "2023-01-22T20:32:23.858Z"
   },
   {
    "duration": 678,
    "start_time": "2023-01-22T20:32:24.429Z"
   },
   {
    "duration": 38,
    "start_time": "2023-01-22T20:32:25.109Z"
   },
   {
    "duration": 19,
    "start_time": "2023-01-22T20:32:25.150Z"
   },
   {
    "duration": 89,
    "start_time": "2023-01-22T20:32:25.172Z"
   },
   {
    "duration": 622,
    "start_time": "2023-01-22T20:32:25.263Z"
   },
   {
    "duration": 29,
    "start_time": "2023-01-22T20:32:25.889Z"
   },
   {
    "duration": 4,
    "start_time": "2023-01-22T20:32:25.920Z"
   },
   {
    "duration": 986,
    "start_time": "2023-01-22T20:32:25.938Z"
   },
   {
    "duration": 46,
    "start_time": "2023-01-22T20:32:26.926Z"
   },
   {
    "duration": 541,
    "start_time": "2023-01-22T20:32:26.975Z"
   },
   {
    "duration": 394,
    "start_time": "2023-01-22T20:32:27.518Z"
   },
   {
    "duration": 35,
    "start_time": "2023-01-22T20:32:27.915Z"
   },
   {
    "duration": 410,
    "start_time": "2023-01-22T20:32:27.952Z"
   },
   {
    "duration": 23,
    "start_time": "2023-01-22T20:32:28.364Z"
   },
   {
    "duration": 71,
    "start_time": "2023-01-22T20:32:28.389Z"
   },
   {
    "duration": 122,
    "start_time": "2023-01-22T20:32:28.462Z"
   },
   {
    "duration": 68,
    "start_time": "2023-01-22T20:32:28.586Z"
   },
   {
    "duration": 92,
    "start_time": "2023-01-22T20:32:28.657Z"
   },
   {
    "duration": 57,
    "start_time": "2023-01-22T20:32:28.751Z"
   },
   {
    "duration": 55,
    "start_time": "2023-01-22T20:32:28.810Z"
   },
   {
    "duration": 42,
    "start_time": "2023-01-22T20:32:28.867Z"
   },
   {
    "duration": 52,
    "start_time": "2023-01-22T20:32:28.911Z"
   },
   {
    "duration": 43,
    "start_time": "2023-01-22T20:32:28.965Z"
   },
   {
    "duration": 33,
    "start_time": "2023-01-22T20:32:29.010Z"
   },
   {
    "duration": 37,
    "start_time": "2023-01-22T20:32:29.047Z"
   },
   {
    "duration": 41,
    "start_time": "2023-01-22T20:32:29.086Z"
   },
   {
    "duration": 52,
    "start_time": "2023-01-22T20:32:29.129Z"
   },
   {
    "duration": 44,
    "start_time": "2023-01-22T20:32:29.183Z"
   },
   {
    "duration": 58,
    "start_time": "2023-01-22T20:32:29.229Z"
   },
   {
    "duration": 102,
    "start_time": "2023-01-22T20:32:29.289Z"
   },
   {
    "duration": 111,
    "start_time": "2023-01-22T20:32:29.393Z"
   },
   {
    "duration": 204,
    "start_time": "2023-01-22T20:32:29.506Z"
   },
   {
    "duration": 28,
    "start_time": "2023-01-22T20:32:29.714Z"
   },
   {
    "duration": 51,
    "start_time": "2023-01-22T20:32:29.751Z"
   },
   {
    "duration": 4,
    "start_time": "2023-01-22T20:32:29.804Z"
   },
   {
    "duration": 159,
    "start_time": "2023-01-22T20:32:42.960Z"
   },
   {
    "duration": 82,
    "start_time": "2023-01-22T20:32:50.751Z"
   },
   {
    "duration": 13,
    "start_time": "2023-01-22T20:36:58.990Z"
   },
   {
    "duration": 58,
    "start_time": "2023-01-22T20:37:05.136Z"
   },
   {
    "duration": 12,
    "start_time": "2023-01-22T20:37:05.459Z"
   },
   {
    "duration": 42,
    "start_time": "2023-01-22T20:37:40.319Z"
   },
   {
    "duration": 4,
    "start_time": "2023-01-22T20:37:40.660Z"
   },
   {
    "duration": 82,
    "start_time": "2023-01-22T20:37:44.191Z"
   },
   {
    "duration": 95,
    "start_time": "2023-01-22T20:41:14.092Z"
   },
   {
    "duration": 1515,
    "start_time": "2023-01-22T20:41:30.999Z"
   },
   {
    "duration": 888,
    "start_time": "2023-01-22T20:41:32.518Z"
   },
   {
    "duration": 141,
    "start_time": "2023-01-22T20:41:33.408Z"
   },
   {
    "duration": 16,
    "start_time": "2023-01-22T20:41:33.551Z"
   },
   {
    "duration": 115,
    "start_time": "2023-01-22T20:41:33.569Z"
   },
   {
    "duration": 1482,
    "start_time": "2023-01-22T20:41:33.685Z"
   },
   {
    "duration": 620,
    "start_time": "2023-01-22T20:41:35.169Z"
   },
   {
    "duration": 486,
    "start_time": "2023-01-22T20:41:35.791Z"
   },
   {
    "duration": 591,
    "start_time": "2023-01-22T20:41:36.279Z"
   },
   {
    "duration": 29,
    "start_time": "2023-01-22T20:41:36.872Z"
   },
   {
    "duration": 12,
    "start_time": "2023-01-22T20:41:36.903Z"
   },
   {
    "duration": 75,
    "start_time": "2023-01-22T20:41:36.917Z"
   },
   {
    "duration": 546,
    "start_time": "2023-01-22T20:41:36.994Z"
   },
   {
    "duration": 28,
    "start_time": "2023-01-22T20:41:37.544Z"
   },
   {
    "duration": 5,
    "start_time": "2023-01-22T20:41:37.574Z"
   },
   {
    "duration": 971,
    "start_time": "2023-01-22T20:41:37.580Z"
   },
   {
    "duration": 30,
    "start_time": "2023-01-22T20:41:38.554Z"
   },
   {
    "duration": 483,
    "start_time": "2023-01-22T20:41:38.586Z"
   },
   {
    "duration": 383,
    "start_time": "2023-01-22T20:41:39.071Z"
   },
   {
    "duration": 29,
    "start_time": "2023-01-22T20:41:39.456Z"
   },
   {
    "duration": 371,
    "start_time": "2023-01-22T20:41:39.487Z"
   },
   {
    "duration": 23,
    "start_time": "2023-01-22T20:41:39.860Z"
   },
   {
    "duration": 70,
    "start_time": "2023-01-22T20:41:39.885Z"
   },
   {
    "duration": 115,
    "start_time": "2023-01-22T20:41:39.956Z"
   },
   {
    "duration": 67,
    "start_time": "2023-01-22T20:41:40.072Z"
   },
   {
    "duration": 81,
    "start_time": "2023-01-22T20:41:40.141Z"
   },
   {
    "duration": 47,
    "start_time": "2023-01-22T20:41:40.223Z"
   },
   {
    "duration": 29,
    "start_time": "2023-01-22T20:41:40.272Z"
   },
   {
    "duration": 40,
    "start_time": "2023-01-22T20:41:40.303Z"
   },
   {
    "duration": 26,
    "start_time": "2023-01-22T20:41:40.345Z"
   },
   {
    "duration": 34,
    "start_time": "2023-01-22T20:41:40.373Z"
   },
   {
    "duration": 39,
    "start_time": "2023-01-22T20:41:40.408Z"
   },
   {
    "duration": 26,
    "start_time": "2023-01-22T20:41:40.448Z"
   },
   {
    "duration": 35,
    "start_time": "2023-01-22T20:41:40.476Z"
   },
   {
    "duration": 36,
    "start_time": "2023-01-22T20:41:40.513Z"
   },
   {
    "duration": 34,
    "start_time": "2023-01-22T20:41:40.551Z"
   },
   {
    "duration": 25,
    "start_time": "2023-01-22T20:41:40.587Z"
   },
   {
    "duration": 92,
    "start_time": "2023-01-22T20:41:40.615Z"
   },
   {
    "duration": 98,
    "start_time": "2023-01-22T20:41:40.709Z"
   },
   {
    "duration": 190,
    "start_time": "2023-01-22T20:41:40.809Z"
   },
   {
    "duration": 34,
    "start_time": "2023-01-22T20:41:41.004Z"
   },
   {
    "duration": 52,
    "start_time": "2023-01-22T20:41:41.040Z"
   },
   {
    "duration": 4,
    "start_time": "2023-01-22T20:41:41.094Z"
   },
   {
    "duration": 205,
    "start_time": "2023-01-22T20:41:41.099Z"
   },
   {
    "duration": 9,
    "start_time": "2023-01-22T20:44:24.397Z"
   },
   {
    "duration": 10,
    "start_time": "2023-01-22T20:44:40.348Z"
   },
   {
    "duration": 49,
    "start_time": "2023-01-22T20:45:00.169Z"
   },
   {
    "duration": 9,
    "start_time": "2023-01-22T20:45:02.165Z"
   },
   {
    "duration": 46,
    "start_time": "2023-01-22T20:45:02.427Z"
   },
   {
    "duration": 4,
    "start_time": "2023-01-22T20:45:03.034Z"
   },
   {
    "duration": 4,
    "start_time": "2023-01-22T20:45:10.421Z"
   },
   {
    "duration": 13,
    "start_time": "2023-01-22T20:45:25.762Z"
   },
   {
    "duration": 79,
    "start_time": "2023-01-22T20:46:51.295Z"
   },
   {
    "duration": 2436,
    "start_time": "2023-01-22T21:00:10.083Z"
   },
   {
    "duration": 2798,
    "start_time": "2023-01-22T21:00:12.521Z"
   },
   {
    "duration": 114,
    "start_time": "2023-01-22T21:00:15.320Z"
   },
   {
    "duration": 17,
    "start_time": "2023-01-22T21:00:15.436Z"
   },
   {
    "duration": 119,
    "start_time": "2023-01-22T21:00:15.455Z"
   },
   {
    "duration": 1452,
    "start_time": "2023-01-22T21:00:15.581Z"
   },
   {
    "duration": 698,
    "start_time": "2023-01-22T21:00:17.035Z"
   },
   {
    "duration": 449,
    "start_time": "2023-01-22T21:00:17.734Z"
   },
   {
    "duration": 514,
    "start_time": "2023-01-22T21:00:18.185Z"
   },
   {
    "duration": 26,
    "start_time": "2023-01-22T21:00:18.700Z"
   },
   {
    "duration": 14,
    "start_time": "2023-01-22T21:00:18.728Z"
   },
   {
    "duration": 68,
    "start_time": "2023-01-22T21:00:18.744Z"
   },
   {
    "duration": 416,
    "start_time": "2023-01-22T21:00:18.814Z"
   },
   {
    "duration": 24,
    "start_time": "2023-01-22T21:00:19.233Z"
   },
   {
    "duration": 3,
    "start_time": "2023-01-22T21:00:19.259Z"
   },
   {
    "duration": 784,
    "start_time": "2023-01-22T21:00:19.264Z"
   },
   {
    "duration": 34,
    "start_time": "2023-01-22T21:00:20.050Z"
   },
   {
    "duration": 400,
    "start_time": "2023-01-22T21:00:20.086Z"
   },
   {
    "duration": 346,
    "start_time": "2023-01-22T21:00:20.488Z"
   },
   {
    "duration": 20,
    "start_time": "2023-01-22T21:00:20.836Z"
   },
   {
    "duration": 325,
    "start_time": "2023-01-22T21:00:20.858Z"
   },
   {
    "duration": 23,
    "start_time": "2023-01-22T21:00:21.185Z"
   },
   {
    "duration": 73,
    "start_time": "2023-01-22T21:00:21.210Z"
   },
   {
    "duration": 112,
    "start_time": "2023-01-22T21:00:21.285Z"
   },
   {
    "duration": 83,
    "start_time": "2023-01-22T21:00:21.400Z"
   },
   {
    "duration": 76,
    "start_time": "2023-01-22T21:00:21.485Z"
   },
   {
    "duration": 37,
    "start_time": "2023-01-22T21:00:21.581Z"
   },
   {
    "duration": 23,
    "start_time": "2023-01-22T21:00:21.620Z"
   },
   {
    "duration": 40,
    "start_time": "2023-01-22T21:00:21.644Z"
   },
   {
    "duration": 17,
    "start_time": "2023-01-22T21:00:21.686Z"
   },
   {
    "duration": 31,
    "start_time": "2023-01-22T21:00:21.705Z"
   },
   {
    "duration": 48,
    "start_time": "2023-01-22T21:00:21.738Z"
   },
   {
    "duration": 19,
    "start_time": "2023-01-22T21:00:21.788Z"
   },
   {
    "duration": 30,
    "start_time": "2023-01-22T21:00:21.809Z"
   },
   {
    "duration": 17,
    "start_time": "2023-01-22T21:00:21.841Z"
   },
   {
    "duration": 44,
    "start_time": "2023-01-22T21:00:21.860Z"
   },
   {
    "duration": 21,
    "start_time": "2023-01-22T21:00:21.906Z"
   },
   {
    "duration": 76,
    "start_time": "2023-01-22T21:00:21.928Z"
   },
   {
    "duration": 84,
    "start_time": "2023-01-22T21:00:22.006Z"
   },
   {
    "duration": 166,
    "start_time": "2023-01-22T21:00:22.092Z"
   },
   {
    "duration": 31,
    "start_time": "2023-01-22T21:00:22.261Z"
   },
   {
    "duration": 3,
    "start_time": "2023-01-22T21:00:22.293Z"
   },
   {
    "duration": 44,
    "start_time": "2023-01-22T21:00:22.298Z"
   },
   {
    "duration": 6,
    "start_time": "2023-01-22T21:00:22.343Z"
   },
   {
    "duration": 209,
    "start_time": "2023-01-22T21:00:22.352Z"
   },
   {
    "duration": 4,
    "start_time": "2023-01-22T21:08:35.394Z"
   },
   {
    "duration": 728,
    "start_time": "2023-01-22T21:08:35.400Z"
   },
   {
    "duration": 121,
    "start_time": "2023-01-22T21:08:36.129Z"
   },
   {
    "duration": 29,
    "start_time": "2023-01-22T21:08:36.252Z"
   },
   {
    "duration": 109,
    "start_time": "2023-01-22T21:08:36.284Z"
   },
   {
    "duration": 1511,
    "start_time": "2023-01-22T21:08:36.395Z"
   },
   {
    "duration": 576,
    "start_time": "2023-01-22T21:08:37.909Z"
   },
   {
    "duration": 366,
    "start_time": "2023-01-22T21:08:38.487Z"
   },
   {
    "duration": 470,
    "start_time": "2023-01-22T21:08:38.855Z"
   },
   {
    "duration": 24,
    "start_time": "2023-01-22T21:08:39.327Z"
   },
   {
    "duration": 11,
    "start_time": "2023-01-22T21:08:39.352Z"
   },
   {
    "duration": 60,
    "start_time": "2023-01-22T21:08:39.380Z"
   },
   {
    "duration": 410,
    "start_time": "2023-01-22T21:08:39.441Z"
   },
   {
    "duration": 29,
    "start_time": "2023-01-22T21:08:39.854Z"
   },
   {
    "duration": 4,
    "start_time": "2023-01-22T21:08:39.885Z"
   },
   {
    "duration": 794,
    "start_time": "2023-01-22T21:08:39.891Z"
   },
   {
    "duration": 25,
    "start_time": "2023-01-22T21:08:40.687Z"
   },
   {
    "duration": 387,
    "start_time": "2023-01-22T21:08:40.714Z"
   },
   {
    "duration": 453,
    "start_time": "2023-01-22T21:08:41.103Z"
   },
   {
    "duration": 28,
    "start_time": "2023-01-22T21:08:41.558Z"
   },
   {
    "duration": 323,
    "start_time": "2023-01-22T21:08:41.588Z"
   },
   {
    "duration": 24,
    "start_time": "2023-01-22T21:08:41.914Z"
   },
   {
    "duration": 64,
    "start_time": "2023-01-22T21:08:41.940Z"
   },
   {
    "duration": 114,
    "start_time": "2023-01-22T21:08:42.005Z"
   },
   {
    "duration": 61,
    "start_time": "2023-01-22T21:08:42.121Z"
   },
   {
    "duration": 63,
    "start_time": "2023-01-22T21:08:42.184Z"
   },
   {
    "duration": 45,
    "start_time": "2023-01-22T21:08:42.249Z"
   },
   {
    "duration": 16,
    "start_time": "2023-01-22T21:08:42.296Z"
   },
   {
    "duration": 28,
    "start_time": "2023-01-22T21:08:42.314Z"
   },
   {
    "duration": 21,
    "start_time": "2023-01-22T21:08:42.343Z"
   },
   {
    "duration": 40,
    "start_time": "2023-01-22T21:08:42.381Z"
   },
   {
    "duration": 21,
    "start_time": "2023-01-22T21:08:42.422Z"
   },
   {
    "duration": 17,
    "start_time": "2023-01-22T21:08:42.445Z"
   },
   {
    "duration": 28,
    "start_time": "2023-01-22T21:08:42.481Z"
   },
   {
    "duration": 29,
    "start_time": "2023-01-22T21:08:42.510Z"
   },
   {
    "duration": 45,
    "start_time": "2023-01-22T21:08:42.541Z"
   },
   {
    "duration": 35,
    "start_time": "2023-01-22T21:08:42.588Z"
   },
   {
    "duration": 75,
    "start_time": "2023-01-22T21:08:42.625Z"
   },
   {
    "duration": 96,
    "start_time": "2023-01-22T21:08:42.702Z"
   },
   {
    "duration": 150,
    "start_time": "2023-01-22T21:08:42.800Z"
   },
   {
    "duration": 31,
    "start_time": "2023-01-22T21:08:42.954Z"
   },
   {
    "duration": 2,
    "start_time": "2023-01-22T21:08:42.987Z"
   },
   {
    "duration": 65,
    "start_time": "2023-01-22T21:08:42.992Z"
   },
   {
    "duration": 4,
    "start_time": "2023-01-22T21:08:43.059Z"
   },
   {
    "duration": 10,
    "start_time": "2023-01-22T21:08:43.064Z"
   },
   {
    "duration": 157,
    "start_time": "2023-01-22T21:08:53.229Z"
   },
   {
    "duration": 1427,
    "start_time": "2023-01-22T21:09:23.736Z"
   },
   {
    "duration": 786,
    "start_time": "2023-01-22T21:09:25.165Z"
   },
   {
    "duration": 113,
    "start_time": "2023-01-22T21:09:25.953Z"
   },
   {
    "duration": 28,
    "start_time": "2023-01-22T21:09:26.069Z"
   },
   {
    "duration": 113,
    "start_time": "2023-01-22T21:09:26.099Z"
   },
   {
    "duration": 1575,
    "start_time": "2023-01-22T21:09:26.214Z"
   },
   {
    "duration": 640,
    "start_time": "2023-01-22T21:09:27.790Z"
   },
   {
    "duration": 455,
    "start_time": "2023-01-22T21:09:28.432Z"
   },
   {
    "duration": 494,
    "start_time": "2023-01-22T21:09:28.889Z"
   },
   {
    "duration": 26,
    "start_time": "2023-01-22T21:09:29.385Z"
   },
   {
    "duration": 13,
    "start_time": "2023-01-22T21:09:29.413Z"
   },
   {
    "duration": 82,
    "start_time": "2023-01-22T21:09:29.429Z"
   },
   {
    "duration": 441,
    "start_time": "2023-01-22T21:09:29.513Z"
   },
   {
    "duration": 29,
    "start_time": "2023-01-22T21:09:29.957Z"
   },
   {
    "duration": 4,
    "start_time": "2023-01-22T21:09:29.988Z"
   },
   {
    "duration": 766,
    "start_time": "2023-01-22T21:09:29.994Z"
   },
   {
    "duration": 33,
    "start_time": "2023-01-22T21:09:30.762Z"
   },
   {
    "duration": 404,
    "start_time": "2023-01-22T21:09:30.797Z"
   },
   {
    "duration": 337,
    "start_time": "2023-01-22T21:09:31.203Z"
   },
   {
    "duration": 27,
    "start_time": "2023-01-22T21:09:31.542Z"
   },
   {
    "duration": 316,
    "start_time": "2023-01-22T21:09:31.581Z"
   },
   {
    "duration": 21,
    "start_time": "2023-01-22T21:09:31.898Z"
   },
   {
    "duration": 62,
    "start_time": "2023-01-22T21:09:31.921Z"
   },
   {
    "duration": 109,
    "start_time": "2023-01-22T21:09:31.985Z"
   },
   {
    "duration": 55,
    "start_time": "2023-01-22T21:09:32.096Z"
   },
   {
    "duration": 74,
    "start_time": "2023-01-22T21:09:32.152Z"
   },
   {
    "duration": 47,
    "start_time": "2023-01-22T21:09:32.228Z"
   },
   {
    "duration": 42,
    "start_time": "2023-01-22T21:09:32.276Z"
   },
   {
    "duration": 40,
    "start_time": "2023-01-22T21:09:32.320Z"
   },
   {
    "duration": 28,
    "start_time": "2023-01-22T21:09:32.362Z"
   },
   {
    "duration": 46,
    "start_time": "2023-01-22T21:09:32.395Z"
   },
   {
    "duration": 40,
    "start_time": "2023-01-22T21:09:32.443Z"
   },
   {
    "duration": 22,
    "start_time": "2023-01-22T21:09:32.485Z"
   },
   {
    "duration": 31,
    "start_time": "2023-01-22T21:09:32.509Z"
   },
   {
    "duration": 48,
    "start_time": "2023-01-22T21:09:32.541Z"
   },
   {
    "duration": 34,
    "start_time": "2023-01-22T21:09:32.591Z"
   },
   {
    "duration": 47,
    "start_time": "2023-01-22T21:09:32.626Z"
   },
   {
    "duration": 65,
    "start_time": "2023-01-22T21:09:32.675Z"
   },
   {
    "duration": 84,
    "start_time": "2023-01-22T21:09:32.742Z"
   },
   {
    "duration": 167,
    "start_time": "2023-01-22T21:09:32.828Z"
   },
   {
    "duration": 23,
    "start_time": "2023-01-22T21:09:32.999Z"
   },
   {
    "duration": 2,
    "start_time": "2023-01-22T21:09:33.024Z"
   },
   {
    "duration": 70,
    "start_time": "2023-01-22T21:09:33.028Z"
   },
   {
    "duration": 4,
    "start_time": "2023-01-22T21:09:33.100Z"
   },
   {
    "duration": 14,
    "start_time": "2023-01-22T21:09:33.105Z"
   },
   {
    "duration": 515002,
    "start_time": "2023-01-22T21:09:40.190Z"
   },
   {
    "duration": 1384,
    "start_time": "2023-01-22T21:51:24.404Z"
   },
   {
    "duration": 865,
    "start_time": "2023-01-22T21:51:25.789Z"
   },
   {
    "duration": 130,
    "start_time": "2023-01-22T21:51:26.655Z"
   },
   {
    "duration": 19,
    "start_time": "2023-01-22T21:51:26.787Z"
   },
   {
    "duration": 103,
    "start_time": "2023-01-22T21:51:26.810Z"
   },
   {
    "duration": 1347,
    "start_time": "2023-01-22T21:51:26.915Z"
   },
   {
    "duration": 574,
    "start_time": "2023-01-22T21:51:28.264Z"
   },
   {
    "duration": 411,
    "start_time": "2023-01-22T21:51:28.840Z"
   },
   {
    "duration": 494,
    "start_time": "2023-01-22T21:51:29.254Z"
   },
   {
    "duration": 35,
    "start_time": "2023-01-22T21:51:29.749Z"
   },
   {
    "duration": 11,
    "start_time": "2023-01-22T21:51:29.786Z"
   },
   {
    "duration": 52,
    "start_time": "2023-01-22T21:51:29.798Z"
   },
   {
    "duration": 456,
    "start_time": "2023-01-22T21:51:29.855Z"
   },
   {
    "duration": 27,
    "start_time": "2023-01-22T21:51:30.314Z"
   },
   {
    "duration": 5,
    "start_time": "2023-01-22T21:51:30.342Z"
   },
   {
    "duration": 799,
    "start_time": "2023-01-22T21:51:30.349Z"
   },
   {
    "duration": 32,
    "start_time": "2023-01-22T21:51:31.150Z"
   },
   {
    "duration": 371,
    "start_time": "2023-01-22T21:51:31.183Z"
   },
   {
    "duration": 313,
    "start_time": "2023-01-22T21:51:31.555Z"
   },
   {
    "duration": 26,
    "start_time": "2023-01-22T21:51:31.870Z"
   },
   {
    "duration": 308,
    "start_time": "2023-01-22T21:51:31.898Z"
   },
   {
    "duration": 21,
    "start_time": "2023-01-22T21:51:32.208Z"
   },
   {
    "duration": 62,
    "start_time": "2023-01-22T21:51:32.230Z"
   },
   {
    "duration": 96,
    "start_time": "2023-01-22T21:51:32.293Z"
   },
   {
    "duration": 54,
    "start_time": "2023-01-22T21:51:32.391Z"
   },
   {
    "duration": 72,
    "start_time": "2023-01-22T21:51:32.447Z"
   },
   {
    "duration": 29,
    "start_time": "2023-01-22T21:51:32.521Z"
   },
   {
    "duration": 38,
    "start_time": "2023-01-22T21:51:32.551Z"
   },
   {
    "duration": 32,
    "start_time": "2023-01-22T21:51:32.591Z"
   },
   {
    "duration": 25,
    "start_time": "2023-01-22T21:51:32.625Z"
   },
   {
    "duration": 45,
    "start_time": "2023-01-22T21:51:32.653Z"
   },
   {
    "duration": 30,
    "start_time": "2023-01-22T21:51:32.700Z"
   },
   {
    "duration": 29,
    "start_time": "2023-01-22T21:51:32.731Z"
   },
   {
    "duration": 32,
    "start_time": "2023-01-22T21:51:32.762Z"
   },
   {
    "duration": 28,
    "start_time": "2023-01-22T21:51:32.795Z"
   },
   {
    "duration": 47,
    "start_time": "2023-01-22T21:51:32.824Z"
   },
   {
    "duration": 23,
    "start_time": "2023-01-22T21:51:32.873Z"
   },
   {
    "duration": 66,
    "start_time": "2023-01-22T21:51:32.897Z"
   },
   {
    "duration": 75,
    "start_time": "2023-01-22T21:51:32.965Z"
   },
   {
    "duration": 157,
    "start_time": "2023-01-22T21:51:33.042Z"
   },
   {
    "duration": 28,
    "start_time": "2023-01-22T21:51:33.204Z"
   },
   {
    "duration": 3,
    "start_time": "2023-01-22T21:51:33.234Z"
   },
   {
    "duration": 4,
    "start_time": "2023-01-22T21:51:33.239Z"
   },
   {
    "duration": 57,
    "start_time": "2023-01-22T21:51:33.245Z"
   },
   {
    "duration": 4,
    "start_time": "2023-01-22T21:51:33.304Z"
   },
   {
    "duration": 3,
    "start_time": "2023-01-22T21:51:56.911Z"
   },
   {
    "duration": 3,
    "start_time": "2023-01-22T21:51:57.701Z"
   },
   {
    "duration": 4,
    "start_time": "2023-01-22T21:51:58.319Z"
   },
   {
    "duration": 391374,
    "start_time": "2023-01-22T21:52:03.749Z"
   },
   {
    "duration": 224,
    "start_time": "2023-01-22T22:02:20.566Z"
   },
   {
    "duration": 1695,
    "start_time": "2023-01-23T10:16:43.176Z"
   },
   {
    "duration": 1044,
    "start_time": "2023-01-23T10:16:44.872Z"
   },
   {
    "duration": 122,
    "start_time": "2023-01-23T10:16:45.918Z"
   },
   {
    "duration": 26,
    "start_time": "2023-01-23T10:16:46.042Z"
   },
   {
    "duration": 139,
    "start_time": "2023-01-23T10:16:46.070Z"
   },
   {
    "duration": 1311,
    "start_time": "2023-01-23T10:16:46.211Z"
   },
   {
    "duration": 628,
    "start_time": "2023-01-23T10:16:47.523Z"
   },
   {
    "duration": 426,
    "start_time": "2023-01-23T10:16:48.153Z"
   },
   {
    "duration": 487,
    "start_time": "2023-01-23T10:16:48.581Z"
   },
   {
    "duration": 31,
    "start_time": "2023-01-23T10:16:49.072Z"
   },
   {
    "duration": 12,
    "start_time": "2023-01-23T10:16:49.105Z"
   },
   {
    "duration": 66,
    "start_time": "2023-01-23T10:16:49.118Z"
   },
   {
    "duration": 466,
    "start_time": "2023-01-23T10:16:49.194Z"
   },
   {
    "duration": 40,
    "start_time": "2023-01-23T10:16:49.661Z"
   },
   {
    "duration": 4,
    "start_time": "2023-01-23T10:16:49.702Z"
   },
   {
    "duration": 781,
    "start_time": "2023-01-23T10:16:49.708Z"
   },
   {
    "duration": 34,
    "start_time": "2023-01-23T10:16:50.491Z"
   },
   {
    "duration": 416,
    "start_time": "2023-01-23T10:16:50.527Z"
   },
   {
    "duration": 330,
    "start_time": "2023-01-23T10:16:50.944Z"
   },
   {
    "duration": 30,
    "start_time": "2023-01-23T10:16:51.276Z"
   },
   {
    "duration": 346,
    "start_time": "2023-01-23T10:16:51.308Z"
   },
   {
    "duration": 27,
    "start_time": "2023-01-23T10:16:51.656Z"
   },
   {
    "duration": 54,
    "start_time": "2023-01-23T10:16:51.693Z"
   },
   {
    "duration": 110,
    "start_time": "2023-01-23T10:16:51.749Z"
   },
   {
    "duration": 62,
    "start_time": "2023-01-23T10:16:51.861Z"
   },
   {
    "duration": 81,
    "start_time": "2023-01-23T10:16:51.924Z"
   },
   {
    "duration": 32,
    "start_time": "2023-01-23T10:16:52.006Z"
   },
   {
    "duration": 29,
    "start_time": "2023-01-23T10:16:52.042Z"
   },
   {
    "duration": 48,
    "start_time": "2023-01-23T10:16:52.073Z"
   },
   {
    "duration": 31,
    "start_time": "2023-01-23T10:16:52.123Z"
   },
   {
    "duration": 43,
    "start_time": "2023-01-23T10:16:52.157Z"
   },
   {
    "duration": 35,
    "start_time": "2023-01-23T10:16:52.202Z"
   },
   {
    "duration": 22,
    "start_time": "2023-01-23T10:16:52.239Z"
   },
   {
    "duration": 36,
    "start_time": "2023-01-23T10:16:52.262Z"
   },
   {
    "duration": 18,
    "start_time": "2023-01-23T10:16:52.300Z"
   },
   {
    "duration": 32,
    "start_time": "2023-01-23T10:16:52.320Z"
   },
   {
    "duration": 43,
    "start_time": "2023-01-23T10:16:52.353Z"
   },
   {
    "duration": 72,
    "start_time": "2023-01-23T10:16:52.397Z"
   },
   {
    "duration": 84,
    "start_time": "2023-01-23T10:16:52.470Z"
   },
   {
    "duration": 159,
    "start_time": "2023-01-23T10:16:52.556Z"
   },
   {
    "duration": 21,
    "start_time": "2023-01-23T10:16:52.717Z"
   },
   {
    "duration": 63,
    "start_time": "2023-01-23T10:16:52.739Z"
   },
   {
    "duration": 24,
    "start_time": "2023-01-23T10:16:52.804Z"
   },
   {
    "duration": 84,
    "start_time": "2023-01-23T10:16:52.829Z"
   },
   {
    "duration": 4,
    "start_time": "2023-01-23T10:16:52.914Z"
   },
   {
    "duration": 10,
    "start_time": "2023-01-23T10:16:52.919Z"
   },
   {
    "duration": 8,
    "start_time": "2023-01-23T10:16:52.930Z"
   },
   {
    "duration": 379506,
    "start_time": "2023-01-23T10:16:52.939Z"
   },
   {
    "duration": 179,
    "start_time": "2023-01-23T10:24:07.371Z"
   },
   {
    "duration": 1556718,
    "start_time": "2023-01-23T10:24:10.839Z"
   },
   {
    "duration": 1634,
    "start_time": "2023-01-23T15:27:03.485Z"
   },
   {
    "duration": 1044,
    "start_time": "2023-01-23T15:27:05.121Z"
   },
   {
    "duration": 128,
    "start_time": "2023-01-23T15:27:06.166Z"
   },
   {
    "duration": 15,
    "start_time": "2023-01-23T15:27:06.296Z"
   },
   {
    "duration": 110,
    "start_time": "2023-01-23T15:27:06.314Z"
   },
   {
    "duration": 1330,
    "start_time": "2023-01-23T15:27:06.425Z"
   },
   {
    "duration": 626,
    "start_time": "2023-01-23T15:27:07.757Z"
   },
   {
    "duration": 438,
    "start_time": "2023-01-23T15:27:08.385Z"
   },
   {
    "duration": 515,
    "start_time": "2023-01-23T15:27:08.825Z"
   },
   {
    "duration": 32,
    "start_time": "2023-01-23T15:27:09.342Z"
   },
   {
    "duration": 21,
    "start_time": "2023-01-23T15:27:09.376Z"
   },
   {
    "duration": 55,
    "start_time": "2023-01-23T15:27:09.398Z"
   },
   {
    "duration": 457,
    "start_time": "2023-01-23T15:27:09.455Z"
   },
   {
    "duration": 30,
    "start_time": "2023-01-23T15:27:09.915Z"
   },
   {
    "duration": 4,
    "start_time": "2023-01-23T15:27:09.947Z"
   },
   {
    "duration": 775,
    "start_time": "2023-01-23T15:27:09.953Z"
   },
   {
    "duration": 26,
    "start_time": "2023-01-23T15:27:10.730Z"
   },
   {
    "duration": 417,
    "start_time": "2023-01-23T15:27:10.757Z"
   },
   {
    "duration": 355,
    "start_time": "2023-01-23T15:27:11.176Z"
   },
   {
    "duration": 20,
    "start_time": "2023-01-23T15:27:11.533Z"
   },
   {
    "duration": 340,
    "start_time": "2023-01-23T15:27:11.555Z"
   },
   {
    "duration": 22,
    "start_time": "2023-01-23T15:27:11.896Z"
   },
   {
    "duration": 49,
    "start_time": "2023-01-23T15:27:11.921Z"
   },
   {
    "duration": 112,
    "start_time": "2023-01-23T15:27:11.972Z"
   },
   {
    "duration": 59,
    "start_time": "2023-01-23T15:27:12.086Z"
   },
   {
    "duration": 83,
    "start_time": "2023-01-23T15:27:12.146Z"
   },
   {
    "duration": 32,
    "start_time": "2023-01-23T15:27:12.230Z"
   },
   {
    "duration": 34,
    "start_time": "2023-01-23T15:27:12.264Z"
   },
   {
    "duration": 31,
    "start_time": "2023-01-23T15:27:12.299Z"
   },
   {
    "duration": 24,
    "start_time": "2023-01-23T15:27:12.332Z"
   },
   {
    "duration": 50,
    "start_time": "2023-01-23T15:27:12.358Z"
   },
   {
    "duration": 22,
    "start_time": "2023-01-23T15:27:12.410Z"
   },
   {
    "duration": 20,
    "start_time": "2023-01-23T15:27:12.434Z"
   },
   {
    "duration": 41,
    "start_time": "2023-01-23T15:27:12.456Z"
   },
   {
    "duration": 17,
    "start_time": "2023-01-23T15:27:12.498Z"
   },
   {
    "duration": 29,
    "start_time": "2023-01-23T15:27:12.517Z"
   },
   {
    "duration": 20,
    "start_time": "2023-01-23T15:27:12.548Z"
   },
   {
    "duration": 96,
    "start_time": "2023-01-23T15:27:12.570Z"
   },
   {
    "duration": 96,
    "start_time": "2023-01-23T15:27:12.667Z"
   },
   {
    "duration": 162,
    "start_time": "2023-01-23T15:27:12.764Z"
   },
   {
    "duration": 22,
    "start_time": "2023-01-23T15:27:12.929Z"
   },
   {
    "duration": 4,
    "start_time": "2023-01-23T15:27:12.953Z"
   },
   {
    "duration": 60,
    "start_time": "2023-01-23T15:27:12.958Z"
   },
   {
    "duration": 36,
    "start_time": "2023-01-23T15:27:45.110Z"
   },
   {
    "duration": 3,
    "start_time": "2023-01-23T15:27:45.939Z"
   },
   {
    "duration": 2,
    "start_time": "2023-01-23T15:27:46.589Z"
   },
   {
    "duration": 3,
    "start_time": "2023-01-23T15:27:47.111Z"
   },
   {
    "duration": 161,
    "start_time": "2023-01-23T15:28:20.811Z"
   },
   {
    "duration": 9,
    "start_time": "2023-01-23T15:28:29.361Z"
   },
   {
    "duration": 10,
    "start_time": "2023-01-23T15:29:51.489Z"
   },
   {
    "duration": 10,
    "start_time": "2023-01-23T15:29:58.769Z"
   },
   {
    "duration": 1458,
    "start_time": "2023-01-23T15:32:33.284Z"
   },
   {
    "duration": 765,
    "start_time": "2023-01-23T15:32:34.745Z"
   },
   {
    "duration": 125,
    "start_time": "2023-01-23T15:32:35.512Z"
   },
   {
    "duration": 16,
    "start_time": "2023-01-23T15:32:35.638Z"
   },
   {
    "duration": 107,
    "start_time": "2023-01-23T15:32:35.658Z"
   },
   {
    "duration": 1310,
    "start_time": "2023-01-23T15:32:35.767Z"
   },
   {
    "duration": 567,
    "start_time": "2023-01-23T15:32:37.078Z"
   },
   {
    "duration": 454,
    "start_time": "2023-01-23T15:32:37.647Z"
   },
   {
    "duration": 514,
    "start_time": "2023-01-23T15:32:38.102Z"
   },
   {
    "duration": 33,
    "start_time": "2023-01-23T15:32:38.617Z"
   },
   {
    "duration": 14,
    "start_time": "2023-01-23T15:32:38.652Z"
   },
   {
    "duration": 64,
    "start_time": "2023-01-23T15:32:38.667Z"
   },
   {
    "duration": 461,
    "start_time": "2023-01-23T15:32:38.733Z"
   },
   {
    "duration": 27,
    "start_time": "2023-01-23T15:32:39.197Z"
   },
   {
    "duration": 5,
    "start_time": "2023-01-23T15:32:39.226Z"
   },
   {
    "duration": 808,
    "start_time": "2023-01-23T15:32:39.233Z"
   },
   {
    "duration": 29,
    "start_time": "2023-01-23T15:32:40.043Z"
   },
   {
    "duration": 442,
    "start_time": "2023-01-23T15:32:40.074Z"
   },
   {
    "duration": 350,
    "start_time": "2023-01-23T15:32:40.517Z"
   },
   {
    "duration": 25,
    "start_time": "2023-01-23T15:32:40.869Z"
   },
   {
    "duration": 334,
    "start_time": "2023-01-23T15:32:40.895Z"
   },
   {
    "duration": 24,
    "start_time": "2023-01-23T15:32:41.230Z"
   },
   {
    "duration": 65,
    "start_time": "2023-01-23T15:32:41.255Z"
   },
   {
    "duration": 104,
    "start_time": "2023-01-23T15:32:41.321Z"
   },
   {
    "duration": 56,
    "start_time": "2023-01-23T15:32:41.427Z"
   },
   {
    "duration": 76,
    "start_time": "2023-01-23T15:32:41.494Z"
   },
   {
    "duration": 77,
    "start_time": "2023-01-23T15:32:41.572Z"
   },
   {
    "duration": 33,
    "start_time": "2023-01-23T15:32:41.651Z"
   },
   {
    "duration": 52,
    "start_time": "2023-01-23T15:32:41.686Z"
   },
   {
    "duration": 40,
    "start_time": "2023-01-23T15:32:41.740Z"
   },
   {
    "duration": 43,
    "start_time": "2023-01-23T15:32:41.782Z"
   },
   {
    "duration": 56,
    "start_time": "2023-01-23T15:32:41.826Z"
   },
   {
    "duration": 28,
    "start_time": "2023-01-23T15:32:41.884Z"
   },
   {
    "duration": 58,
    "start_time": "2023-01-23T15:32:41.913Z"
   },
   {
    "duration": 47,
    "start_time": "2023-01-23T15:32:41.972Z"
   },
   {
    "duration": 37,
    "start_time": "2023-01-23T15:32:42.021Z"
   },
   {
    "duration": 46,
    "start_time": "2023-01-23T15:32:42.060Z"
   },
   {
    "duration": 90,
    "start_time": "2023-01-23T15:32:42.108Z"
   },
   {
    "duration": 100,
    "start_time": "2023-01-23T15:32:42.200Z"
   },
   {
    "duration": 170,
    "start_time": "2023-01-23T15:32:42.302Z"
   },
   {
    "duration": 26,
    "start_time": "2023-01-23T15:32:42.476Z"
   },
   {
    "duration": 4,
    "start_time": "2023-01-23T15:32:42.504Z"
   },
   {
    "duration": 64,
    "start_time": "2023-01-23T15:32:42.509Z"
   },
   {
    "duration": 4,
    "start_time": "2023-01-23T15:32:42.575Z"
   },
   {
    "duration": 38,
    "start_time": "2023-01-23T15:32:42.580Z"
   },
   {
    "duration": 3,
    "start_time": "2023-01-23T15:32:45.254Z"
   },
   {
    "duration": 3,
    "start_time": "2023-01-23T15:32:46.414Z"
   },
   {
    "duration": 2,
    "start_time": "2023-01-23T15:32:51.555Z"
   },
   {
    "duration": 3,
    "start_time": "2023-01-23T15:32:52.319Z"
   },
   {
    "duration": 70,
    "start_time": "2023-01-24T18:52:56.074Z"
   },
   {
    "duration": 1687,
    "start_time": "2023-01-24T19:12:33.910Z"
   },
   {
    "duration": 2984,
    "start_time": "2023-01-24T19:12:35.599Z"
   },
   {
    "duration": 141,
    "start_time": "2023-01-24T19:12:38.584Z"
   },
   {
    "duration": 29,
    "start_time": "2023-01-24T19:12:38.728Z"
   },
   {
    "duration": 99,
    "start_time": "2023-01-24T19:12:38.761Z"
   },
   {
    "duration": 1350,
    "start_time": "2023-01-24T19:12:38.862Z"
   },
   {
    "duration": 584,
    "start_time": "2023-01-24T19:12:40.213Z"
   },
   {
    "duration": 465,
    "start_time": "2023-01-24T19:12:40.798Z"
   },
   {
    "duration": 567,
    "start_time": "2023-01-24T19:12:41.265Z"
   },
   {
    "duration": 38,
    "start_time": "2023-01-24T19:12:41.835Z"
   },
   {
    "duration": 19,
    "start_time": "2023-01-24T19:12:41.875Z"
   },
   {
    "duration": 64,
    "start_time": "2023-01-24T19:12:41.896Z"
   },
   {
    "duration": 463,
    "start_time": "2023-01-24T19:12:41.962Z"
   },
   {
    "duration": 39,
    "start_time": "2023-01-24T19:12:42.427Z"
   },
   {
    "duration": 6,
    "start_time": "2023-01-24T19:12:42.469Z"
   },
   {
    "duration": 831,
    "start_time": "2023-01-24T19:12:42.477Z"
   },
   {
    "duration": 36,
    "start_time": "2023-01-24T19:12:44.244Z"
   },
   {
    "duration": 525,
    "start_time": "2023-01-24T19:12:45.191Z"
   },
   {
    "duration": 339,
    "start_time": "2023-01-24T19:12:48.891Z"
   },
   {
    "duration": 22,
    "start_time": "2023-01-24T19:12:55.378Z"
   },
   {
    "duration": 389,
    "start_time": "2023-01-24T19:12:55.603Z"
   },
   {
    "duration": 21,
    "start_time": "2023-01-24T19:12:57.391Z"
   },
   {
    "duration": 655,
    "start_time": "2023-01-24T19:12:59.278Z"
   },
   {
    "duration": 102,
    "start_time": "2023-01-24T19:13:07.463Z"
   },
   {
    "duration": 71,
    "start_time": "2023-01-24T19:13:08.351Z"
   },
   {
    "duration": 61,
    "start_time": "2023-01-24T19:13:20.477Z"
   },
   {
    "duration": 102,
    "start_time": "2023-01-24T19:13:22.721Z"
   },
   {
    "duration": 30,
    "start_time": "2023-01-24T19:13:24.210Z"
   },
   {
    "duration": 25,
    "start_time": "2023-01-24T19:13:25.298Z"
   },
   {
    "duration": 50,
    "start_time": "2023-01-24T19:13:25.484Z"
   },
   {
    "duration": 18,
    "start_time": "2023-01-24T19:13:25.974Z"
   },
   {
    "duration": 34,
    "start_time": "2023-01-24T19:13:26.484Z"
   },
   {
    "duration": 22,
    "start_time": "2023-01-24T19:13:27.307Z"
   },
   {
    "duration": 17,
    "start_time": "2023-01-24T19:13:27.853Z"
   },
   {
    "duration": 32,
    "start_time": "2023-01-24T19:13:28.179Z"
   },
   {
    "duration": 24,
    "start_time": "2023-01-24T19:13:29.260Z"
   },
   {
    "duration": 34,
    "start_time": "2023-01-24T19:13:29.699Z"
   },
   {
    "duration": 19,
    "start_time": "2023-01-24T19:13:30.795Z"
   },
   {
    "duration": 84,
    "start_time": "2023-01-24T19:13:31.727Z"
   },
   {
    "duration": 78,
    "start_time": "2023-01-24T19:13:32.998Z"
   },
   {
    "duration": 144,
    "start_time": "2023-01-24T19:13:34.441Z"
   },
   {
    "duration": 22,
    "start_time": "2023-01-24T19:13:34.822Z"
   },
   {
    "duration": 4,
    "start_time": "2023-01-24T19:13:36.347Z"
   },
   {
    "duration": 55,
    "start_time": "2023-01-24T19:13:38.447Z"
   },
   {
    "duration": 4,
    "start_time": "2023-01-24T19:13:39.024Z"
   },
   {
    "duration": 3,
    "start_time": "2023-01-24T19:13:39.591Z"
   },
   {
    "duration": 5,
    "start_time": "2023-01-24T19:13:40.655Z"
   },
   {
    "duration": 1389,
    "start_time": "2023-01-24T19:39:09.707Z"
   },
   {
    "duration": 805,
    "start_time": "2023-01-24T19:39:11.098Z"
   },
   {
    "duration": 150,
    "start_time": "2023-01-24T19:39:11.905Z"
   },
   {
    "duration": 21,
    "start_time": "2023-01-24T19:39:12.057Z"
   },
   {
    "duration": 102,
    "start_time": "2023-01-24T19:39:12.081Z"
   },
   {
    "duration": 1414,
    "start_time": "2023-01-24T19:39:12.184Z"
   },
   {
    "duration": 666,
    "start_time": "2023-01-24T19:39:13.600Z"
   },
   {
    "duration": 470,
    "start_time": "2023-01-24T19:39:14.269Z"
   },
   {
    "duration": 615,
    "start_time": "2023-01-24T19:39:14.741Z"
   },
   {
    "duration": 36,
    "start_time": "2023-01-24T19:39:15.359Z"
   },
   {
    "duration": 17,
    "start_time": "2023-01-24T19:39:15.397Z"
   },
   {
    "duration": 71,
    "start_time": "2023-01-24T19:39:15.418Z"
   },
   {
    "duration": 756,
    "start_time": "2023-01-24T19:39:15.491Z"
   },
   {
    "duration": 32,
    "start_time": "2023-01-24T19:39:16.251Z"
   },
   {
    "duration": 6,
    "start_time": "2023-01-24T19:39:16.284Z"
   },
   {
    "duration": 875,
    "start_time": "2023-01-24T19:39:16.293Z"
   },
   {
    "duration": 29,
    "start_time": "2023-01-24T19:39:17.184Z"
   },
   {
    "duration": 458,
    "start_time": "2023-01-24T19:39:17.214Z"
   },
   {
    "duration": 407,
    "start_time": "2023-01-24T19:39:17.674Z"
   },
   {
    "duration": 28,
    "start_time": "2023-01-24T19:39:18.084Z"
   },
   {
    "duration": 392,
    "start_time": "2023-01-24T19:39:18.114Z"
   },
   {
    "duration": 21,
    "start_time": "2023-01-24T19:39:18.508Z"
   },
   {
    "duration": 140,
    "start_time": "2023-01-24T19:39:18.531Z"
   },
   {
    "duration": 55,
    "start_time": "2023-01-24T19:39:18.676Z"
   },
   {
    "duration": 146,
    "start_time": "2023-01-24T19:39:18.733Z"
   },
   {
    "duration": 36,
    "start_time": "2023-01-24T19:39:18.881Z"
   },
   {
    "duration": 22,
    "start_time": "2023-01-24T19:39:18.918Z"
   },
   {
    "duration": 37,
    "start_time": "2023-01-24T19:39:18.953Z"
   },
   {
    "duration": 21,
    "start_time": "2023-01-24T19:39:18.992Z"
   },
   {
    "duration": 74,
    "start_time": "2023-01-24T19:39:19.016Z"
   },
   {
    "duration": 37,
    "start_time": "2023-01-24T19:39:19.093Z"
   },
   {
    "duration": 47,
    "start_time": "2023-01-24T19:39:19.132Z"
   },
   {
    "duration": 38,
    "start_time": "2023-01-24T19:39:19.184Z"
   },
   {
    "duration": 28,
    "start_time": "2023-01-24T19:39:19.225Z"
   },
   {
    "duration": 60,
    "start_time": "2023-01-24T19:39:19.255Z"
   },
   {
    "duration": 49,
    "start_time": "2023-01-24T19:39:19.317Z"
   },
   {
    "duration": 95,
    "start_time": "2023-01-24T19:39:19.370Z"
   },
   {
    "duration": 86,
    "start_time": "2023-01-24T19:39:19.467Z"
   },
   {
    "duration": 172,
    "start_time": "2023-01-24T19:39:19.555Z"
   },
   {
    "duration": 43,
    "start_time": "2023-01-24T19:39:19.730Z"
   },
   {
    "duration": 6,
    "start_time": "2023-01-24T19:39:19.778Z"
   },
   {
    "duration": 49,
    "start_time": "2023-01-24T19:39:19.786Z"
   },
   {
    "duration": 4,
    "start_time": "2023-01-24T19:39:19.836Z"
   },
   {
    "duration": 15,
    "start_time": "2023-01-24T19:39:19.850Z"
   },
   {
    "duration": 7,
    "start_time": "2023-01-24T19:39:19.868Z"
   },
   {
    "duration": 1397,
    "start_time": "2023-01-24T20:09:11.494Z"
   },
   {
    "duration": 5,
    "start_time": "2023-01-24T20:09:20.974Z"
   },
   {
    "duration": 849,
    "start_time": "2023-01-24T20:09:20.981Z"
   },
   {
    "duration": 167,
    "start_time": "2023-01-24T20:09:21.831Z"
   },
   {
    "duration": 17,
    "start_time": "2023-01-24T20:09:22.000Z"
   },
   {
    "duration": 147,
    "start_time": "2023-01-24T20:09:22.019Z"
   },
   {
    "duration": 1415,
    "start_time": "2023-01-24T20:09:22.168Z"
   },
   {
    "duration": 624,
    "start_time": "2023-01-24T20:09:23.584Z"
   },
   {
    "duration": 484,
    "start_time": "2023-01-24T20:09:24.209Z"
   },
   {
    "duration": 577,
    "start_time": "2023-01-24T20:09:24.694Z"
   },
   {
    "duration": 27,
    "start_time": "2023-01-24T20:09:25.273Z"
   },
   {
    "duration": 10,
    "start_time": "2023-01-24T20:09:25.302Z"
   },
   {
    "duration": 82,
    "start_time": "2023-01-24T20:09:25.314Z"
   },
   {
    "duration": 521,
    "start_time": "2023-01-24T20:09:25.398Z"
   },
   {
    "duration": 41,
    "start_time": "2023-01-24T20:09:25.923Z"
   },
   {
    "duration": 18,
    "start_time": "2023-01-24T20:09:25.967Z"
   },
   {
    "duration": 875,
    "start_time": "2023-01-24T20:09:25.987Z"
   },
   {
    "duration": 28,
    "start_time": "2023-01-24T20:09:26.864Z"
   },
   {
    "duration": 447,
    "start_time": "2023-01-24T20:09:26.894Z"
   },
   {
    "duration": 367,
    "start_time": "2023-01-24T20:09:27.342Z"
   },
   {
    "duration": 23,
    "start_time": "2023-01-24T20:09:27.711Z"
   },
   {
    "duration": 366,
    "start_time": "2023-01-24T20:09:27.736Z"
   },
   {
    "duration": 23,
    "start_time": "2023-01-24T20:09:28.104Z"
   },
   {
    "duration": 112,
    "start_time": "2023-01-24T20:09:28.129Z"
   },
   {
    "duration": 59,
    "start_time": "2023-01-24T20:09:28.243Z"
   },
   {
    "duration": 95,
    "start_time": "2023-01-24T20:09:28.304Z"
   },
   {
    "duration": 33,
    "start_time": "2023-01-24T20:09:28.400Z"
   },
   {
    "duration": 35,
    "start_time": "2023-01-24T20:09:28.434Z"
   },
   {
    "duration": 32,
    "start_time": "2023-01-24T20:09:28.470Z"
   },
   {
    "duration": 19,
    "start_time": "2023-01-24T20:09:28.504Z"
   },
   {
    "duration": 61,
    "start_time": "2023-01-24T20:09:28.524Z"
   },
   {
    "duration": 29,
    "start_time": "2023-01-24T20:09:28.587Z"
   },
   {
    "duration": 21,
    "start_time": "2023-01-24T20:09:28.617Z"
   },
   {
    "duration": 40,
    "start_time": "2023-01-24T20:09:28.640Z"
   },
   {
    "duration": 17,
    "start_time": "2023-01-24T20:09:28.681Z"
   },
   {
    "duration": 28,
    "start_time": "2023-01-24T20:09:28.700Z"
   },
   {
    "duration": 28,
    "start_time": "2023-01-24T20:09:28.729Z"
   },
   {
    "duration": 104,
    "start_time": "2023-01-24T20:09:28.759Z"
   },
   {
    "duration": 186,
    "start_time": "2023-01-24T20:09:28.864Z"
   },
   {
    "duration": 204,
    "start_time": "2023-01-24T20:09:29.052Z"
   },
   {
    "duration": 26,
    "start_time": "2023-01-24T20:09:29.257Z"
   },
   {
    "duration": 4,
    "start_time": "2023-01-24T20:09:29.286Z"
   },
   {
    "duration": 59,
    "start_time": "2023-01-24T20:09:29.292Z"
   },
   {
    "duration": 5,
    "start_time": "2023-01-24T20:09:29.352Z"
   },
   {
    "duration": 12,
    "start_time": "2023-01-24T20:09:29.359Z"
   },
   {
    "duration": 6,
    "start_time": "2023-01-24T20:09:29.373Z"
   },
   {
    "duration": 1557057,
    "start_time": "2023-01-24T20:09:29.381Z"
   },
   {
    "duration": 40,
    "start_time": "2023-01-24T20:35:26.440Z"
   },
   {
    "duration": 97,
    "start_time": "2023-01-24T20:35:26.481Z"
   },
   {
    "duration": 8,
    "start_time": "2023-01-24T20:35:26.579Z"
   },
   {
    "duration": 1478,
    "start_time": "2023-01-24T20:36:27.117Z"
   },
   {
    "duration": 822,
    "start_time": "2023-01-24T20:36:28.597Z"
   },
   {
    "duration": 138,
    "start_time": "2023-01-24T20:36:29.421Z"
   },
   {
    "duration": 20,
    "start_time": "2023-01-24T20:36:29.561Z"
   },
   {
    "duration": 104,
    "start_time": "2023-01-24T20:36:29.584Z"
   },
   {
    "duration": 1314,
    "start_time": "2023-01-24T20:36:29.690Z"
   },
   {
    "duration": 563,
    "start_time": "2023-01-24T20:36:31.006Z"
   },
   {
    "duration": 443,
    "start_time": "2023-01-24T20:36:31.571Z"
   },
   {
    "duration": 526,
    "start_time": "2023-01-24T20:36:32.017Z"
   },
   {
    "duration": 25,
    "start_time": "2023-01-24T20:36:32.544Z"
   },
   {
    "duration": 10,
    "start_time": "2023-01-24T20:36:32.571Z"
   },
   {
    "duration": 66,
    "start_time": "2023-01-24T20:36:32.583Z"
   },
   {
    "duration": 470,
    "start_time": "2023-01-24T20:36:32.651Z"
   },
   {
    "duration": 30,
    "start_time": "2023-01-24T20:36:33.124Z"
   },
   {
    "duration": 5,
    "start_time": "2023-01-24T20:36:33.155Z"
   },
   {
    "duration": 825,
    "start_time": "2023-01-24T20:36:33.161Z"
   },
   {
    "duration": 33,
    "start_time": "2023-01-24T20:36:33.988Z"
   },
   {
    "duration": 433,
    "start_time": "2023-01-24T20:36:34.023Z"
   },
   {
    "duration": 378,
    "start_time": "2023-01-24T20:36:34.458Z"
   },
   {
    "duration": 33,
    "start_time": "2023-01-24T20:36:34.838Z"
   },
   {
    "duration": 334,
    "start_time": "2023-01-24T20:36:34.873Z"
   },
   {
    "duration": 22,
    "start_time": "2023-01-24T20:36:35.209Z"
   },
   {
    "duration": 108,
    "start_time": "2023-01-24T20:36:35.232Z"
   },
   {
    "duration": 57,
    "start_time": "2023-01-24T20:36:35.348Z"
   },
   {
    "duration": 89,
    "start_time": "2023-01-24T20:36:35.407Z"
   },
   {
    "duration": 38,
    "start_time": "2023-01-24T20:36:35.497Z"
   },
   {
    "duration": 27,
    "start_time": "2023-01-24T20:36:35.537Z"
   },
   {
    "duration": 40,
    "start_time": "2023-01-24T20:36:35.566Z"
   },
   {
    "duration": 21,
    "start_time": "2023-01-24T20:36:35.607Z"
   },
   {
    "duration": 50,
    "start_time": "2023-01-24T20:36:35.630Z"
   },
   {
    "duration": 54,
    "start_time": "2023-01-24T20:36:35.681Z"
   },
   {
    "duration": 32,
    "start_time": "2023-01-24T20:36:35.736Z"
   },
   {
    "duration": 34,
    "start_time": "2023-01-24T20:36:35.770Z"
   },
   {
    "duration": 34,
    "start_time": "2023-01-24T20:36:35.805Z"
   },
   {
    "duration": 71,
    "start_time": "2023-01-24T20:36:35.841Z"
   },
   {
    "duration": 38,
    "start_time": "2023-01-24T20:36:35.914Z"
   },
   {
    "duration": 116,
    "start_time": "2023-01-24T20:36:35.954Z"
   },
   {
    "duration": 109,
    "start_time": "2023-01-24T20:36:36.073Z"
   },
   {
    "duration": 161,
    "start_time": "2023-01-24T20:36:36.184Z"
   },
   {
    "duration": 20,
    "start_time": "2023-01-24T20:36:36.346Z"
   },
   {
    "duration": 3,
    "start_time": "2023-01-24T20:36:36.371Z"
   },
   {
    "duration": 63,
    "start_time": "2023-01-24T20:36:36.376Z"
   },
   {
    "duration": 4,
    "start_time": "2023-01-24T20:36:36.441Z"
   },
   {
    "duration": 29,
    "start_time": "2023-01-24T20:36:36.449Z"
   },
   {
    "duration": 6,
    "start_time": "2023-01-24T20:36:41.167Z"
   },
   {
    "duration": 33,
    "start_time": "2023-01-24T20:36:45.752Z"
   },
   {
    "duration": 216,
    "start_time": "2023-01-24T20:36:46.595Z"
   },
   {
    "duration": 12,
    "start_time": "2023-01-24T20:38:10.400Z"
   },
   {
    "duration": 1485,
    "start_time": "2023-01-24T20:57:07.372Z"
   },
   {
    "duration": 804,
    "start_time": "2023-01-24T20:57:08.860Z"
   },
   {
    "duration": 142,
    "start_time": "2023-01-24T20:57:09.666Z"
   },
   {
    "duration": 15,
    "start_time": "2023-01-24T20:57:09.809Z"
   },
   {
    "duration": 100,
    "start_time": "2023-01-24T20:57:09.827Z"
   },
   {
    "duration": 1403,
    "start_time": "2023-01-24T20:57:09.929Z"
   },
   {
    "duration": 618,
    "start_time": "2023-01-24T20:57:11.333Z"
   },
   {
    "duration": 492,
    "start_time": "2023-01-24T20:57:11.954Z"
   },
   {
    "duration": 545,
    "start_time": "2023-01-24T20:57:12.449Z"
   },
   {
    "duration": 27,
    "start_time": "2023-01-24T20:57:12.995Z"
   },
   {
    "duration": 10,
    "start_time": "2023-01-24T20:57:13.024Z"
   },
   {
    "duration": 66,
    "start_time": "2023-01-24T20:57:13.036Z"
   },
   {
    "duration": 506,
    "start_time": "2023-01-24T20:57:13.104Z"
   },
   {
    "duration": 25,
    "start_time": "2023-01-24T20:57:13.613Z"
   },
   {
    "duration": 10,
    "start_time": "2023-01-24T20:57:13.640Z"
   },
   {
    "duration": 818,
    "start_time": "2023-01-24T20:57:13.651Z"
   },
   {
    "duration": 28,
    "start_time": "2023-01-24T20:57:14.471Z"
   },
   {
    "duration": 423,
    "start_time": "2023-01-24T20:57:14.501Z"
   },
   {
    "duration": 354,
    "start_time": "2023-01-24T20:57:14.925Z"
   },
   {
    "duration": 21,
    "start_time": "2023-01-24T20:57:15.280Z"
   },
   {
    "duration": 427,
    "start_time": "2023-01-24T20:57:15.302Z"
   },
   {
    "duration": 34,
    "start_time": "2023-01-24T20:57:15.731Z"
   },
   {
    "duration": 110,
    "start_time": "2023-01-24T20:57:15.767Z"
   },
   {
    "duration": 74,
    "start_time": "2023-01-24T20:57:15.878Z"
   },
   {
    "duration": 82,
    "start_time": "2023-01-24T20:57:15.955Z"
   },
   {
    "duration": 45,
    "start_time": "2023-01-24T20:57:16.038Z"
   },
   {
    "duration": 20,
    "start_time": "2023-01-24T20:57:16.084Z"
   },
   {
    "duration": 28,
    "start_time": "2023-01-24T20:57:16.106Z"
   },
   {
    "duration": 27,
    "start_time": "2023-01-24T20:57:16.149Z"
   },
   {
    "duration": 31,
    "start_time": "2023-01-24T20:57:16.178Z"
   },
   {
    "duration": 41,
    "start_time": "2023-01-24T20:57:16.210Z"
   },
   {
    "duration": 28,
    "start_time": "2023-01-24T20:57:16.253Z"
   },
   {
    "duration": 30,
    "start_time": "2023-01-24T20:57:16.283Z"
   },
   {
    "duration": 35,
    "start_time": "2023-01-24T20:57:16.314Z"
   },
   {
    "duration": 51,
    "start_time": "2023-01-24T20:57:16.352Z"
   },
   {
    "duration": 22,
    "start_time": "2023-01-24T20:57:16.405Z"
   },
   {
    "duration": 84,
    "start_time": "2023-01-24T20:57:16.429Z"
   },
   {
    "duration": 87,
    "start_time": "2023-01-24T20:57:16.514Z"
   },
   {
    "duration": 159,
    "start_time": "2023-01-24T20:57:16.602Z"
   },
   {
    "duration": 22,
    "start_time": "2023-01-24T20:57:16.763Z"
   },
   {
    "duration": 3,
    "start_time": "2023-01-24T20:57:16.789Z"
   },
   {
    "duration": 62,
    "start_time": "2023-01-24T20:57:16.793Z"
   },
   {
    "duration": 5,
    "start_time": "2023-01-24T20:57:16.857Z"
   },
   {
    "duration": 9,
    "start_time": "2023-01-24T20:57:16.864Z"
   },
   {
    "duration": 4,
    "start_time": "2023-01-24T20:57:20.297Z"
   },
   {
    "duration": 1375,
    "start_time": "2023-01-24T21:02:12.474Z"
   },
   {
    "duration": 781,
    "start_time": "2023-01-24T21:02:13.851Z"
   },
   {
    "duration": 126,
    "start_time": "2023-01-24T21:02:14.634Z"
   },
   {
    "duration": 19,
    "start_time": "2023-01-24T21:02:14.762Z"
   },
   {
    "duration": 104,
    "start_time": "2023-01-24T21:02:14.782Z"
   },
   {
    "duration": 1411,
    "start_time": "2023-01-24T21:02:14.888Z"
   },
   {
    "duration": 589,
    "start_time": "2023-01-24T21:02:16.301Z"
   },
   {
    "duration": 464,
    "start_time": "2023-01-24T21:02:16.892Z"
   },
   {
    "duration": 557,
    "start_time": "2023-01-24T21:02:17.358Z"
   },
   {
    "duration": 32,
    "start_time": "2023-01-24T21:02:17.918Z"
   },
   {
    "duration": 50,
    "start_time": "2023-01-24T21:02:17.952Z"
   },
   {
    "duration": 64,
    "start_time": "2023-01-24T21:02:18.003Z"
   },
   {
    "duration": 475,
    "start_time": "2023-01-24T21:02:18.069Z"
   },
   {
    "duration": 30,
    "start_time": "2023-01-24T21:02:18.546Z"
   },
   {
    "duration": 4,
    "start_time": "2023-01-24T21:02:18.578Z"
   },
   {
    "duration": 842,
    "start_time": "2023-01-24T21:02:18.584Z"
   },
   {
    "duration": 35,
    "start_time": "2023-01-24T21:02:19.427Z"
   },
   {
    "duration": 446,
    "start_time": "2023-01-24T21:02:19.464Z"
   },
   {
    "duration": 378,
    "start_time": "2023-01-24T21:02:19.912Z"
   },
   {
    "duration": 21,
    "start_time": "2023-01-24T21:02:20.292Z"
   },
   {
    "duration": 394,
    "start_time": "2023-01-24T21:02:20.315Z"
   },
   {
    "duration": 24,
    "start_time": "2023-01-24T21:02:20.711Z"
   },
   {
    "duration": 116,
    "start_time": "2023-01-24T21:02:20.736Z"
   },
   {
    "duration": 61,
    "start_time": "2023-01-24T21:02:20.854Z"
   },
   {
    "duration": 82,
    "start_time": "2023-01-24T21:02:20.917Z"
   },
   {
    "duration": 29,
    "start_time": "2023-01-24T21:02:21.000Z"
   },
   {
    "duration": 42,
    "start_time": "2023-01-24T21:02:21.031Z"
   },
   {
    "duration": 35,
    "start_time": "2023-01-24T21:02:21.076Z"
   },
   {
    "duration": 22,
    "start_time": "2023-01-24T21:02:21.112Z"
   },
   {
    "duration": 43,
    "start_time": "2023-01-24T21:02:21.136Z"
   },
   {
    "duration": 24,
    "start_time": "2023-01-24T21:02:21.180Z"
   },
   {
    "duration": 26,
    "start_time": "2023-01-24T21:02:21.206Z"
   },
   {
    "duration": 37,
    "start_time": "2023-01-24T21:02:21.234Z"
   },
   {
    "duration": 22,
    "start_time": "2023-01-24T21:02:21.273Z"
   },
   {
    "duration": 31,
    "start_time": "2023-01-24T21:02:21.297Z"
   },
   {
    "duration": 27,
    "start_time": "2023-01-24T21:02:21.330Z"
   },
   {
    "duration": 77,
    "start_time": "2023-01-24T21:02:21.360Z"
   },
   {
    "duration": 78,
    "start_time": "2023-01-24T21:02:21.447Z"
   },
   {
    "duration": 163,
    "start_time": "2023-01-24T21:02:21.527Z"
   },
   {
    "duration": 23,
    "start_time": "2023-01-24T21:02:21.692Z"
   },
   {
    "duration": 4,
    "start_time": "2023-01-24T21:02:21.716Z"
   },
   {
    "duration": 61,
    "start_time": "2023-01-24T21:02:21.722Z"
   },
   {
    "duration": 4,
    "start_time": "2023-01-24T21:02:21.784Z"
   },
   {
    "duration": 16,
    "start_time": "2023-01-24T21:02:21.790Z"
   },
   {
    "duration": 6,
    "start_time": "2023-01-24T21:02:21.808Z"
   },
   {
    "duration": 4,
    "start_time": "2023-01-24T21:02:35.424Z"
   },
   {
    "duration": 4,
    "start_time": "2023-01-24T21:02:49.415Z"
   },
   {
    "duration": 1643,
    "start_time": "2023-01-25T05:11:56.939Z"
   },
   {
    "duration": 3298,
    "start_time": "2023-01-25T05:11:58.584Z"
   },
   {
    "duration": 128,
    "start_time": "2023-01-25T05:12:01.883Z"
   },
   {
    "duration": 16,
    "start_time": "2023-01-25T05:12:02.013Z"
   },
   {
    "duration": 100,
    "start_time": "2023-01-25T05:12:02.031Z"
   },
   {
    "duration": 1358,
    "start_time": "2023-01-25T05:12:02.133Z"
   },
   {
    "duration": 612,
    "start_time": "2023-01-25T05:12:03.493Z"
   },
   {
    "duration": 446,
    "start_time": "2023-01-25T05:12:04.107Z"
   },
   {
    "duration": 582,
    "start_time": "2023-01-25T05:12:04.555Z"
   },
   {
    "duration": 27,
    "start_time": "2023-01-25T05:12:05.139Z"
   },
   {
    "duration": 10,
    "start_time": "2023-01-25T05:12:05.168Z"
   },
   {
    "duration": 74,
    "start_time": "2023-01-25T05:12:05.180Z"
   },
   {
    "duration": 465,
    "start_time": "2023-01-25T05:12:05.255Z"
   },
   {
    "duration": 43,
    "start_time": "2023-01-25T05:12:05.721Z"
   },
   {
    "duration": 4,
    "start_time": "2023-01-25T05:12:05.766Z"
   },
   {
    "duration": 880,
    "start_time": "2023-01-25T05:12:05.772Z"
   },
   {
    "duration": 28,
    "start_time": "2023-01-25T05:12:06.653Z"
   },
   {
    "duration": 394,
    "start_time": "2023-01-25T05:12:06.683Z"
   },
   {
    "duration": 354,
    "start_time": "2023-01-25T05:12:07.080Z"
   },
   {
    "duration": 30,
    "start_time": "2023-01-25T05:12:07.436Z"
   },
   {
    "duration": 337,
    "start_time": "2023-01-25T05:12:07.468Z"
   },
   {
    "duration": 22,
    "start_time": "2023-01-25T05:12:07.807Z"
   },
   {
    "duration": 109,
    "start_time": "2023-01-25T05:12:07.830Z"
   },
   {
    "duration": 57,
    "start_time": "2023-01-25T05:12:07.948Z"
   },
   {
    "duration": 93,
    "start_time": "2023-01-25T05:12:08.007Z"
   },
   {
    "duration": 48,
    "start_time": "2023-01-25T05:12:08.102Z"
   },
   {
    "duration": 26,
    "start_time": "2023-01-25T05:12:08.152Z"
   },
   {
    "duration": 31,
    "start_time": "2023-01-25T05:12:08.181Z"
   },
   {
    "duration": 35,
    "start_time": "2023-01-25T05:12:08.213Z"
   },
   {
    "duration": 34,
    "start_time": "2023-01-25T05:12:08.250Z"
   },
   {
    "duration": 21,
    "start_time": "2023-01-25T05:12:08.286Z"
   },
   {
    "duration": 39,
    "start_time": "2023-01-25T05:12:08.309Z"
   },
   {
    "duration": 32,
    "start_time": "2023-01-25T05:12:08.350Z"
   },
   {
    "duration": 33,
    "start_time": "2023-01-25T05:12:08.383Z"
   },
   {
    "duration": 47,
    "start_time": "2023-01-25T05:12:08.420Z"
   },
   {
    "duration": 41,
    "start_time": "2023-01-25T05:12:08.468Z"
   },
   {
    "duration": 74,
    "start_time": "2023-01-25T05:12:08.510Z"
   },
   {
    "duration": 92,
    "start_time": "2023-01-25T05:12:08.586Z"
   },
   {
    "duration": 179,
    "start_time": "2023-01-25T05:12:08.680Z"
   },
   {
    "duration": 19,
    "start_time": "2023-01-25T05:12:08.860Z"
   },
   {
    "duration": 17,
    "start_time": "2023-01-25T05:12:08.881Z"
   },
   {
    "duration": 64,
    "start_time": "2023-01-25T05:12:08.899Z"
   },
   {
    "duration": 4,
    "start_time": "2023-01-25T05:12:08.965Z"
   },
   {
    "duration": 18,
    "start_time": "2023-01-25T05:12:08.971Z"
   },
   {
    "duration": 5,
    "start_time": "2023-01-25T05:12:26.270Z"
   },
   {
    "duration": 4,
    "start_time": "2023-01-25T05:12:27.472Z"
   },
   {
    "duration": 4,
    "start_time": "2023-01-25T05:12:30.182Z"
   },
   {
    "duration": 4,
    "start_time": "2023-01-25T05:12:31.268Z"
   },
   {
    "duration": 3,
    "start_time": "2023-01-25T05:12:33.779Z"
   },
   {
    "duration": 1358,
    "start_time": "2023-01-25T05:23:00.692Z"
   },
   {
    "duration": 835,
    "start_time": "2023-01-25T05:23:02.052Z"
   },
   {
    "duration": 126,
    "start_time": "2023-01-25T05:23:02.888Z"
   },
   {
    "duration": 16,
    "start_time": "2023-01-25T05:23:03.016Z"
   },
   {
    "duration": 99,
    "start_time": "2023-01-25T05:23:03.033Z"
   },
   {
    "duration": 1386,
    "start_time": "2023-01-25T05:23:03.133Z"
   },
   {
    "duration": 572,
    "start_time": "2023-01-25T05:23:04.521Z"
   },
   {
    "duration": 457,
    "start_time": "2023-01-25T05:23:05.094Z"
   },
   {
    "duration": 544,
    "start_time": "2023-01-25T05:23:05.553Z"
   },
   {
    "duration": 36,
    "start_time": "2023-01-25T05:23:06.100Z"
   },
   {
    "duration": 17,
    "start_time": "2023-01-25T05:23:06.138Z"
   },
   {
    "duration": 64,
    "start_time": "2023-01-25T05:23:06.157Z"
   },
   {
    "duration": 543,
    "start_time": "2023-01-25T05:23:06.223Z"
   },
   {
    "duration": 29,
    "start_time": "2023-01-25T05:23:06.768Z"
   },
   {
    "duration": 4,
    "start_time": "2023-01-25T05:23:06.799Z"
   },
   {
    "duration": 878,
    "start_time": "2023-01-25T05:23:06.805Z"
   },
   {
    "duration": 29,
    "start_time": "2023-01-25T05:23:07.685Z"
   },
   {
    "duration": 426,
    "start_time": "2023-01-25T05:23:07.716Z"
   },
   {
    "duration": 380,
    "start_time": "2023-01-25T05:23:08.144Z"
   },
   {
    "duration": 31,
    "start_time": "2023-01-25T05:23:08.526Z"
   },
   {
    "duration": 345,
    "start_time": "2023-01-25T05:23:08.559Z"
   },
   {
    "duration": 21,
    "start_time": "2023-01-25T05:23:08.906Z"
   },
   {
    "duration": 115,
    "start_time": "2023-01-25T05:23:08.929Z"
   },
   {
    "duration": 55,
    "start_time": "2023-01-25T05:23:09.047Z"
   },
   {
    "duration": 88,
    "start_time": "2023-01-25T05:23:09.103Z"
   },
   {
    "duration": 28,
    "start_time": "2023-01-25T05:23:09.193Z"
   },
   {
    "duration": 25,
    "start_time": "2023-01-25T05:23:09.223Z"
   },
   {
    "duration": 29,
    "start_time": "2023-01-25T05:23:09.252Z"
   },
   {
    "duration": 19,
    "start_time": "2023-01-25T05:23:09.283Z"
   },
   {
    "duration": 48,
    "start_time": "2023-01-25T05:23:09.303Z"
   },
   {
    "duration": 21,
    "start_time": "2023-01-25T05:23:09.353Z"
   },
   {
    "duration": 29,
    "start_time": "2023-01-25T05:23:09.375Z"
   },
   {
    "duration": 48,
    "start_time": "2023-01-25T05:23:09.406Z"
   },
   {
    "duration": 18,
    "start_time": "2023-01-25T05:23:09.455Z"
   },
   {
    "duration": 29,
    "start_time": "2023-01-25T05:23:09.475Z"
   },
   {
    "duration": 20,
    "start_time": "2023-01-25T05:23:09.506Z"
   },
   {
    "duration": 71,
    "start_time": "2023-01-25T05:23:09.548Z"
   },
   {
    "duration": 90,
    "start_time": "2023-01-25T05:23:09.621Z"
   },
   {
    "duration": 158,
    "start_time": "2023-01-25T05:23:09.713Z"
   },
   {
    "duration": 24,
    "start_time": "2023-01-25T05:23:09.873Z"
   },
   {
    "duration": 4,
    "start_time": "2023-01-25T05:23:09.898Z"
   },
   {
    "duration": 62,
    "start_time": "2023-01-25T05:23:09.903Z"
   },
   {
    "duration": 4,
    "start_time": "2023-01-25T05:23:09.967Z"
   },
   {
    "duration": 9,
    "start_time": "2023-01-25T05:23:09.972Z"
   },
   {
    "duration": 6,
    "start_time": "2023-01-25T05:23:09.983Z"
   },
   {
    "duration": 6,
    "start_time": "2023-01-25T05:23:09.991Z"
   },
   {
    "duration": 11,
    "start_time": "2023-01-25T05:23:09.998Z"
   },
   {
    "duration": 1914796,
    "start_time": "2023-01-25T05:23:10.011Z"
   },
   {
    "duration": 26,
    "start_time": "2023-01-25T05:55:04.809Z"
   },
   {
    "duration": 231,
    "start_time": "2023-01-25T05:55:04.836Z"
   },
   {
    "duration": 9,
    "start_time": "2023-01-25T05:55:05.069Z"
   },
   {
    "duration": 1453,
    "start_time": "2023-01-25T05:58:40.517Z"
   },
   {
    "duration": 790,
    "start_time": "2023-01-25T05:58:41.971Z"
   },
   {
    "duration": 124,
    "start_time": "2023-01-25T05:58:42.763Z"
   },
   {
    "duration": 17,
    "start_time": "2023-01-25T05:58:42.889Z"
   },
   {
    "duration": 151,
    "start_time": "2023-01-25T05:58:42.909Z"
   },
   {
    "duration": 1394,
    "start_time": "2023-01-25T05:58:43.062Z"
   },
   {
    "duration": 602,
    "start_time": "2023-01-25T05:58:44.458Z"
   },
   {
    "duration": 447,
    "start_time": "2023-01-25T05:58:45.062Z"
   },
   {
    "duration": 520,
    "start_time": "2023-01-25T05:58:45.511Z"
   },
   {
    "duration": 33,
    "start_time": "2023-01-25T05:58:46.033Z"
   },
   {
    "duration": 11,
    "start_time": "2023-01-25T05:58:46.067Z"
   },
   {
    "duration": 69,
    "start_time": "2023-01-25T05:58:46.080Z"
   },
   {
    "duration": 494,
    "start_time": "2023-01-25T05:58:46.151Z"
   },
   {
    "duration": 28,
    "start_time": "2023-01-25T05:58:46.649Z"
   },
   {
    "duration": 5,
    "start_time": "2023-01-25T05:58:46.679Z"
   },
   {
    "duration": 849,
    "start_time": "2023-01-25T05:58:46.685Z"
   },
   {
    "duration": 31,
    "start_time": "2023-01-25T05:58:47.536Z"
   },
   {
    "duration": 425,
    "start_time": "2023-01-25T05:58:47.568Z"
   },
   {
    "duration": 361,
    "start_time": "2023-01-25T05:58:47.995Z"
   },
   {
    "duration": 26,
    "start_time": "2023-01-25T05:58:48.358Z"
   },
   {
    "duration": 349,
    "start_time": "2023-01-25T05:58:48.386Z"
   },
   {
    "duration": 26,
    "start_time": "2023-01-25T05:58:48.737Z"
   },
   {
    "duration": 108,
    "start_time": "2023-01-25T05:58:48.765Z"
   },
   {
    "duration": 53,
    "start_time": "2023-01-25T05:58:48.875Z"
   },
   {
    "duration": 88,
    "start_time": "2023-01-25T05:58:48.930Z"
   },
   {
    "duration": 35,
    "start_time": "2023-01-25T05:58:49.020Z"
   },
   {
    "duration": 18,
    "start_time": "2023-01-25T05:58:49.057Z"
   },
   {
    "duration": 29,
    "start_time": "2023-01-25T05:58:49.077Z"
   },
   {
    "duration": 22,
    "start_time": "2023-01-25T05:58:49.108Z"
   },
   {
    "duration": 31,
    "start_time": "2023-01-25T05:58:49.148Z"
   },
   {
    "duration": 20,
    "start_time": "2023-01-25T05:58:49.181Z"
   },
   {
    "duration": 18,
    "start_time": "2023-01-25T05:58:49.203Z"
   },
   {
    "duration": 52,
    "start_time": "2023-01-25T05:58:49.223Z"
   },
   {
    "duration": 19,
    "start_time": "2023-01-25T05:58:49.277Z"
   },
   {
    "duration": 51,
    "start_time": "2023-01-25T05:58:49.297Z"
   },
   {
    "duration": 19,
    "start_time": "2023-01-25T05:58:49.349Z"
   },
   {
    "duration": 86,
    "start_time": "2023-01-25T05:58:49.370Z"
   },
   {
    "duration": 94,
    "start_time": "2023-01-25T05:58:49.458Z"
   },
   {
    "duration": 161,
    "start_time": "2023-01-25T05:58:49.554Z"
   },
   {
    "duration": 21,
    "start_time": "2023-01-25T05:58:49.717Z"
   },
   {
    "duration": 4,
    "start_time": "2023-01-25T05:58:49.751Z"
   },
   {
    "duration": 46,
    "start_time": "2023-01-25T05:58:49.757Z"
   },
   {
    "duration": 5,
    "start_time": "2023-01-25T05:58:49.805Z"
   },
   {
    "duration": 7,
    "start_time": "2023-01-25T05:58:49.811Z"
   },
   {
    "duration": 5,
    "start_time": "2023-01-25T05:58:49.819Z"
   },
   {
    "duration": 26,
    "start_time": "2023-01-25T05:58:49.826Z"
   },
   {
    "duration": 8,
    "start_time": "2023-01-25T05:58:49.854Z"
   },
   {
    "duration": 1426,
    "start_time": "2023-01-25T06:11:38.150Z"
   },
   {
    "duration": 821,
    "start_time": "2023-01-25T06:11:39.578Z"
   },
   {
    "duration": 132,
    "start_time": "2023-01-25T06:11:40.401Z"
   },
   {
    "duration": 23,
    "start_time": "2023-01-25T06:11:40.535Z"
   },
   {
    "duration": 98,
    "start_time": "2023-01-25T06:11:40.561Z"
   },
   {
    "duration": 1354,
    "start_time": "2023-01-25T06:11:40.661Z"
   },
   {
    "duration": 581,
    "start_time": "2023-01-25T06:11:42.017Z"
   },
   {
    "duration": 450,
    "start_time": "2023-01-25T06:11:42.599Z"
   },
   {
    "duration": 535,
    "start_time": "2023-01-25T06:11:43.051Z"
   },
   {
    "duration": 28,
    "start_time": "2023-01-25T06:11:43.587Z"
   },
   {
    "duration": 12,
    "start_time": "2023-01-25T06:11:43.617Z"
   },
   {
    "duration": 69,
    "start_time": "2023-01-25T06:11:43.630Z"
   },
   {
    "duration": 493,
    "start_time": "2023-01-25T06:11:43.701Z"
   },
   {
    "duration": 25,
    "start_time": "2023-01-25T06:11:44.197Z"
   },
   {
    "duration": 3,
    "start_time": "2023-01-25T06:11:44.224Z"
   },
   {
    "duration": 811,
    "start_time": "2023-01-25T06:11:44.229Z"
   },
   {
    "duration": 33,
    "start_time": "2023-01-25T06:11:45.042Z"
   },
   {
    "duration": 442,
    "start_time": "2023-01-25T06:11:45.076Z"
   },
   {
    "duration": 363,
    "start_time": "2023-01-25T06:11:45.519Z"
   },
   {
    "duration": 23,
    "start_time": "2023-01-25T06:11:45.884Z"
   },
   {
    "duration": 358,
    "start_time": "2023-01-25T06:11:45.908Z"
   },
   {
    "duration": 25,
    "start_time": "2023-01-25T06:11:46.268Z"
   },
   {
    "duration": 137,
    "start_time": "2023-01-25T06:11:46.295Z"
   },
   {
    "duration": 62,
    "start_time": "2023-01-25T06:11:46.435Z"
   },
   {
    "duration": 79,
    "start_time": "2023-01-25T06:11:46.498Z"
   },
   {
    "duration": 31,
    "start_time": "2023-01-25T06:11:46.579Z"
   },
   {
    "duration": 36,
    "start_time": "2023-01-25T06:11:46.612Z"
   },
   {
    "duration": 30,
    "start_time": "2023-01-25T06:11:46.650Z"
   },
   {
    "duration": 23,
    "start_time": "2023-01-25T06:11:46.682Z"
   },
   {
    "duration": 44,
    "start_time": "2023-01-25T06:11:46.708Z"
   },
   {
    "duration": 20,
    "start_time": "2023-01-25T06:11:46.753Z"
   },
   {
    "duration": 22,
    "start_time": "2023-01-25T06:11:46.775Z"
   },
   {
    "duration": 33,
    "start_time": "2023-01-25T06:11:46.799Z"
   },
   {
    "duration": 32,
    "start_time": "2023-01-25T06:11:46.833Z"
   },
   {
    "duration": 39,
    "start_time": "2023-01-25T06:11:46.866Z"
   },
   {
    "duration": 28,
    "start_time": "2023-01-25T06:11:46.907Z"
   },
   {
    "duration": 78,
    "start_time": "2023-01-25T06:11:46.948Z"
   },
   {
    "duration": 94,
    "start_time": "2023-01-25T06:11:47.028Z"
   },
   {
    "duration": 172,
    "start_time": "2023-01-25T06:11:47.123Z"
   },
   {
    "duration": 22,
    "start_time": "2023-01-25T06:11:47.297Z"
   },
   {
    "duration": 4,
    "start_time": "2023-01-25T06:11:47.323Z"
   },
   {
    "duration": 60,
    "start_time": "2023-01-25T06:11:47.329Z"
   },
   {
    "duration": 5,
    "start_time": "2023-01-25T06:11:47.391Z"
   },
   {
    "duration": 7,
    "start_time": "2023-01-25T06:11:47.398Z"
   },
   {
    "duration": 6,
    "start_time": "2023-01-25T06:11:47.407Z"
   },
   {
    "duration": 7,
    "start_time": "2023-01-25T06:11:47.415Z"
   },
   {
    "duration": 5,
    "start_time": "2023-01-25T06:11:47.424Z"
   },
   {
    "duration": 125,
    "start_time": "2023-01-25T06:11:59.498Z"
   },
   {
    "duration": 1477,
    "start_time": "2023-01-25T06:35:32.417Z"
   },
   {
    "duration": 813,
    "start_time": "2023-01-25T06:35:33.896Z"
   },
   {
    "duration": 140,
    "start_time": "2023-01-25T06:35:34.710Z"
   },
   {
    "duration": 17,
    "start_time": "2023-01-25T06:35:34.852Z"
   },
   {
    "duration": 97,
    "start_time": "2023-01-25T06:35:34.872Z"
   },
   {
    "duration": 1333,
    "start_time": "2023-01-25T06:35:34.971Z"
   },
   {
    "duration": 714,
    "start_time": "2023-01-25T06:35:36.307Z"
   },
   {
    "duration": 455,
    "start_time": "2023-01-25T06:35:37.023Z"
   },
   {
    "duration": 573,
    "start_time": "2023-01-25T06:35:37.479Z"
   },
   {
    "duration": 27,
    "start_time": "2023-01-25T06:35:38.054Z"
   },
   {
    "duration": 13,
    "start_time": "2023-01-25T06:35:38.083Z"
   },
   {
    "duration": 81,
    "start_time": "2023-01-25T06:35:38.097Z"
   },
   {
    "duration": 504,
    "start_time": "2023-01-25T06:35:38.180Z"
   },
   {
    "duration": 28,
    "start_time": "2023-01-25T06:35:38.686Z"
   },
   {
    "duration": 5,
    "start_time": "2023-01-25T06:35:38.715Z"
   },
   {
    "duration": 813,
    "start_time": "2023-01-25T06:35:38.721Z"
   },
   {
    "duration": 30,
    "start_time": "2023-01-25T06:35:39.536Z"
   },
   {
    "duration": 448,
    "start_time": "2023-01-25T06:35:39.568Z"
   },
   {
    "duration": 364,
    "start_time": "2023-01-25T06:35:40.017Z"
   },
   {
    "duration": 27,
    "start_time": "2023-01-25T06:35:40.382Z"
   },
   {
    "duration": 355,
    "start_time": "2023-01-25T06:35:40.410Z"
   },
   {
    "duration": 22,
    "start_time": "2023-01-25T06:35:40.766Z"
   },
   {
    "duration": 119,
    "start_time": "2023-01-25T06:35:40.789Z"
   },
   {
    "duration": 71,
    "start_time": "2023-01-25T06:35:40.910Z"
   },
   {
    "duration": 87,
    "start_time": "2023-01-25T06:35:40.983Z"
   },
   {
    "duration": 29,
    "start_time": "2023-01-25T06:35:41.072Z"
   },
   {
    "duration": 26,
    "start_time": "2023-01-25T06:35:41.103Z"
   },
   {
    "duration": 43,
    "start_time": "2023-01-25T06:35:41.133Z"
   },
   {
    "duration": 20,
    "start_time": "2023-01-25T06:35:41.178Z"
   },
   {
    "duration": 32,
    "start_time": "2023-01-25T06:35:41.200Z"
   },
   {
    "duration": 34,
    "start_time": "2023-01-25T06:35:41.233Z"
   },
   {
    "duration": 21,
    "start_time": "2023-01-25T06:35:41.269Z"
   },
   {
    "duration": 30,
    "start_time": "2023-01-25T06:35:41.292Z"
   },
   {
    "duration": 32,
    "start_time": "2023-01-25T06:35:41.323Z"
   },
   {
    "duration": 49,
    "start_time": "2023-01-25T06:35:41.357Z"
   },
   {
    "duration": 19,
    "start_time": "2023-01-25T06:35:41.408Z"
   },
   {
    "duration": 71,
    "start_time": "2023-01-25T06:35:41.429Z"
   },
   {
    "duration": 210,
    "start_time": "2023-01-25T06:35:41.502Z"
   },
   {
    "duration": 153,
    "start_time": "2023-01-25T06:35:41.713Z"
   },
   {
    "duration": 21,
    "start_time": "2023-01-25T06:35:41.867Z"
   },
   {
    "duration": 4,
    "start_time": "2023-01-25T06:35:41.889Z"
   },
   {
    "duration": 61,
    "start_time": "2023-01-25T06:35:41.894Z"
   },
   {
    "duration": 5,
    "start_time": "2023-01-25T06:35:41.956Z"
   },
   {
    "duration": 5,
    "start_time": "2023-01-25T06:35:41.962Z"
   },
   {
    "duration": 7,
    "start_time": "2023-01-25T06:35:41.968Z"
   },
   {
    "duration": 10,
    "start_time": "2023-01-25T06:35:41.976Z"
   },
   {
    "duration": 15,
    "start_time": "2023-01-25T06:35:41.987Z"
   },
   {
    "duration": 1902174,
    "start_time": "2023-01-25T06:35:42.004Z"
   },
   {
    "duration": 35,
    "start_time": "2023-01-25T07:07:24.180Z"
   },
   {
    "duration": 28644,
    "start_time": "2023-01-25T07:07:24.217Z"
   },
   {
    "duration": 9,
    "start_time": "2023-01-25T07:07:52.948Z"
   },
   {
    "duration": 2142102,
    "start_time": "2023-01-25T07:07:52.959Z"
   },
   {
    "duration": 1462,
    "start_time": "2023-01-25T09:15:53.624Z"
   },
   {
    "duration": 795,
    "start_time": "2023-01-25T09:15:55.088Z"
   },
   {
    "duration": 135,
    "start_time": "2023-01-25T09:15:55.884Z"
   },
   {
    "duration": 29,
    "start_time": "2023-01-25T09:15:56.021Z"
   },
   {
    "duration": 100,
    "start_time": "2023-01-25T09:15:56.054Z"
   },
   {
    "duration": 1409,
    "start_time": "2023-01-25T09:15:56.156Z"
   },
   {
    "duration": 596,
    "start_time": "2023-01-25T09:15:57.568Z"
   },
   {
    "duration": 468,
    "start_time": "2023-01-25T09:15:58.166Z"
   },
   {
    "duration": 568,
    "start_time": "2023-01-25T09:15:58.636Z"
   },
   {
    "duration": 26,
    "start_time": "2023-01-25T09:15:59.206Z"
   },
   {
    "duration": 23,
    "start_time": "2023-01-25T09:15:59.234Z"
   },
   {
    "duration": 54,
    "start_time": "2023-01-25T09:15:59.259Z"
   },
   {
    "duration": 462,
    "start_time": "2023-01-25T09:15:59.315Z"
   },
   {
    "duration": 28,
    "start_time": "2023-01-25T09:15:59.780Z"
   },
   {
    "duration": 4,
    "start_time": "2023-01-25T09:15:59.809Z"
   },
   {
    "duration": 868,
    "start_time": "2023-01-25T09:15:59.815Z"
   },
   {
    "duration": 30,
    "start_time": "2023-01-25T09:16:00.685Z"
   },
   {
    "duration": 449,
    "start_time": "2023-01-25T09:16:00.717Z"
   },
   {
    "duration": 365,
    "start_time": "2023-01-25T09:16:01.168Z"
   },
   {
    "duration": 32,
    "start_time": "2023-01-25T09:16:01.534Z"
   },
   {
    "duration": 354,
    "start_time": "2023-01-25T09:16:01.567Z"
   },
   {
    "duration": 26,
    "start_time": "2023-01-25T09:16:01.923Z"
   },
   {
    "duration": 111,
    "start_time": "2023-01-25T09:16:01.950Z"
   },
   {
    "duration": 55,
    "start_time": "2023-01-25T09:16:02.062Z"
   },
   {
    "duration": 83,
    "start_time": "2023-01-25T09:16:02.119Z"
   },
   {
    "duration": 43,
    "start_time": "2023-01-25T09:16:02.204Z"
   },
   {
    "duration": 22,
    "start_time": "2023-01-25T09:16:02.248Z"
   },
   {
    "duration": 31,
    "start_time": "2023-01-25T09:16:02.271Z"
   },
   {
    "duration": 36,
    "start_time": "2023-01-25T09:16:02.303Z"
   },
   {
    "duration": 33,
    "start_time": "2023-01-25T09:16:02.341Z"
   },
   {
    "duration": 35,
    "start_time": "2023-01-25T09:16:02.375Z"
   },
   {
    "duration": 43,
    "start_time": "2023-01-25T09:16:02.412Z"
   },
   {
    "duration": 31,
    "start_time": "2023-01-25T09:16:02.457Z"
   },
   {
    "duration": 20,
    "start_time": "2023-01-25T09:16:02.490Z"
   },
   {
    "duration": 44,
    "start_time": "2023-01-25T09:16:02.511Z"
   },
   {
    "duration": 20,
    "start_time": "2023-01-25T09:16:02.557Z"
   },
   {
    "duration": 93,
    "start_time": "2023-01-25T09:16:02.579Z"
   },
   {
    "duration": 87,
    "start_time": "2023-01-25T09:16:02.674Z"
   },
   {
    "duration": 168,
    "start_time": "2023-01-25T09:16:02.764Z"
   },
   {
    "duration": 30,
    "start_time": "2023-01-25T09:16:02.934Z"
   },
   {
    "duration": 17,
    "start_time": "2023-01-25T09:16:02.968Z"
   },
   {
    "duration": 55,
    "start_time": "2023-01-25T09:16:02.987Z"
   },
   {
    "duration": 4,
    "start_time": "2023-01-25T09:16:03.045Z"
   },
   {
    "duration": 8,
    "start_time": "2023-01-25T09:16:03.051Z"
   },
   {
    "duration": 4,
    "start_time": "2023-01-25T09:16:07.813Z"
   },
   {
    "duration": 1731,
    "start_time": "2023-01-25T09:20:44.612Z"
   },
   {
    "duration": 76507,
    "start_time": "2023-01-25T09:20:48.240Z"
   },
   {
    "duration": 9258,
    "start_time": "2023-01-25T09:22:08.378Z"
   },
   {
    "duration": 24623,
    "start_time": "2023-01-25T09:22:30.933Z"
   },
   {
    "duration": 284,
    "start_time": "2023-01-25T09:22:55.559Z"
   },
   {
    "duration": 84,
    "start_time": "2023-01-25T09:22:55.845Z"
   },
   {
    "duration": 85,
    "start_time": "2023-01-25T09:22:55.931Z"
   },
   {
    "duration": 9,
    "start_time": "2023-01-25T09:23:15.193Z"
   },
   {
    "duration": 13621,
    "start_time": "2023-01-25T09:23:22.347Z"
   },
   {
    "duration": 5037,
    "start_time": "2023-01-25T09:23:35.970Z"
   },
   {
    "duration": 217,
    "start_time": "2023-01-25T09:24:04.234Z"
   },
   {
    "duration": 1459,
    "start_time": "2023-01-25T10:23:19.829Z"
   },
   {
    "duration": 800,
    "start_time": "2023-01-25T10:23:21.290Z"
   },
   {
    "duration": 128,
    "start_time": "2023-01-25T10:23:22.091Z"
   },
   {
    "duration": 15,
    "start_time": "2023-01-25T10:23:22.220Z"
   },
   {
    "duration": 87,
    "start_time": "2023-01-25T10:23:22.250Z"
   },
   {
    "duration": 1331,
    "start_time": "2023-01-25T10:23:22.338Z"
   },
   {
    "duration": 590,
    "start_time": "2023-01-25T10:23:23.671Z"
   },
   {
    "duration": 441,
    "start_time": "2023-01-25T10:23:24.263Z"
   },
   {
    "duration": 556,
    "start_time": "2023-01-25T10:23:24.705Z"
   },
   {
    "duration": 33,
    "start_time": "2023-01-25T10:23:25.263Z"
   },
   {
    "duration": 12,
    "start_time": "2023-01-25T10:23:25.297Z"
   },
   {
    "duration": 62,
    "start_time": "2023-01-25T10:23:25.310Z"
   },
   {
    "duration": 458,
    "start_time": "2023-01-25T10:23:25.373Z"
   },
   {
    "duration": 31,
    "start_time": "2023-01-25T10:23:25.834Z"
   },
   {
    "duration": 4,
    "start_time": "2023-01-25T10:23:25.867Z"
   },
   {
    "duration": 834,
    "start_time": "2023-01-25T10:23:25.872Z"
   },
   {
    "duration": 30,
    "start_time": "2023-01-25T10:23:26.708Z"
   },
   {
    "duration": 409,
    "start_time": "2023-01-25T10:23:26.749Z"
   },
   {
    "duration": 367,
    "start_time": "2023-01-25T10:23:27.160Z"
   },
   {
    "duration": 31,
    "start_time": "2023-01-25T10:23:27.529Z"
   },
   {
    "duration": 337,
    "start_time": "2023-01-25T10:23:27.562Z"
   },
   {
    "duration": 20,
    "start_time": "2023-01-25T10:23:27.901Z"
   },
   {
    "duration": 107,
    "start_time": "2023-01-25T10:23:27.923Z"
   },
   {
    "duration": 63,
    "start_time": "2023-01-25T10:23:28.032Z"
   },
   {
    "duration": 79,
    "start_time": "2023-01-25T10:23:28.096Z"
   },
   {
    "duration": 30,
    "start_time": "2023-01-25T10:23:28.177Z"
   },
   {
    "duration": 19,
    "start_time": "2023-01-25T10:23:28.209Z"
   },
   {
    "duration": 48,
    "start_time": "2023-01-25T10:23:28.229Z"
   },
   {
    "duration": 22,
    "start_time": "2023-01-25T10:23:28.278Z"
   },
   {
    "duration": 58,
    "start_time": "2023-01-25T10:23:28.302Z"
   },
   {
    "duration": 23,
    "start_time": "2023-01-25T10:23:28.361Z"
   },
   {
    "duration": 20,
    "start_time": "2023-01-25T10:23:28.386Z"
   },
   {
    "duration": 50,
    "start_time": "2023-01-25T10:23:28.409Z"
   },
   {
    "duration": 30,
    "start_time": "2023-01-25T10:23:28.461Z"
   },
   {
    "duration": 36,
    "start_time": "2023-01-25T10:23:28.493Z"
   },
   {
    "duration": 36,
    "start_time": "2023-01-25T10:23:28.531Z"
   },
   {
    "duration": 80,
    "start_time": "2023-01-25T10:23:28.569Z"
   },
   {
    "duration": 78,
    "start_time": "2023-01-25T10:23:28.651Z"
   },
   {
    "duration": 160,
    "start_time": "2023-01-25T10:23:28.731Z"
   },
   {
    "duration": 20,
    "start_time": "2023-01-25T10:23:28.893Z"
   },
   {
    "duration": 4,
    "start_time": "2023-01-25T10:23:28.916Z"
   },
   {
    "duration": 54,
    "start_time": "2023-01-25T10:23:28.921Z"
   },
   {
    "duration": 4,
    "start_time": "2023-01-25T10:23:28.977Z"
   },
   {
    "duration": 6,
    "start_time": "2023-01-25T10:23:28.982Z"
   },
   {
    "duration": 4,
    "start_time": "2023-01-25T10:25:41.162Z"
   },
   {
    "duration": 1420,
    "start_time": "2023-01-25T11:32:09.387Z"
   },
   {
    "duration": 823,
    "start_time": "2023-01-25T11:32:10.809Z"
   },
   {
    "duration": 140,
    "start_time": "2023-01-25T11:32:11.633Z"
   },
   {
    "duration": 16,
    "start_time": "2023-01-25T11:32:11.775Z"
   },
   {
    "duration": 117,
    "start_time": "2023-01-25T11:32:11.794Z"
   },
   {
    "duration": 1400,
    "start_time": "2023-01-25T11:32:11.913Z"
   },
   {
    "duration": 648,
    "start_time": "2023-01-25T11:32:13.314Z"
   },
   {
    "duration": 499,
    "start_time": "2023-01-25T11:32:13.966Z"
   },
   {
    "duration": 571,
    "start_time": "2023-01-25T11:32:14.467Z"
   },
   {
    "duration": 42,
    "start_time": "2023-01-25T11:32:15.040Z"
   },
   {
    "duration": 10,
    "start_time": "2023-01-25T11:32:15.084Z"
   },
   {
    "duration": 70,
    "start_time": "2023-01-25T11:32:15.096Z"
   },
   {
    "duration": 565,
    "start_time": "2023-01-25T11:32:15.168Z"
   },
   {
    "duration": 41,
    "start_time": "2023-01-25T11:32:15.737Z"
   },
   {
    "duration": 4,
    "start_time": "2023-01-25T11:32:15.779Z"
   },
   {
    "duration": 926,
    "start_time": "2023-01-25T11:32:15.784Z"
   },
   {
    "duration": 38,
    "start_time": "2023-01-25T11:32:16.712Z"
   },
   {
    "duration": 516,
    "start_time": "2023-01-25T11:32:16.752Z"
   },
   {
    "duration": 407,
    "start_time": "2023-01-25T11:32:17.269Z"
   },
   {
    "duration": 22,
    "start_time": "2023-01-25T11:32:17.678Z"
   },
   {
    "duration": 421,
    "start_time": "2023-01-25T11:32:17.702Z"
   },
   {
    "duration": 34,
    "start_time": "2023-01-25T11:32:18.125Z"
   },
   {
    "duration": 104,
    "start_time": "2023-01-25T11:32:18.162Z"
   },
   {
    "duration": 59,
    "start_time": "2023-01-25T11:32:18.269Z"
   },
   {
    "duration": 93,
    "start_time": "2023-01-25T11:32:18.330Z"
   },
   {
    "duration": 49,
    "start_time": "2023-01-25T11:32:18.425Z"
   },
   {
    "duration": 18,
    "start_time": "2023-01-25T11:32:18.476Z"
   },
   {
    "duration": 33,
    "start_time": "2023-01-25T11:32:18.496Z"
   },
   {
    "duration": 40,
    "start_time": "2023-01-25T11:32:18.531Z"
   },
   {
    "duration": 32,
    "start_time": "2023-01-25T11:32:18.573Z"
   },
   {
    "duration": 45,
    "start_time": "2023-01-25T11:32:18.607Z"
   },
   {
    "duration": 23,
    "start_time": "2023-01-25T11:32:18.664Z"
   },
   {
    "duration": 31,
    "start_time": "2023-01-25T11:32:18.689Z"
   },
   {
    "duration": 20,
    "start_time": "2023-01-25T11:32:18.721Z"
   },
   {
    "duration": 49,
    "start_time": "2023-01-25T11:32:18.750Z"
   },
   {
    "duration": 25,
    "start_time": "2023-01-25T11:32:18.801Z"
   },
   {
    "duration": 90,
    "start_time": "2023-01-25T11:32:18.828Z"
   },
   {
    "duration": 90,
    "start_time": "2023-01-25T11:32:18.920Z"
   },
   {
    "duration": 170,
    "start_time": "2023-01-25T11:32:19.012Z"
   },
   {
    "duration": 20,
    "start_time": "2023-01-25T11:32:19.183Z"
   },
   {
    "duration": 4,
    "start_time": "2023-01-25T11:32:19.206Z"
   },
   {
    "duration": 60,
    "start_time": "2023-01-25T11:32:19.211Z"
   },
   {
    "duration": 5,
    "start_time": "2023-01-25T11:32:19.272Z"
   },
   {
    "duration": 8,
    "start_time": "2023-01-25T11:32:19.279Z"
   },
   {
    "duration": 3,
    "start_time": "2023-01-25T11:32:34.301Z"
   },
   {
    "duration": 1607,
    "start_time": "2023-01-25T13:21:28.312Z"
   },
   {
    "duration": 841,
    "start_time": "2023-01-25T13:21:29.921Z"
   },
   {
    "duration": 136,
    "start_time": "2023-01-25T13:21:30.764Z"
   },
   {
    "duration": 31,
    "start_time": "2023-01-25T13:21:30.902Z"
   },
   {
    "duration": 125,
    "start_time": "2023-01-25T13:21:30.936Z"
   },
   {
    "duration": 1378,
    "start_time": "2023-01-25T13:21:31.062Z"
   },
   {
    "duration": 628,
    "start_time": "2023-01-25T13:21:32.442Z"
   },
   {
    "duration": 482,
    "start_time": "2023-01-25T13:21:33.071Z"
   },
   {
    "duration": 542,
    "start_time": "2023-01-25T13:21:33.554Z"
   },
   {
    "duration": 33,
    "start_time": "2023-01-25T13:21:34.098Z"
   },
   {
    "duration": 18,
    "start_time": "2023-01-25T13:21:34.133Z"
   },
   {
    "duration": 58,
    "start_time": "2023-01-25T13:21:34.153Z"
   },
   {
    "duration": 462,
    "start_time": "2023-01-25T13:21:34.213Z"
   },
   {
    "duration": 27,
    "start_time": "2023-01-25T13:21:34.678Z"
   },
   {
    "duration": 4,
    "start_time": "2023-01-25T13:21:34.707Z"
   },
   {
    "duration": 822,
    "start_time": "2023-01-25T13:21:34.712Z"
   },
   {
    "duration": 40,
    "start_time": "2023-01-25T13:21:35.535Z"
   },
   {
    "duration": 420,
    "start_time": "2023-01-25T13:21:35.576Z"
   },
   {
    "duration": 356,
    "start_time": "2023-01-25T13:21:35.998Z"
   },
   {
    "duration": 23,
    "start_time": "2023-01-25T13:21:36.356Z"
   },
   {
    "duration": 352,
    "start_time": "2023-01-25T13:21:36.380Z"
   },
   {
    "duration": 34,
    "start_time": "2023-01-25T13:21:36.734Z"
   },
   {
    "duration": 134,
    "start_time": "2023-01-25T13:21:36.770Z"
   },
   {
    "duration": 73,
    "start_time": "2023-01-25T13:21:36.906Z"
   },
   {
    "duration": 105,
    "start_time": "2023-01-25T13:21:36.982Z"
   },
   {
    "duration": 35,
    "start_time": "2023-01-25T13:21:37.089Z"
   },
   {
    "duration": 32,
    "start_time": "2023-01-25T13:21:37.126Z"
   },
   {
    "duration": 30,
    "start_time": "2023-01-25T13:21:37.160Z"
   },
   {
    "duration": 22,
    "start_time": "2023-01-25T13:21:37.191Z"
   },
   {
    "duration": 45,
    "start_time": "2023-01-25T13:21:37.214Z"
   },
   {
    "duration": 25,
    "start_time": "2023-01-25T13:21:37.260Z"
   },
   {
    "duration": 19,
    "start_time": "2023-01-25T13:21:37.286Z"
   },
   {
    "duration": 48,
    "start_time": "2023-01-25T13:21:37.307Z"
   },
   {
    "duration": 37,
    "start_time": "2023-01-25T13:21:37.357Z"
   },
   {
    "duration": 43,
    "start_time": "2023-01-25T13:21:37.396Z"
   },
   {
    "duration": 21,
    "start_time": "2023-01-25T13:21:37.449Z"
   },
   {
    "duration": 80,
    "start_time": "2023-01-25T13:21:37.472Z"
   },
   {
    "duration": 102,
    "start_time": "2023-01-25T13:21:37.554Z"
   },
   {
    "duration": 161,
    "start_time": "2023-01-25T13:21:37.658Z"
   },
   {
    "duration": 29,
    "start_time": "2023-01-25T13:21:37.821Z"
   },
   {
    "duration": 4,
    "start_time": "2023-01-25T13:21:37.854Z"
   },
   {
    "duration": 45,
    "start_time": "2023-01-25T13:21:37.860Z"
   },
   {
    "duration": 5,
    "start_time": "2023-01-25T13:21:37.906Z"
   },
   {
    "duration": 4,
    "start_time": "2023-01-25T13:21:37.912Z"
   },
   {
    "duration": 5,
    "start_time": "2023-01-25T13:21:37.918Z"
   },
   {
    "duration": 6,
    "start_time": "2023-01-25T13:31:12.846Z"
   },
   {
    "duration": 1629,
    "start_time": "2023-01-25T17:43:21.018Z"
   },
   {
    "duration": 3085,
    "start_time": "2023-01-25T17:43:22.648Z"
   },
   {
    "duration": 196,
    "start_time": "2023-01-25T17:43:25.736Z"
   },
   {
    "duration": 22,
    "start_time": "2023-01-25T17:43:25.933Z"
   },
   {
    "duration": 98,
    "start_time": "2023-01-25T17:43:25.958Z"
   },
   {
    "duration": 1403,
    "start_time": "2023-01-25T17:43:26.058Z"
   },
   {
    "duration": 652,
    "start_time": "2023-01-25T17:43:27.462Z"
   },
   {
    "duration": 432,
    "start_time": "2023-01-25T17:43:28.116Z"
   },
   {
    "duration": 508,
    "start_time": "2023-01-25T17:43:28.550Z"
   },
   {
    "duration": 26,
    "start_time": "2023-01-25T17:43:29.060Z"
   },
   {
    "duration": 16,
    "start_time": "2023-01-25T17:43:29.087Z"
   },
   {
    "duration": 82,
    "start_time": "2023-01-25T17:43:29.104Z"
   },
   {
    "duration": 436,
    "start_time": "2023-01-25T17:43:29.187Z"
   },
   {
    "duration": 30,
    "start_time": "2023-01-25T17:43:29.626Z"
   },
   {
    "duration": 16,
    "start_time": "2023-01-25T17:43:29.658Z"
   },
   {
    "duration": 870,
    "start_time": "2023-01-25T17:43:29.675Z"
   },
   {
    "duration": 37,
    "start_time": "2023-01-25T17:43:30.546Z"
   },
   {
    "duration": 435,
    "start_time": "2023-01-25T17:43:30.585Z"
   },
   {
    "duration": 370,
    "start_time": "2023-01-25T17:43:31.022Z"
   },
   {
    "duration": 26,
    "start_time": "2023-01-25T17:43:31.394Z"
   },
   {
    "duration": 350,
    "start_time": "2023-01-25T17:43:31.421Z"
   },
   {
    "duration": 20,
    "start_time": "2023-01-25T17:43:31.773Z"
   },
   {
    "duration": 107,
    "start_time": "2023-01-25T17:43:31.795Z"
   },
   {
    "duration": 66,
    "start_time": "2023-01-25T17:43:31.904Z"
   },
   {
    "duration": 84,
    "start_time": "2023-01-25T17:43:31.971Z"
   },
   {
    "duration": 67,
    "start_time": "2023-01-25T17:43:32.057Z"
   },
   {
    "duration": 48,
    "start_time": "2023-01-25T17:43:32.126Z"
   },
   {
    "duration": 74,
    "start_time": "2023-01-25T17:43:32.176Z"
   },
   {
    "duration": 70,
    "start_time": "2023-01-25T17:43:32.252Z"
   },
   {
    "duration": 53,
    "start_time": "2023-01-25T17:43:32.324Z"
   },
   {
    "duration": 44,
    "start_time": "2023-01-25T17:43:32.378Z"
   },
   {
    "duration": 41,
    "start_time": "2023-01-25T17:43:32.424Z"
   },
   {
    "duration": 58,
    "start_time": "2023-01-25T17:43:32.466Z"
   },
   {
    "duration": 56,
    "start_time": "2023-01-25T17:43:32.525Z"
   },
   {
    "duration": 44,
    "start_time": "2023-01-25T17:43:32.583Z"
   },
   {
    "duration": 41,
    "start_time": "2023-01-25T17:43:32.629Z"
   },
   {
    "duration": 112,
    "start_time": "2023-01-25T17:43:32.672Z"
   },
   {
    "duration": 134,
    "start_time": "2023-01-25T17:43:32.786Z"
   },
   {
    "duration": 233,
    "start_time": "2023-01-25T17:43:32.922Z"
   },
   {
    "duration": 21,
    "start_time": "2023-01-25T17:43:33.157Z"
   },
   {
    "duration": 31,
    "start_time": "2023-01-25T17:43:33.182Z"
   },
   {
    "duration": 51,
    "start_time": "2023-01-25T17:43:33.215Z"
   },
   {
    "duration": 4,
    "start_time": "2023-01-25T17:43:33.268Z"
   },
   {
    "duration": 7,
    "start_time": "2023-01-25T17:43:33.274Z"
   },
   {
    "duration": 5,
    "start_time": "2023-01-25T17:43:37.800Z"
   },
   {
    "duration": 1652,
    "start_time": "2023-01-25T17:43:42.526Z"
   },
   {
    "duration": 72393,
    "start_time": "2023-01-25T17:43:45.340Z"
   },
   {
    "duration": 9202,
    "start_time": "2023-01-25T17:45:00.100Z"
   },
   {
    "duration": 21337,
    "start_time": "2023-01-25T17:45:34.821Z"
   },
   {
    "duration": 291,
    "start_time": "2023-01-25T17:45:56.162Z"
   },
   {
    "duration": 316,
    "start_time": "2023-01-25T17:45:56.456Z"
   },
   {
    "duration": 93,
    "start_time": "2023-01-25T17:45:56.773Z"
   },
   {
    "duration": 9,
    "start_time": "2023-01-25T17:46:22.305Z"
   },
   {
    "duration": 38765,
    "start_time": "2023-01-25T17:46:26.997Z"
   },
   {
    "duration": 4688,
    "start_time": "2023-01-25T17:47:05.764Z"
   },
   {
    "duration": 123162,
    "start_time": "2023-01-25T17:49:15.123Z"
   },
   {
    "duration": 1001,
    "start_time": "2023-01-25T17:51:18.287Z"
   },
   {
    "duration": 8,
    "start_time": "2023-01-25T17:52:05.647Z"
   },
   {
    "duration": 9,
    "start_time": "2023-01-25T17:54:03.395Z"
   },
   {
    "duration": 8,
    "start_time": "2023-01-25T17:54:17.047Z"
   },
   {
    "duration": 14,
    "start_time": "2023-01-25T18:00:12.323Z"
   },
   {
    "duration": 1396,
    "start_time": "2023-01-25T18:01:12.155Z"
   },
   {
    "duration": 768,
    "start_time": "2023-01-25T18:01:13.554Z"
   },
   {
    "duration": 137,
    "start_time": "2023-01-25T18:01:14.324Z"
   },
   {
    "duration": 14,
    "start_time": "2023-01-25T18:01:14.463Z"
   },
   {
    "duration": 91,
    "start_time": "2023-01-25T18:01:14.480Z"
   },
   {
    "duration": 1314,
    "start_time": "2023-01-25T18:01:14.573Z"
   },
   {
    "duration": 553,
    "start_time": "2023-01-25T18:01:15.889Z"
   },
   {
    "duration": 426,
    "start_time": "2023-01-25T18:01:16.444Z"
   },
   {
    "duration": 514,
    "start_time": "2023-01-25T18:01:16.872Z"
   },
   {
    "duration": 24,
    "start_time": "2023-01-25T18:01:17.388Z"
   },
   {
    "duration": 12,
    "start_time": "2023-01-25T18:01:17.414Z"
   },
   {
    "duration": 64,
    "start_time": "2023-01-25T18:01:17.427Z"
   },
   {
    "duration": 419,
    "start_time": "2023-01-25T18:01:17.492Z"
   },
   {
    "duration": 24,
    "start_time": "2023-01-25T18:01:17.914Z"
   },
   {
    "duration": 10,
    "start_time": "2023-01-25T18:01:17.940Z"
   },
   {
    "duration": 743,
    "start_time": "2023-01-25T18:01:17.952Z"
   },
   {
    "duration": 26,
    "start_time": "2023-01-25T18:01:18.697Z"
   },
   {
    "duration": 392,
    "start_time": "2023-01-25T18:01:18.724Z"
   },
   {
    "duration": 338,
    "start_time": "2023-01-25T18:01:19.117Z"
   },
   {
    "duration": 25,
    "start_time": "2023-01-25T18:01:19.457Z"
   },
   {
    "duration": 329,
    "start_time": "2023-01-25T18:01:19.483Z"
   },
   {
    "duration": 20,
    "start_time": "2023-01-25T18:01:19.814Z"
   },
   {
    "duration": 103,
    "start_time": "2023-01-25T18:01:19.836Z"
   },
   {
    "duration": 55,
    "start_time": "2023-01-25T18:01:19.940Z"
   },
   {
    "duration": 81,
    "start_time": "2023-01-25T18:01:19.996Z"
   },
   {
    "duration": 30,
    "start_time": "2023-01-25T18:01:20.078Z"
   },
   {
    "duration": 80,
    "start_time": "2023-01-25T18:01:20.109Z"
   },
   {
    "duration": 32,
    "start_time": "2023-01-25T18:01:20.191Z"
   },
   {
    "duration": 21,
    "start_time": "2023-01-25T18:01:20.225Z"
   },
   {
    "duration": 31,
    "start_time": "2023-01-25T18:01:20.248Z"
   },
   {
    "duration": 23,
    "start_time": "2023-01-25T18:01:20.281Z"
   },
   {
    "duration": 23,
    "start_time": "2023-01-25T18:01:20.306Z"
   },
   {
    "duration": 48,
    "start_time": "2023-01-25T18:01:20.331Z"
   },
   {
    "duration": 29,
    "start_time": "2023-01-25T18:01:20.381Z"
   },
   {
    "duration": 37,
    "start_time": "2023-01-25T18:01:20.412Z"
   },
   {
    "duration": 22,
    "start_time": "2023-01-25T18:01:20.450Z"
   },
   {
    "duration": 87,
    "start_time": "2023-01-25T18:01:20.474Z"
   },
   {
    "duration": 87,
    "start_time": "2023-01-25T18:01:20.563Z"
   },
   {
    "duration": 154,
    "start_time": "2023-01-25T18:01:20.652Z"
   },
   {
    "duration": 20,
    "start_time": "2023-01-25T18:01:20.808Z"
   },
   {
    "duration": 4,
    "start_time": "2023-01-25T18:01:20.831Z"
   },
   {
    "duration": 54,
    "start_time": "2023-01-25T18:01:20.836Z"
   },
   {
    "duration": 4,
    "start_time": "2023-01-25T18:01:20.891Z"
   },
   {
    "duration": 6,
    "start_time": "2023-01-25T18:01:20.897Z"
   },
   {
    "duration": 7,
    "start_time": "2023-01-25T18:01:20.904Z"
   },
   {
    "duration": 28,
    "start_time": "2023-01-25T18:01:59.294Z"
   },
   {
    "duration": 19487,
    "start_time": "2023-01-25T18:01:59.962Z"
   },
   {
    "duration": 103,
    "start_time": "2023-01-25T18:02:19.451Z"
   },
   {
    "duration": 1230493,
    "start_time": "2023-01-25T18:02:19.556Z"
   },
   {
    "duration": 1690,
    "start_time": "2023-01-25T18:45:11.163Z"
   },
   {
    "duration": 1926,
    "start_time": "2023-01-26T18:18:22.857Z"
   },
   {
    "duration": 2969,
    "start_time": "2023-01-26T18:18:26.901Z"
   },
   {
    "duration": 136,
    "start_time": "2023-01-26T18:18:29.872Z"
   },
   {
    "duration": 18,
    "start_time": "2023-01-26T18:18:31.962Z"
   },
   {
    "duration": 92,
    "start_time": "2023-01-26T18:18:33.998Z"
   },
   {
    "duration": 1430,
    "start_time": "2023-01-26T18:18:34.303Z"
   },
   {
    "duration": 1589,
    "start_time": "2023-01-26T18:18:35.814Z"
   },
   {
    "duration": 1463,
    "start_time": "2023-01-26T18:19:03.938Z"
   },
   {
    "duration": 404,
    "start_time": "2023-01-26T18:21:38.655Z"
   },
   {
    "duration": 463,
    "start_time": "2023-01-26T18:22:26.912Z"
   },
   {
    "duration": 611,
    "start_time": "2023-01-26T18:22:28.016Z"
   },
   {
    "duration": 31,
    "start_time": "2023-01-26T18:22:29.270Z"
   },
   {
    "duration": 16,
    "start_time": "2023-01-26T18:22:36.164Z"
   },
   {
    "duration": 59,
    "start_time": "2023-01-26T18:22:37.967Z"
   },
   {
    "duration": 559,
    "start_time": "2023-01-26T18:22:41.398Z"
   },
   {
    "duration": 30,
    "start_time": "2023-01-26T18:22:42.030Z"
   },
   {
    "duration": 5,
    "start_time": "2023-01-26T18:22:44.044Z"
   },
   {
    "duration": 1006,
    "start_time": "2023-01-26T18:22:57.542Z"
   },
   {
    "duration": 22,
    "start_time": "2023-01-26T18:23:37.416Z"
   },
   {
    "duration": 431,
    "start_time": "2023-01-26T18:23:38.134Z"
   },
   {
    "duration": 360,
    "start_time": "2023-01-26T18:23:46.045Z"
   },
   {
    "duration": 23,
    "start_time": "2023-01-26T18:23:49.134Z"
   },
   {
    "duration": 386,
    "start_time": "2023-01-26T18:23:49.365Z"
   },
   {
    "duration": 24,
    "start_time": "2023-01-26T18:23:52.438Z"
   },
   {
    "duration": 203,
    "start_time": "2023-01-26T18:23:52.903Z"
   },
   {
    "duration": 53,
    "start_time": "2023-01-26T18:23:56.956Z"
   },
   {
    "duration": 89,
    "start_time": "2023-01-26T18:23:59.121Z"
   },
   {
    "duration": 29,
    "start_time": "2023-01-26T18:23:59.861Z"
   },
   {
    "duration": 23,
    "start_time": "2023-01-26T18:24:03.728Z"
   },
   {
    "duration": 54,
    "start_time": "2023-01-26T18:24:04.042Z"
   },
   {
    "duration": 18,
    "start_time": "2023-01-26T18:24:04.894Z"
   },
   {
    "duration": 32,
    "start_time": "2023-01-26T18:24:05.335Z"
   },
   {
    "duration": 36,
    "start_time": "2023-01-26T18:24:11.226Z"
   },
   {
    "duration": 31,
    "start_time": "2023-01-26T18:24:11.896Z"
   },
   {
    "duration": 31,
    "start_time": "2023-01-26T18:24:12.401Z"
   },
   {
    "duration": 19,
    "start_time": "2023-01-26T18:24:16.790Z"
   },
   {
    "duration": 31,
    "start_time": "2023-01-26T18:24:17.326Z"
   },
   {
    "duration": 20,
    "start_time": "2023-01-26T18:24:18.749Z"
   },
   {
    "duration": 38,
    "start_time": "2023-01-26T18:25:18.167Z"
   },
   {
    "duration": 102,
    "start_time": "2023-01-26T18:25:20.364Z"
   },
   {
    "duration": 91,
    "start_time": "2023-01-26T18:25:22.537Z"
   },
   {
    "duration": 154,
    "start_time": "2023-01-26T18:25:25.203Z"
   },
   {
    "duration": 23,
    "start_time": "2023-01-26T18:25:25.440Z"
   },
   {
    "duration": 12,
    "start_time": "2023-01-26T18:25:56.725Z"
   },
   {
    "duration": 5,
    "start_time": "2023-01-26T18:26:08.222Z"
   },
   {
    "duration": 8767,
    "start_time": "2023-01-26T18:26:35.941Z"
   },
   {
    "duration": 910,
    "start_time": "2023-01-26T18:26:56.004Z"
   },
   {
    "duration": 153,
    "start_time": "2023-01-26T18:26:56.917Z"
   },
   {
    "duration": 17,
    "start_time": "2023-01-26T18:26:57.071Z"
   },
   {
    "duration": 98,
    "start_time": "2023-01-26T18:26:57.265Z"
   },
   {
    "duration": 4,
    "start_time": "2023-01-26T18:27:19.517Z"
   },
   {
    "duration": 2202,
    "start_time": "2023-01-26T18:27:31.016Z"
   },
   {
    "duration": 1376,
    "start_time": "2023-01-26T18:28:52.864Z"
   },
   {
    "duration": 972,
    "start_time": "2023-01-26T18:29:01.227Z"
   },
   {
    "duration": 187,
    "start_time": "2023-01-26T18:29:02.201Z"
   },
   {
    "duration": 15,
    "start_time": "2023-01-26T18:29:02.389Z"
   },
   {
    "duration": 119,
    "start_time": "2023-01-26T18:29:02.406Z"
   },
   {
    "duration": 1559,
    "start_time": "2023-01-26T18:29:02.557Z"
   },
   {
    "duration": 369,
    "start_time": "2023-01-26T18:29:04.118Z"
   },
   {
    "duration": 490,
    "start_time": "2023-01-26T18:29:04.489Z"
   },
   {
    "duration": 808,
    "start_time": "2023-01-26T18:29:04.983Z"
   },
   {
    "duration": 37,
    "start_time": "2023-01-26T18:29:05.794Z"
   },
   {
    "duration": 35,
    "start_time": "2023-01-26T18:29:05.834Z"
   },
   {
    "duration": 108,
    "start_time": "2023-01-26T18:29:05.872Z"
   },
   {
    "duration": 597,
    "start_time": "2023-01-26T18:29:06.131Z"
   },
   {
    "duration": 30,
    "start_time": "2023-01-26T18:29:06.731Z"
   },
   {
    "duration": 5,
    "start_time": "2023-01-26T18:29:06.945Z"
   },
   {
    "duration": 947,
    "start_time": "2023-01-26T18:29:07.502Z"
   },
   {
    "duration": 51,
    "start_time": "2023-01-26T18:29:08.818Z"
   },
   {
    "duration": 558,
    "start_time": "2023-01-26T18:29:08.981Z"
   },
   {
    "duration": 364,
    "start_time": "2023-01-26T18:29:09.866Z"
   },
   {
    "duration": 40,
    "start_time": "2023-01-26T18:29:10.235Z"
   },
   {
    "duration": 412,
    "start_time": "2023-01-26T18:29:10.369Z"
   },
   {
    "duration": 30,
    "start_time": "2023-01-26T18:29:10.784Z"
   },
   {
    "duration": 103,
    "start_time": "2023-01-26T18:29:10.889Z"
   },
   {
    "duration": 63,
    "start_time": "2023-01-26T18:29:11.249Z"
   },
   {
    "duration": 77,
    "start_time": "2023-01-26T18:29:11.743Z"
   },
   {
    "duration": 32,
    "start_time": "2023-01-26T18:29:12.273Z"
   },
   {
    "duration": 34,
    "start_time": "2023-01-26T18:29:14.647Z"
   },
   {
    "duration": 40,
    "start_time": "2023-01-26T18:29:14.783Z"
   },
   {
    "duration": 29,
    "start_time": "2023-01-26T18:29:15.108Z"
   },
   {
    "duration": 44,
    "start_time": "2023-01-26T18:29:15.246Z"
   },
   {
    "duration": 36,
    "start_time": "2023-01-26T18:29:15.436Z"
   },
   {
    "duration": 29,
    "start_time": "2023-01-26T18:29:15.806Z"
   },
   {
    "duration": 56,
    "start_time": "2023-01-26T18:29:16.017Z"
   },
   {
    "duration": 23,
    "start_time": "2023-01-26T18:29:16.432Z"
   },
   {
    "duration": 43,
    "start_time": "2023-01-26T18:29:18.444Z"
   },
   {
    "duration": 23,
    "start_time": "2023-01-26T18:29:18.776Z"
   },
   {
    "duration": 94,
    "start_time": "2023-01-26T18:29:19.315Z"
   },
   {
    "duration": 79,
    "start_time": "2023-01-26T18:29:21.663Z"
   },
   {
    "duration": 167,
    "start_time": "2023-01-26T18:29:21.980Z"
   },
   {
    "duration": 21,
    "start_time": "2023-01-26T18:29:22.180Z"
   },
   {
    "duration": 2385,
    "start_time": "2023-01-26T18:29:34.690Z"
   },
   {
    "duration": 6,
    "start_time": "2023-01-26T18:30:02.183Z"
   },
   {
    "duration": 66,
    "start_time": "2023-01-26T18:31:25.044Z"
   },
   {
    "duration": 5,
    "start_time": "2023-01-26T18:31:28.572Z"
   },
   {
    "duration": 6,
    "start_time": "2023-01-26T18:31:29.059Z"
   },
   {
    "duration": 6,
    "start_time": "2023-01-26T18:31:30.341Z"
   },
   {
    "duration": 8,
    "start_time": "2023-01-26T18:31:33.050Z"
   },
   {
    "duration": 4,
    "start_time": "2023-01-26T18:31:33.993Z"
   },
   {
    "duration": 1371,
    "start_time": "2023-01-26T18:32:32.602Z"
   },
   {
    "duration": 831,
    "start_time": "2023-01-26T18:32:33.975Z"
   },
   {
    "duration": 154,
    "start_time": "2023-01-26T18:32:34.808Z"
   },
   {
    "duration": 16,
    "start_time": "2023-01-26T18:32:34.964Z"
   },
   {
    "duration": 112,
    "start_time": "2023-01-26T18:32:34.982Z"
   },
   {
    "duration": 1445,
    "start_time": "2023-01-26T18:32:35.097Z"
   },
   {
    "duration": 385,
    "start_time": "2023-01-26T18:32:36.544Z"
   },
   {
    "duration": 461,
    "start_time": "2023-01-26T18:32:36.931Z"
   },
   {
    "duration": 603,
    "start_time": "2023-01-26T18:32:37.394Z"
   },
   {
    "duration": 34,
    "start_time": "2023-01-26T18:32:37.999Z"
   },
   {
    "duration": 23,
    "start_time": "2023-01-26T18:32:38.035Z"
   },
   {
    "duration": 73,
    "start_time": "2023-01-26T18:32:38.060Z"
   },
   {
    "duration": 476,
    "start_time": "2023-01-26T18:32:38.135Z"
   },
   {
    "duration": 38,
    "start_time": "2023-01-26T18:32:38.615Z"
   },
   {
    "duration": 4,
    "start_time": "2023-01-26T18:32:38.655Z"
   },
   {
    "duration": 938,
    "start_time": "2023-01-26T18:32:38.661Z"
   },
   {
    "duration": 30,
    "start_time": "2023-01-26T18:32:39.600Z"
   },
   {
    "duration": 483,
    "start_time": "2023-01-26T18:32:39.632Z"
   },
   {
    "duration": 369,
    "start_time": "2023-01-26T18:32:40.117Z"
   },
   {
    "duration": 22,
    "start_time": "2023-01-26T18:32:40.489Z"
   },
   {
    "duration": 377,
    "start_time": "2023-01-26T18:32:40.513Z"
   },
   {
    "duration": 23,
    "start_time": "2023-01-26T18:32:40.891Z"
   },
   {
    "duration": 111,
    "start_time": "2023-01-26T18:32:40.915Z"
   },
   {
    "duration": 68,
    "start_time": "2023-01-26T18:32:41.027Z"
   },
   {
    "duration": 86,
    "start_time": "2023-01-26T18:32:41.097Z"
   },
   {
    "duration": 39,
    "start_time": "2023-01-26T18:32:41.185Z"
   },
   {
    "duration": 35,
    "start_time": "2023-01-26T18:32:41.226Z"
   },
   {
    "duration": 30,
    "start_time": "2023-01-26T18:32:41.263Z"
   },
   {
    "duration": 20,
    "start_time": "2023-01-26T18:32:41.294Z"
   },
   {
    "duration": 47,
    "start_time": "2023-01-26T18:32:41.316Z"
   },
   {
    "duration": 27,
    "start_time": "2023-01-26T18:32:41.365Z"
   },
   {
    "duration": 28,
    "start_time": "2023-01-26T18:32:41.394Z"
   },
   {
    "duration": 57,
    "start_time": "2023-01-26T18:32:41.425Z"
   },
   {
    "duration": 23,
    "start_time": "2023-01-26T18:32:41.484Z"
   },
   {
    "duration": 52,
    "start_time": "2023-01-26T18:32:41.509Z"
   },
   {
    "duration": 27,
    "start_time": "2023-01-26T18:32:41.566Z"
   },
   {
    "duration": 79,
    "start_time": "2023-01-26T18:32:41.595Z"
   },
   {
    "duration": 93,
    "start_time": "2023-01-26T18:32:41.676Z"
   },
   {
    "duration": 162,
    "start_time": "2023-01-26T18:32:41.771Z"
   },
   {
    "duration": 36,
    "start_time": "2023-01-26T18:32:41.936Z"
   },
   {
    "duration": 2377,
    "start_time": "2023-01-26T18:32:41.976Z"
   },
   {
    "duration": 7,
    "start_time": "2023-01-26T18:32:44.356Z"
   },
   {
    "duration": 54,
    "start_time": "2023-01-26T18:32:44.366Z"
   },
   {
    "duration": 4,
    "start_time": "2023-01-26T18:32:44.422Z"
   },
   {
    "duration": 22,
    "start_time": "2023-01-26T18:32:44.427Z"
   },
   {
    "duration": 5,
    "start_time": "2023-01-26T18:33:08.396Z"
   },
   {
    "duration": 4,
    "start_time": "2023-01-26T18:33:11.066Z"
   },
   {
    "duration": 4,
    "start_time": "2023-01-26T18:33:11.303Z"
   },
   {
    "duration": 2120592,
    "start_time": "2023-01-26T18:33:12.941Z"
   },
   {
    "duration": 26,
    "start_time": "2023-01-26T19:08:33.534Z"
   },
   {
    "duration": 27489,
    "start_time": "2023-01-26T19:08:33.561Z"
   },
   {
    "duration": 1435,
    "start_time": "2023-01-26T20:52:38.506Z"
   },
   {
    "duration": 1017,
    "start_time": "2023-01-26T20:52:39.943Z"
   },
   {
    "duration": 165,
    "start_time": "2023-01-26T20:52:40.962Z"
   },
   {
    "duration": 31,
    "start_time": "2023-01-26T20:52:41.129Z"
   },
   {
    "duration": 113,
    "start_time": "2023-01-26T20:52:41.164Z"
   },
   {
    "duration": 1618,
    "start_time": "2023-01-26T20:52:41.279Z"
   },
   {
    "duration": 420,
    "start_time": "2023-01-26T20:52:42.900Z"
   },
   {
    "duration": 673,
    "start_time": "2023-01-26T20:52:43.321Z"
   },
   {
    "duration": 694,
    "start_time": "2023-01-26T20:52:43.996Z"
   },
   {
    "duration": 27,
    "start_time": "2023-01-26T20:52:44.692Z"
   },
   {
    "duration": 16,
    "start_time": "2023-01-26T20:52:44.721Z"
   },
   {
    "duration": 77,
    "start_time": "2023-01-26T20:52:44.738Z"
   },
   {
    "duration": 634,
    "start_time": "2023-01-26T20:52:44.818Z"
   },
   {
    "duration": 35,
    "start_time": "2023-01-26T20:52:45.457Z"
   },
   {
    "duration": 5,
    "start_time": "2023-01-26T20:52:45.495Z"
   },
   {
    "duration": 1143,
    "start_time": "2023-01-26T20:52:45.502Z"
   },
   {
    "duration": 48,
    "start_time": "2023-01-26T20:52:46.648Z"
   },
   {
    "duration": 609,
    "start_time": "2023-01-26T20:52:46.699Z"
   },
   {
    "duration": 418,
    "start_time": "2023-01-26T20:52:47.310Z"
   },
   {
    "duration": 31,
    "start_time": "2023-01-26T20:52:47.729Z"
   },
   {
    "duration": 389,
    "start_time": "2023-01-26T20:52:47.762Z"
   },
   {
    "duration": 29,
    "start_time": "2023-01-26T20:52:48.153Z"
   },
   {
    "duration": 140,
    "start_time": "2023-01-26T20:52:48.184Z"
   },
   {
    "duration": 81,
    "start_time": "2023-01-26T20:52:48.326Z"
   },
   {
    "duration": 98,
    "start_time": "2023-01-26T20:52:48.409Z"
   },
   {
    "duration": 35,
    "start_time": "2023-01-26T20:52:48.509Z"
   },
   {
    "duration": 45,
    "start_time": "2023-01-26T20:52:48.549Z"
   },
   {
    "duration": 39,
    "start_time": "2023-01-26T20:52:48.596Z"
   },
   {
    "duration": 31,
    "start_time": "2023-01-26T20:52:48.636Z"
   },
   {
    "duration": 53,
    "start_time": "2023-01-26T20:52:48.673Z"
   },
   {
    "duration": 36,
    "start_time": "2023-01-26T20:52:48.728Z"
   },
   {
    "duration": 37,
    "start_time": "2023-01-26T20:52:48.766Z"
   },
   {
    "duration": 54,
    "start_time": "2023-01-26T20:52:48.806Z"
   },
   {
    "duration": 45,
    "start_time": "2023-01-26T20:52:48.862Z"
   },
   {
    "duration": 31,
    "start_time": "2023-01-26T20:52:48.909Z"
   },
   {
    "duration": 42,
    "start_time": "2023-01-26T20:52:48.941Z"
   },
   {
    "duration": 85,
    "start_time": "2023-01-26T20:52:48.985Z"
   },
   {
    "duration": 106,
    "start_time": "2023-01-26T20:52:49.072Z"
   },
   {
    "duration": 189,
    "start_time": "2023-01-26T20:52:49.182Z"
   },
   {
    "duration": 33,
    "start_time": "2023-01-26T20:52:49.373Z"
   },
   {
    "duration": 2623,
    "start_time": "2023-01-26T20:52:49.412Z"
   },
   {
    "duration": 12,
    "start_time": "2023-01-26T20:52:52.039Z"
   },
   {
    "duration": 80,
    "start_time": "2023-01-26T20:52:52.054Z"
   },
   {
    "duration": 5,
    "start_time": "2023-01-26T20:52:52.136Z"
   },
   {
    "duration": 27,
    "start_time": "2023-01-26T20:52:52.143Z"
   },
   {
    "duration": 5,
    "start_time": "2023-01-26T20:52:54.616Z"
   },
   {
    "duration": 1593,
    "start_time": "2023-01-27T07:55:44.653Z"
   },
   {
    "duration": 4284,
    "start_time": "2023-01-27T07:55:46.249Z"
   },
   {
    "duration": 126,
    "start_time": "2023-01-27T07:55:50.534Z"
   },
   {
    "duration": 17,
    "start_time": "2023-01-27T07:55:50.662Z"
   },
   {
    "duration": 130,
    "start_time": "2023-01-27T07:55:50.681Z"
   },
   {
    "duration": 1293,
    "start_time": "2023-01-27T07:55:50.813Z"
   },
   {
    "duration": 403,
    "start_time": "2023-01-27T07:55:52.108Z"
   },
   {
    "duration": 400,
    "start_time": "2023-01-27T07:55:52.512Z"
   },
   {
    "duration": 493,
    "start_time": "2023-01-27T07:55:52.914Z"
   },
   {
    "duration": 25,
    "start_time": "2023-01-27T07:55:53.409Z"
   },
   {
    "duration": 14,
    "start_time": "2023-01-27T07:55:53.436Z"
   },
   {
    "duration": 64,
    "start_time": "2023-01-27T07:55:53.452Z"
   },
   {
    "duration": 469,
    "start_time": "2023-01-27T07:55:53.518Z"
   },
   {
    "duration": 27,
    "start_time": "2023-01-27T07:55:53.990Z"
   },
   {
    "duration": 4,
    "start_time": "2023-01-27T07:55:54.018Z"
   },
   {
    "duration": 862,
    "start_time": "2023-01-27T07:55:54.023Z"
   },
   {
    "duration": 25,
    "start_time": "2023-01-27T07:55:54.886Z"
   },
   {
    "duration": 465,
    "start_time": "2023-01-27T07:55:54.913Z"
   },
   {
    "duration": 352,
    "start_time": "2023-01-27T07:55:55.380Z"
   },
   {
    "duration": 24,
    "start_time": "2023-01-27T07:55:55.734Z"
   },
   {
    "duration": 379,
    "start_time": "2023-01-27T07:55:55.760Z"
   },
   {
    "duration": 21,
    "start_time": "2023-01-27T07:55:56.141Z"
   },
   {
    "duration": 230,
    "start_time": "2023-01-27T07:55:56.164Z"
   },
   {
    "duration": 69,
    "start_time": "2023-01-27T07:55:56.396Z"
   },
   {
    "duration": 74,
    "start_time": "2023-01-27T07:55:56.466Z"
   },
   {
    "duration": 35,
    "start_time": "2023-01-27T07:55:56.549Z"
   },
   {
    "duration": 20,
    "start_time": "2023-01-27T07:55:56.585Z"
   },
   {
    "duration": 45,
    "start_time": "2023-01-27T07:55:56.607Z"
   },
   {
    "duration": 20,
    "start_time": "2023-01-27T07:55:56.653Z"
   },
   {
    "duration": 32,
    "start_time": "2023-01-27T07:55:56.675Z"
   },
   {
    "duration": 24,
    "start_time": "2023-01-27T07:55:56.709Z"
   },
   {
    "duration": 32,
    "start_time": "2023-01-27T07:55:56.734Z"
   },
   {
    "duration": 34,
    "start_time": "2023-01-27T07:55:56.768Z"
   },
   {
    "duration": 30,
    "start_time": "2023-01-27T07:55:56.803Z"
   },
   {
    "duration": 34,
    "start_time": "2023-01-27T07:55:56.835Z"
   },
   {
    "duration": 25,
    "start_time": "2023-01-27T07:55:56.870Z"
   },
   {
    "duration": 77,
    "start_time": "2023-01-27T07:55:56.897Z"
   },
   {
    "duration": 85,
    "start_time": "2023-01-27T07:55:56.976Z"
   },
   {
    "duration": 161,
    "start_time": "2023-01-27T07:55:57.063Z"
   },
   {
    "duration": 32,
    "start_time": "2023-01-27T07:55:57.226Z"
   },
   {
    "duration": 8236,
    "start_time": "2023-01-27T07:55:57.263Z"
   },
   {
    "duration": 4,
    "start_time": "2023-01-27T07:56:05.501Z"
   },
   {
    "duration": 52,
    "start_time": "2023-01-27T07:56:05.506Z"
   },
   {
    "duration": 4,
    "start_time": "2023-01-27T07:56:05.560Z"
   },
   {
    "duration": 9,
    "start_time": "2023-01-27T07:56:05.566Z"
   },
   {
    "duration": 7,
    "start_time": "2023-01-27T07:56:05.576Z"
   },
   {
    "duration": 4,
    "start_time": "2023-01-27T07:56:46.557Z"
   },
   {
    "duration": 25,
    "start_time": "2023-01-27T07:56:52.273Z"
   },
   {
    "duration": 189,
    "start_time": "2023-01-27T07:56:55.512Z"
   },
   {
    "duration": 1236,
    "start_time": "2023-01-27T07:57:18.144Z"
   },
   {
    "duration": 737,
    "start_time": "2023-01-27T07:57:19.989Z"
   },
   {
    "duration": 132,
    "start_time": "2023-01-27T07:57:20.728Z"
   },
   {
    "duration": 14,
    "start_time": "2023-01-27T07:57:20.862Z"
   },
   {
    "duration": 89,
    "start_time": "2023-01-27T07:57:21.444Z"
   },
   {
    "duration": 1334,
    "start_time": "2023-01-27T07:57:21.582Z"
   },
   {
    "duration": 352,
    "start_time": "2023-01-27T07:57:22.918Z"
   },
   {
    "duration": 407,
    "start_time": "2023-01-27T07:57:24.119Z"
   },
   {
    "duration": 500,
    "start_time": "2023-01-27T07:57:24.529Z"
   },
   {
    "duration": 29,
    "start_time": "2023-01-27T07:57:25.030Z"
   },
   {
    "duration": 10,
    "start_time": "2023-01-27T07:57:25.061Z"
   },
   {
    "duration": 60,
    "start_time": "2023-01-27T07:57:25.073Z"
   },
   {
    "duration": 435,
    "start_time": "2023-01-27T07:57:27.371Z"
   },
   {
    "duration": 26,
    "start_time": "2023-01-27T07:57:27.854Z"
   },
   {
    "duration": 4,
    "start_time": "2023-01-27T07:57:28.719Z"
   },
   {
    "duration": 802,
    "start_time": "2023-01-27T07:57:30.805Z"
   },
   {
    "duration": 29,
    "start_time": "2023-01-27T07:57:33.211Z"
   },
   {
    "duration": 423,
    "start_time": "2023-01-27T07:57:33.331Z"
   },
   {
    "duration": 414,
    "start_time": "2023-01-27T07:57:35.273Z"
   },
   {
    "duration": 22,
    "start_time": "2023-01-27T07:57:35.689Z"
   },
   {
    "duration": 378,
    "start_time": "2023-01-27T07:57:35.728Z"
   },
   {
    "duration": 22,
    "start_time": "2023-01-27T07:57:36.107Z"
   },
   {
    "duration": 95,
    "start_time": "2023-01-27T07:57:38.341Z"
   },
   {
    "duration": 51,
    "start_time": "2023-01-27T07:57:38.612Z"
   },
   {
    "duration": 75,
    "start_time": "2023-01-27T07:57:41.301Z"
   },
   {
    "duration": 34,
    "start_time": "2023-01-27T07:57:41.605Z"
   },
   {
    "duration": 19,
    "start_time": "2023-01-27T07:57:43.939Z"
   },
   {
    "duration": 34,
    "start_time": "2023-01-27T07:57:44.105Z"
   },
   {
    "duration": 18,
    "start_time": "2023-01-27T07:57:44.435Z"
   },
   {
    "duration": 31,
    "start_time": "2023-01-27T07:57:44.801Z"
   },
   {
    "duration": 33,
    "start_time": "2023-01-27T07:57:46.540Z"
   },
   {
    "duration": 18,
    "start_time": "2023-01-27T07:57:48.701Z"
   },
   {
    "duration": 30,
    "start_time": "2023-01-27T07:57:48.812Z"
   },
   {
    "duration": 18,
    "start_time": "2023-01-27T07:57:49.189Z"
   },
   {
    "duration": 32,
    "start_time": "2023-01-27T07:57:51.316Z"
   },
   {
    "duration": 19,
    "start_time": "2023-01-27T07:57:51.601Z"
   },
   {
    "duration": 70,
    "start_time": "2023-01-27T07:57:52.137Z"
   },
   {
    "duration": 83,
    "start_time": "2023-01-27T07:57:55.250Z"
   },
   {
    "duration": 145,
    "start_time": "2023-01-27T07:57:57.070Z"
   },
   {
    "duration": 23,
    "start_time": "2023-01-27T07:57:57.268Z"
   },
   {
    "duration": 2082,
    "start_time": "2023-01-27T07:57:59.968Z"
   },
   {
    "duration": 4,
    "start_time": "2023-01-27T07:58:04.237Z"
   },
   {
    "duration": 47,
    "start_time": "2023-01-27T07:58:06.204Z"
   },
   {
    "duration": 5,
    "start_time": "2023-01-27T07:58:06.407Z"
   },
   {
    "duration": 3,
    "start_time": "2023-01-27T07:58:06.580Z"
   },
   {
    "duration": 4,
    "start_time": "2023-01-27T07:58:07.088Z"
   },
   {
    "duration": 4,
    "start_time": "2023-01-27T07:58:07.365Z"
   },
   {
    "duration": 30,
    "start_time": "2023-01-27T07:58:15.173Z"
   },
   {
    "duration": 18802,
    "start_time": "2023-01-27T07:58:17.047Z"
   },
   {
    "duration": 1649,
    "start_time": "2023-01-27T07:59:30.142Z"
   },
   {
    "duration": 78232,
    "start_time": "2023-01-27T07:59:33.421Z"
   },
   {
    "duration": 9071,
    "start_time": "2023-01-27T08:00:51.655Z"
   },
   {
    "duration": 23733,
    "start_time": "2023-01-27T08:01:00.727Z"
   },
   {
    "duration": 193,
    "start_time": "2023-01-27T08:01:24.463Z"
   },
   {
    "duration": 220,
    "start_time": "2023-01-27T08:01:52.125Z"
   },
   {
    "duration": 76,
    "start_time": "2023-01-27T08:01:52.762Z"
   },
   {
    "duration": 10,
    "start_time": "2023-01-27T08:01:59.249Z"
   },
   {
    "duration": 11607,
    "start_time": "2023-01-27T08:02:02.443Z"
   },
   {
    "duration": 4837,
    "start_time": "2023-01-27T08:02:14.052Z"
   },
   {
    "duration": 124828,
    "start_time": "2023-01-27T08:02:39.109Z"
   },
   {
    "duration": 1005,
    "start_time": "2023-01-27T08:04:43.939Z"
   },
   {
    "duration": 1273,
    "start_time": "2023-01-27T08:05:52.427Z"
   },
   {
    "duration": 813,
    "start_time": "2023-01-27T08:05:53.702Z"
   },
   {
    "duration": 175,
    "start_time": "2023-01-27T08:05:54.517Z"
   },
   {
    "duration": 15,
    "start_time": "2023-01-27T08:05:54.694Z"
   },
   {
    "duration": 120,
    "start_time": "2023-01-27T08:05:54.749Z"
   },
   {
    "duration": 1330,
    "start_time": "2023-01-27T08:05:54.871Z"
   },
   {
    "duration": 412,
    "start_time": "2023-01-27T08:05:56.203Z"
   },
   {
    "duration": 399,
    "start_time": "2023-01-27T08:05:56.617Z"
   },
   {
    "duration": 506,
    "start_time": "2023-01-27T08:05:57.017Z"
   },
   {
    "duration": 30,
    "start_time": "2023-01-27T08:05:57.525Z"
   },
   {
    "duration": 11,
    "start_time": "2023-01-27T08:05:57.557Z"
   },
   {
    "duration": 57,
    "start_time": "2023-01-27T08:05:57.570Z"
   },
   {
    "duration": 475,
    "start_time": "2023-01-27T08:05:57.629Z"
   },
   {
    "duration": 28,
    "start_time": "2023-01-27T08:05:58.107Z"
   },
   {
    "duration": 14,
    "start_time": "2023-01-27T08:05:58.136Z"
   },
   {
    "duration": 810,
    "start_time": "2023-01-27T08:05:58.151Z"
   },
   {
    "duration": 27,
    "start_time": "2023-01-27T08:05:58.962Z"
   },
   {
    "duration": 421,
    "start_time": "2023-01-27T08:05:58.991Z"
   },
   {
    "duration": 365,
    "start_time": "2023-01-27T08:05:59.413Z"
   },
   {
    "duration": 21,
    "start_time": "2023-01-27T08:05:59.780Z"
   },
   {
    "duration": 368,
    "start_time": "2023-01-27T08:05:59.803Z"
   },
   {
    "duration": 23,
    "start_time": "2023-01-27T08:06:00.173Z"
   },
   {
    "duration": 115,
    "start_time": "2023-01-27T08:06:00.197Z"
   },
   {
    "duration": 70,
    "start_time": "2023-01-27T08:06:00.313Z"
   },
   {
    "duration": 83,
    "start_time": "2023-01-27T08:06:00.385Z"
   },
   {
    "duration": 60,
    "start_time": "2023-01-27T08:06:00.470Z"
   },
   {
    "duration": 44,
    "start_time": "2023-01-27T08:06:00.532Z"
   },
   {
    "duration": 58,
    "start_time": "2023-01-27T08:06:00.578Z"
   },
   {
    "duration": 41,
    "start_time": "2023-01-27T08:06:00.638Z"
   },
   {
    "duration": 68,
    "start_time": "2023-01-27T08:06:00.681Z"
   },
   {
    "duration": 67,
    "start_time": "2023-01-27T08:06:00.751Z"
   },
   {
    "duration": 49,
    "start_time": "2023-01-27T08:06:00.819Z"
   },
   {
    "duration": 60,
    "start_time": "2023-01-27T08:06:00.870Z"
   },
   {
    "duration": 56,
    "start_time": "2023-01-27T08:06:00.931Z"
   },
   {
    "duration": 68,
    "start_time": "2023-01-27T08:06:00.989Z"
   },
   {
    "duration": 40,
    "start_time": "2023-01-27T08:06:01.058Z"
   },
   {
    "duration": 97,
    "start_time": "2023-01-27T08:06:01.099Z"
   },
   {
    "duration": 112,
    "start_time": "2023-01-27T08:06:01.198Z"
   },
   {
    "duration": 161,
    "start_time": "2023-01-27T08:06:01.311Z"
   },
   {
    "duration": 22,
    "start_time": "2023-01-27T08:06:01.473Z"
   },
   {
    "duration": 2293,
    "start_time": "2023-01-27T08:06:04.705Z"
   },
   {
    "duration": 6,
    "start_time": "2023-01-27T08:06:09.132Z"
   },
   {
    "duration": 66,
    "start_time": "2023-01-27T08:06:10.439Z"
   },
   {
    "duration": 3,
    "start_time": "2023-01-27T08:06:10.606Z"
   },
   {
    "duration": 3,
    "start_time": "2023-01-27T08:06:10.901Z"
   },
   {
    "duration": 3,
    "start_time": "2023-01-27T08:06:11.455Z"
   },
   {
    "duration": 4,
    "start_time": "2023-01-27T08:06:11.763Z"
   },
   {
    "duration": 4,
    "start_time": "2023-01-27T08:06:11.905Z"
   },
   {
    "duration": 76,
    "start_time": "2023-01-27T10:43:43.827Z"
   },
   {
    "duration": 3359,
    "start_time": "2023-01-27T10:43:49.704Z"
   },
   {
    "duration": 86,
    "start_time": "2023-01-27T10:43:57.162Z"
   },
   {
    "duration": 15,
    "start_time": "2023-01-27T10:44:04.374Z"
   }
  ],
  "kernelspec": {
   "display_name": "Python 3 (ipykernel)",
   "language": "python",
   "name": "python3"
  },
  "language_info": {
   "codemirror_mode": {
    "name": "ipython",
    "version": 3
   },
   "file_extension": ".py",
   "mimetype": "text/x-python",
   "name": "python",
   "nbconvert_exporter": "python",
   "pygments_lexer": "ipython3",
   "version": "3.9.12"
  },
  "toc": {
   "base_numbering": 1,
   "nav_menu": {},
   "number_sections": true,
   "sideBar": true,
   "skip_h1_title": true,
   "title_cell": "Table of Contents",
   "title_sidebar": "Contents",
   "toc_cell": false,
   "toc_position": {},
   "toc_section_display": true,
   "toc_window_display": false
  }
 },
 "nbformat": 4,
 "nbformat_minor": 2
}
