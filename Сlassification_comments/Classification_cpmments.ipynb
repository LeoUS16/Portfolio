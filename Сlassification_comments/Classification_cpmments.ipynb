{
 "cells": [
  {
   "cell_type": "markdown",
   "metadata": {},
   "source": [
    "# Анализ комментариев на токсичность\n",
    "___"
   ]
  },
  {
   "cell_type": "markdown",
   "metadata": {},
   "source": [
    "Необходимо обучить модель классифицировать комментарии на позитивные и негативные. В моем распоряжении набор данных с разметкой о токсичности правок."
   ]
  },
  {
   "cell_type": "markdown",
   "metadata": {},
   "source": [
    "## Признаки\n",
    "___"
   ]
  },
  {
   "cell_type": "markdown",
   "metadata": {},
   "source": [
    "Данные находятся в файле `toxic_comments.csv`. \n",
    "\n",
    "- **`text`** — текст комментария;\n",
    "- **`toxic`** — целевой признак."
   ]
  },
  {
   "cell_type": "markdown",
   "metadata": {},
   "source": [
    "## Содержание\n",
    "___"
   ]
  },
  {
   "cell_type": "markdown",
   "metadata": {
    "toc": true
   },
   "source": [
    "<div class=\"toc\"><ul class=\"toc-item\"><li><span><a href=\"#Подготовка\" data-toc-modified-id=\"Подготовка-1\"><span class=\"toc-item-num\">1&nbsp;&nbsp;</span>Подготовка</a></span></li><li><span><a href=\"#Обучение\" data-toc-modified-id=\"Обучение-2\"><span class=\"toc-item-num\">2&nbsp;&nbsp;</span>Обучение</a></span><ul class=\"toc-item\"><li><span><a href=\"#Модель-логистической-регрессии\" data-toc-modified-id=\"Модель-логистической-регрессии-2.1\"><span class=\"toc-item-num\">2.1&nbsp;&nbsp;</span>Модель логистической регрессии</a></span></li><li><span><a href=\"#Модель-дерева-решений\" data-toc-modified-id=\"Модель-дерева-решений-2.2\"><span class=\"toc-item-num\">2.2&nbsp;&nbsp;</span>Модель дерева решений</a></span></li></ul></li><li><span><a href=\"#Выводы\" data-toc-modified-id=\"Выводы-3\"><span class=\"toc-item-num\">3&nbsp;&nbsp;</span>Выводы</a>"
   ]
  },
  {
   "cell_type": "markdown",
   "metadata": {},
   "source": [
    "## Подготовка\n",
    "___"
   ]
  },
  {
   "cell_type": "markdown",
   "metadata": {},
   "source": [
    "Импортирую необходимые для анализа библиотеки:"
   ]
  },
  {
   "cell_type": "code",
   "execution_count": 1,
   "metadata": {},
   "outputs": [],
   "source": [
    "import pandas as pd\n",
    "import numpy as np\n",
    "import nltk\n",
    "\n",
    "from nltk.corpus import stopwords as nltk_stopwords\n",
    "from nltk.stem import WordNetLemmatizer\n",
    "\n",
    "from sklearn.model_selection import KFold, cross_val_score, train_test_split\n",
    "from sklearn.utils import shuffle\n",
    "from sklearn.linear_model import LogisticRegression\n",
    "from sklearn.tree import DecisionTreeClassifier\n",
    "from sklearn.feature_extraction.text import TfidfVectorizer \n",
    "from sklearn.metrics import f1_score\n",
    "\n",
    "import re"
   ]
  },
  {
   "cell_type": "markdown",
   "metadata": {},
   "source": [
    "Прочитаю файл с данными:"
   ]
  },
  {
   "cell_type": "code",
   "execution_count": 2,
   "metadata": {},
   "outputs": [],
   "source": [
    "data = pd.read_csv('/datasets/toxic_comments.csv')"
   ]
  },
  {
   "cell_type": "code",
   "execution_count": 3,
   "metadata": {},
   "outputs": [
    {
     "data": {
      "text/html": [
       "<div>\n",
       "<style scoped>\n",
       "    .dataframe tbody tr th:only-of-type {\n",
       "        vertical-align: middle;\n",
       "    }\n",
       "\n",
       "    .dataframe tbody tr th {\n",
       "        vertical-align: top;\n",
       "    }\n",
       "\n",
       "    .dataframe thead th {\n",
       "        text-align: right;\n",
       "    }\n",
       "</style>\n",
       "<table border=\"1\" class=\"dataframe\">\n",
       "  <thead>\n",
       "    <tr style=\"text-align: right;\">\n",
       "      <th></th>\n",
       "      <th>Unnamed: 0</th>\n",
       "      <th>text</th>\n",
       "      <th>toxic</th>\n",
       "    </tr>\n",
       "  </thead>\n",
       "  <tbody>\n",
       "    <tr>\n",
       "      <th>0</th>\n",
       "      <td>0</td>\n",
       "      <td>Explanation\\nWhy the edits made under my usern...</td>\n",
       "      <td>0</td>\n",
       "    </tr>\n",
       "    <tr>\n",
       "      <th>1</th>\n",
       "      <td>1</td>\n",
       "      <td>D'aww! He matches this background colour I'm s...</td>\n",
       "      <td>0</td>\n",
       "    </tr>\n",
       "    <tr>\n",
       "      <th>2</th>\n",
       "      <td>2</td>\n",
       "      <td>Hey man, I'm really not trying to edit war. It...</td>\n",
       "      <td>0</td>\n",
       "    </tr>\n",
       "    <tr>\n",
       "      <th>3</th>\n",
       "      <td>3</td>\n",
       "      <td>\"\\nMore\\nI can't make any real suggestions on ...</td>\n",
       "      <td>0</td>\n",
       "    </tr>\n",
       "    <tr>\n",
       "      <th>4</th>\n",
       "      <td>4</td>\n",
       "      <td>You, sir, are my hero. Any chance you remember...</td>\n",
       "      <td>0</td>\n",
       "    </tr>\n",
       "  </tbody>\n",
       "</table>\n",
       "</div>"
      ],
      "text/plain": [
       "   Unnamed: 0                                               text  toxic\n",
       "0           0  Explanation\\nWhy the edits made under my usern...      0\n",
       "1           1  D'aww! He matches this background colour I'm s...      0\n",
       "2           2  Hey man, I'm really not trying to edit war. It...      0\n",
       "3           3  \"\\nMore\\nI can't make any real suggestions on ...      0\n",
       "4           4  You, sir, are my hero. Any chance you remember...      0"
      ]
     },
     "execution_count": 3,
     "metadata": {},
     "output_type": "execute_result"
    }
   ],
   "source": [
    "data.head()"
   ]
  },
  {
   "cell_type": "code",
   "execution_count": 4,
   "metadata": {},
   "outputs": [
    {
     "name": "stdout",
     "output_type": "stream",
     "text": [
      "<class 'pandas.core.frame.DataFrame'>\n",
      "RangeIndex: 159292 entries, 0 to 159291\n",
      "Data columns (total 3 columns):\n",
      " #   Column      Non-Null Count   Dtype \n",
      "---  ------      --------------   ----- \n",
      " 0   Unnamed: 0  159292 non-null  int64 \n",
      " 1   text        159292 non-null  object\n",
      " 2   toxic       159292 non-null  int64 \n",
      "dtypes: int64(2), object(1)\n",
      "memory usage: 3.6+ MB\n"
     ]
    }
   ],
   "source": [
    "data.info()"
   ]
  },
  {
   "cell_type": "markdown",
   "metadata": {},
   "source": [
    "Датасет имеет 159292 строк и 2 столбца:\n",
    "- `text` - столбец, содержащий текстовку комментариев;\n",
    "- `toxic` - целевой столбец, содержащий информацию о том, токсичный комментарий (1) или нет (0)."
   ]
  },
  {
   "cell_type": "markdown",
   "metadata": {},
   "source": [
    "Проверю, имеются ли пропуски в данных:"
   ]
  },
  {
   "cell_type": "code",
   "execution_count": 5,
   "metadata": {},
   "outputs": [
    {
     "data": {
      "text/plain": [
       "Unnamed: 0    0\n",
       "text          0\n",
       "toxic         0\n",
       "dtype: int64"
      ]
     },
     "execution_count": 5,
     "metadata": {},
     "output_type": "execute_result"
    }
   ],
   "source": [
    "data.isna().sum()"
   ]
  },
  {
   "cell_type": "markdown",
   "metadata": {},
   "source": [
    "Для обработки датасета необходимо лемматизировать текст комментариев. Для этого создам соответствующую функцию:"
   ]
  },
  {
   "cell_type": "code",
   "execution_count": 6,
   "metadata": {},
   "outputs": [],
   "source": [
    "def lemm_text(text):    \n",
    "    lemmatizer = WordNetLemmatizer()\n",
    "    word_list = nltk.word_tokenize(text)\n",
    "    lemmatized_text = ' '.join([lemmatizer.lemmatize(w) for w in word_list])\n",
    "    return lemmatized_text"
   ]
  },
  {
   "cell_type": "markdown",
   "metadata": {},
   "source": [
    "Для обработки датасета необходимо очистить и привести к одному виду текст комментариев. Для этого создам соответсвующую функцию:"
   ]
  },
  {
   "cell_type": "code",
   "execution_count": 7,
   "metadata": {},
   "outputs": [],
   "source": [
    "def clear_text(text):    \n",
    "    stop_words = set(nltk_stopwords.words('english'))\n",
    "    text = text.lower()\n",
    "    word_list = re.sub(r'[^a-z ]', ' ', text).split()\n",
    "    word_notstop_list = [w for w in word_list if not w in stop_words]\n",
    "    return ' '.join(word_notstop_list)"
   ]
  },
  {
   "cell_type": "markdown",
   "metadata": {},
   "source": [
    "Создам соответсвующие столбцы с обработанными данными:"
   ]
  },
  {
   "cell_type": "code",
   "execution_count": 8,
   "metadata": {},
   "outputs": [],
   "source": [
    "data['clear_text'] = data['text'].apply(clear_text)"
   ]
  },
  {
   "cell_type": "code",
   "execution_count": 9,
   "metadata": {},
   "outputs": [],
   "source": [
    "data['lemm_text'] = data['clear_text'].apply(lemm_text)"
   ]
  },
  {
   "cell_type": "code",
   "execution_count": 10,
   "metadata": {},
   "outputs": [
    {
     "data": {
      "text/html": [
       "<div>\n",
       "<style scoped>\n",
       "    .dataframe tbody tr th:only-of-type {\n",
       "        vertical-align: middle;\n",
       "    }\n",
       "\n",
       "    .dataframe tbody tr th {\n",
       "        vertical-align: top;\n",
       "    }\n",
       "\n",
       "    .dataframe thead th {\n",
       "        text-align: right;\n",
       "    }\n",
       "</style>\n",
       "<table border=\"1\" class=\"dataframe\">\n",
       "  <thead>\n",
       "    <tr style=\"text-align: right;\">\n",
       "      <th></th>\n",
       "      <th>Unnamed: 0</th>\n",
       "      <th>text</th>\n",
       "      <th>toxic</th>\n",
       "      <th>clear_text</th>\n",
       "      <th>lemm_text</th>\n",
       "    </tr>\n",
       "  </thead>\n",
       "  <tbody>\n",
       "    <tr>\n",
       "      <th>0</th>\n",
       "      <td>0</td>\n",
       "      <td>Explanation\\nWhy the edits made under my usern...</td>\n",
       "      <td>0</td>\n",
       "      <td>explanation edits made username hardcore metal...</td>\n",
       "      <td>explanation edits made username hardcore metal...</td>\n",
       "    </tr>\n",
       "    <tr>\n",
       "      <th>1</th>\n",
       "      <td>1</td>\n",
       "      <td>D'aww! He matches this background colour I'm s...</td>\n",
       "      <td>0</td>\n",
       "      <td>aww matches background colour seemingly stuck ...</td>\n",
       "      <td>aww match background colour seemingly stuck th...</td>\n",
       "    </tr>\n",
       "    <tr>\n",
       "      <th>2</th>\n",
       "      <td>2</td>\n",
       "      <td>Hey man, I'm really not trying to edit war. It...</td>\n",
       "      <td>0</td>\n",
       "      <td>hey man really trying edit war guy constantly ...</td>\n",
       "      <td>hey man really trying edit war guy constantly ...</td>\n",
       "    </tr>\n",
       "    <tr>\n",
       "      <th>3</th>\n",
       "      <td>3</td>\n",
       "      <td>\"\\nMore\\nI can't make any real suggestions on ...</td>\n",
       "      <td>0</td>\n",
       "      <td>make real suggestions improvement wondered sec...</td>\n",
       "      <td>make real suggestion improvement wondered sect...</td>\n",
       "    </tr>\n",
       "    <tr>\n",
       "      <th>4</th>\n",
       "      <td>4</td>\n",
       "      <td>You, sir, are my hero. Any chance you remember...</td>\n",
       "      <td>0</td>\n",
       "      <td>sir hero chance remember page</td>\n",
       "      <td>sir hero chance remember page</td>\n",
       "    </tr>\n",
       "  </tbody>\n",
       "</table>\n",
       "</div>"
      ],
      "text/plain": [
       "   Unnamed: 0                                               text  toxic  \\\n",
       "0           0  Explanation\\nWhy the edits made under my usern...      0   \n",
       "1           1  D'aww! He matches this background colour I'm s...      0   \n",
       "2           2  Hey man, I'm really not trying to edit war. It...      0   \n",
       "3           3  \"\\nMore\\nI can't make any real suggestions on ...      0   \n",
       "4           4  You, sir, are my hero. Any chance you remember...      0   \n",
       "\n",
       "                                          clear_text  \\\n",
       "0  explanation edits made username hardcore metal...   \n",
       "1  aww matches background colour seemingly stuck ...   \n",
       "2  hey man really trying edit war guy constantly ...   \n",
       "3  make real suggestions improvement wondered sec...   \n",
       "4                      sir hero chance remember page   \n",
       "\n",
       "                                           lemm_text  \n",
       "0  explanation edits made username hardcore metal...  \n",
       "1  aww match background colour seemingly stuck th...  \n",
       "2  hey man really trying edit war guy constantly ...  \n",
       "3  make real suggestion improvement wondered sect...  \n",
       "4                      sir hero chance remember page  "
      ]
     },
     "execution_count": 10,
     "metadata": {},
     "output_type": "execute_result"
    }
   ],
   "source": [
    "data.head()"
   ]
  },
  {
   "cell_type": "markdown",
   "metadata": {},
   "source": [
    "## Обучение\n",
    "___"
   ]
  },
  {
   "cell_type": "markdown",
   "metadata": {},
   "source": [
    "Выделю столбец с леммитизированными данными в корпус:"
   ]
  },
  {
   "cell_type": "code",
   "execution_count": 11,
   "metadata": {},
   "outputs": [],
   "source": [
    "corpus = data['lemm_text']"
   ]
  },
  {
   "cell_type": "code",
   "execution_count": 12,
   "metadata": {},
   "outputs": [],
   "source": [
    "kfold = KFold(n_splits=5, random_state=12345, shuffle=True)"
   ]
  },
  {
   "cell_type": "markdown",
   "metadata": {},
   "source": [
    "Посчитаю `TF-IDF` данных:"
   ]
  },
  {
   "cell_type": "code",
   "execution_count": 13,
   "metadata": {},
   "outputs": [],
   "source": [
    "count_tf_idf = TfidfVectorizer()\n",
    "tf_idf = count_tf_idf.fit_transform(corpus)"
   ]
  },
  {
   "cell_type": "markdown",
   "metadata": {},
   "source": [
    "Посмотрим на матрицу:"
   ]
  },
  {
   "cell_type": "code",
   "execution_count": 14,
   "metadata": {},
   "outputs": [
    {
     "data": {
      "text/plain": [
       "(159292, 158376)"
      ]
     },
     "execution_count": 14,
     "metadata": {},
     "output_type": "execute_result"
    }
   ],
   "source": [
    "tf_idf.shape"
   ]
  },
  {
   "cell_type": "markdown",
   "metadata": {},
   "source": [
    "Выделю обучающую и тестовую части данных:"
   ]
  },
  {
   "cell_type": "code",
   "execution_count": 15,
   "metadata": {},
   "outputs": [],
   "source": [
    "features_train, features_test, target_train, target_test = train_test_split(\n",
    "    tf_idf, data['toxic'].values, test_size=0.2, stratify=data['toxic'].values, shuffle=True, random_state=12345)"
   ]
  },
  {
   "cell_type": "markdown",
   "metadata": {},
   "source": [
    "### Модель логистической регрессии"
   ]
  },
  {
   "cell_type": "markdown",
   "metadata": {},
   "source": [
    "Обучу модель логистической регрессии и посчитаю `F-1 меру`:"
   ]
  },
  {
   "cell_type": "code",
   "execution_count": 16,
   "metadata": {},
   "outputs": [],
   "source": [
    "model_lr = LogisticRegression(solver='liblinear', class_weight='balanced', random_state=12345)"
   ]
  },
  {
   "cell_type": "code",
   "execution_count": 17,
   "metadata": {},
   "outputs": [
    {
     "name": "stdout",
     "output_type": "stream",
     "text": [
      "f1 score = 0.7529384802135397\n"
     ]
    }
   ],
   "source": [
    "print('f1 score =', cross_val_score(model_lr, features_train, target_train, cv=kfold, scoring='f1').mean())"
   ]
  },
  {
   "cell_type": "markdown",
   "metadata": {},
   "source": [
    "### Модель дерева решений"
   ]
  },
  {
   "cell_type": "code",
   "execution_count": 18,
   "metadata": {},
   "outputs": [],
   "source": [
    "model_dtc = DecisionTreeClassifier(class_weight='balanced', random_state=12345)"
   ]
  },
  {
   "cell_type": "code",
   "execution_count": 19,
   "metadata": {},
   "outputs": [
    {
     "name": "stdout",
     "output_type": "stream",
     "text": [
      "f1 score = 0.6400567407112728\n"
     ]
    }
   ],
   "source": [
    "print('f1 score =', cross_val_score(model_dtc, features_train, target_train, cv=kfold, scoring='f1').mean())"
   ]
  },
  {
   "cell_type": "markdown",
   "metadata": {},
   "source": [
    "## Выводы\n",
    "___"
   ]
  },
  {
   "cell_type": "markdown",
   "metadata": {},
   "source": [
    "Мной была проведена обработка исходных данных, проанализированы две различные модели обучения: LogisticRegression и DecisionTreeClassifier. Лучшее значение F-1 меры показала модель LogisticRegression. На ней я и обучил тестовые данные и получил F-1 меру со значением больше 0.75."
   ]
  }
 ],
 "metadata": {
  "ExecuteTimeLog": [
   {
    "duration": 1675,
    "start_time": "2023-02-10T21:07:46.185Z"
   },
   {
    "duration": 3567,
    "start_time": "2023-02-10T21:07:47.863Z"
   },
   {
    "duration": 16,
    "start_time": "2023-02-10T21:07:53.304Z"
   },
   {
    "duration": 34,
    "start_time": "2023-02-10T21:08:09.795Z"
   },
   {
    "duration": 1358,
    "start_time": "2023-02-11T14:32:08.992Z"
   },
   {
    "duration": 143,
    "start_time": "2023-02-11T14:32:10.351Z"
   },
   {
    "duration": 3219,
    "start_time": "2023-02-11T14:32:27.232Z"
   },
   {
    "duration": 15,
    "start_time": "2023-02-11T14:32:30.452Z"
   },
   {
    "duration": 56,
    "start_time": "2023-02-11T14:32:30.468Z"
   },
   {
    "duration": 849,
    "start_time": "2023-02-11T14:33:43.709Z"
   },
   {
    "duration": 6,
    "start_time": "2023-02-11T14:33:44.560Z"
   },
   {
    "duration": 12,
    "start_time": "2023-02-11T14:33:53.613Z"
   },
   {
    "duration": 820,
    "start_time": "2023-02-11T14:33:59.565Z"
   },
   {
    "duration": 9,
    "start_time": "2023-02-11T14:34:00.387Z"
   },
   {
    "duration": 9,
    "start_time": "2023-02-11T14:35:22.449Z"
   },
   {
    "duration": 26,
    "start_time": "2023-02-11T14:35:45.282Z"
   },
   {
    "duration": 1426,
    "start_time": "2023-02-11T14:38:03.909Z"
   },
   {
    "duration": 847,
    "start_time": "2023-02-11T14:38:05.337Z"
   },
   {
    "duration": 18,
    "start_time": "2023-02-11T14:38:06.186Z"
   },
   {
    "duration": 31,
    "start_time": "2023-02-11T14:38:06.486Z"
   },
   {
    "duration": 3,
    "start_time": "2023-02-11T14:38:23.848Z"
   },
   {
    "duration": 778,
    "start_time": "2023-02-11T14:38:24.363Z"
   },
   {
    "duration": 7,
    "start_time": "2023-02-11T14:38:26.913Z"
   },
   {
    "duration": 1313,
    "start_time": "2023-02-11T14:38:44.041Z"
   },
   {
    "duration": 844,
    "start_time": "2023-02-11T14:38:45.355Z"
   },
   {
    "duration": 13,
    "start_time": "2023-02-11T14:38:47.074Z"
   },
   {
    "duration": 3,
    "start_time": "2023-02-11T14:42:46.113Z"
   },
   {
    "duration": 125,
    "start_time": "2023-02-11T14:42:47.556Z"
   },
   {
    "duration": 18832,
    "start_time": "2023-02-11T14:43:16.974Z"
   },
   {
    "duration": 7,
    "start_time": "2023-02-11T14:43:42.652Z"
   },
   {
    "duration": 4,
    "start_time": "2023-02-11T14:44:47.488Z"
   },
   {
    "duration": 9,
    "start_time": "2023-02-11T14:44:49.013Z"
   },
   {
    "duration": 1438,
    "start_time": "2023-02-11T14:45:01.225Z"
   },
   {
    "duration": 840,
    "start_time": "2023-02-11T14:45:02.665Z"
   },
   {
    "duration": 14,
    "start_time": "2023-02-11T14:45:03.507Z"
   },
   {
    "duration": 30,
    "start_time": "2023-02-11T14:45:03.524Z"
   },
   {
    "duration": 43,
    "start_time": "2023-02-11T14:45:03.555Z"
   },
   {
    "duration": 7,
    "start_time": "2023-02-11T14:45:03.599Z"
   },
   {
    "duration": 18851,
    "start_time": "2023-02-11T14:45:03.608Z"
   },
   {
    "duration": 8,
    "start_time": "2023-02-11T14:45:22.461Z"
   },
   {
    "duration": 7,
    "start_time": "2023-02-11T14:45:22.471Z"
   },
   {
    "duration": 17687,
    "start_time": "2023-02-11T14:45:42.235Z"
   },
   {
    "duration": 3,
    "start_time": "2023-02-11T14:45:59.923Z"
   },
   {
    "duration": 4,
    "start_time": "2023-02-11T14:47:45.868Z"
   },
   {
    "duration": 4,
    "start_time": "2023-02-11T14:47:52.569Z"
   },
   {
    "duration": 347,
    "start_time": "2023-02-11T14:48:00.268Z"
   },
   {
    "duration": 242,
    "start_time": "2023-02-11T14:48:12.079Z"
   },
   {
    "duration": 207,
    "start_time": "2023-02-11T14:48:32.010Z"
   },
   {
    "duration": 5,
    "start_time": "2023-02-11T14:48:46.705Z"
   },
   {
    "duration": 3,
    "start_time": "2023-02-11T14:48:47.310Z"
   },
   {
    "duration": 225,
    "start_time": "2023-02-11T14:48:47.847Z"
   },
   {
    "duration": 9,
    "start_time": "2023-02-11T14:50:12.173Z"
   },
   {
    "duration": 1300,
    "start_time": "2023-02-11T15:20:05.844Z"
   },
   {
    "duration": 891,
    "start_time": "2023-02-11T15:20:07.147Z"
   },
   {
    "duration": 13,
    "start_time": "2023-02-11T15:20:08.040Z"
   },
   {
    "duration": 39,
    "start_time": "2023-02-11T15:20:08.055Z"
   },
   {
    "duration": 30,
    "start_time": "2023-02-11T15:20:08.096Z"
   },
   {
    "duration": 3,
    "start_time": "2023-02-11T15:20:08.391Z"
   },
   {
    "duration": 1382,
    "start_time": "2023-02-11T15:20:44.601Z"
   },
   {
    "duration": 884,
    "start_time": "2023-02-11T15:20:45.985Z"
   },
   {
    "duration": 12,
    "start_time": "2023-02-11T15:20:46.871Z"
   },
   {
    "duration": 35,
    "start_time": "2023-02-11T15:20:46.887Z"
   },
   {
    "duration": 25,
    "start_time": "2023-02-11T15:20:46.923Z"
   },
   {
    "duration": 29,
    "start_time": "2023-02-11T15:20:47.140Z"
   },
   {
    "duration": 3,
    "start_time": "2023-02-11T15:20:47.261Z"
   },
   {
    "duration": 3,
    "start_time": "2023-02-11T15:22:59.689Z"
   },
   {
    "duration": 150,
    "start_time": "2023-02-11T15:24:15.864Z"
   },
   {
    "duration": 1320,
    "start_time": "2023-02-11T15:24:38.520Z"
   },
   {
    "duration": 10,
    "start_time": "2023-02-11T15:24:45.857Z"
   },
   {
    "duration": 95,
    "start_time": "2023-02-11T15:29:34.373Z"
   },
   {
    "duration": 3,
    "start_time": "2023-02-11T15:29:35.029Z"
   },
   {
    "duration": 2380,
    "start_time": "2023-02-11T15:29:35.608Z"
   },
   {
    "duration": 77,
    "start_time": "2023-02-11T15:29:38.875Z"
   },
   {
    "duration": 4,
    "start_time": "2023-02-11T15:29:41.196Z"
   },
   {
    "duration": 4,
    "start_time": "2023-02-11T15:29:55.329Z"
   },
   {
    "duration": 78,
    "start_time": "2023-02-11T15:29:57.185Z"
   },
   {
    "duration": 3,
    "start_time": "2023-02-11T15:29:57.876Z"
   },
   {
    "duration": 115,
    "start_time": "2023-02-11T15:33:28.746Z"
   },
   {
    "duration": 552,
    "start_time": "2023-02-11T15:38:58.947Z"
   },
   {
    "duration": 694,
    "start_time": "2023-02-11T15:39:53.715Z"
   },
   {
    "duration": 666,
    "start_time": "2023-02-11T15:40:54.519Z"
   },
   {
    "duration": 1355,
    "start_time": "2023-02-11T15:41:16.528Z"
   },
   {
    "duration": 1112,
    "start_time": "2023-02-11T15:41:17.885Z"
   },
   {
    "duration": 18,
    "start_time": "2023-02-11T15:41:18.998Z"
   },
   {
    "duration": 64,
    "start_time": "2023-02-11T15:41:19.018Z"
   },
   {
    "duration": 38,
    "start_time": "2023-02-11T15:41:19.084Z"
   },
   {
    "duration": 52,
    "start_time": "2023-02-11T15:41:19.125Z"
   },
   {
    "duration": 0,
    "start_time": "2023-02-11T15:41:19.180Z"
   },
   {
    "duration": 0,
    "start_time": "2023-02-11T15:41:19.182Z"
   },
   {
    "duration": 0,
    "start_time": "2023-02-11T15:41:19.184Z"
   },
   {
    "duration": 0,
    "start_time": "2023-02-11T15:41:19.186Z"
   },
   {
    "duration": 0,
    "start_time": "2023-02-11T15:41:19.187Z"
   },
   {
    "duration": 0,
    "start_time": "2023-02-11T15:41:19.189Z"
   },
   {
    "duration": 0,
    "start_time": "2023-02-11T15:41:19.190Z"
   },
   {
    "duration": 0,
    "start_time": "2023-02-11T15:41:19.192Z"
   },
   {
    "duration": 0,
    "start_time": "2023-02-11T15:41:19.193Z"
   },
   {
    "duration": 0,
    "start_time": "2023-02-11T15:41:19.194Z"
   },
   {
    "duration": 0,
    "start_time": "2023-02-11T15:41:19.200Z"
   },
   {
    "duration": 0,
    "start_time": "2023-02-11T15:41:19.201Z"
   },
   {
    "duration": 40,
    "start_time": "2023-02-11T15:41:28.746Z"
   },
   {
    "duration": 4,
    "start_time": "2023-02-11T15:41:30.700Z"
   },
   {
    "duration": 3,
    "start_time": "2023-02-11T15:41:31.140Z"
   },
   {
    "duration": 1505,
    "start_time": "2023-02-11T15:41:31.516Z"
   },
   {
    "duration": 8,
    "start_time": "2023-02-11T15:41:33.023Z"
   },
   {
    "duration": 95,
    "start_time": "2023-02-11T15:41:37.288Z"
   },
   {
    "duration": 3,
    "start_time": "2023-02-11T15:41:37.514Z"
   },
   {
    "duration": 2738,
    "start_time": "2023-02-11T15:41:37.725Z"
   },
   {
    "duration": 5,
    "start_time": "2023-02-11T15:41:40.465Z"
   },
   {
    "duration": 117,
    "start_time": "2023-02-11T15:41:40.471Z"
   },
   {
    "duration": 21,
    "start_time": "2023-02-11T15:41:40.590Z"
   },
   {
    "duration": 628,
    "start_time": "2023-02-11T15:41:40.614Z"
   },
   {
    "duration": 589,
    "start_time": "2023-02-11T15:41:41.244Z"
   },
   {
    "duration": 599,
    "start_time": "2023-02-11T15:42:11.679Z"
   },
   {
    "duration": 81,
    "start_time": "2023-02-11T15:42:22.277Z"
   },
   {
    "duration": 60,
    "start_time": "2023-02-11T15:42:28.696Z"
   },
   {
    "duration": 609,
    "start_time": "2023-02-11T15:42:37.119Z"
   },
   {
    "duration": 3,
    "start_time": "2023-02-11T15:43:46.914Z"
   },
   {
    "duration": 609,
    "start_time": "2023-02-11T15:43:47.678Z"
   },
   {
    "duration": 3,
    "start_time": "2023-02-11T15:44:49.278Z"
   },
   {
    "duration": 61,
    "start_time": "2023-02-11T15:45:28.000Z"
   },
   {
    "duration": 9635,
    "start_time": "2023-02-11T15:45:31.816Z"
   },
   {
    "duration": 8,
    "start_time": "2023-02-11T15:47:08.503Z"
   },
   {
    "duration": 54053,
    "start_time": "2023-02-11T15:47:08.968Z"
   },
   {
    "duration": 163,
    "start_time": "2023-02-11T15:48:34.049Z"
   },
   {
    "duration": 5,
    "start_time": "2023-02-11T15:48:42.407Z"
   },
   {
    "duration": 575,
    "start_time": "2023-02-11T15:48:42.560Z"
   },
   {
    "duration": 1368,
    "start_time": "2023-02-11T15:48:58.003Z"
   },
   {
    "duration": 908,
    "start_time": "2023-02-11T15:48:59.373Z"
   },
   {
    "duration": 26,
    "start_time": "2023-02-11T15:49:00.283Z"
   },
   {
    "duration": 43,
    "start_time": "2023-02-11T15:49:00.312Z"
   },
   {
    "duration": 42,
    "start_time": "2023-02-11T15:49:00.356Z"
   },
   {
    "duration": 39,
    "start_time": "2023-02-11T15:49:00.401Z"
   },
   {
    "duration": 21,
    "start_time": "2023-02-11T15:49:00.442Z"
   },
   {
    "duration": 45,
    "start_time": "2023-02-11T15:49:00.465Z"
   },
   {
    "duration": 1266,
    "start_time": "2023-02-11T15:49:00.512Z"
   },
   {
    "duration": 15,
    "start_time": "2023-02-11T15:49:01.782Z"
   },
   {
    "duration": 130,
    "start_time": "2023-02-11T15:49:01.799Z"
   },
   {
    "duration": 28,
    "start_time": "2023-02-11T15:49:01.931Z"
   },
   {
    "duration": 2584,
    "start_time": "2023-02-11T15:49:01.961Z"
   },
   {
    "duration": 4,
    "start_time": "2023-02-11T15:49:04.547Z"
   },
   {
    "duration": 93,
    "start_time": "2023-02-11T15:49:04.553Z"
   },
   {
    "duration": 3,
    "start_time": "2023-02-11T15:49:04.648Z"
   },
   {
    "duration": 579,
    "start_time": "2023-02-11T15:49:04.653Z"
   },
   {
    "duration": 2,
    "start_time": "2023-02-11T15:49:05.234Z"
   },
   {
    "duration": 543,
    "start_time": "2023-02-11T15:49:05.238Z"
   },
   {
    "duration": 3,
    "start_time": "2023-02-11T15:49:05.783Z"
   },
   {
    "duration": 54313,
    "start_time": "2023-02-11T15:49:05.792Z"
   },
   {
    "duration": 166,
    "start_time": "2023-02-11T15:50:00.107Z"
   },
   {
    "duration": 133,
    "start_time": "2023-02-11T15:51:45.488Z"
   },
   {
    "duration": 7,
    "start_time": "2023-02-11T15:51:45.739Z"
   },
   {
    "duration": 1448,
    "start_time": "2023-02-11T15:52:27.133Z"
   },
   {
    "duration": 949,
    "start_time": "2023-02-11T15:52:28.584Z"
   },
   {
    "duration": 17,
    "start_time": "2023-02-11T15:52:29.535Z"
   },
   {
    "duration": 53,
    "start_time": "2023-02-11T15:52:29.554Z"
   },
   {
    "duration": 36,
    "start_time": "2023-02-11T15:52:29.608Z"
   },
   {
    "duration": 31,
    "start_time": "2023-02-11T15:52:32.802Z"
   },
   {
    "duration": 3,
    "start_time": "2023-02-11T15:52:34.059Z"
   },
   {
    "duration": 4,
    "start_time": "2023-02-11T15:52:34.578Z"
   },
   {
    "duration": 174,
    "start_time": "2023-02-11T15:52:39.156Z"
   },
   {
    "duration": 4,
    "start_time": "2023-02-11T15:53:20.089Z"
   },
   {
    "duration": 15,
    "start_time": "2023-02-11T15:53:20.837Z"
   },
   {
    "duration": 1354,
    "start_time": "2023-02-11T15:54:06.938Z"
   },
   {
    "duration": 893,
    "start_time": "2023-02-11T15:54:09.413Z"
   },
   {
    "duration": 16,
    "start_time": "2023-02-11T15:54:11.686Z"
   },
   {
    "duration": 32,
    "start_time": "2023-02-11T15:54:11.953Z"
   },
   {
    "duration": 33,
    "start_time": "2023-02-11T15:54:14.214Z"
   },
   {
    "duration": 3,
    "start_time": "2023-02-11T15:54:14.784Z"
   },
   {
    "duration": 3,
    "start_time": "2023-02-11T15:54:15.545Z"
   },
   {
    "duration": 4,
    "start_time": "2023-02-11T15:54:16.139Z"
   },
   {
    "duration": 122,
    "start_time": "2023-02-11T15:54:17.641Z"
   },
   {
    "duration": 3,
    "start_time": "2023-02-11T15:54:36.088Z"
   },
   {
    "duration": 18,
    "start_time": "2023-02-11T15:54:36.503Z"
   },
   {
    "duration": 32,
    "start_time": "2023-02-11T15:55:24.669Z"
   },
   {
    "duration": 1375,
    "start_time": "2023-02-11T15:55:45.589Z"
   },
   {
    "duration": 911,
    "start_time": "2023-02-11T15:55:46.967Z"
   },
   {
    "duration": 18,
    "start_time": "2023-02-11T15:55:47.880Z"
   },
   {
    "duration": 35,
    "start_time": "2023-02-11T15:55:47.899Z"
   },
   {
    "duration": 29,
    "start_time": "2023-02-11T15:55:47.936Z"
   },
   {
    "duration": 3,
    "start_time": "2023-02-11T15:55:53.687Z"
   },
   {
    "duration": 4,
    "start_time": "2023-02-11T15:55:55.352Z"
   },
   {
    "duration": 19675,
    "start_time": "2023-02-11T15:56:07.013Z"
   },
   {
    "duration": 55912,
    "start_time": "2023-02-11T15:56:32.605Z"
   },
   {
    "duration": 8,
    "start_time": "2023-02-11T15:57:28.519Z"
   },
   {
    "duration": 1977,
    "start_time": "2023-02-11T15:57:41.197Z"
   },
   {
    "duration": 16,
    "start_time": "2023-02-11T15:57:43.177Z"
   },
   {
    "duration": 7230,
    "start_time": "2023-02-11T15:57:44.212Z"
   },
   {
    "duration": 4,
    "start_time": "2023-02-11T15:57:51.444Z"
   },
   {
    "duration": 128,
    "start_time": "2023-02-11T15:57:51.450Z"
   },
   {
    "duration": 3,
    "start_time": "2023-02-11T15:57:53.919Z"
   },
   {
    "duration": 56652,
    "start_time": "2023-02-11T15:57:54.777Z"
   },
   {
    "duration": 2,
    "start_time": "2023-02-11T15:59:14.605Z"
   },
   {
    "duration": 1555,
    "start_time": "2023-02-11T16:24:02.722Z"
   },
   {
    "duration": 4110,
    "start_time": "2023-02-11T16:24:04.280Z"
   },
   {
    "duration": 19,
    "start_time": "2023-02-11T16:24:08.393Z"
   },
   {
    "duration": 41,
    "start_time": "2023-02-11T16:24:08.413Z"
   },
   {
    "duration": 41,
    "start_time": "2023-02-11T16:24:08.456Z"
   },
   {
    "duration": 4,
    "start_time": "2023-02-11T16:24:08.498Z"
   },
   {
    "duration": 16,
    "start_time": "2023-02-11T16:24:08.508Z"
   },
   {
    "duration": 21859,
    "start_time": "2023-02-11T16:24:08.527Z"
   },
   {
    "duration": 59901,
    "start_time": "2023-02-11T16:24:30.388Z"
   },
   {
    "duration": 10,
    "start_time": "2023-02-11T16:25:30.290Z"
   },
   {
    "duration": 2023,
    "start_time": "2023-02-11T16:25:30.302Z"
   },
   {
    "duration": 5,
    "start_time": "2023-02-11T16:25:32.328Z"
   },
   {
    "duration": 8019,
    "start_time": "2023-02-11T16:25:32.335Z"
   },
   {
    "duration": 4,
    "start_time": "2023-02-11T16:25:40.357Z"
   },
   {
    "duration": 111,
    "start_time": "2023-02-11T16:25:40.363Z"
   },
   {
    "duration": 2,
    "start_time": "2023-02-11T16:25:40.476Z"
   },
   {
    "duration": 57227,
    "start_time": "2023-02-11T16:25:40.480Z"
   },
   {
    "duration": 5,
    "start_time": "2023-02-11T16:26:37.714Z"
   },
   {
    "duration": 564813,
    "start_time": "2023-02-11T16:26:37.720Z"
   },
   {
    "duration": 3,
    "start_time": "2023-02-11T16:36:02.535Z"
   },
   {
    "duration": 1531,
    "start_time": "2023-02-11T16:49:20.051Z"
   },
   {
    "duration": 3787,
    "start_time": "2023-02-11T16:49:33.837Z"
   },
   {
    "duration": 17,
    "start_time": "2023-02-11T16:49:37.627Z"
   },
   {
    "duration": 35,
    "start_time": "2023-02-11T16:49:41.160Z"
   },
   {
    "duration": 37,
    "start_time": "2023-02-11T16:51:14.361Z"
   },
   {
    "duration": 4,
    "start_time": "2023-02-11T16:52:26.480Z"
   },
   {
    "duration": 5,
    "start_time": "2023-02-11T16:52:27.383Z"
   },
   {
    "duration": 21821,
    "start_time": "2023-02-11T16:52:29.919Z"
   },
   {
    "duration": 59338,
    "start_time": "2023-02-11T16:52:51.742Z"
   },
   {
    "duration": 15,
    "start_time": "2023-02-11T16:53:51.082Z"
   },
   {
    "duration": 2006,
    "start_time": "2023-02-11T16:53:55.407Z"
   },
   {
    "duration": 3,
    "start_time": "2023-02-11T16:53:58.592Z"
   },
   {
    "duration": 7893,
    "start_time": "2023-02-11T16:54:17.036Z"
   },
   {
    "duration": 5,
    "start_time": "2023-02-11T16:54:31.214Z"
   },
   {
    "duration": 87,
    "start_time": "2023-02-11T16:54:48.857Z"
   },
   {
    "duration": 3,
    "start_time": "2023-02-11T16:55:19.450Z"
   },
   {
    "duration": 58388,
    "start_time": "2023-02-11T16:55:20.422Z"
   },
   {
    "duration": 3,
    "start_time": "2023-02-11T16:56:31.812Z"
   },
   {
    "duration": 575655,
    "start_time": "2023-02-11T16:56:32.212Z"
   },
   {
    "duration": 3,
    "start_time": "2023-02-11T17:06:07.869Z"
   },
   {
    "duration": 1915,
    "start_time": "2023-02-11T17:21:17.370Z"
   },
   {
    "duration": 4,
    "start_time": "2023-02-11T17:21:32.923Z"
   },
   {
    "duration": 3709,
    "start_time": "2023-02-11T17:21:33.916Z"
   },
   {
    "duration": 13,
    "start_time": "2023-02-11T17:21:37.628Z"
   },
   {
    "duration": 32,
    "start_time": "2023-02-11T17:21:37.643Z"
   },
   {
    "duration": 38,
    "start_time": "2023-02-11T17:21:37.677Z"
   },
   {
    "duration": 3,
    "start_time": "2023-02-11T17:21:37.717Z"
   },
   {
    "duration": 6,
    "start_time": "2023-02-11T17:21:37.722Z"
   },
   {
    "duration": 20655,
    "start_time": "2023-02-11T17:21:37.730Z"
   },
   {
    "duration": 57591,
    "start_time": "2023-02-11T17:21:58.387Z"
   },
   {
    "duration": 9,
    "start_time": "2023-02-11T17:22:55.979Z"
   },
   {
    "duration": 1970,
    "start_time": "2023-02-11T17:22:55.993Z"
   },
   {
    "duration": 9,
    "start_time": "2023-02-11T17:22:57.966Z"
   },
   {
    "duration": 7635,
    "start_time": "2023-02-11T17:22:57.977Z"
   },
   {
    "duration": 5,
    "start_time": "2023-02-11T17:23:05.614Z"
   },
   {
    "duration": 101,
    "start_time": "2023-02-11T17:24:19.913Z"
   },
   {
    "duration": 3,
    "start_time": "2023-02-11T17:24:21.941Z"
   },
   {
    "duration": 61516,
    "start_time": "2023-02-11T17:24:22.119Z"
   },
   {
    "duration": 4,
    "start_time": "2023-02-11T17:25:23.637Z"
   },
   {
    "duration": 581879,
    "start_time": "2023-02-11T17:25:23.643Z"
   },
   {
    "duration": 3,
    "start_time": "2023-02-11T17:35:05.524Z"
   },
   {
    "duration": 46,
    "start_time": "2023-02-11T17:53:18.624Z"
   },
   {
    "duration": 1499,
    "start_time": "2023-02-11T17:53:24.825Z"
   },
   {
    "duration": 1301,
    "start_time": "2023-02-11T17:53:37.630Z"
   },
   {
    "duration": 861,
    "start_time": "2023-02-11T17:53:38.933Z"
   },
   {
    "duration": 12,
    "start_time": "2023-02-11T17:53:39.796Z"
   },
   {
    "duration": 32,
    "start_time": "2023-02-11T17:53:39.809Z"
   },
   {
    "duration": 25,
    "start_time": "2023-02-11T17:53:39.843Z"
   },
   {
    "duration": 23,
    "start_time": "2023-02-11T17:53:39.870Z"
   },
   {
    "duration": 4,
    "start_time": "2023-02-11T17:53:39.895Z"
   },
   {
    "duration": 18253,
    "start_time": "2023-02-11T17:53:39.900Z"
   },
   {
    "duration": 51252,
    "start_time": "2023-02-11T17:53:58.155Z"
   },
   {
    "duration": 8,
    "start_time": "2023-02-11T17:54:49.408Z"
   },
   {
    "duration": 1903,
    "start_time": "2023-02-11T17:54:49.418Z"
   },
   {
    "duration": 23,
    "start_time": "2023-02-11T17:54:51.323Z"
   },
   {
    "duration": 6913,
    "start_time": "2023-02-11T17:54:51.348Z"
   },
   {
    "duration": 4,
    "start_time": "2023-02-11T17:54:58.263Z"
   },
   {
    "duration": 92,
    "start_time": "2023-02-11T17:54:58.268Z"
   },
   {
    "duration": 2,
    "start_time": "2023-02-11T17:54:58.362Z"
   },
   {
    "duration": 65657,
    "start_time": "2023-02-11T17:54:58.366Z"
   },
   {
    "duration": 14864,
    "start_time": "2023-02-11T17:56:24.469Z"
   },
   {
    "duration": 1526,
    "start_time": "2023-02-12T19:04:10.439Z"
   },
   {
    "duration": 2473,
    "start_time": "2023-02-12T19:04:11.967Z"
   },
   {
    "duration": 20,
    "start_time": "2023-02-12T19:04:14.443Z"
   },
   {
    "duration": 74,
    "start_time": "2023-02-12T19:04:14.465Z"
   },
   {
    "duration": 32,
    "start_time": "2023-02-12T19:04:14.541Z"
   },
   {
    "duration": 19,
    "start_time": "2023-02-12T19:04:14.575Z"
   },
   {
    "duration": 12,
    "start_time": "2023-02-12T19:04:14.597Z"
   },
   {
    "duration": 20108,
    "start_time": "2023-02-12T19:04:14.612Z"
   },
   {
    "duration": 54972,
    "start_time": "2023-02-12T19:04:34.722Z"
   },
   {
    "duration": 9,
    "start_time": "2023-02-12T19:05:29.696Z"
   },
   {
    "duration": 6,
    "start_time": "2023-02-12T19:05:29.706Z"
   },
   {
    "duration": 5,
    "start_time": "2023-02-12T19:05:29.721Z"
   },
   {
    "duration": 4804,
    "start_time": "2023-02-12T19:05:29.728Z"
   },
   {
    "duration": 6,
    "start_time": "2023-02-12T19:05:34.534Z"
   },
   {
    "duration": 126,
    "start_time": "2023-02-12T19:05:34.542Z"
   },
   {
    "duration": 3,
    "start_time": "2023-02-12T19:05:44.852Z"
   },
   {
    "duration": 66476,
    "start_time": "2023-02-12T19:05:45.575Z"
   },
   {
    "duration": 3,
    "start_time": "2023-02-12T19:11:29.794Z"
   },
   {
    "duration": 598260,
    "start_time": "2023-02-12T19:11:29.996Z"
   },
   {
    "duration": 3,
    "start_time": "2023-02-12T19:21:28.258Z"
   },
   {
    "duration": 1355,
    "start_time": "2023-07-10T20:19:54.723Z"
   },
   {
    "duration": 2700,
    "start_time": "2023-07-10T20:19:56.081Z"
   },
   {
    "duration": 12,
    "start_time": "2023-07-10T20:19:58.783Z"
   },
   {
    "duration": 51,
    "start_time": "2023-07-10T20:19:58.798Z"
   },
   {
    "duration": 20,
    "start_time": "2023-07-10T20:19:58.851Z"
   },
   {
    "duration": 4,
    "start_time": "2023-07-10T20:19:58.872Z"
   },
   {
    "duration": 6,
    "start_time": "2023-07-10T20:19:58.878Z"
   },
   {
    "duration": 17593,
    "start_time": "2023-07-10T20:19:58.885Z"
   },
   {
    "duration": 53177,
    "start_time": "2023-07-10T20:20:16.480Z"
   },
   {
    "duration": 7,
    "start_time": "2023-07-10T20:21:09.659Z"
   },
   {
    "duration": 9,
    "start_time": "2023-07-10T20:21:09.667Z"
   },
   {
    "duration": 4,
    "start_time": "2023-07-10T20:21:09.677Z"
   },
   {
    "duration": 4206,
    "start_time": "2023-07-10T20:21:09.682Z"
   },
   {
    "duration": 3,
    "start_time": "2023-07-10T20:21:13.890Z"
   },
   {
    "duration": 120,
    "start_time": "2023-07-10T20:21:13.905Z"
   },
   {
    "duration": 3,
    "start_time": "2023-07-10T20:21:14.027Z"
   },
   {
    "duration": 57502,
    "start_time": "2023-07-10T20:21:14.031Z"
   },
   {
    "duration": 3,
    "start_time": "2023-07-10T20:22:11.535Z"
   },
   {
    "duration": 456283,
    "start_time": "2023-07-10T20:22:11.539Z"
   },
   {
    "duration": 3,
    "start_time": "2023-07-10T20:29:47.823Z"
   }
  ],
  "kernelspec": {
   "display_name": "Python 3 (ipykernel)",
   "language": "python",
   "name": "python3"
  },
  "language_info": {
   "codemirror_mode": {
    "name": "ipython",
    "version": 3
   },
   "file_extension": ".py",
   "mimetype": "text/x-python",
   "name": "python",
   "nbconvert_exporter": "python",
   "pygments_lexer": "ipython3",
   "version": "3.9.12"
  },
  "toc": {
   "base_numbering": 1,
   "nav_menu": {},
   "number_sections": true,
   "sideBar": true,
   "skip_h1_title": true,
   "title_cell": "Содержание",
   "title_sidebar": "Contents",
   "toc_cell": true,
   "toc_position": {
    "height": "calc(100% - 180px)",
    "left": "10px",
    "top": "150px",
    "width": "302.391px"
   },
   "toc_section_display": true,
   "toc_window_display": false
  }
 },
 "nbformat": 4,
 "nbformat_minor": 2
}
