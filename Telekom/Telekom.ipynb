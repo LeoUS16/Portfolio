{
 "cells": [
  {
   "cell_type": "markdown",
   "metadata": {},
   "source": [
    "# Прогнозирование оттока клиентов\n",
    "___"
   ]
  },
  {
   "cell_type": "markdown",
   "metadata": {},
   "source": [
    "### Описание задачи\n",
    "___"
   ]
  },
  {
   "cell_type": "markdown",
   "metadata": {},
   "source": [
    "Представлены данные компании, предоставляющей услуги связи для населения.\n",
    "\n",
    "Необходимо подготовить модель, которая будет прогнозировать отток клиентов компании. Если выяснится, что клиент планирует уйти, ему будут предложены промокоды и специальные условия для удержания. \n",
    "\n",
    "Cобраны персональные данные о некоторых клиентах, информацию об их тарифах и договорах."
   ]
  },
  {
   "cell_type": "markdown",
   "metadata": {},
   "source": [
    "### Данные"
   ]
  },
  {
   "cell_type": "markdown",
   "metadata": {},
   "source": [
    "В нашем распоряжении имеются данные по клиентам компании, разделенные на 4 датасета:\n",
    "\n",
    " - **`contract`** - информация о договоре;\n",
    " \n",
    " \n",
    " - **`personal`** - персональные данные клиента;\n",
    " \n",
    " \n",
    " - **`internet`** - персональные данные клиента;\n",
    " \n",
    " \n",
    " - **`phone`** - информация об услугах телефонии."
   ]
  },
  {
   "cell_type": "markdown",
   "metadata": {},
   "source": [
    "### Признаки"
   ]
  },
  {
   "cell_type": "markdown",
   "metadata": {},
   "source": [
    " Датасет **`contract`** содежрит следующие признаки:\n",
    " \n",
    " - **`customerID`** - код клиента;\n",
    " \n",
    " \n",
    " - **`BeginDate`** - дата заключения договора;\n",
    " \n",
    " \n",
    " - **`EndDate`** - дата окончания договора;\n",
    " \n",
    " \n",
    " - **`Type`** - тип заключаемых договоров;\n",
    " \n",
    " \n",
    " - **`PaperlessBilling`** - \n",
    " \n",
    " \n",
    " - **`PaymentMethod`** - способ оплаты;\n",
    " \n",
    " \n",
    " - **`MonthlyCharges`** - ежемесячные траты клиента;\n",
    " \n",
    " \n",
    " - **`TotalCharges`** - все затраты клиента.\n",
    " \n",
    " \n",
    " Датасет **`personal`** содежрит следующие признаки:\n",
    "\n",
    " - **`customerID`** - код клиента;\n",
    " \n",
    " \n",
    " - **`gender`** - пол клиента;\n",
    " \n",
    " \n",
    " - **`SeniorCitizen`** - пинсионер клиент или нет;\n",
    " \n",
    " \n",
    " - **`Partner`** - имеет ли клиент партнера (одинок он или нет);\n",
    " \n",
    " \n",
    " - **`Dependents`** - имеет ли клиент иждивенцев.\n",
    " \n",
    " \n",
    " Датасет **`internet`** содежрит следующие признаки:\n",
    " \n",
    " - **`customerID`** - код клиента;\n",
    "\n",
    "\n",
    " - **`InternetService`** - способ подключения интернета;\n",
    " \n",
    " \n",
    " - **`OnlineSecurity`** - наличие онлайн защиты;\n",
    " \n",
    " \n",
    " - **`OnlineBackup`** - наличие резервного копирования;\n",
    " \n",
    " \n",
    " - **`DeviceProtection`** - наличие защиты устройства;\n",
    " \n",
    " \n",
    " - **`TechSupport`** - обращение в техническую поддержку;\n",
    " \n",
    " \n",
    " - **`StreamingTV`** - наличие подписки на стриминговый TV;\n",
    " \n",
    " \n",
    " - **`StreamingMovies`** - наличие подписки на сервис стриминга фильмов.\n",
    " \n",
    " \n",
    "Датасет **`phone`** содежрит следующие признаки:\n",
    "\n",
    "- **`customerID`** - код клиента;\n",
    "\n",
    "\n",
    "- **`MultipleLines`** - наличие нескольких линий."
   ]
  },
  {
   "cell_type": "markdown",
   "metadata": {},
   "source": [
    "### План работы\n",
    "___"
   ]
  },
  {
   "cell_type": "markdown",
   "metadata": {},
   "source": [
    "1. Загрузка данных\n",
    "2. Исследование датафреймов\n",
    "3. Проведение предобработки данных\n",
    "4. Определение целевого показателя\n",
    "5. Разделение данных на выборки\n",
    "6. Обучение различных моделей с определением лучших гиперпараметров\n",
    "7. Проверка качества лучшей модели на тестовой выборке\n",
    "8. Анализ лучшей модели (важность признаков, матрица ошибок)"
   ]
  },
  {
   "cell_type": "markdown",
   "metadata": {},
   "source": [
    "### Загрузка данных\n",
    "___"
   ]
  },
  {
   "cell_type": "code",
   "execution_count": 1,
   "metadata": {},
   "outputs": [
    {
     "name": "stdout",
     "output_type": "stream",
     "text": [
      "Requirement already satisfied: shap in /Applications/anaconda3/lib/python3.9/site-packages (0.42.0)\n",
      "Requirement already satisfied: numpy in /Applications/anaconda3/lib/python3.9/site-packages (from shap) (1.21.5)\n",
      "Requirement already satisfied: scipy in /Applications/anaconda3/lib/python3.9/site-packages (from shap) (1.7.3)\n",
      "Requirement already satisfied: scikit-learn in /Applications/anaconda3/lib/python3.9/site-packages (from shap) (1.1.3)\n",
      "Requirement already satisfied: pandas in /Applications/anaconda3/lib/python3.9/site-packages (from shap) (1.4.2)\n",
      "Requirement already satisfied: tqdm>=4.27.0 in /Applications/anaconda3/lib/python3.9/site-packages (from shap) (4.64.0)\n",
      "Requirement already satisfied: packaging>20.9 in /Applications/anaconda3/lib/python3.9/site-packages (from shap) (21.3)\n",
      "Requirement already satisfied: slicer==0.0.7 in /Applications/anaconda3/lib/python3.9/site-packages (from shap) (0.0.7)\n",
      "Requirement already satisfied: numba in /Applications/anaconda3/lib/python3.9/site-packages (from shap) (0.55.1)\n",
      "Requirement already satisfied: cloudpickle in /Applications/anaconda3/lib/python3.9/site-packages (from shap) (2.0.0)\n",
      "Requirement already satisfied: pyparsing!=3.0.5,>=2.0.2 in /Applications/anaconda3/lib/python3.9/site-packages (from packaging>20.9->shap) (3.0.4)\n",
      "Requirement already satisfied: llvmlite<0.39,>=0.38.0rc1 in /Applications/anaconda3/lib/python3.9/site-packages (from numba->shap) (0.38.0)\n",
      "Requirement already satisfied: setuptools in /Applications/anaconda3/lib/python3.9/site-packages (from numba->shap) (61.2.0)\n",
      "Requirement already satisfied: python-dateutil>=2.8.1 in /Applications/anaconda3/lib/python3.9/site-packages (from pandas->shap) (2.8.2)\n",
      "Requirement already satisfied: pytz>=2020.1 in /Applications/anaconda3/lib/python3.9/site-packages (from pandas->shap) (2021.3)\n",
      "Requirement already satisfied: joblib>=1.0.0 in /Applications/anaconda3/lib/python3.9/site-packages (from scikit-learn->shap) (1.1.0)\n",
      "Requirement already satisfied: threadpoolctl>=2.0.0 in /Applications/anaconda3/lib/python3.9/site-packages (from scikit-learn->shap) (2.2.0)\n",
      "Requirement already satisfied: six>=1.5 in /Applications/anaconda3/lib/python3.9/site-packages (from python-dateutil>=2.8.1->pandas->shap) (1.16.0)\n"
     ]
    },
    {
     "name": "stderr",
     "output_type": "stream",
     "text": [
      "Using `tqdm.autonotebook.tqdm` in notebook mode. Use `tqdm.tqdm` instead to force console mode (e.g. in jupyter console)\n"
     ]
    }
   ],
   "source": [
    "!pip install shap\n",
    "\n",
    "import time\n",
    "import numpy as np\n",
    "import pandas as pd\n",
    "import seaborn as sns\n",
    "import matplotlib.pyplot as plt\n",
    "import sklearn\n",
    "sklearn.__version__\n",
    "import shap\n",
    "\n",
    "from tqdm import tqdm\n",
    "\n",
    "from lightgbm import LGBMClassifier\n",
    "from catboost import CatBoostClassifier, Pool, cv\n",
    "\n",
    "from sklearn.compose import ColumnTransformer\n",
    "from sklearn.pipeline import Pipeline\n",
    "from sklearn.model_selection import train_test_split, GridSearchCV, KFold\n",
    "from sklearn.preprocessing import OrdinalEncoder, StandardScaler, OneHotEncoder\n",
    "from sklearn.tree import DecisionTreeClassifier\n",
    "from sklearn.ensemble import RandomForestClassifier\n",
    "from sklearn.linear_model import LogisticRegression\n",
    "from sklearn.metrics import roc_auc_score, confusion_matrix\n",
    "from sklearn.dummy import DummyClassifier\n",
    "from sklearn.utils import shuffle"
   ]
  },
  {
   "cell_type": "markdown",
   "metadata": {},
   "source": [
    "Прочитаем датафреймы и сразу возьмем в качестве индексов общий столбец `customerID`."
   ]
  },
  {
   "cell_type": "code",
   "execution_count": 2,
   "metadata": {},
   "outputs": [],
   "source": [
    "data_contract = pd.read_csv('contract_new.csv', index_col='customerID', parse_dates=True)"
   ]
  },
  {
   "cell_type": "code",
   "execution_count": 3,
   "metadata": {},
   "outputs": [],
   "source": [
    "data_personal = pd.read_csv('personal_new.csv', index_col='customerID')"
   ]
  },
  {
   "cell_type": "code",
   "execution_count": 4,
   "metadata": {},
   "outputs": [],
   "source": [
    "data_internet = pd.read_csv('internet_new.csv', index_col='customerID')"
   ]
  },
  {
   "cell_type": "code",
   "execution_count": 5,
   "metadata": {},
   "outputs": [],
   "source": [
    "data_phone = pd.read_csv('phone_new.csv', index_col='customerID')"
   ]
  },
  {
   "cell_type": "markdown",
   "metadata": {},
   "source": [
    "Выведем общую информацию о представленных данных:"
   ]
  },
  {
   "cell_type": "code",
   "execution_count": 6,
   "metadata": {},
   "outputs": [],
   "source": [
    "def info(data):\n",
    "    print('Первые пять строк датасета')\n",
    "    print(data.head())\n",
    "    \n",
    "    print()\n",
    "    print('Информация')\n",
    "    print(data.info())\n",
    "    \n",
    "    print()\n",
    "    print('Пропуски')\n",
    "    print(data.isna().sum())\n",
    "    \n",
    "    print()\n",
    "    print('Статистика')\n",
    "    print(data.describe(include='all'))"
   ]
  },
  {
   "cell_type": "code",
   "execution_count": 7,
   "metadata": {},
   "outputs": [
    {
     "name": "stdout",
     "output_type": "stream",
     "text": [
      "Первые пять строк датасета\n",
      "             BeginDate EndDate            Type PaperlessBilling  \\\n",
      "customerID                                                        \n",
      "7590-VHVEG  2020-01-01      No  Month-to-month              Yes   \n",
      "5575-GNVDE  2017-04-01      No        One year               No   \n",
      "3668-QPYBK  2019-10-01      No  Month-to-month              Yes   \n",
      "7795-CFOCW  2016-05-01      No        One year               No   \n",
      "9237-HQITU  2019-09-01      No  Month-to-month              Yes   \n",
      "\n",
      "                        PaymentMethod  MonthlyCharges TotalCharges  \n",
      "customerID                                                          \n",
      "7590-VHVEG           Electronic check           29.85        31.04  \n",
      "5575-GNVDE               Mailed check           56.95      2071.84  \n",
      "3668-QPYBK               Mailed check           53.85       226.17  \n",
      "7795-CFOCW  Bank transfer (automatic)           42.30       1960.6  \n",
      "9237-HQITU           Electronic check           70.70        353.5  \n",
      "\n",
      "Информация\n",
      "<class 'pandas.core.frame.DataFrame'>\n",
      "Index: 7043 entries, 7590-VHVEG to 3186-AJIEK\n",
      "Data columns (total 7 columns):\n",
      " #   Column            Non-Null Count  Dtype  \n",
      "---  ------            --------------  -----  \n",
      " 0   BeginDate         7043 non-null   object \n",
      " 1   EndDate           7043 non-null   object \n",
      " 2   Type              7043 non-null   object \n",
      " 3   PaperlessBilling  7043 non-null   object \n",
      " 4   PaymentMethod     7043 non-null   object \n",
      " 5   MonthlyCharges    7043 non-null   float64\n",
      " 6   TotalCharges      7043 non-null   object \n",
      "dtypes: float64(1), object(6)\n",
      "memory usage: 440.2+ KB\n",
      "None\n",
      "\n",
      "Пропуски\n",
      "BeginDate           0\n",
      "EndDate             0\n",
      "Type                0\n",
      "PaperlessBilling    0\n",
      "PaymentMethod       0\n",
      "MonthlyCharges      0\n",
      "TotalCharges        0\n",
      "dtype: int64\n",
      "\n",
      "Статистика\n",
      "         BeginDate EndDate            Type PaperlessBilling     PaymentMethod  \\\n",
      "count         7043    7043            7043             7043              7043   \n",
      "unique          77      67               3                2                 4   \n",
      "top     2014-02-01      No  Month-to-month              Yes  Electronic check   \n",
      "freq           366    5942            3875             4171              2365   \n",
      "mean           NaN     NaN             NaN              NaN               NaN   \n",
      "std            NaN     NaN             NaN              NaN               NaN   \n",
      "min            NaN     NaN             NaN              NaN               NaN   \n",
      "25%            NaN     NaN             NaN              NaN               NaN   \n",
      "50%            NaN     NaN             NaN              NaN               NaN   \n",
      "75%            NaN     NaN             NaN              NaN               NaN   \n",
      "max            NaN     NaN             NaN              NaN               NaN   \n",
      "\n",
      "        MonthlyCharges TotalCharges  \n",
      "count      7043.000000         7043  \n",
      "unique             NaN         6658  \n",
      "top                NaN               \n",
      "freq               NaN           11  \n",
      "mean         64.761692          NaN  \n",
      "std          30.090047          NaN  \n",
      "min          18.250000          NaN  \n",
      "25%          35.500000          NaN  \n",
      "50%          70.350000          NaN  \n",
      "75%          89.850000          NaN  \n",
      "max         118.750000          NaN  \n"
     ]
    }
   ],
   "source": [
    "info(data_contract)"
   ]
  },
  {
   "cell_type": "code",
   "execution_count": 8,
   "metadata": {},
   "outputs": [
    {
     "data": {
      "image/png": "[encoded data removed]",
      "text/plain": [
       "<Figure size 432x432 with 1 Axes>"
      ]
     },
     "metadata": {},
     "output_type": "display_data"
    },
    {
     "data": {
      "image/png": "[encoded data removed]",
      "text/plain": [
       "<Figure size 432x432 with 1 Axes>"
      ]
     },
     "metadata": {},
     "output_type": "display_data"
    },
    {
     "data": {
      "image/png": "[encoded data removed]",
      "text/plain": [
       "<Figure size 432x432 with 1 Axes>"
      ]
     },
     "metadata": {},
     "output_type": "display_data"
    }
   ],
   "source": [
    "data_contract['Type'].value_counts().plot.pie(subplots=True, figsize=(6, 6))\n",
    "plt.title('Распределение доли типов заключаемых договоров')\n",
    "plt.show()\n",
    "\n",
    "data_contract['PaperlessBilling'].value_counts().plot.pie(subplots=True, figsize=(6, 6))\n",
    "plt.title('Распределение доли выставления счетов на электронную почту')\n",
    "plt.show()\n",
    "\n",
    "data_contract['PaymentMethod'].value_counts().plot.pie(subplots=True, figsize=(6, 6))\n",
    "plt.title('Распределение доли способа оплаты')\n",
    "plt.show()"
   ]
  },
  {
   "cell_type": "code",
   "execution_count": 9,
   "metadata": {},
   "outputs": [
    {
     "data": {
      "image/png": "[encoded data removed]",
      "text/plain": [
       "<Figure size 1008x432 with 1 Axes>"
      ]
     },
     "metadata": {
      "needs_background": "light"
     },
     "output_type": "display_data"
    }
   ],
   "source": [
    "data_contract.hist(figsize=(14, 6), bins=70, alpha=0.7, color='deepskyblue')\n",
    "plt.title('Распределение ежемесячных трат клиентов на услуги')\n",
    "plt.ylabel('Траты')\n",
    "plt.xlabel('Количество клиентов')\n",
    "plt.show()"
   ]
  },
  {
   "cell_type": "code",
   "execution_count": 10,
   "metadata": {},
   "outputs": [
    {
     "name": "stdout",
     "output_type": "stream",
     "text": [
      "Первые пять строк датасета\n",
      "            gender  SeniorCitizen Partner Dependents\n",
      "customerID                                          \n",
      "7590-VHVEG  Female              0     Yes         No\n",
      "5575-GNVDE    Male              0      No         No\n",
      "3668-QPYBK    Male              0      No         No\n",
      "7795-CFOCW    Male              0      No         No\n",
      "9237-HQITU  Female              0      No         No\n",
      "\n",
      "Информация\n",
      "<class 'pandas.core.frame.DataFrame'>\n",
      "Index: 7043 entries, 7590-VHVEG to 3186-AJIEK\n",
      "Data columns (total 4 columns):\n",
      " #   Column         Non-Null Count  Dtype \n",
      "---  ------         --------------  ----- \n",
      " 0   gender         7043 non-null   object\n",
      " 1   SeniorCitizen  7043 non-null   int64 \n",
      " 2   Partner        7043 non-null   object\n",
      " 3   Dependents     7043 non-null   object\n",
      "dtypes: int64(1), object(3)\n",
      "memory usage: 275.1+ KB\n",
      "None\n",
      "\n",
      "Пропуски\n",
      "gender           0\n",
      "SeniorCitizen    0\n",
      "Partner          0\n",
      "Dependents       0\n",
      "dtype: int64\n",
      "\n",
      "Статистика\n",
      "       gender  SeniorCitizen Partner Dependents\n",
      "count    7043    7043.000000    7043       7043\n",
      "unique      2            NaN       2          2\n",
      "top      Male            NaN      No         No\n",
      "freq     3555            NaN    3641       4933\n",
      "mean      NaN       0.162147     NaN        NaN\n",
      "std       NaN       0.368612     NaN        NaN\n",
      "min       NaN       0.000000     NaN        NaN\n",
      "25%       NaN       0.000000     NaN        NaN\n",
      "50%       NaN       0.000000     NaN        NaN\n",
      "75%       NaN       0.000000     NaN        NaN\n",
      "max       NaN       1.000000     NaN        NaN\n"
     ]
    }
   ],
   "source": [
    "info(data_personal)"
   ]
  },
  {
   "cell_type": "code",
   "execution_count": 11,
   "metadata": {},
   "outputs": [
    {
     "data": {
      "image/png": "[encoded data removed]",
      "text/plain": [
       "<Figure size 432x432 with 1 Axes>"
      ]
     },
     "metadata": {},
     "output_type": "display_data"
    },
    {
     "data": {
      "image/png": "[encoded data removed]",
      "text/plain": [
       "<Figure size 432x432 with 1 Axes>"
      ]
     },
     "metadata": {},
     "output_type": "display_data"
    },
    {
     "data": {
      "image/png": "[encoded data removed]",
      "text/plain": [
       "<Figure size 432x432 with 1 Axes>"
      ]
     },
     "metadata": {},
     "output_type": "display_data"
    },
    {
     "data": {
      "image/png": "[encoded data removed]",
      "text/plain": [
       "<Figure size 432x432 with 1 Axes>"
      ]
     },
     "metadata": {},
     "output_type": "display_data"
    }
   ],
   "source": [
    "data_personal['gender'].value_counts().plot.pie(subplots=True, figsize=(6, 6))\n",
    "plt.title('Распределение доли полов клиентов')\n",
    "plt.show()\n",
    "\n",
    "data_personal['SeniorCitizen'].value_counts().plot.pie(subplots=True, figsize=(6, 6))\n",
    "plt.title('Распределение доли клиентов пенсионеров')\n",
    "plt.show()\n",
    "\n",
    "data_personal['Partner'].value_counts().plot.pie(subplots=True, figsize=(6, 6))\n",
    "plt.title('Распределение доли клиентов, имеющих партнеров')\n",
    "plt.show()\n",
    "\n",
    "data_personal['Dependents'].value_counts().plot.pie(subplots=True, figsize=(6, 6))\n",
    "plt.title('Распределение доли клиентов, имеющих иждивенцев')\n",
    "plt.show()"
   ]
  },
  {
   "cell_type": "code",
   "execution_count": 12,
   "metadata": {},
   "outputs": [
    {
     "name": "stdout",
     "output_type": "stream",
     "text": [
      "Первые пять строк датасета\n",
      "           InternetService OnlineSecurity OnlineBackup DeviceProtection  \\\n",
      "customerID                                                                \n",
      "7590-VHVEG             DSL             No          Yes               No   \n",
      "5575-GNVDE             DSL            Yes           No              Yes   \n",
      "3668-QPYBK             DSL            Yes          Yes               No   \n",
      "7795-CFOCW             DSL            Yes           No              Yes   \n",
      "9237-HQITU     Fiber optic             No           No               No   \n",
      "\n",
      "           TechSupport StreamingTV StreamingMovies  \n",
      "customerID                                          \n",
      "7590-VHVEG          No          No              No  \n",
      "5575-GNVDE          No          No              No  \n",
      "3668-QPYBK          No          No              No  \n",
      "7795-CFOCW         Yes          No              No  \n",
      "9237-HQITU          No          No              No  \n",
      "\n",
      "Информация\n",
      "<class 'pandas.core.frame.DataFrame'>\n",
      "Index: 5517 entries, 7590-VHVEG to 3186-AJIEK\n",
      "Data columns (total 7 columns):\n",
      " #   Column            Non-Null Count  Dtype \n",
      "---  ------            --------------  ----- \n",
      " 0   InternetService   5517 non-null   object\n",
      " 1   OnlineSecurity    5517 non-null   object\n",
      " 2   OnlineBackup      5517 non-null   object\n",
      " 3   DeviceProtection  5517 non-null   object\n",
      " 4   TechSupport       5517 non-null   object\n",
      " 5   StreamingTV       5517 non-null   object\n",
      " 6   StreamingMovies   5517 non-null   object\n",
      "dtypes: object(7)\n",
      "memory usage: 344.8+ KB\n",
      "None\n",
      "\n",
      "Пропуски\n",
      "InternetService     0\n",
      "OnlineSecurity      0\n",
      "OnlineBackup        0\n",
      "DeviceProtection    0\n",
      "TechSupport         0\n",
      "StreamingTV         0\n",
      "StreamingMovies     0\n",
      "dtype: int64\n",
      "\n",
      "Статистика\n",
      "       InternetService OnlineSecurity OnlineBackup DeviceProtection  \\\n",
      "count             5517           5517         5517             5517   \n",
      "unique               2              2            2                2   \n",
      "top        Fiber optic             No           No               No   \n",
      "freq              3096           3498         3088             3095   \n",
      "\n",
      "       TechSupport StreamingTV StreamingMovies  \n",
      "count         5517        5517            5517  \n",
      "unique           2           2               2  \n",
      "top             No          No              No  \n",
      "freq          3473        2810            2785  \n"
     ]
    }
   ],
   "source": [
    "info(data_internet)"
   ]
  },
  {
   "cell_type": "code",
   "execution_count": 13,
   "metadata": {},
   "outputs": [
    {
     "data": {
      "image/png": "[encoded data removed]",
      "text/plain": [
       "<Figure size 432x432 with 1 Axes>"
      ]
     },
     "metadata": {},
     "output_type": "display_data"
    },
    {
     "data": {
      "image/png": "[encoded data removed]",
      "text/plain": [
       "<Figure size 432x432 with 1 Axes>"
      ]
     },
     "metadata": {},
     "output_type": "display_data"
    },
    {
     "data": {
      "image/png": "[encoded data removed]",
      "text/plain": [
       "<Figure size 432x432 with 1 Axes>"
      ]
     },
     "metadata": {},
     "output_type": "display_data"
    },
    {
     "data": {
      "image/png": "[encoded data removed]",
      "text/plain": [
       "<Figure size 432x432 with 1 Axes>"
      ]
     },
     "metadata": {},
     "output_type": "display_data"
    },
    {
     "data": {
      "image/png": "[encoded data removed]",
      "text/plain": [
       "<Figure size 432x432 with 1 Axes>"
      ]
     },
     "metadata": {},
     "output_type": "display_data"
    },
    {
     "data": {
      "image/png": "[encoded data removed]",
      "text/plain": [
       "<Figure size 432x432 with 1 Axes>"
      ]
     },
     "metadata": {},
     "output_type": "display_data"
    },
    {
     "data": {
      "image/png": "[encoded data removed]",
      "text/plain": [
       "<Figure size 432x432 with 1 Axes>"
      ]
     },
     "metadata": {},
     "output_type": "display_data"
    }
   ],
   "source": [
    "data_internet['InternetService'].value_counts().plot.pie(subplots=True, figsize=(6, 6))\n",
    "plt.title('Распределение доли клиентов по способу подключения интернета')\n",
    "plt.show()\n",
    "\n",
    "data_internet['OnlineSecurity'].value_counts().plot.pie(subplots=True, figsize=(6, 6))\n",
    "plt.title('Распределение доли клиентов, имеющих подключенную онлайн защиту')\n",
    "plt.show()\n",
    "\n",
    "data_internet['OnlineBackup'].value_counts().plot.pie(subplots=True, figsize=(6, 6))\n",
    "plt.title('Распределение доли клиентов, имеющих подключенное резервное копирование')\n",
    "plt.show()\n",
    "\n",
    "data_internet['DeviceProtection'].value_counts().plot.pie(subplots=True, figsize=(6, 6))\n",
    "plt.title('Распределение доли клиентов, имеющих защиту устройства')\n",
    "plt.show()\n",
    "\n",
    "data_internet['TechSupport'].value_counts().plot.pie(subplots=True, figsize=(6, 6))\n",
    "plt.title('Распределение доли клиентов, имеющих техническую поддержку')\n",
    "plt.show()\n",
    "\n",
    "data_internet['StreamingTV'].value_counts().plot.pie(subplots=True, figsize=(6, 6))\n",
    "plt.title('Распределение доли клиентов, имеющих подписку на стриминговый TV')\n",
    "plt.show()\n",
    "\n",
    "data_internet['StreamingMovies'].value_counts().plot.pie(subplots=True, figsize=(6, 6))\n",
    "plt.title('Распределение доли клиентов, имеющих подписку на сервис стриминга фильмов')\n",
    "plt.show()"
   ]
  },
  {
   "cell_type": "code",
   "execution_count": 14,
   "metadata": {},
   "outputs": [
    {
     "name": "stdout",
     "output_type": "stream",
     "text": [
      "Первые пять строк датасета\n",
      "           MultipleLines\n",
      "customerID              \n",
      "5575-GNVDE            No\n",
      "3668-QPYBK            No\n",
      "9237-HQITU            No\n",
      "9305-CDSKC           Yes\n",
      "1452-KIOVK           Yes\n",
      "\n",
      "Информация\n",
      "<class 'pandas.core.frame.DataFrame'>\n",
      "Index: 6361 entries, 5575-GNVDE to 3186-AJIEK\n",
      "Data columns (total 1 columns):\n",
      " #   Column         Non-Null Count  Dtype \n",
      "---  ------         --------------  ----- \n",
      " 0   MultipleLines  6361 non-null   object\n",
      "dtypes: object(1)\n",
      "memory usage: 99.4+ KB\n",
      "None\n",
      "\n",
      "Пропуски\n",
      "MultipleLines    0\n",
      "dtype: int64\n",
      "\n",
      "Статистика\n",
      "       MultipleLines\n",
      "count           6361\n",
      "unique             2\n",
      "top               No\n",
      "freq            3390\n"
     ]
    }
   ],
   "source": [
    "info(data_phone)"
   ]
  },
  {
   "cell_type": "code",
   "execution_count": 15,
   "metadata": {},
   "outputs": [
    {
     "data": {
      "image/png": "[encoded data removed]",
      "text/plain": [
       "<Figure size 432x432 with 1 Axes>"
      ]
     },
     "metadata": {},
     "output_type": "display_data"
    }
   ],
   "source": [
    "data_phone['MultipleLines'].value_counts().plot.pie(subplots=True, figsize=(6, 6))\n",
    "plt.title('Распределение доли клиентов, имеющих несколько линий')\n",
    "plt.show()"
   ]
  },
  {
   "cell_type": "markdown",
   "metadata": {},
   "source": [
    "Мы загрузили данные, посмотрели, как они выглядят, что содержат и какое имеют распределение данных. Целевым показателем является столбец **`EndDate`**, он и будет нашим таргетом.\n",
    "\n",
    "Итак, что нам предстоит сделать:\n",
    "\n",
    "- объединить все датасеты в один;\n",
    "- провести предобработку (изменить тип данных, заполнить пропуски, изменить значения);\n",
    "- удалить столбцы, которые не помогут в исследовании данных;\n",
    "- разделить датасет на обучающую и тестовую выборки;\n",
    "- проанализировать три различные модели обучения;\n",
    "- выбрать лучшую и проверить ее качества на тестовой выборке."
   ]
  },
  {
   "cell_type": "markdown",
   "metadata": {},
   "source": [
    "### Предобработка данных\n",
    "___"
   ]
  },
  {
   "cell_type": "markdown",
   "metadata": {},
   "source": [
    "Приведем названия столбцов датасета `data_contract` к нижнему регистру:"
   ]
  },
  {
   "cell_type": "code",
   "execution_count": 16,
   "metadata": {},
   "outputs": [],
   "source": [
    "data_contract.columns = data_contract.columns.str.lower()"
   ]
  },
  {
   "cell_type": "markdown",
   "metadata": {},
   "source": [
    "Уберем пропуски в столбце `totalcharges`:"
   ]
  },
  {
   "cell_type": "code",
   "execution_count": 17,
   "metadata": {},
   "outputs": [],
   "source": [
    "data_contract['totalcharges'] = data_contract['totalcharges'].replace(r'^\\s*S', np.nan, regex=True)"
   ]
  },
  {
   "cell_type": "markdown",
   "metadata": {},
   "source": [
    "Так как нашей целевой метрикой является факт ухода клиента, то выведем новый признак из столбца `enddate` и назовем его `exited`. Поместим туда бинарные значения, которые отражают `1` - если клиент разорвал контракт и `0` если он по-прежнему клиент организации: "
   ]
  },
  {
   "cell_type": "code",
   "execution_count": 18,
   "metadata": {},
   "outputs": [],
   "source": [
    "data_contract['exited'] = data_contract.apply(lambda x: 0 if x.enddate == 'No' else 1, axis=1)"
   ]
  },
  {
   "cell_type": "markdown",
   "metadata": {},
   "source": [
    "Заполним пропуски в столбце `enddate`. Если клиент не разорвал контракт с организацией, то значение данного столбца остается пустым, для дальнейшего исследования заполнил пустоты датой выгрузки данных, а именно - `2020-02-01`:"
   ]
  },
  {
   "cell_type": "code",
   "execution_count": 19,
   "metadata": {},
   "outputs": [],
   "source": [
    "data_contract.loc[(data_contract['enddate'] == 'No'), 'enddate'] = '2020-02-01'"
   ]
  },
  {
   "cell_type": "markdown",
   "metadata": {},
   "source": [
    "Приведем столбцы `begindate` и `enddate` к формату даты:"
   ]
  },
  {
   "cell_type": "code",
   "execution_count": 20,
   "metadata": {},
   "outputs": [],
   "source": [
    "data_contract['begindate'] = pd.to_datetime(data_contract['begindate'], format='%Y-%m-%d')\n",
    "data_contract['enddate'] = pd.to_datetime(data_contract['enddate'], format='%Y-%m-%d')"
   ]
  },
  {
   "cell_type": "markdown",
   "metadata": {},
   "source": [
    "Добавим еще один признак к данным, это продолжительность контракта в днях, назовем столбец `dayscharges`:"
   ]
  },
  {
   "cell_type": "code",
   "execution_count": 21,
   "metadata": {},
   "outputs": [],
   "source": [
    "data_contract['dayscharges'] = (data_contract['enddate'] - data_contract['begindate']).dt.days"
   ]
  },
  {
   "cell_type": "code",
   "execution_count": 22,
   "metadata": {},
   "outputs": [
    {
     "data": {
      "text/html": [
       "<div>\n",
       "<style scoped>\n",
       "    .dataframe tbody tr th:only-of-type {\n",
       "        vertical-align: middle;\n",
       "    }\n",
       "\n",
       "    .dataframe tbody tr th {\n",
       "        vertical-align: top;\n",
       "    }\n",
       "\n",
       "    .dataframe thead th {\n",
       "        text-align: right;\n",
       "    }\n",
       "</style>\n",
       "<table border=\"1\" class=\"dataframe\">\n",
       "  <thead>\n",
       "    <tr style=\"text-align: right;\">\n",
       "      <th></th>\n",
       "      <th>begindate</th>\n",
       "      <th>enddate</th>\n",
       "      <th>type</th>\n",
       "      <th>paperlessbilling</th>\n",
       "      <th>paymentmethod</th>\n",
       "      <th>monthlycharges</th>\n",
       "      <th>totalcharges</th>\n",
       "      <th>exited</th>\n",
       "      <th>dayscharges</th>\n",
       "    </tr>\n",
       "    <tr>\n",
       "      <th>customerID</th>\n",
       "      <th></th>\n",
       "      <th></th>\n",
       "      <th></th>\n",
       "      <th></th>\n",
       "      <th></th>\n",
       "      <th></th>\n",
       "      <th></th>\n",
       "      <th></th>\n",
       "      <th></th>\n",
       "    </tr>\n",
       "  </thead>\n",
       "  <tbody>\n",
       "    <tr>\n",
       "      <th>7590-VHVEG</th>\n",
       "      <td>2020-01-01</td>\n",
       "      <td>2020-02-01</td>\n",
       "      <td>Month-to-month</td>\n",
       "      <td>Yes</td>\n",
       "      <td>Electronic check</td>\n",
       "      <td>29.85</td>\n",
       "      <td>31.04</td>\n",
       "      <td>0</td>\n",
       "      <td>31</td>\n",
       "    </tr>\n",
       "    <tr>\n",
       "      <th>5575-GNVDE</th>\n",
       "      <td>2017-04-01</td>\n",
       "      <td>2020-02-01</td>\n",
       "      <td>One year</td>\n",
       "      <td>No</td>\n",
       "      <td>Mailed check</td>\n",
       "      <td>56.95</td>\n",
       "      <td>2071.84</td>\n",
       "      <td>0</td>\n",
       "      <td>1036</td>\n",
       "    </tr>\n",
       "    <tr>\n",
       "      <th>3668-QPYBK</th>\n",
       "      <td>2019-10-01</td>\n",
       "      <td>2020-02-01</td>\n",
       "      <td>Month-to-month</td>\n",
       "      <td>Yes</td>\n",
       "      <td>Mailed check</td>\n",
       "      <td>53.85</td>\n",
       "      <td>226.17</td>\n",
       "      <td>0</td>\n",
       "      <td>123</td>\n",
       "    </tr>\n",
       "    <tr>\n",
       "      <th>7795-CFOCW</th>\n",
       "      <td>2016-05-01</td>\n",
       "      <td>2020-02-01</td>\n",
       "      <td>One year</td>\n",
       "      <td>No</td>\n",
       "      <td>Bank transfer (automatic)</td>\n",
       "      <td>42.30</td>\n",
       "      <td>1960.6</td>\n",
       "      <td>0</td>\n",
       "      <td>1371</td>\n",
       "    </tr>\n",
       "    <tr>\n",
       "      <th>9237-HQITU</th>\n",
       "      <td>2019-09-01</td>\n",
       "      <td>2020-02-01</td>\n",
       "      <td>Month-to-month</td>\n",
       "      <td>Yes</td>\n",
       "      <td>Electronic check</td>\n",
       "      <td>70.70</td>\n",
       "      <td>353.5</td>\n",
       "      <td>0</td>\n",
       "      <td>153</td>\n",
       "    </tr>\n",
       "  </tbody>\n",
       "</table>\n",
       "</div>"
      ],
      "text/plain": [
       "            begindate    enddate            type paperlessbilling  \\\n",
       "customerID                                                          \n",
       "7590-VHVEG 2020-01-01 2020-02-01  Month-to-month              Yes   \n",
       "5575-GNVDE 2017-04-01 2020-02-01        One year               No   \n",
       "3668-QPYBK 2019-10-01 2020-02-01  Month-to-month              Yes   \n",
       "7795-CFOCW 2016-05-01 2020-02-01        One year               No   \n",
       "9237-HQITU 2019-09-01 2020-02-01  Month-to-month              Yes   \n",
       "\n",
       "                        paymentmethod  monthlycharges totalcharges  exited  \\\n",
       "customerID                                                                   \n",
       "7590-VHVEG           Electronic check           29.85        31.04       0   \n",
       "5575-GNVDE               Mailed check           56.95      2071.84       0   \n",
       "3668-QPYBK               Mailed check           53.85       226.17       0   \n",
       "7795-CFOCW  Bank transfer (automatic)           42.30       1960.6       0   \n",
       "9237-HQITU           Electronic check           70.70        353.5       0   \n",
       "\n",
       "            dayscharges  \n",
       "customerID               \n",
       "7590-VHVEG           31  \n",
       "5575-GNVDE         1036  \n",
       "3668-QPYBK          123  \n",
       "7795-CFOCW         1371  \n",
       "9237-HQITU          153  "
      ]
     },
     "execution_count": 22,
     "metadata": {},
     "output_type": "execute_result"
    }
   ],
   "source": [
    "data_contract.head()"
   ]
  },
  {
   "cell_type": "markdown",
   "metadata": {},
   "source": [
    "Посмотрим, имеет ли столбец `monthlycharges` выбросы:"
   ]
  },
  {
   "cell_type": "code",
   "execution_count": 23,
   "metadata": {},
   "outputs": [
    {
     "data": {
      "image/png": "[encoded data removed]",
      "text/plain": [
       "<Figure size 504x720 with 1 Axes>"
      ]
     },
     "metadata": {
      "needs_background": "light"
     },
     "output_type": "display_data"
    }
   ],
   "source": [
    "ax=data_contract.boxplot(column = 'monthlycharges', showfliers=False, figsize=(7,10))\n",
    "plt.title('Выбросы в столбце `monthlycharges`')\n",
    "plt.show()"
   ]
  },
  {
   "cell_type": "markdown",
   "metadata": {},
   "source": [
    "Как видим из графика с усами, значения `monthlycharges` выше 118 и ниже 18 являются выбросами данных, уберем их:"
   ]
  },
  {
   "cell_type": "code",
   "execution_count": 24,
   "metadata": {},
   "outputs": [],
   "source": [
    "data_contract = data_contract.query('monthlycharges <= 118 and monthlycharges >= 18')"
   ]
  },
  {
   "cell_type": "markdown",
   "metadata": {},
   "source": [
    "Выделим столбец `beginyear`, чтобы посмотреть на распределение данных по годам:"
   ]
  },
  {
   "cell_type": "code",
   "execution_count": 25,
   "metadata": {},
   "outputs": [],
   "source": [
    "data_contract['beginyear'] = pd.DatetimeIndex(data_contract['begindate']).year"
   ]
  },
  {
   "cell_type": "code",
   "execution_count": 26,
   "metadata": {},
   "outputs": [
    {
     "data": {
      "image/png": "[encoded data removed]",
      "text/plain": [
       "<Figure size 1008x432 with 1 Axes>"
      ]
     },
     "metadata": {
      "needs_background": "light"
     },
     "output_type": "display_data"
    }
   ],
   "source": [
    "data_contract['beginyear'].hist(figsize=(14, 6), bins=20, alpha=0.7, color='deepskyblue')\n",
    "plt.title('Распределение контрактов по годам')\n",
    "plt.ylabel('Количество контрактов')\n",
    "plt.xlabel('Год')\n",
    "plt.show()"
   ]
  },
  {
   "cell_type": "markdown",
   "metadata": {},
   "source": [
    "Как видно из диаграммы, количество заключенных контрактов в 2013 году очень мало и, вероятно, не повлияет на результат, поэтому уберем их, также уберем данные за 2020 год, ведь они хранят данные всего за один полный месяц и не дадут реального результата:"
   ]
  },
  {
   "cell_type": "code",
   "execution_count": 27,
   "metadata": {},
   "outputs": [],
   "source": [
    "data_contract = data_contract.query('beginyear > 2013 and beginyear < 2020')"
   ]
  },
  {
   "cell_type": "markdown",
   "metadata": {},
   "source": [
    "Приведем остальные датасеты к нижнему регистру:"
   ]
  },
  {
   "cell_type": "code",
   "execution_count": 28,
   "metadata": {},
   "outputs": [],
   "source": [
    "def low_column(x):\n",
    "    x.columns = x.columns.str.lower()\n",
    "    return x"
   ]
  },
  {
   "cell_type": "code",
   "execution_count": 29,
   "metadata": {},
   "outputs": [
    {
     "data": {
      "text/html": [
       "<div>\n",
       "<style scoped>\n",
       "    .dataframe tbody tr th:only-of-type {\n",
       "        vertical-align: middle;\n",
       "    }\n",
       "\n",
       "    .dataframe tbody tr th {\n",
       "        vertical-align: top;\n",
       "    }\n",
       "\n",
       "    .dataframe thead th {\n",
       "        text-align: right;\n",
       "    }\n",
       "</style>\n",
       "<table border=\"1\" class=\"dataframe\">\n",
       "  <thead>\n",
       "    <tr style=\"text-align: right;\">\n",
       "      <th></th>\n",
       "      <th>gender</th>\n",
       "      <th>seniorcitizen</th>\n",
       "      <th>partner</th>\n",
       "      <th>dependents</th>\n",
       "    </tr>\n",
       "    <tr>\n",
       "      <th>customerID</th>\n",
       "      <th></th>\n",
       "      <th></th>\n",
       "      <th></th>\n",
       "      <th></th>\n",
       "    </tr>\n",
       "  </thead>\n",
       "  <tbody>\n",
       "    <tr>\n",
       "      <th>7590-VHVEG</th>\n",
       "      <td>Female</td>\n",
       "      <td>0</td>\n",
       "      <td>Yes</td>\n",
       "      <td>No</td>\n",
       "    </tr>\n",
       "    <tr>\n",
       "      <th>5575-GNVDE</th>\n",
       "      <td>Male</td>\n",
       "      <td>0</td>\n",
       "      <td>No</td>\n",
       "      <td>No</td>\n",
       "    </tr>\n",
       "    <tr>\n",
       "      <th>3668-QPYBK</th>\n",
       "      <td>Male</td>\n",
       "      <td>0</td>\n",
       "      <td>No</td>\n",
       "      <td>No</td>\n",
       "    </tr>\n",
       "    <tr>\n",
       "      <th>7795-CFOCW</th>\n",
       "      <td>Male</td>\n",
       "      <td>0</td>\n",
       "      <td>No</td>\n",
       "      <td>No</td>\n",
       "    </tr>\n",
       "    <tr>\n",
       "      <th>9237-HQITU</th>\n",
       "      <td>Female</td>\n",
       "      <td>0</td>\n",
       "      <td>No</td>\n",
       "      <td>No</td>\n",
       "    </tr>\n",
       "    <tr>\n",
       "      <th>...</th>\n",
       "      <td>...</td>\n",
       "      <td>...</td>\n",
       "      <td>...</td>\n",
       "      <td>...</td>\n",
       "    </tr>\n",
       "    <tr>\n",
       "      <th>6840-RESVB</th>\n",
       "      <td>Male</td>\n",
       "      <td>0</td>\n",
       "      <td>Yes</td>\n",
       "      <td>Yes</td>\n",
       "    </tr>\n",
       "    <tr>\n",
       "      <th>2234-XADUH</th>\n",
       "      <td>Female</td>\n",
       "      <td>0</td>\n",
       "      <td>Yes</td>\n",
       "      <td>Yes</td>\n",
       "    </tr>\n",
       "    <tr>\n",
       "      <th>4801-JZAZL</th>\n",
       "      <td>Female</td>\n",
       "      <td>0</td>\n",
       "      <td>Yes</td>\n",
       "      <td>Yes</td>\n",
       "    </tr>\n",
       "    <tr>\n",
       "      <th>8361-LTMKD</th>\n",
       "      <td>Male</td>\n",
       "      <td>1</td>\n",
       "      <td>Yes</td>\n",
       "      <td>No</td>\n",
       "    </tr>\n",
       "    <tr>\n",
       "      <th>3186-AJIEK</th>\n",
       "      <td>Male</td>\n",
       "      <td>0</td>\n",
       "      <td>No</td>\n",
       "      <td>No</td>\n",
       "    </tr>\n",
       "  </tbody>\n",
       "</table>\n",
       "<p>7043 rows × 4 columns</p>\n",
       "</div>"
      ],
      "text/plain": [
       "            gender  seniorcitizen partner dependents\n",
       "customerID                                          \n",
       "7590-VHVEG  Female              0     Yes         No\n",
       "5575-GNVDE    Male              0      No         No\n",
       "3668-QPYBK    Male              0      No         No\n",
       "7795-CFOCW    Male              0      No         No\n",
       "9237-HQITU  Female              0      No         No\n",
       "...            ...            ...     ...        ...\n",
       "6840-RESVB    Male              0     Yes        Yes\n",
       "2234-XADUH  Female              0     Yes        Yes\n",
       "4801-JZAZL  Female              0     Yes        Yes\n",
       "8361-LTMKD    Male              1     Yes         No\n",
       "3186-AJIEK    Male              0      No         No\n",
       "\n",
       "[7043 rows x 4 columns]"
      ]
     },
     "execution_count": 29,
     "metadata": {},
     "output_type": "execute_result"
    }
   ],
   "source": [
    "low_column(data_personal)"
   ]
  },
  {
   "cell_type": "code",
   "execution_count": 30,
   "metadata": {},
   "outputs": [
    {
     "data": {
      "text/html": [
       "<div>\n",
       "<style scoped>\n",
       "    .dataframe tbody tr th:only-of-type {\n",
       "        vertical-align: middle;\n",
       "    }\n",
       "\n",
       "    .dataframe tbody tr th {\n",
       "        vertical-align: top;\n",
       "    }\n",
       "\n",
       "    .dataframe thead th {\n",
       "        text-align: right;\n",
       "    }\n",
       "</style>\n",
       "<table border=\"1\" class=\"dataframe\">\n",
       "  <thead>\n",
       "    <tr style=\"text-align: right;\">\n",
       "      <th></th>\n",
       "      <th>internetservice</th>\n",
       "      <th>onlinesecurity</th>\n",
       "      <th>onlinebackup</th>\n",
       "      <th>deviceprotection</th>\n",
       "      <th>techsupport</th>\n",
       "      <th>streamingtv</th>\n",
       "      <th>streamingmovies</th>\n",
       "    </tr>\n",
       "    <tr>\n",
       "      <th>customerID</th>\n",
       "      <th></th>\n",
       "      <th></th>\n",
       "      <th></th>\n",
       "      <th></th>\n",
       "      <th></th>\n",
       "      <th></th>\n",
       "      <th></th>\n",
       "    </tr>\n",
       "  </thead>\n",
       "  <tbody>\n",
       "    <tr>\n",
       "      <th>7590-VHVEG</th>\n",
       "      <td>DSL</td>\n",
       "      <td>No</td>\n",
       "      <td>Yes</td>\n",
       "      <td>No</td>\n",
       "      <td>No</td>\n",
       "      <td>No</td>\n",
       "      <td>No</td>\n",
       "    </tr>\n",
       "    <tr>\n",
       "      <th>5575-GNVDE</th>\n",
       "      <td>DSL</td>\n",
       "      <td>Yes</td>\n",
       "      <td>No</td>\n",
       "      <td>Yes</td>\n",
       "      <td>No</td>\n",
       "      <td>No</td>\n",
       "      <td>No</td>\n",
       "    </tr>\n",
       "    <tr>\n",
       "      <th>3668-QPYBK</th>\n",
       "      <td>DSL</td>\n",
       "      <td>Yes</td>\n",
       "      <td>Yes</td>\n",
       "      <td>No</td>\n",
       "      <td>No</td>\n",
       "      <td>No</td>\n",
       "      <td>No</td>\n",
       "    </tr>\n",
       "    <tr>\n",
       "      <th>7795-CFOCW</th>\n",
       "      <td>DSL</td>\n",
       "      <td>Yes</td>\n",
       "      <td>No</td>\n",
       "      <td>Yes</td>\n",
       "      <td>Yes</td>\n",
       "      <td>No</td>\n",
       "      <td>No</td>\n",
       "    </tr>\n",
       "    <tr>\n",
       "      <th>9237-HQITU</th>\n",
       "      <td>Fiber optic</td>\n",
       "      <td>No</td>\n",
       "      <td>No</td>\n",
       "      <td>No</td>\n",
       "      <td>No</td>\n",
       "      <td>No</td>\n",
       "      <td>No</td>\n",
       "    </tr>\n",
       "    <tr>\n",
       "      <th>...</th>\n",
       "      <td>...</td>\n",
       "      <td>...</td>\n",
       "      <td>...</td>\n",
       "      <td>...</td>\n",
       "      <td>...</td>\n",
       "      <td>...</td>\n",
       "      <td>...</td>\n",
       "    </tr>\n",
       "    <tr>\n",
       "      <th>6840-RESVB</th>\n",
       "      <td>DSL</td>\n",
       "      <td>Yes</td>\n",
       "      <td>No</td>\n",
       "      <td>Yes</td>\n",
       "      <td>Yes</td>\n",
       "      <td>Yes</td>\n",
       "      <td>Yes</td>\n",
       "    </tr>\n",
       "    <tr>\n",
       "      <th>2234-XADUH</th>\n",
       "      <td>Fiber optic</td>\n",
       "      <td>No</td>\n",
       "      <td>Yes</td>\n",
       "      <td>Yes</td>\n",
       "      <td>No</td>\n",
       "      <td>Yes</td>\n",
       "      <td>Yes</td>\n",
       "    </tr>\n",
       "    <tr>\n",
       "      <th>4801-JZAZL</th>\n",
       "      <td>DSL</td>\n",
       "      <td>Yes</td>\n",
       "      <td>No</td>\n",
       "      <td>No</td>\n",
       "      <td>No</td>\n",
       "      <td>No</td>\n",
       "      <td>No</td>\n",
       "    </tr>\n",
       "    <tr>\n",
       "      <th>8361-LTMKD</th>\n",
       "      <td>Fiber optic</td>\n",
       "      <td>No</td>\n",
       "      <td>No</td>\n",
       "      <td>No</td>\n",
       "      <td>No</td>\n",
       "      <td>No</td>\n",
       "      <td>No</td>\n",
       "    </tr>\n",
       "    <tr>\n",
       "      <th>3186-AJIEK</th>\n",
       "      <td>Fiber optic</td>\n",
       "      <td>Yes</td>\n",
       "      <td>No</td>\n",
       "      <td>Yes</td>\n",
       "      <td>Yes</td>\n",
       "      <td>Yes</td>\n",
       "      <td>Yes</td>\n",
       "    </tr>\n",
       "  </tbody>\n",
       "</table>\n",
       "<p>5517 rows × 7 columns</p>\n",
       "</div>"
      ],
      "text/plain": [
       "           internetservice onlinesecurity onlinebackup deviceprotection  \\\n",
       "customerID                                                                \n",
       "7590-VHVEG             DSL             No          Yes               No   \n",
       "5575-GNVDE             DSL            Yes           No              Yes   \n",
       "3668-QPYBK             DSL            Yes          Yes               No   \n",
       "7795-CFOCW             DSL            Yes           No              Yes   \n",
       "9237-HQITU     Fiber optic             No           No               No   \n",
       "...                    ...            ...          ...              ...   \n",
       "6840-RESVB             DSL            Yes           No              Yes   \n",
       "2234-XADUH     Fiber optic             No          Yes              Yes   \n",
       "4801-JZAZL             DSL            Yes           No               No   \n",
       "8361-LTMKD     Fiber optic             No           No               No   \n",
       "3186-AJIEK     Fiber optic            Yes           No              Yes   \n",
       "\n",
       "           techsupport streamingtv streamingmovies  \n",
       "customerID                                          \n",
       "7590-VHVEG          No          No              No  \n",
       "5575-GNVDE          No          No              No  \n",
       "3668-QPYBK          No          No              No  \n",
       "7795-CFOCW         Yes          No              No  \n",
       "9237-HQITU          No          No              No  \n",
       "...                ...         ...             ...  \n",
       "6840-RESVB         Yes         Yes             Yes  \n",
       "2234-XADUH          No         Yes             Yes  \n",
       "4801-JZAZL          No          No              No  \n",
       "8361-LTMKD          No          No              No  \n",
       "3186-AJIEK         Yes         Yes             Yes  \n",
       "\n",
       "[5517 rows x 7 columns]"
      ]
     },
     "execution_count": 30,
     "metadata": {},
     "output_type": "execute_result"
    }
   ],
   "source": [
    "low_column(data_internet)"
   ]
  },
  {
   "cell_type": "code",
   "execution_count": 31,
   "metadata": {},
   "outputs": [
    {
     "data": {
      "text/html": [
       "<div>\n",
       "<style scoped>\n",
       "    .dataframe tbody tr th:only-of-type {\n",
       "        vertical-align: middle;\n",
       "    }\n",
       "\n",
       "    .dataframe tbody tr th {\n",
       "        vertical-align: top;\n",
       "    }\n",
       "\n",
       "    .dataframe thead th {\n",
       "        text-align: right;\n",
       "    }\n",
       "</style>\n",
       "<table border=\"1\" class=\"dataframe\">\n",
       "  <thead>\n",
       "    <tr style=\"text-align: right;\">\n",
       "      <th></th>\n",
       "      <th>multiplelines</th>\n",
       "    </tr>\n",
       "    <tr>\n",
       "      <th>customerID</th>\n",
       "      <th></th>\n",
       "    </tr>\n",
       "  </thead>\n",
       "  <tbody>\n",
       "    <tr>\n",
       "      <th>5575-GNVDE</th>\n",
       "      <td>No</td>\n",
       "    </tr>\n",
       "    <tr>\n",
       "      <th>3668-QPYBK</th>\n",
       "      <td>No</td>\n",
       "    </tr>\n",
       "    <tr>\n",
       "      <th>9237-HQITU</th>\n",
       "      <td>No</td>\n",
       "    </tr>\n",
       "    <tr>\n",
       "      <th>9305-CDSKC</th>\n",
       "      <td>Yes</td>\n",
       "    </tr>\n",
       "    <tr>\n",
       "      <th>1452-KIOVK</th>\n",
       "      <td>Yes</td>\n",
       "    </tr>\n",
       "    <tr>\n",
       "      <th>...</th>\n",
       "      <td>...</td>\n",
       "    </tr>\n",
       "    <tr>\n",
       "      <th>2569-WGERO</th>\n",
       "      <td>No</td>\n",
       "    </tr>\n",
       "    <tr>\n",
       "      <th>6840-RESVB</th>\n",
       "      <td>Yes</td>\n",
       "    </tr>\n",
       "    <tr>\n",
       "      <th>2234-XADUH</th>\n",
       "      <td>Yes</td>\n",
       "    </tr>\n",
       "    <tr>\n",
       "      <th>8361-LTMKD</th>\n",
       "      <td>Yes</td>\n",
       "    </tr>\n",
       "    <tr>\n",
       "      <th>3186-AJIEK</th>\n",
       "      <td>No</td>\n",
       "    </tr>\n",
       "  </tbody>\n",
       "</table>\n",
       "<p>6361 rows × 1 columns</p>\n",
       "</div>"
      ],
      "text/plain": [
       "           multiplelines\n",
       "customerID              \n",
       "5575-GNVDE            No\n",
       "3668-QPYBK            No\n",
       "9237-HQITU            No\n",
       "9305-CDSKC           Yes\n",
       "1452-KIOVK           Yes\n",
       "...                  ...\n",
       "2569-WGERO            No\n",
       "6840-RESVB           Yes\n",
       "2234-XADUH           Yes\n",
       "8361-LTMKD           Yes\n",
       "3186-AJIEK            No\n",
       "\n",
       "[6361 rows x 1 columns]"
      ]
     },
     "execution_count": 31,
     "metadata": {},
     "output_type": "execute_result"
    }
   ],
   "source": [
    "low_column(data_phone)"
   ]
  },
  {
   "cell_type": "markdown",
   "metadata": {},
   "source": [
    "### Объединение данных"
   ]
  },
  {
   "cell_type": "code",
   "execution_count": 32,
   "metadata": {},
   "outputs": [],
   "source": [
    "data = data_contract.join(data_personal)"
   ]
  },
  {
   "cell_type": "code",
   "execution_count": 33,
   "metadata": {},
   "outputs": [],
   "source": [
    "data = data.join(data_internet)"
   ]
  },
  {
   "cell_type": "code",
   "execution_count": 34,
   "metadata": {},
   "outputs": [],
   "source": [
    "data = data.join(data_phone)"
   ]
  },
  {
   "cell_type": "code",
   "execution_count": 35,
   "metadata": {},
   "outputs": [
    {
     "data": {
      "text/html": [
       "<div>\n",
       "<style scoped>\n",
       "    .dataframe tbody tr th:only-of-type {\n",
       "        vertical-align: middle;\n",
       "    }\n",
       "\n",
       "    .dataframe tbody tr th {\n",
       "        vertical-align: top;\n",
       "    }\n",
       "\n",
       "    .dataframe thead th {\n",
       "        text-align: right;\n",
       "    }\n",
       "</style>\n",
       "<table border=\"1\" class=\"dataframe\">\n",
       "  <thead>\n",
       "    <tr style=\"text-align: right;\">\n",
       "      <th></th>\n",
       "      <th>begindate</th>\n",
       "      <th>enddate</th>\n",
       "      <th>type</th>\n",
       "      <th>paperlessbilling</th>\n",
       "      <th>paymentmethod</th>\n",
       "      <th>monthlycharges</th>\n",
       "      <th>totalcharges</th>\n",
       "      <th>exited</th>\n",
       "      <th>dayscharges</th>\n",
       "      <th>beginyear</th>\n",
       "      <th>...</th>\n",
       "      <th>partner</th>\n",
       "      <th>dependents</th>\n",
       "      <th>internetservice</th>\n",
       "      <th>onlinesecurity</th>\n",
       "      <th>onlinebackup</th>\n",
       "      <th>deviceprotection</th>\n",
       "      <th>techsupport</th>\n",
       "      <th>streamingtv</th>\n",
       "      <th>streamingmovies</th>\n",
       "      <th>multiplelines</th>\n",
       "    </tr>\n",
       "    <tr>\n",
       "      <th>customerID</th>\n",
       "      <th></th>\n",
       "      <th></th>\n",
       "      <th></th>\n",
       "      <th></th>\n",
       "      <th></th>\n",
       "      <th></th>\n",
       "      <th></th>\n",
       "      <th></th>\n",
       "      <th></th>\n",
       "      <th></th>\n",
       "      <th></th>\n",
       "      <th></th>\n",
       "      <th></th>\n",
       "      <th></th>\n",
       "      <th></th>\n",
       "      <th></th>\n",
       "      <th></th>\n",
       "      <th></th>\n",
       "      <th></th>\n",
       "      <th></th>\n",
       "      <th></th>\n",
       "    </tr>\n",
       "  </thead>\n",
       "  <tbody>\n",
       "    <tr>\n",
       "      <th>5575-GNVDE</th>\n",
       "      <td>2017-04-01</td>\n",
       "      <td>2020-02-01</td>\n",
       "      <td>One year</td>\n",
       "      <td>No</td>\n",
       "      <td>Mailed check</td>\n",
       "      <td>56.95</td>\n",
       "      <td>2071.84</td>\n",
       "      <td>0</td>\n",
       "      <td>1036</td>\n",
       "      <td>2017</td>\n",
       "      <td>...</td>\n",
       "      <td>No</td>\n",
       "      <td>No</td>\n",
       "      <td>DSL</td>\n",
       "      <td>Yes</td>\n",
       "      <td>No</td>\n",
       "      <td>Yes</td>\n",
       "      <td>No</td>\n",
       "      <td>No</td>\n",
       "      <td>No</td>\n",
       "      <td>No</td>\n",
       "    </tr>\n",
       "    <tr>\n",
       "      <th>3668-QPYBK</th>\n",
       "      <td>2019-10-01</td>\n",
       "      <td>2020-02-01</td>\n",
       "      <td>Month-to-month</td>\n",
       "      <td>Yes</td>\n",
       "      <td>Mailed check</td>\n",
       "      <td>53.85</td>\n",
       "      <td>226.17</td>\n",
       "      <td>0</td>\n",
       "      <td>123</td>\n",
       "      <td>2019</td>\n",
       "      <td>...</td>\n",
       "      <td>No</td>\n",
       "      <td>No</td>\n",
       "      <td>DSL</td>\n",
       "      <td>Yes</td>\n",
       "      <td>Yes</td>\n",
       "      <td>No</td>\n",
       "      <td>No</td>\n",
       "      <td>No</td>\n",
       "      <td>No</td>\n",
       "      <td>No</td>\n",
       "    </tr>\n",
       "    <tr>\n",
       "      <th>7795-CFOCW</th>\n",
       "      <td>2016-05-01</td>\n",
       "      <td>2020-02-01</td>\n",
       "      <td>One year</td>\n",
       "      <td>No</td>\n",
       "      <td>Bank transfer (automatic)</td>\n",
       "      <td>42.30</td>\n",
       "      <td>1960.6</td>\n",
       "      <td>0</td>\n",
       "      <td>1371</td>\n",
       "      <td>2016</td>\n",
       "      <td>...</td>\n",
       "      <td>No</td>\n",
       "      <td>No</td>\n",
       "      <td>DSL</td>\n",
       "      <td>Yes</td>\n",
       "      <td>No</td>\n",
       "      <td>Yes</td>\n",
       "      <td>Yes</td>\n",
       "      <td>No</td>\n",
       "      <td>No</td>\n",
       "      <td>NaN</td>\n",
       "    </tr>\n",
       "    <tr>\n",
       "      <th>9237-HQITU</th>\n",
       "      <td>2019-09-01</td>\n",
       "      <td>2020-02-01</td>\n",
       "      <td>Month-to-month</td>\n",
       "      <td>Yes</td>\n",
       "      <td>Electronic check</td>\n",
       "      <td>70.70</td>\n",
       "      <td>353.5</td>\n",
       "      <td>0</td>\n",
       "      <td>153</td>\n",
       "      <td>2019</td>\n",
       "      <td>...</td>\n",
       "      <td>No</td>\n",
       "      <td>No</td>\n",
       "      <td>Fiber optic</td>\n",
       "      <td>No</td>\n",
       "      <td>No</td>\n",
       "      <td>No</td>\n",
       "      <td>No</td>\n",
       "      <td>No</td>\n",
       "      <td>No</td>\n",
       "      <td>No</td>\n",
       "    </tr>\n",
       "    <tr>\n",
       "      <th>9305-CDSKC</th>\n",
       "      <td>2019-03-01</td>\n",
       "      <td>2020-02-01</td>\n",
       "      <td>Month-to-month</td>\n",
       "      <td>Yes</td>\n",
       "      <td>Electronic check</td>\n",
       "      <td>99.65</td>\n",
       "      <td>1150.96</td>\n",
       "      <td>0</td>\n",
       "      <td>337</td>\n",
       "      <td>2019</td>\n",
       "      <td>...</td>\n",
       "      <td>No</td>\n",
       "      <td>No</td>\n",
       "      <td>Fiber optic</td>\n",
       "      <td>No</td>\n",
       "      <td>No</td>\n",
       "      <td>Yes</td>\n",
       "      <td>No</td>\n",
       "      <td>Yes</td>\n",
       "      <td>Yes</td>\n",
       "      <td>Yes</td>\n",
       "    </tr>\n",
       "  </tbody>\n",
       "</table>\n",
       "<p>5 rows × 22 columns</p>\n",
       "</div>"
      ],
      "text/plain": [
       "            begindate    enddate            type paperlessbilling  \\\n",
       "customerID                                                          \n",
       "5575-GNVDE 2017-04-01 2020-02-01        One year               No   \n",
       "3668-QPYBK 2019-10-01 2020-02-01  Month-to-month              Yes   \n",
       "7795-CFOCW 2016-05-01 2020-02-01        One year               No   \n",
       "9237-HQITU 2019-09-01 2020-02-01  Month-to-month              Yes   \n",
       "9305-CDSKC 2019-03-01 2020-02-01  Month-to-month              Yes   \n",
       "\n",
       "                        paymentmethod  monthlycharges totalcharges  exited  \\\n",
       "customerID                                                                   \n",
       "5575-GNVDE               Mailed check           56.95      2071.84       0   \n",
       "3668-QPYBK               Mailed check           53.85       226.17       0   \n",
       "7795-CFOCW  Bank transfer (automatic)           42.30       1960.6       0   \n",
       "9237-HQITU           Electronic check           70.70        353.5       0   \n",
       "9305-CDSKC           Electronic check           99.65      1150.96       0   \n",
       "\n",
       "            dayscharges  beginyear  ... partner  dependents internetservice  \\\n",
       "customerID                          ...                                       \n",
       "5575-GNVDE         1036       2017  ...      No          No             DSL   \n",
       "3668-QPYBK          123       2019  ...      No          No             DSL   \n",
       "7795-CFOCW         1371       2016  ...      No          No             DSL   \n",
       "9237-HQITU          153       2019  ...      No          No     Fiber optic   \n",
       "9305-CDSKC          337       2019  ...      No          No     Fiber optic   \n",
       "\n",
       "           onlinesecurity onlinebackup deviceprotection techsupport  \\\n",
       "customerID                                                            \n",
       "5575-GNVDE            Yes           No              Yes          No   \n",
       "3668-QPYBK            Yes          Yes               No          No   \n",
       "7795-CFOCW            Yes           No              Yes         Yes   \n",
       "9237-HQITU             No           No               No          No   \n",
       "9305-CDSKC             No           No              Yes          No   \n",
       "\n",
       "           streamingtv streamingmovies multiplelines  \n",
       "customerID                                            \n",
       "5575-GNVDE          No              No            No  \n",
       "3668-QPYBK          No              No            No  \n",
       "7795-CFOCW          No              No           NaN  \n",
       "9237-HQITU          No              No            No  \n",
       "9305-CDSKC         Yes             Yes           Yes  \n",
       "\n",
       "[5 rows x 22 columns]"
      ]
     },
     "execution_count": 35,
     "metadata": {},
     "output_type": "execute_result"
    }
   ],
   "source": [
    "data.head()"
   ]
  },
  {
   "cell_type": "code",
   "execution_count": 36,
   "metadata": {},
   "outputs": [
    {
     "name": "stdout",
     "output_type": "stream",
     "text": [
      "<class 'pandas.core.frame.DataFrame'>\n",
      "Index: 6785 entries, 5575-GNVDE to 3186-AJIEK\n",
      "Data columns (total 22 columns):\n",
      " #   Column            Non-Null Count  Dtype         \n",
      "---  ------            --------------  -----         \n",
      " 0   begindate         6785 non-null   datetime64[ns]\n",
      " 1   enddate           6785 non-null   datetime64[ns]\n",
      " 2   type              6785 non-null   object        \n",
      " 3   paperlessbilling  6785 non-null   object        \n",
      " 4   paymentmethod     6785 non-null   object        \n",
      " 5   monthlycharges    6785 non-null   float64       \n",
      " 6   totalcharges      6785 non-null   object        \n",
      " 7   exited            6785 non-null   int64         \n",
      " 8   dayscharges       6785 non-null   int64         \n",
      " 9   beginyear         6785 non-null   int64         \n",
      " 10  gender            6785 non-null   object        \n",
      " 11  seniorcitizen     6785 non-null   int64         \n",
      " 12  partner           6785 non-null   object        \n",
      " 13  dependents        6785 non-null   object        \n",
      " 14  internetservice   5373 non-null   object        \n",
      " 15  onlinesecurity    5373 non-null   object        \n",
      " 16  onlinebackup      5373 non-null   object        \n",
      " 17  deviceprotection  5373 non-null   object        \n",
      " 18  techsupport       5373 non-null   object        \n",
      " 19  streamingtv       5373 non-null   object        \n",
      " 20  streamingmovies   5373 non-null   object        \n",
      " 21  multiplelines     6124 non-null   object        \n",
      "dtypes: datetime64[ns](2), float64(1), int64(4), object(15)\n",
      "memory usage: 1.4+ MB\n"
     ]
    }
   ],
   "source": [
    "data.info()"
   ]
  },
  {
   "cell_type": "markdown",
   "metadata": {},
   "source": [
    "Посмотрим, имеются ли дупликаты в данных:"
   ]
  },
  {
   "cell_type": "code",
   "execution_count": 37,
   "metadata": {},
   "outputs": [
    {
     "data": {
      "text/plain": [
       "2"
      ]
     },
     "execution_count": 37,
     "metadata": {},
     "output_type": "execute_result"
    }
   ],
   "source": [
    "data.duplicated().sum()"
   ]
  },
  {
   "cell_type": "markdown",
   "metadata": {},
   "source": [
    "Очистим данные от имеющихся дупликатов:"
   ]
  },
  {
   "cell_type": "code",
   "execution_count": 38,
   "metadata": {},
   "outputs": [],
   "source": [
    "data = data.drop_duplicates()"
   ]
  },
  {
   "cell_type": "markdown",
   "metadata": {},
   "source": [
    "Заполним имеющиеся в данных пропуски:\n",
    "- в столбце `internetservice` поставим заглушку `None`;\n",
    "- в остальных столбцах значения бинарные, поставим на место пропусков значение `No`."
   ]
  },
  {
   "cell_type": "code",
   "execution_count": 39,
   "metadata": {},
   "outputs": [],
   "source": [
    "data = data.fillna({'internetservice':'None','onlinesecurity':'No', 'onlinebackup':'No', 'deviceprotection':'No', 'techsupport':'No', 'streamingtv':'No', 'streamingmovies':'No', 'multiplelines':'No'})"
   ]
  },
  {
   "cell_type": "code",
   "execution_count": 40,
   "metadata": {},
   "outputs": [
    {
     "name": "stdout",
     "output_type": "stream",
     "text": [
      "<class 'pandas.core.frame.DataFrame'>\n",
      "Index: 6783 entries, 5575-GNVDE to 3186-AJIEK\n",
      "Data columns (total 22 columns):\n",
      " #   Column            Non-Null Count  Dtype         \n",
      "---  ------            --------------  -----         \n",
      " 0   begindate         6783 non-null   datetime64[ns]\n",
      " 1   enddate           6783 non-null   datetime64[ns]\n",
      " 2   type              6783 non-null   object        \n",
      " 3   paperlessbilling  6783 non-null   object        \n",
      " 4   paymentmethod     6783 non-null   object        \n",
      " 5   monthlycharges    6783 non-null   float64       \n",
      " 6   totalcharges      6783 non-null   object        \n",
      " 7   exited            6783 non-null   int64         \n",
      " 8   dayscharges       6783 non-null   int64         \n",
      " 9   beginyear         6783 non-null   int64         \n",
      " 10  gender            6783 non-null   object        \n",
      " 11  seniorcitizen     6783 non-null   int64         \n",
      " 12  partner           6783 non-null   object        \n",
      " 13  dependents        6783 non-null   object        \n",
      " 14  internetservice   6783 non-null   object        \n",
      " 15  onlinesecurity    6783 non-null   object        \n",
      " 16  onlinebackup      6783 non-null   object        \n",
      " 17  deviceprotection  6783 non-null   object        \n",
      " 18  techsupport       6783 non-null   object        \n",
      " 19  streamingtv       6783 non-null   object        \n",
      " 20  streamingmovies   6783 non-null   object        \n",
      " 21  multiplelines     6783 non-null   object        \n",
      "dtypes: datetime64[ns](2), float64(1), int64(4), object(15)\n",
      "memory usage: 1.2+ MB\n"
     ]
    }
   ],
   "source": [
    "data.info()"
   ]
  },
  {
   "cell_type": "markdown",
   "metadata": {},
   "source": [
    "Первоначальный объем данных содержал 7043 строки с данными, сейчас мы имеем 6783, то есть мы убрали 3,7% данных, данный показатель находится в пределах разумного допуска. \n",
    "\n",
    "Продолжим исследование:"
   ]
  },
  {
   "cell_type": "markdown",
   "metadata": {},
   "source": [
    "Удалим из общих данных столбцы, который не потребуются дальнейшем исследовании:"
   ]
  },
  {
   "cell_type": "code",
   "execution_count": 41,
   "metadata": {},
   "outputs": [],
   "source": [
    "data = data.drop(['begindate', 'enddate', 'gender', 'beginyear'], axis=1)"
   ]
  },
  {
   "cell_type": "markdown",
   "metadata": {},
   "source": [
    "Переведем нечисловые столбцы к категориальному типу данных:"
   ]
  },
  {
   "cell_type": "code",
   "execution_count": 42,
   "metadata": {},
   "outputs": [],
   "source": [
    "categorial_columns = ['type', 'paperlessbilling', 'paymentmethod', 'seniorcitizen', 'partner', 'dependents', 'internetservice', 'onlinesecurity', 'onlinebackup', 'deviceprotection', 'techsupport', 'streamingtv', 'streamingmovies', 'multiplelines']"
   ]
  },
  {
   "cell_type": "code",
   "execution_count": 43,
   "metadata": {},
   "outputs": [],
   "source": [
    "data[categorial_columns] = data[categorial_columns].astype('category')"
   ]
  },
  {
   "cell_type": "markdown",
   "metadata": {},
   "source": [
    "Столбец `totalcharges` приведем к типу данных `float`:"
   ]
  },
  {
   "cell_type": "code",
   "execution_count": 44,
   "metadata": {},
   "outputs": [],
   "source": [
    "data['totalcharges'] = data['totalcharges'].astype('float64')"
   ]
  },
  {
   "cell_type": "code",
   "execution_count": 45,
   "metadata": {},
   "outputs": [
    {
     "name": "stdout",
     "output_type": "stream",
     "text": [
      "<class 'pandas.core.frame.DataFrame'>\n",
      "Index: 6783 entries, 5575-GNVDE to 3186-AJIEK\n",
      "Data columns (total 18 columns):\n",
      " #   Column            Non-Null Count  Dtype   \n",
      "---  ------            --------------  -----   \n",
      " 0   type              6783 non-null   category\n",
      " 1   paperlessbilling  6783 non-null   category\n",
      " 2   paymentmethod     6783 non-null   category\n",
      " 3   monthlycharges    6783 non-null   float64 \n",
      " 4   totalcharges      6783 non-null   float64 \n",
      " 5   exited            6783 non-null   int64   \n",
      " 6   dayscharges       6783 non-null   int64   \n",
      " 7   seniorcitizen     6783 non-null   category\n",
      " 8   partner           6783 non-null   category\n",
      " 9   dependents        6783 non-null   category\n",
      " 10  internetservice   6783 non-null   category\n",
      " 11  onlinesecurity    6783 non-null   category\n",
      " 12  onlinebackup      6783 non-null   category\n",
      " 13  deviceprotection  6783 non-null   category\n",
      " 14  techsupport       6783 non-null   category\n",
      " 15  streamingtv       6783 non-null   category\n",
      " 16  streamingmovies   6783 non-null   category\n",
      " 17  multiplelines     6783 non-null   category\n",
      "dtypes: category(14), float64(2), int64(2)\n",
      "memory usage: 359.5+ KB\n"
     ]
    }
   ],
   "source": [
    "data.info()"
   ]
  },
  {
   "cell_type": "code",
   "execution_count": 46,
   "metadata": {},
   "outputs": [],
   "source": [
    "num_columns = ['monthlycharges', 'totalcharges', 'dayscharges']\n",
    "cat_columns = categorial_columns\n",
    "\n",
    "transformer = ColumnTransformer(\n",
    "    [(\"enc\", OrdinalEncoder(handle_unknown=\"use_encoded_value\", unknown_value=-1), cat_columns)],\n",
    "    remainder='passthrough'\n",
    ")\n",
    "\n",
    "transformer_linear = ColumnTransformer(\n",
    "            [(\"ohe\", OneHotEncoder(drop = 'first', handle_unknown = 'ignore', sparse=False), cat_columns),\n",
    "            (\"scaler\", StandardScaler(), num_columns)],\n",
    "            remainder='passthrough'\n",
    ")"
   ]
  },
  {
   "cell_type": "markdown",
   "metadata": {},
   "source": [
    "### Разделение данных на выборки"
   ]
  },
  {
   "cell_type": "code",
   "execution_count": 47,
   "metadata": {},
   "outputs": [],
   "source": [
    "data_train, data_test = train_test_split(data, test_size=0.25, random_state=280323, stratify=data['exited'])"
   ]
  },
  {
   "cell_type": "code",
   "execution_count": 48,
   "metadata": {},
   "outputs": [],
   "source": [
    "features_train = data_train.drop(['exited'], axis=1)\n",
    "target_train = data_train['exited']\n",
    "features_test = data_test.drop(['exited'], axis=1)\n",
    "target_test = data_test['exited']"
   ]
  },
  {
   "cell_type": "code",
   "execution_count": 49,
   "metadata": {},
   "outputs": [
    {
     "name": "stdout",
     "output_type": "stream",
     "text": [
      "(5087, 17)\n",
      "(5087,)\n",
      "(1696, 17)\n",
      "(1696,)\n"
     ]
    }
   ],
   "source": [
    "print(features_train.shape)\n",
    "print(target_train.shape)\n",
    "print(features_test.shape)\n",
    "print(target_test.shape)"
   ]
  },
  {
   "cell_type": "code",
   "execution_count": 50,
   "metadata": {},
   "outputs": [],
   "source": [
    "cat_features = ['type', 'paperlessbilling', 'paymentmethod', 'seniorcitizen', 'partner', 'dependents', 'internetservice', 'onlinesecurity', 'onlinebackup', 'deviceprotection', 'techsupport', 'streamingtv', 'streamingmovies', 'multiplelines']"
   ]
  },
  {
   "cell_type": "markdown",
   "metadata": {},
   "source": [
    "### Обучение моделей"
   ]
  },
  {
   "cell_type": "markdown",
   "metadata": {},
   "source": [
    "Создадим функцию для подбора гиперпараметров методом `GridSearchCV`:"
   ]
  },
  {
   "cell_type": "code",
   "execution_count": 51,
   "metadata": {},
   "outputs": [],
   "source": [
    "def fit_model(estimator, param_grid, x_train, y_train):\n",
    "    model = GridSearchCV(estimator = estimator, \n",
    "                             param_grid = param_grid, \n",
    "                             n_jobs = -1,\n",
    "                             verbose = True,\n",
    "                             cv = 3,\n",
    "                             scoring = ['roc_auc', 'accuracy'],\n",
    "                             refit = \"roc_auc\")\n",
    "\n",
    "    model.fit(x_train, y_train)\n",
    "\n",
    "    best_index = model.best_index_\n",
    "    best_roc_auc = round(model.cv_results_['mean_test_roc_auc'][best_index], ndigits = 4)\n",
    "\n",
    "    print(f\"Best ROC-AUC: {best_roc_auc}\")\n",
    "    print(f\"Best params: {model.best_params_}\")\n",
    "\n",
    "    return model.best_estimator_"
   ]
  },
  {
   "cell_type": "markdown",
   "metadata": {},
   "source": [
    "#### RandomForestClassifier"
   ]
  },
  {
   "cell_type": "code",
   "execution_count": 52,
   "metadata": {},
   "outputs": [
    {
     "name": "stdout",
     "output_type": "stream",
     "text": [
      "CPU times: user 27 µs, sys: 0 ns, total: 27 µs\n",
      "Wall time: 29.1 µs\n"
     ]
    }
   ],
   "source": [
    "%%time\n",
    "\n",
    "rf_estimator = Pipeline([\n",
    "    ('transformer', transformer),\n",
    "    ('rf', RandomForestClassifier(random_state=280323, n_jobs=-1))\n",
    "])"
   ]
  },
  {
   "cell_type": "code",
   "execution_count": 53,
   "metadata": {},
   "outputs": [
    {
     "name": "stdout",
     "output_type": "stream",
     "text": [
      "CPU times: user 4 µs, sys: 0 ns, total: 4 µs\n",
      "Wall time: 5.96 µs\n"
     ]
    }
   ],
   "source": [
    "%%time\n",
    "\n",
    "rf_param_grid =  {\n",
    "    'rf__n_estimators': list(range(50, 151, 20)),\n",
    "    \"rf__max_depth\": list(range(15, 31, 5)),\n",
    "}"
   ]
  },
  {
   "cell_type": "code",
   "execution_count": 54,
   "metadata": {},
   "outputs": [
    {
     "name": "stdout",
     "output_type": "stream",
     "text": [
      "Fitting 3 folds for each of 24 candidates, totalling 72 fits\n",
      "Best ROC-AUC: 0.8086\n",
      "Best params: {'rf__max_depth': 15, 'rf__n_estimators': 150}\n",
      "CPU times: user 1.27 s, sys: 281 ms, total: 1.55 s\n",
      "Wall time: 9.62 s\n"
     ]
    }
   ],
   "source": [
    "%%time\n",
    "\n",
    "rf_best_model = fit_model(\n",
    "estimator=rf_estimator,\n",
    "param_grid=rf_param_grid,\n",
    "x_train=features_train,\n",
    "y_train=target_train\n",
    ")"
   ]
  },
  {
   "cell_type": "markdown",
   "metadata": {},
   "source": [
    "Лучшими гиперпараметрами модели случайного леса являются:\n",
    "глубина дерева = 15;\n",
    "количество деревьев = 150.\n",
    "Показатель метрики ROC-AUC составил 0,8086."
   ]
  },
  {
   "cell_type": "markdown",
   "metadata": {},
   "source": [
    "#### LGBMClassifier"
   ]
  },
  {
   "cell_type": "code",
   "execution_count": 55,
   "metadata": {},
   "outputs": [],
   "source": [
    "features_train_lgbm = features_train.copy()\n",
    "features_train_lgbm[cat_columns] = features_train_lgbm[cat_columns].astype(\"category\")"
   ]
  },
  {
   "cell_type": "code",
   "execution_count": 56,
   "metadata": {},
   "outputs": [
    {
     "name": "stdout",
     "output_type": "stream",
     "text": [
      "Fitting 3 folds for each of 12 candidates, totalling 36 fits\n",
      "Best ROC-AUC: 0.8676\n",
      "Best params: {'learning_rate': 0.2, 'max_depth': 12, 'n_estimators': 220}\n",
      "CPU times: user 2.53 s, sys: 394 ms, total: 2.92 s\n",
      "Wall time: 3.37 s\n"
     ]
    }
   ],
   "source": [
    "%%time\n",
    "\n",
    "lgbm_estimator = LGBMClassifier(random_state=280323, n_jobs=-1)\n",
    "\n",
    "lgbm_param_grid = {\n",
    "    \"n_estimators\": range(120, 221, 50), \n",
    "    \"max_depth\": range(12, 16, 3),\n",
    "    'learning_rate': [0.1, 0.2]\n",
    "}\n",
    "\n",
    "lgbm_best_model = fit_model(\n",
    "    estimator=lgbm_estimator,\n",
    "    param_grid=lgbm_param_grid,\n",
    "    x_train=features_train,\n",
    "    y_train=target_train\n",
    ")"
   ]
  },
  {
   "cell_type": "markdown",
   "metadata": {},
   "source": [
    "Лучшими гиперпараметрами модели LGBMClassifier являются: learning_rate = 0.1, глубина дерева = 12; количество деревьев = 220. Показатель метрики ROC-AUC составил 0,8676."
   ]
  },
  {
   "cell_type": "markdown",
   "metadata": {},
   "source": [
    "#### CatBoostClassifier"
   ]
  },
  {
   "cell_type": "code",
   "execution_count": 57,
   "metadata": {},
   "outputs": [
    {
     "name": "stdout",
     "output_type": "stream",
     "text": [
      "Fitting 3 folds for each of 12 candidates, totalling 36 fits\n",
      "Best ROC-AUC: 0.8307\n",
      "Best params: {'depth': 12, 'iterations': 220, 'learning_rate': 0.15}\n",
      "CPU times: user 20.8 s, sys: 1.71 s, total: 22.6 s\n",
      "Wall time: 12min\n"
     ]
    }
   ],
   "source": [
    "%%time\n",
    "\n",
    "catboost_estimator = CatBoostClassifier(random_state=280323, verbose=False, cat_features=cat_columns)\n",
    "\n",
    "catboost_param_grid = {\n",
    "    \"iterations\": range(120, 221, 50),\n",
    "    \"learning_rate\": [0.15, 0.20],\n",
    "    \"depth\": range(12, 16, 3)\n",
    "}\n",
    "\n",
    "catboost_best_model = fit_model(\n",
    "    estimator=catboost_estimator,\n",
    "    param_grid=catboost_param_grid,\n",
    "    x_train=features_train,\n",
    "    y_train=target_train\n",
    ")"
   ]
  },
  {
   "cell_type": "markdown",
   "metadata": {},
   "source": [
    "Лучшими гиперпараметрами модели CatBoostClassifier являются: learning_rate = 0.15, глубина дерева = 12; количество интераций = 170. Показатель метрики ROC-AUC составил 0,8307."
   ]
  },
  {
   "cell_type": "markdown",
   "metadata": {},
   "source": [
    "Наилучший результат по времени и по показателю ROC-AUC показала модель LGBMRegressor, следовательно на ней мы и опробуем тестовые данные."
   ]
  },
  {
   "cell_type": "markdown",
   "metadata": {},
   "source": [
    "### Проверка качества на тестовых данных"
   ]
  },
  {
   "cell_type": "code",
   "execution_count": 58,
   "metadata": {},
   "outputs": [
    {
     "name": "stdout",
     "output_type": "stream",
     "text": [
      "AUC-ROC = 0.9030292997423184\n"
     ]
    }
   ],
   "source": [
    "features_test_lgbm = features_test.copy()\n",
    "features_test_lgbm[cat_columns] = features_test_lgbm[cat_columns].astype(\"category\")\n",
    "\n",
    "model = LGBMClassifier(\n",
    "    learning_rate=0.15,\n",
    "    max_depth=12,\n",
    "    n_estimators=170,\n",
    "    random_state=280323,\n",
    "    n_jobs=-1).fit(features_train_lgbm, target_train)\n",
    "\n",
    "robabilities = model.predict_proba(features_test_lgbm)[:, 1]\n",
    "\n",
    "roc_auc = roc_auc_score(target_test, robabilities)\n",
    "print('AUC-ROC =', roc_auc)"
   ]
  },
  {
   "cell_type": "markdown",
   "metadata": {},
   "source": [
    "Показатель AUC-ROC на тестовой выборке данных составил 0.903."
   ]
  },
  {
   "cell_type": "markdown",
   "metadata": {},
   "source": [
    "### Анализ лучшей модели "
   ]
  },
  {
   "cell_type": "markdown",
   "metadata": {},
   "source": [
    "#### Построение матрицы ошибок"
   ]
  },
  {
   "cell_type": "code",
   "execution_count": 59,
   "metadata": {},
   "outputs": [],
   "source": [
    "predicted = model.predict(features_test_lgbm)"
   ]
  },
  {
   "cell_type": "code",
   "execution_count": 60,
   "metadata": {},
   "outputs": [],
   "source": [
    "con_matrix = confusion_matrix(target_test, predicted)"
   ]
  },
  {
   "cell_type": "code",
   "execution_count": 61,
   "metadata": {},
   "outputs": [
    {
     "data": {
      "text/plain": [
       "array([[1400,   22],\n",
       "       [ 124,  150]])"
      ]
     },
     "execution_count": 61,
     "metadata": {},
     "output_type": "execute_result"
    }
   ],
   "source": [
    "con_matrix"
   ]
  },
  {
   "cell_type": "code",
   "execution_count": 62,
   "metadata": {},
   "outputs": [
    {
     "data": {
      "text/plain": [
       "[Text(0, 0.5, 'False'), Text(0, 1.5, 'True')]"
      ]
     },
     "execution_count": 62,
     "metadata": {},
     "output_type": "execute_result"
    },
    {
     "data": {
      "image/png": "[encoded data removed]",
      "text/plain": [
       "<Figure size 864x432 with 2 Axes>"
      ]
     },
     "metadata": {
      "needs_background": "light"
     },
     "output_type": "display_data"
    }
   ],
   "source": [
    "plt.figure(figsize = (12, 6))\n",
    "fx = sns.heatmap(con_matrix, annot = True, cmap = 'turbo', fmt = 'g')\n",
    "\n",
    "fx.set_title('Матрица ошибок')\n",
    "fx.set_xlabel('Предсказания')\n",
    "fx.set_ylabel('Реальность')\n",
    "\n",
    "fx.xaxis.set_ticklabels(['False', 'True'])\n",
    "fx.yaxis.set_ticklabels(['False', 'True'])"
   ]
  },
  {
   "cell_type": "markdown",
   "metadata": {},
   "source": [
    "Эти данные соответствуют тому, что в 1550 случаях целевой показатель определен верно и только в 146 случаях ошибочно."
   ]
  },
  {
   "cell_type": "markdown",
   "metadata": {},
   "source": [
    "#### Анализ важности признаков"
   ]
  },
  {
   "cell_type": "markdown",
   "metadata": {},
   "source": [
    "Построим диаграмму, показывающую степень важности влияния признаков на конечный результат. В этом нам поможет бибилиотека shap."
   ]
  },
  {
   "cell_type": "code",
   "execution_count": 63,
   "metadata": {},
   "outputs": [
    {
     "name": "stderr",
     "output_type": "stream",
     "text": [
      "LightGBM binary classifier with TreeExplainer shap values output has changed to a list of ndarray\n"
     ]
    }
   ],
   "source": [
    "explainer = shap.TreeExplainer(lgbm_best_model)\n",
    "shap_values = explainer.shap_values(features_train)"
   ]
  },
  {
   "cell_type": "code",
   "execution_count": 64,
   "metadata": {},
   "outputs": [
    {
     "data": {
      "image/png": "[encoded data removed]",
      "text/plain": [
       "<Figure size 576x597.6 with 1 Axes>"
      ]
     },
     "metadata": {
      "needs_background": "light"
     },
     "output_type": "display_data"
    }
   ],
   "source": [
    "shap.summary_plot(shap_values, features_train)"
   ]
  },
  {
   "cell_type": "markdown",
   "metadata": {},
   "source": [
    "Как видно из диаграммы, наиболее важным признаком оказался созданный нами `dayscharges`, на втором месте оказался признак `totalcharges`. Эти два признака имеют наибольшую важность. Далее следуют признаки `type`, `monthlycharges` и `partner`."
   ]
  },
  {
   "cell_type": "markdown",
   "metadata": {},
   "source": [
    "## Вывод"
   ]
  },
  {
   "cell_type": "markdown",
   "metadata": {},
   "source": [
    "Подготовлены и проанализированы данные о пакетах услуг клиентов. Подготовлены различные модели обучения, которые прогнозируют отток клиентов компании. Наилучший результат по времени и по показателю ROC-AUC показала модель LGBMRegressor.\n",
    "\n",
    "А также построена диаграмма анализа важности признаков, которая помогает определить, какие признаки больше всего влияют на конечный результат."
   ]
  }
 ],
 "metadata": {
  "ExecuteTimeLog": [
   {
    "duration": 1662,
    "start_time": "2023-04-02T21:25:59.095Z"
   },
   {
    "duration": 272,
    "start_time": "2023-04-02T21:26:00.760Z"
   },
   {
    "duration": 53,
    "start_time": "2023-04-02T21:26:01.034Z"
   },
   {
    "duration": 53,
    "start_time": "2023-04-02T21:26:01.090Z"
   },
   {
    "duration": 46,
    "start_time": "2023-04-02T21:26:01.145Z"
   },
   {
    "duration": 11,
    "start_time": "2023-04-02T21:27:34.520Z"
   },
   {
    "duration": 7,
    "start_time": "2023-04-02T21:27:54.914Z"
   },
   {
    "duration": 8,
    "start_time": "2023-04-02T21:28:09.136Z"
   },
   {
    "duration": 30,
    "start_time": "2023-04-02T21:28:14.023Z"
   },
   {
    "duration": 18,
    "start_time": "2023-04-02T21:28:27.171Z"
   },
   {
    "duration": 471,
    "start_time": "2023-04-02T21:30:02.214Z"
   },
   {
    "duration": 26,
    "start_time": "2023-04-02T21:30:11.016Z"
   },
   {
    "duration": 516,
    "start_time": "2023-04-02T21:32:10.472Z"
   },
   {
    "duration": 18,
    "start_time": "2023-04-02T21:32:16.498Z"
   },
   {
    "duration": 476,
    "start_time": "2023-04-02T21:33:01.144Z"
   },
   {
    "duration": 26,
    "start_time": "2023-04-02T21:33:01.622Z"
   },
   {
    "duration": 12,
    "start_time": "2023-04-02T21:33:40.565Z"
   },
   {
    "duration": 18,
    "start_time": "2023-04-02T21:33:41.145Z"
   },
   {
    "duration": 16,
    "start_time": "2023-04-02T21:34:17.327Z"
   },
   {
    "duration": 18,
    "start_time": "2023-04-02T21:34:17.760Z"
   },
   {
    "duration": 1302,
    "start_time": "2023-04-03T19:43:21.269Z"
   },
   {
    "duration": 150,
    "start_time": "2023-04-03T19:43:22.576Z"
   },
   {
    "duration": 120,
    "start_time": "2023-04-03T19:43:22.728Z"
   },
   {
    "duration": 92,
    "start_time": "2023-04-03T19:43:22.850Z"
   },
   {
    "duration": 64,
    "start_time": "2023-04-03T19:43:22.944Z"
   },
   {
    "duration": 4,
    "start_time": "2023-04-03T19:43:23.010Z"
   },
   {
    "duration": 41,
    "start_time": "2023-04-03T19:43:23.400Z"
   },
   {
    "duration": 258,
    "start_time": "2023-04-03T19:43:23.991Z"
   },
   {
    "duration": 213,
    "start_time": "2023-04-03T19:43:31.036Z"
   },
   {
    "duration": 50,
    "start_time": "2023-04-03T19:43:31.252Z"
   },
   {
    "duration": 322,
    "start_time": "2023-04-03T19:43:31.370Z"
   },
   {
    "duration": 29,
    "start_time": "2023-04-03T19:43:31.694Z"
   },
   {
    "duration": 699,
    "start_time": "2023-04-03T19:43:31.724Z"
   },
   {
    "duration": 17,
    "start_time": "2023-04-03T19:43:32.426Z"
   },
   {
    "duration": 86,
    "start_time": "2023-04-03T19:43:32.578Z"
   },
   {
    "duration": 107,
    "start_time": "2023-04-03T19:49:02.040Z"
   },
   {
    "duration": 3,
    "start_time": "2023-04-03T19:50:14.541Z"
   },
   {
    "duration": 12,
    "start_time": "2023-04-03T19:50:22.302Z"
   },
   {
    "duration": 9,
    "start_time": "2023-04-03T19:51:34.657Z"
   },
   {
    "duration": 9,
    "start_time": "2023-04-03T19:51:58.040Z"
   },
   {
    "duration": 9,
    "start_time": "2023-04-03T19:52:14.920Z"
   },
   {
    "duration": 13,
    "start_time": "2023-04-03T20:16:29.995Z"
   },
   {
    "duration": 1449,
    "start_time": "2023-04-03T20:16:40.345Z"
   },
   {
    "duration": 60,
    "start_time": "2023-04-03T20:16:41.802Z"
   },
   {
    "duration": 35,
    "start_time": "2023-04-03T20:16:41.864Z"
   },
   {
    "duration": 22,
    "start_time": "2023-04-03T20:16:41.902Z"
   },
   {
    "duration": 20,
    "start_time": "2023-04-03T20:16:41.925Z"
   },
   {
    "duration": 4,
    "start_time": "2023-04-03T20:16:41.947Z"
   },
   {
    "duration": 64,
    "start_time": "2023-04-03T20:16:41.952Z"
   },
   {
    "duration": 340,
    "start_time": "2023-04-03T20:16:42.017Z"
   },
   {
    "duration": 261,
    "start_time": "2023-04-03T20:16:42.358Z"
   },
   {
    "duration": 72,
    "start_time": "2023-04-03T20:16:42.621Z"
   },
   {
    "duration": 482,
    "start_time": "2023-04-03T20:16:42.699Z"
   },
   {
    "duration": 38,
    "start_time": "2023-04-03T20:16:43.192Z"
   },
   {
    "duration": 780,
    "start_time": "2023-04-03T20:16:43.234Z"
   },
   {
    "duration": 18,
    "start_time": "2023-04-03T20:16:44.016Z"
   },
   {
    "duration": 111,
    "start_time": "2023-04-03T20:16:44.036Z"
   },
   {
    "duration": 4,
    "start_time": "2023-04-03T20:16:44.148Z"
   },
   {
    "duration": 162,
    "start_time": "2023-04-03T20:16:44.154Z"
   },
   {
    "duration": 0,
    "start_time": "2023-04-03T20:16:44.318Z"
   },
   {
    "duration": 15,
    "start_time": "2023-04-03T20:17:12.795Z"
   },
   {
    "duration": 10,
    "start_time": "2023-04-03T20:17:27.602Z"
   },
   {
    "duration": 19,
    "start_time": "2023-04-03T20:17:43.902Z"
   },
   {
    "duration": 141,
    "start_time": "2023-04-03T20:18:41.029Z"
   },
   {
    "duration": 159,
    "start_time": "2023-04-03T20:19:15.706Z"
   },
   {
    "duration": 12,
    "start_time": "2023-04-03T20:19:58.449Z"
   },
   {
    "duration": 13,
    "start_time": "2023-04-03T20:21:01.684Z"
   },
   {
    "duration": 131,
    "start_time": "2023-04-03T20:22:39.053Z"
   },
   {
    "duration": 104,
    "start_time": "2023-04-03T20:24:29.337Z"
   },
   {
    "duration": 9,
    "start_time": "2023-04-03T20:24:33.717Z"
   },
   {
    "duration": 6,
    "start_time": "2023-04-03T20:26:03.656Z"
   },
   {
    "duration": 13,
    "start_time": "2023-04-03T20:26:10.003Z"
   },
   {
    "duration": 6,
    "start_time": "2023-04-03T20:26:47.741Z"
   },
   {
    "duration": 13,
    "start_time": "2023-04-03T20:26:48.388Z"
   },
   {
    "duration": 1430,
    "start_time": "2023-04-03T20:26:59.503Z"
   },
   {
    "duration": 56,
    "start_time": "2023-04-03T20:27:00.934Z"
   },
   {
    "duration": 21,
    "start_time": "2023-04-03T20:27:00.992Z"
   },
   {
    "duration": 27,
    "start_time": "2023-04-03T20:27:01.015Z"
   },
   {
    "duration": 39,
    "start_time": "2023-04-03T20:27:01.044Z"
   },
   {
    "duration": 18,
    "start_time": "2023-04-03T20:27:01.084Z"
   },
   {
    "duration": 92,
    "start_time": "2023-04-03T20:27:01.104Z"
   },
   {
    "duration": 279,
    "start_time": "2023-04-03T20:27:01.198Z"
   },
   {
    "duration": 214,
    "start_time": "2023-04-03T20:27:01.478Z"
   },
   {
    "duration": 26,
    "start_time": "2023-04-03T20:27:01.695Z"
   },
   {
    "duration": 399,
    "start_time": "2023-04-03T20:27:01.723Z"
   },
   {
    "duration": 31,
    "start_time": "2023-04-03T20:27:02.123Z"
   },
   {
    "duration": 631,
    "start_time": "2023-04-03T20:27:02.156Z"
   },
   {
    "duration": 17,
    "start_time": "2023-04-03T20:27:02.789Z"
   },
   {
    "duration": 90,
    "start_time": "2023-04-03T20:27:02.808Z"
   },
   {
    "duration": 3,
    "start_time": "2023-04-03T20:27:02.900Z"
   },
   {
    "duration": 20,
    "start_time": "2023-04-03T20:27:02.905Z"
   },
   {
    "duration": 132,
    "start_time": "2023-04-03T20:27:02.927Z"
   },
   {
    "duration": 7,
    "start_time": "2023-04-03T20:27:03.061Z"
   },
   {
    "duration": 16,
    "start_time": "2023-04-03T20:27:05.870Z"
   },
   {
    "duration": 1347,
    "start_time": "2023-04-03T20:28:04.091Z"
   },
   {
    "duration": 61,
    "start_time": "2023-04-03T20:28:05.440Z"
   },
   {
    "duration": 20,
    "start_time": "2023-04-03T20:28:05.503Z"
   },
   {
    "duration": 21,
    "start_time": "2023-04-03T20:28:05.525Z"
   },
   {
    "duration": 18,
    "start_time": "2023-04-03T20:28:05.547Z"
   },
   {
    "duration": 3,
    "start_time": "2023-04-03T20:28:05.566Z"
   },
   {
    "duration": 58,
    "start_time": "2023-04-03T20:28:05.571Z"
   },
   {
    "duration": 279,
    "start_time": "2023-04-03T20:28:05.630Z"
   },
   {
    "duration": 227,
    "start_time": "2023-04-03T20:28:05.910Z"
   },
   {
    "duration": 51,
    "start_time": "2023-04-03T20:28:06.139Z"
   },
   {
    "duration": 458,
    "start_time": "2023-04-03T20:28:06.194Z"
   },
   {
    "duration": 36,
    "start_time": "2023-04-03T20:28:06.654Z"
   },
   {
    "duration": 688,
    "start_time": "2023-04-03T20:28:06.692Z"
   },
   {
    "duration": 19,
    "start_time": "2023-04-03T20:28:07.381Z"
   },
   {
    "duration": 101,
    "start_time": "2023-04-03T20:28:07.402Z"
   },
   {
    "duration": 3,
    "start_time": "2023-04-03T20:28:07.505Z"
   },
   {
    "duration": 20,
    "start_time": "2023-04-03T20:28:07.510Z"
   },
   {
    "duration": 154,
    "start_time": "2023-04-03T20:28:07.532Z"
   },
   {
    "duration": 8,
    "start_time": "2023-04-03T20:28:08.295Z"
   },
   {
    "duration": 14,
    "start_time": "2023-04-03T20:28:09.687Z"
   },
   {
    "duration": 7,
    "start_time": "2023-04-03T20:28:40.208Z"
   },
   {
    "duration": 10,
    "start_time": "2023-04-03T20:28:40.853Z"
   },
   {
    "duration": 6,
    "start_time": "2023-04-03T20:28:46.528Z"
   },
   {
    "duration": 11,
    "start_time": "2023-04-03T20:28:47.150Z"
   },
   {
    "duration": 51,
    "start_time": "2023-04-03T20:30:31.564Z"
   },
   {
    "duration": 1521,
    "start_time": "2023-04-03T20:30:45.995Z"
   },
   {
    "duration": 51,
    "start_time": "2023-04-03T20:30:47.518Z"
   },
   {
    "duration": 38,
    "start_time": "2023-04-03T20:30:47.570Z"
   },
   {
    "duration": 23,
    "start_time": "2023-04-03T20:30:47.609Z"
   },
   {
    "duration": 22,
    "start_time": "2023-04-03T20:30:47.635Z"
   },
   {
    "duration": 4,
    "start_time": "2023-04-03T20:30:47.659Z"
   },
   {
    "duration": 72,
    "start_time": "2023-04-03T20:30:47.664Z"
   },
   {
    "duration": 303,
    "start_time": "2023-04-03T20:30:47.738Z"
   },
   {
    "duration": 247,
    "start_time": "2023-04-03T20:30:48.043Z"
   },
   {
    "duration": 26,
    "start_time": "2023-04-03T20:30:48.292Z"
   },
   {
    "duration": 404,
    "start_time": "2023-04-03T20:30:48.320Z"
   },
   {
    "duration": 55,
    "start_time": "2023-04-03T20:30:48.726Z"
   },
   {
    "duration": 664,
    "start_time": "2023-04-03T20:30:48.782Z"
   },
   {
    "duration": 36,
    "start_time": "2023-04-03T20:30:49.449Z"
   },
   {
    "duration": 120,
    "start_time": "2023-04-03T20:30:49.491Z"
   },
   {
    "duration": 4,
    "start_time": "2023-04-03T20:30:49.613Z"
   },
   {
    "duration": 13,
    "start_time": "2023-04-03T20:30:49.619Z"
   },
   {
    "duration": 123,
    "start_time": "2023-04-03T20:30:49.634Z"
   },
   {
    "duration": 31,
    "start_time": "2023-04-03T20:30:49.759Z"
   },
   {
    "duration": 17,
    "start_time": "2023-04-03T20:30:49.791Z"
   },
   {
    "duration": 6,
    "start_time": "2023-04-03T20:30:58.213Z"
   },
   {
    "duration": 5,
    "start_time": "2023-04-03T20:31:13.053Z"
   },
   {
    "duration": 5,
    "start_time": "2023-04-03T20:31:20.235Z"
   },
   {
    "duration": 6,
    "start_time": "2023-04-03T20:31:25.657Z"
   },
   {
    "duration": 5,
    "start_time": "2023-04-03T20:31:32.113Z"
   },
   {
    "duration": 6,
    "start_time": "2023-04-03T20:31:38.796Z"
   },
   {
    "duration": 411,
    "start_time": "2023-04-03T20:32:02.007Z"
   },
   {
    "duration": 17,
    "start_time": "2023-04-03T20:32:12.088Z"
   },
   {
    "duration": 5,
    "start_time": "2023-04-03T20:33:12.992Z"
   },
   {
    "duration": 10,
    "start_time": "2023-04-03T20:33:22.319Z"
   },
   {
    "duration": 4,
    "start_time": "2023-04-03T20:33:26.487Z"
   },
   {
    "duration": 10,
    "start_time": "2023-04-03T20:33:32.191Z"
   },
   {
    "duration": 7,
    "start_time": "2023-04-03T20:33:41.701Z"
   },
   {
    "duration": 10,
    "start_time": "2023-04-03T20:33:46.035Z"
   },
   {
    "duration": 10,
    "start_time": "2023-04-03T20:33:46.720Z"
   },
   {
    "duration": 10,
    "start_time": "2023-04-03T20:33:47.238Z"
   },
   {
    "duration": 16,
    "start_time": "2023-04-03T20:33:51.213Z"
   },
   {
    "duration": 30,
    "start_time": "2023-04-03T20:33:57.102Z"
   },
   {
    "duration": 11,
    "start_time": "2023-04-03T20:34:57.952Z"
   },
   {
    "duration": 21,
    "start_time": "2023-04-03T20:35:34.566Z"
   },
   {
    "duration": 17,
    "start_time": "2023-04-03T20:37:19.034Z"
   },
   {
    "duration": 16,
    "start_time": "2023-04-03T20:37:28.912Z"
   },
   {
    "duration": 15,
    "start_time": "2023-04-03T20:37:32.550Z"
   },
   {
    "duration": 27,
    "start_time": "2023-04-03T20:37:45.161Z"
   },
   {
    "duration": 1112,
    "start_time": "2023-04-03T20:45:00.614Z"
   },
   {
    "duration": 1228,
    "start_time": "2023-04-03T20:45:10.634Z"
   },
   {
    "duration": 1093,
    "start_time": "2023-04-03T20:45:18.157Z"
   },
   {
    "duration": 7,
    "start_time": "2023-04-03T20:45:59.693Z"
   },
   {
    "duration": 12,
    "start_time": "2023-04-03T20:46:00.229Z"
   },
   {
    "duration": 9,
    "start_time": "2023-04-03T20:46:59.111Z"
   },
   {
    "duration": 5,
    "start_time": "2023-04-03T20:47:05.808Z"
   },
   {
    "duration": 245,
    "start_time": "2023-04-03T20:47:13.963Z"
   },
   {
    "duration": 178,
    "start_time": "2023-04-03T20:47:45.344Z"
   },
   {
    "duration": 6,
    "start_time": "2023-04-03T20:49:10.446Z"
   },
   {
    "duration": 11,
    "start_time": "2023-04-03T20:49:12.115Z"
   },
   {
    "duration": 6,
    "start_time": "2023-04-03T20:49:29.987Z"
   },
   {
    "duration": 12,
    "start_time": "2023-04-03T20:49:30.751Z"
   },
   {
    "duration": 1365,
    "start_time": "2023-04-03T21:02:09.694Z"
   },
   {
    "duration": 53,
    "start_time": "2023-04-03T21:02:11.061Z"
   },
   {
    "duration": 22,
    "start_time": "2023-04-03T21:02:11.116Z"
   },
   {
    "duration": 22,
    "start_time": "2023-04-03T21:02:11.140Z"
   },
   {
    "duration": 19,
    "start_time": "2023-04-03T21:02:11.164Z"
   },
   {
    "duration": 4,
    "start_time": "2023-04-03T21:02:11.185Z"
   },
   {
    "duration": 46,
    "start_time": "2023-04-03T21:02:11.191Z"
   },
   {
    "duration": 258,
    "start_time": "2023-04-03T21:02:11.238Z"
   },
   {
    "duration": 211,
    "start_time": "2023-04-03T21:02:11.497Z"
   },
   {
    "duration": 25,
    "start_time": "2023-04-03T21:02:11.710Z"
   },
   {
    "duration": 363,
    "start_time": "2023-04-03T21:02:11.737Z"
   },
   {
    "duration": 28,
    "start_time": "2023-04-03T21:02:12.101Z"
   },
   {
    "duration": 579,
    "start_time": "2023-04-03T21:02:12.130Z"
   },
   {
    "duration": 16,
    "start_time": "2023-04-03T21:02:12.711Z"
   },
   {
    "duration": 87,
    "start_time": "2023-04-03T21:02:12.729Z"
   },
   {
    "duration": 2,
    "start_time": "2023-04-03T21:02:12.818Z"
   },
   {
    "duration": 121,
    "start_time": "2023-04-03T21:02:12.822Z"
   },
   {
    "duration": 1316,
    "start_time": "2023-04-03T21:02:41.636Z"
   },
   {
    "duration": 50,
    "start_time": "2023-04-03T21:02:42.954Z"
   },
   {
    "duration": 20,
    "start_time": "2023-04-03T21:02:43.006Z"
   },
   {
    "duration": 20,
    "start_time": "2023-04-03T21:02:43.028Z"
   },
   {
    "duration": 48,
    "start_time": "2023-04-03T21:02:43.049Z"
   },
   {
    "duration": 3,
    "start_time": "2023-04-03T21:02:43.098Z"
   },
   {
    "duration": 38,
    "start_time": "2023-04-03T21:02:43.103Z"
   },
   {
    "duration": 242,
    "start_time": "2023-04-03T21:02:43.142Z"
   },
   {
    "duration": 199,
    "start_time": "2023-04-03T21:02:43.386Z"
   },
   {
    "duration": 22,
    "start_time": "2023-04-03T21:02:43.587Z"
   },
   {
    "duration": 350,
    "start_time": "2023-04-03T21:02:43.611Z"
   },
   {
    "duration": 26,
    "start_time": "2023-04-03T21:02:43.971Z"
   },
   {
    "duration": 563,
    "start_time": "2023-04-03T21:02:43.998Z"
   },
   {
    "duration": 21,
    "start_time": "2023-04-03T21:02:44.562Z"
   },
   {
    "duration": 69,
    "start_time": "2023-04-03T21:02:44.584Z"
   },
   {
    "duration": 18,
    "start_time": "2023-04-03T21:02:44.654Z"
   },
   {
    "duration": 3,
    "start_time": "2023-04-03T21:02:52.960Z"
   },
   {
    "duration": 11,
    "start_time": "2023-04-03T21:02:53.575Z"
   },
   {
    "duration": 5,
    "start_time": "2023-04-03T21:02:54.972Z"
   },
   {
    "duration": 10,
    "start_time": "2023-04-03T21:02:56.047Z"
   },
   {
    "duration": 12,
    "start_time": "2023-04-03T21:04:07.290Z"
   },
   {
    "duration": 16,
    "start_time": "2023-04-03T21:04:08.491Z"
   },
   {
    "duration": 7,
    "start_time": "2023-04-03T21:05:18.539Z"
   },
   {
    "duration": 14,
    "start_time": "2023-04-03T21:05:19.187Z"
   },
   {
    "duration": 120,
    "start_time": "2023-04-03T21:05:24.610Z"
   },
   {
    "duration": 7,
    "start_time": "2023-04-03T21:05:26.831Z"
   },
   {
    "duration": 4,
    "start_time": "2023-04-03T21:05:27.266Z"
   },
   {
    "duration": 166,
    "start_time": "2023-04-03T21:05:28.093Z"
   },
   {
    "duration": 271,
    "start_time": "2023-04-03T21:05:31.078Z"
   },
   {
    "duration": 9,
    "start_time": "2023-04-03T21:05:31.351Z"
   },
   {
    "duration": 12,
    "start_time": "2023-04-03T21:05:34.721Z"
   },
   {
    "duration": 3,
    "start_time": "2023-04-03T21:05:39.322Z"
   },
   {
    "duration": 7,
    "start_time": "2023-04-03T21:05:39.592Z"
   },
   {
    "duration": 4,
    "start_time": "2023-04-03T21:05:40.109Z"
   },
   {
    "duration": 13,
    "start_time": "2023-04-03T21:05:40.251Z"
   },
   {
    "duration": 3,
    "start_time": "2023-04-03T21:05:40.553Z"
   },
   {
    "duration": 6,
    "start_time": "2023-04-03T21:05:40.694Z"
   },
   {
    "duration": 8,
    "start_time": "2023-04-03T21:05:41.130Z"
   },
   {
    "duration": 5,
    "start_time": "2023-04-03T21:05:41.313Z"
   },
   {
    "duration": 5,
    "start_time": "2023-04-03T21:05:41.626Z"
   },
   {
    "duration": 19,
    "start_time": "2023-04-03T21:05:41.796Z"
   },
   {
    "duration": 17,
    "start_time": "2023-04-03T21:05:43.103Z"
   },
   {
    "duration": 10,
    "start_time": "2023-04-03T21:05:49.620Z"
   },
   {
    "duration": 14,
    "start_time": "2023-04-03T21:05:51.097Z"
   },
   {
    "duration": 23,
    "start_time": "2023-04-03T21:05:52.079Z"
   },
   {
    "duration": 15,
    "start_time": "2023-04-03T21:05:53.955Z"
   },
   {
    "duration": 4,
    "start_time": "2023-04-03T21:12:09.486Z"
   },
   {
    "duration": 9,
    "start_time": "2023-04-03T21:12:43.555Z"
   },
   {
    "duration": 4,
    "start_time": "2023-04-03T21:17:30.749Z"
   },
   {
    "duration": 4,
    "start_time": "2023-04-03T21:17:30.924Z"
   },
   {
    "duration": 5,
    "start_time": "2023-04-03T21:17:31.091Z"
   },
   {
    "duration": 4,
    "start_time": "2023-04-03T21:17:31.294Z"
   },
   {
    "duration": 5,
    "start_time": "2023-04-03T21:17:31.486Z"
   },
   {
    "duration": 4,
    "start_time": "2023-04-03T21:17:31.887Z"
   },
   {
    "duration": 4,
    "start_time": "2023-04-03T21:17:34.501Z"
   },
   {
    "duration": 9,
    "start_time": "2023-04-03T21:17:39.120Z"
   },
   {
    "duration": 14,
    "start_time": "2023-04-03T21:17:58.293Z"
   },
   {
    "duration": 5,
    "start_time": "2023-04-03T21:18:08.987Z"
   },
   {
    "duration": 14,
    "start_time": "2023-04-03T21:18:13.297Z"
   },
   {
    "duration": 6,
    "start_time": "2023-04-03T21:18:38.996Z"
   },
   {
    "duration": 114,
    "start_time": "2023-04-03T21:18:48.535Z"
   },
   {
    "duration": 7,
    "start_time": "2023-04-03T21:19:55.443Z"
   },
   {
    "duration": 23,
    "start_time": "2023-04-03T21:20:08.667Z"
   },
   {
    "duration": 14,
    "start_time": "2023-04-03T21:22:23.351Z"
   },
   {
    "duration": 9,
    "start_time": "2023-04-03T21:22:28.153Z"
   },
   {
    "duration": 10,
    "start_time": "2023-04-03T21:24:46.894Z"
   },
   {
    "duration": 4,
    "start_time": "2023-04-03T21:24:49.654Z"
   },
   {
    "duration": 6,
    "start_time": "2023-04-03T21:24:51.862Z"
   },
   {
    "duration": 4,
    "start_time": "2023-04-03T21:26:21.854Z"
   },
   {
    "duration": 17,
    "start_time": "2023-04-03T21:26:23.012Z"
   },
   {
    "duration": 4,
    "start_time": "2023-04-03T21:26:58.868Z"
   },
   {
    "duration": 20,
    "start_time": "2023-04-03T21:26:59.541Z"
   },
   {
    "duration": 4,
    "start_time": "2023-04-03T21:27:04.839Z"
   },
   {
    "duration": 13,
    "start_time": "2023-04-03T21:27:05.354Z"
   },
   {
    "duration": 4,
    "start_time": "2023-04-03T21:27:08.905Z"
   },
   {
    "duration": 15,
    "start_time": "2023-04-03T21:27:09.222Z"
   },
   {
    "duration": 5,
    "start_time": "2023-04-03T21:27:19.935Z"
   },
   {
    "duration": 15,
    "start_time": "2023-04-03T21:27:20.300Z"
   },
   {
    "duration": 4,
    "start_time": "2023-04-03T21:27:23.801Z"
   },
   {
    "duration": 14,
    "start_time": "2023-04-03T21:27:24.095Z"
   },
   {
    "duration": 4,
    "start_time": "2023-04-03T21:27:27.235Z"
   },
   {
    "duration": 13,
    "start_time": "2023-04-03T21:27:27.730Z"
   },
   {
    "duration": 5,
    "start_time": "2023-04-03T21:27:31.620Z"
   },
   {
    "duration": 4,
    "start_time": "2023-04-03T21:27:32.096Z"
   },
   {
    "duration": 18,
    "start_time": "2023-04-03T21:27:32.706Z"
   },
   {
    "duration": 587,
    "start_time": "2023-04-03T21:27:51.767Z"
   },
   {
    "duration": 0,
    "start_time": "2023-04-03T21:27:52.356Z"
   },
   {
    "duration": 604,
    "start_time": "2023-04-03T21:27:56.552Z"
   },
   {
    "duration": 18,
    "start_time": "2023-04-03T21:27:57.570Z"
   },
   {
    "duration": 4,
    "start_time": "2023-04-03T21:28:16.936Z"
   },
   {
    "duration": 15,
    "start_time": "2023-04-03T21:28:17.655Z"
   },
   {
    "duration": 10,
    "start_time": "2023-04-03T21:28:18.338Z"
   },
   {
    "duration": 5,
    "start_time": "2023-04-03T21:28:26.185Z"
   },
   {
    "duration": 13,
    "start_time": "2023-04-03T21:28:26.816Z"
   },
   {
    "duration": 4,
    "start_time": "2023-04-03T21:28:49.958Z"
   },
   {
    "duration": 15,
    "start_time": "2023-04-03T21:28:51.034Z"
   },
   {
    "duration": 13,
    "start_time": "2023-04-03T21:29:56.752Z"
   },
   {
    "duration": 5,
    "start_time": "2023-04-03T21:29:57.145Z"
   },
   {
    "duration": 5,
    "start_time": "2023-04-03T21:29:57.410Z"
   },
   {
    "duration": 4,
    "start_time": "2023-04-03T21:29:57.921Z"
   },
   {
    "duration": 1401,
    "start_time": "2023-04-03T21:30:05.732Z"
   },
   {
    "duration": 50,
    "start_time": "2023-04-03T21:30:07.136Z"
   },
   {
    "duration": 20,
    "start_time": "2023-04-03T21:30:07.187Z"
   },
   {
    "duration": 21,
    "start_time": "2023-04-03T21:30:07.209Z"
   },
   {
    "duration": 19,
    "start_time": "2023-04-03T21:30:07.232Z"
   },
   {
    "duration": 3,
    "start_time": "2023-04-03T21:30:07.252Z"
   },
   {
    "duration": 51,
    "start_time": "2023-04-03T21:30:07.256Z"
   },
   {
    "duration": 294,
    "start_time": "2023-04-03T21:30:07.309Z"
   },
   {
    "duration": 232,
    "start_time": "2023-04-03T21:30:07.605Z"
   },
   {
    "duration": 39,
    "start_time": "2023-04-03T21:30:07.838Z"
   },
   {
    "duration": 387,
    "start_time": "2023-04-03T21:30:07.878Z"
   },
   {
    "duration": 37,
    "start_time": "2023-04-03T21:30:08.267Z"
   },
   {
    "duration": 666,
    "start_time": "2023-04-03T21:30:08.306Z"
   },
   {
    "duration": 16,
    "start_time": "2023-04-03T21:30:08.975Z"
   },
   {
    "duration": 99,
    "start_time": "2023-04-03T21:30:08.992Z"
   },
   {
    "duration": 3,
    "start_time": "2023-04-03T21:30:09.093Z"
   },
   {
    "duration": 20,
    "start_time": "2023-04-03T21:30:09.097Z"
   },
   {
    "duration": 4,
    "start_time": "2023-04-03T21:30:09.119Z"
   },
   {
    "duration": 11,
    "start_time": "2023-04-03T21:30:09.125Z"
   },
   {
    "duration": 9,
    "start_time": "2023-04-03T21:30:09.137Z"
   },
   {
    "duration": 40,
    "start_time": "2023-04-03T21:30:09.148Z"
   },
   {
    "duration": 139,
    "start_time": "2023-04-03T21:30:09.190Z"
   },
   {
    "duration": 9,
    "start_time": "2023-04-03T21:30:09.331Z"
   },
   {
    "duration": 6,
    "start_time": "2023-04-03T21:30:09.341Z"
   },
   {
    "duration": 194,
    "start_time": "2023-04-03T21:30:09.348Z"
   },
   {
    "duration": 8,
    "start_time": "2023-04-03T21:30:09.544Z"
   },
   {
    "duration": 23,
    "start_time": "2023-04-03T21:30:09.553Z"
   },
   {
    "duration": 10,
    "start_time": "2023-04-03T21:30:09.578Z"
   },
   {
    "duration": 11,
    "start_time": "2023-04-03T21:30:09.590Z"
   },
   {
    "duration": 6,
    "start_time": "2023-04-03T21:30:09.603Z"
   },
   {
    "duration": 16,
    "start_time": "2023-04-03T21:30:09.611Z"
   },
   {
    "duration": 7,
    "start_time": "2023-04-03T21:30:09.629Z"
   },
   {
    "duration": 9,
    "start_time": "2023-04-03T21:30:09.638Z"
   },
   {
    "duration": 23,
    "start_time": "2023-04-03T21:30:09.649Z"
   },
   {
    "duration": 7,
    "start_time": "2023-04-03T21:30:09.674Z"
   },
   {
    "duration": 8,
    "start_time": "2023-04-03T21:30:09.683Z"
   },
   {
    "duration": 26,
    "start_time": "2023-04-03T21:30:09.693Z"
   },
   {
    "duration": 22,
    "start_time": "2023-04-03T21:30:09.721Z"
   },
   {
    "duration": 33,
    "start_time": "2023-04-03T21:30:09.745Z"
   },
   {
    "duration": 16,
    "start_time": "2023-04-03T21:30:09.780Z"
   },
   {
    "duration": 20,
    "start_time": "2023-04-03T21:30:09.822Z"
   },
   {
    "duration": 14,
    "start_time": "2023-04-03T21:30:11.220Z"
   },
   {
    "duration": 5,
    "start_time": "2023-04-03T21:30:14.912Z"
   },
   {
    "duration": 4,
    "start_time": "2023-04-03T21:30:15.087Z"
   },
   {
    "duration": 4,
    "start_time": "2023-04-03T21:30:15.312Z"
   },
   {
    "duration": 4,
    "start_time": "2023-04-03T21:30:15.534Z"
   },
   {
    "duration": 4,
    "start_time": "2023-04-03T21:30:15.787Z"
   },
   {
    "duration": 4,
    "start_time": "2023-04-03T21:30:16.280Z"
   },
   {
    "duration": 5,
    "start_time": "2023-04-03T21:30:16.729Z"
   },
   {
    "duration": 20,
    "start_time": "2023-04-03T21:30:23.226Z"
   },
   {
    "duration": 5,
    "start_time": "2023-04-03T21:31:16.268Z"
   },
   {
    "duration": 17,
    "start_time": "2023-04-03T21:31:18.458Z"
   },
   {
    "duration": 502,
    "start_time": "2023-04-03T21:43:47.795Z"
   },
   {
    "duration": 30,
    "start_time": "2023-04-03T21:43:56.361Z"
   },
   {
    "duration": 1365,
    "start_time": "2023-04-03T21:45:11.463Z"
   },
   {
    "duration": 65,
    "start_time": "2023-04-03T21:45:12.829Z"
   },
   {
    "duration": 25,
    "start_time": "2023-04-03T21:45:12.895Z"
   },
   {
    "duration": 31,
    "start_time": "2023-04-03T21:45:12.922Z"
   },
   {
    "duration": 23,
    "start_time": "2023-04-03T21:45:12.955Z"
   },
   {
    "duration": 8,
    "start_time": "2023-04-03T21:45:12.979Z"
   },
   {
    "duration": 38,
    "start_time": "2023-04-03T21:45:12.988Z"
   },
   {
    "duration": 289,
    "start_time": "2023-04-03T21:45:13.027Z"
   },
   {
    "duration": 227,
    "start_time": "2023-04-03T21:45:13.318Z"
   },
   {
    "duration": 42,
    "start_time": "2023-04-03T21:45:13.547Z"
   },
   {
    "duration": 375,
    "start_time": "2023-04-03T21:45:13.591Z"
   },
   {
    "duration": 38,
    "start_time": "2023-04-03T21:45:13.972Z"
   },
   {
    "duration": 662,
    "start_time": "2023-04-03T21:45:14.012Z"
   },
   {
    "duration": 21,
    "start_time": "2023-04-03T21:45:14.677Z"
   },
   {
    "duration": 96,
    "start_time": "2023-04-03T21:45:14.701Z"
   },
   {
    "duration": 3,
    "start_time": "2023-04-03T21:45:14.798Z"
   },
   {
    "duration": 13,
    "start_time": "2023-04-03T21:45:14.803Z"
   },
   {
    "duration": 82,
    "start_time": "2023-04-03T21:45:14.818Z"
   },
   {
    "duration": 0,
    "start_time": "2023-04-03T21:45:14.902Z"
   },
   {
    "duration": 1,
    "start_time": "2023-04-03T21:45:14.903Z"
   },
   {
    "duration": 0,
    "start_time": "2023-04-03T21:45:14.905Z"
   },
   {
    "duration": 0,
    "start_time": "2023-04-03T21:45:14.906Z"
   },
   {
    "duration": 0,
    "start_time": "2023-04-03T21:45:14.907Z"
   },
   {
    "duration": 0,
    "start_time": "2023-04-03T21:45:14.908Z"
   },
   {
    "duration": 0,
    "start_time": "2023-04-03T21:45:14.910Z"
   },
   {
    "duration": 0,
    "start_time": "2023-04-03T21:45:14.911Z"
   },
   {
    "duration": 0,
    "start_time": "2023-04-03T21:45:14.912Z"
   },
   {
    "duration": 0,
    "start_time": "2023-04-03T21:45:14.913Z"
   },
   {
    "duration": 1,
    "start_time": "2023-04-03T21:45:14.914Z"
   },
   {
    "duration": 0,
    "start_time": "2023-04-03T21:45:14.916Z"
   },
   {
    "duration": 0,
    "start_time": "2023-04-03T21:45:14.917Z"
   },
   {
    "duration": 0,
    "start_time": "2023-04-03T21:45:14.918Z"
   },
   {
    "duration": 0,
    "start_time": "2023-04-03T21:45:14.919Z"
   },
   {
    "duration": 0,
    "start_time": "2023-04-03T21:45:14.920Z"
   },
   {
    "duration": 0,
    "start_time": "2023-04-03T21:45:14.922Z"
   },
   {
    "duration": 0,
    "start_time": "2023-04-03T21:45:14.923Z"
   },
   {
    "duration": 0,
    "start_time": "2023-04-03T21:45:14.923Z"
   },
   {
    "duration": 0,
    "start_time": "2023-04-03T21:45:14.924Z"
   },
   {
    "duration": 0,
    "start_time": "2023-04-03T21:45:14.925Z"
   },
   {
    "duration": 0,
    "start_time": "2023-04-03T21:45:14.926Z"
   },
   {
    "duration": 0,
    "start_time": "2023-04-03T21:45:14.927Z"
   },
   {
    "duration": 0,
    "start_time": "2023-04-03T21:45:14.928Z"
   },
   {
    "duration": 0,
    "start_time": "2023-04-03T21:45:14.929Z"
   },
   {
    "duration": 1,
    "start_time": "2023-04-03T21:45:14.929Z"
   },
   {
    "duration": 0,
    "start_time": "2023-04-03T21:45:14.932Z"
   },
   {
    "duration": 0,
    "start_time": "2023-04-03T21:45:14.934Z"
   },
   {
    "duration": 0,
    "start_time": "2023-04-03T21:45:14.935Z"
   },
   {
    "duration": 0,
    "start_time": "2023-04-03T21:45:14.936Z"
   },
   {
    "duration": 0,
    "start_time": "2023-04-03T21:45:14.937Z"
   },
   {
    "duration": 0,
    "start_time": "2023-04-03T21:45:14.938Z"
   },
   {
    "duration": 0,
    "start_time": "2023-04-03T21:45:14.939Z"
   },
   {
    "duration": 0,
    "start_time": "2023-04-03T21:45:14.940Z"
   },
   {
    "duration": 5,
    "start_time": "2023-04-03T21:45:33.341Z"
   },
   {
    "duration": 7,
    "start_time": "2023-04-03T21:45:33.816Z"
   },
   {
    "duration": 6,
    "start_time": "2023-04-03T21:45:33.970Z"
   },
   {
    "duration": 24,
    "start_time": "2023-04-03T21:45:34.170Z"
   },
   {
    "duration": 145,
    "start_time": "2023-04-03T21:45:34.355Z"
   },
   {
    "duration": 7,
    "start_time": "2023-04-03T21:45:34.536Z"
   },
   {
    "duration": 4,
    "start_time": "2023-04-03T21:45:35.224Z"
   },
   {
    "duration": 158,
    "start_time": "2023-04-03T21:45:35.460Z"
   },
   {
    "duration": 7,
    "start_time": "2023-04-03T21:45:35.636Z"
   },
   {
    "duration": 12,
    "start_time": "2023-04-03T21:45:35.875Z"
   },
   {
    "duration": 3,
    "start_time": "2023-04-03T21:45:37.853Z"
   },
   {
    "duration": 10,
    "start_time": "2023-04-03T21:45:37.987Z"
   },
   {
    "duration": 3,
    "start_time": "2023-04-03T21:45:38.411Z"
   },
   {
    "duration": 9,
    "start_time": "2023-04-03T21:45:38.536Z"
   },
   {
    "duration": 3,
    "start_time": "2023-04-03T21:45:38.838Z"
   },
   {
    "duration": 7,
    "start_time": "2023-04-03T21:45:38.987Z"
   },
   {
    "duration": 9,
    "start_time": "2023-04-03T21:45:39.482Z"
   },
   {
    "duration": 6,
    "start_time": "2023-04-03T21:45:39.654Z"
   },
   {
    "duration": 5,
    "start_time": "2023-04-03T21:45:40.148Z"
   },
   {
    "duration": 21,
    "start_time": "2023-04-03T21:45:40.287Z"
   },
   {
    "duration": 25,
    "start_time": "2023-04-03T21:45:40.469Z"
   },
   {
    "duration": 13,
    "start_time": "2023-04-03T21:45:43.049Z"
   },
   {
    "duration": 21,
    "start_time": "2023-04-03T21:45:43.172Z"
   },
   {
    "duration": 19,
    "start_time": "2023-04-03T21:45:43.321Z"
   },
   {
    "duration": 20,
    "start_time": "2023-04-03T21:45:43.470Z"
   },
   {
    "duration": 4,
    "start_time": "2023-04-03T21:45:43.620Z"
   },
   {
    "duration": 9,
    "start_time": "2023-04-03T21:45:43.768Z"
   },
   {
    "duration": 4,
    "start_time": "2023-04-03T21:45:43.953Z"
   },
   {
    "duration": 6,
    "start_time": "2023-04-03T21:45:44.126Z"
   },
   {
    "duration": 11,
    "start_time": "2023-04-03T21:45:44.275Z"
   },
   {
    "duration": 4,
    "start_time": "2023-04-03T21:45:44.420Z"
   },
   {
    "duration": 5,
    "start_time": "2023-04-03T21:45:44.592Z"
   },
   {
    "duration": 6,
    "start_time": "2023-04-03T21:45:44.738Z"
   },
   {
    "duration": 23,
    "start_time": "2023-04-03T21:45:44.904Z"
   },
   {
    "duration": 1407,
    "start_time": "2023-04-03T21:45:45.493Z"
   },
   {
    "duration": 1895,
    "start_time": "2023-04-04T18:11:40.236Z"
   },
   {
    "duration": 192,
    "start_time": "2023-04-04T18:11:42.133Z"
   },
   {
    "duration": 78,
    "start_time": "2023-04-04T18:11:42.327Z"
   },
   {
    "duration": 73,
    "start_time": "2023-04-04T18:11:42.407Z"
   },
   {
    "duration": 45,
    "start_time": "2023-04-04T18:11:42.482Z"
   },
   {
    "duration": 3,
    "start_time": "2023-04-04T18:11:42.529Z"
   },
   {
    "duration": 74,
    "start_time": "2023-04-04T18:11:42.534Z"
   },
   {
    "duration": 328,
    "start_time": "2023-04-04T18:11:42.609Z"
   },
   {
    "duration": 295,
    "start_time": "2023-04-04T18:11:42.939Z"
   },
   {
    "duration": 44,
    "start_time": "2023-04-04T18:11:43.240Z"
   },
   {
    "duration": 504,
    "start_time": "2023-04-04T18:11:43.286Z"
   },
   {
    "duration": 36,
    "start_time": "2023-04-04T18:11:43.791Z"
   },
   {
    "duration": 798,
    "start_time": "2023-04-04T18:11:43.829Z"
   },
   {
    "duration": 25,
    "start_time": "2023-04-04T18:11:44.640Z"
   },
   {
    "duration": 124,
    "start_time": "2023-04-04T18:11:44.668Z"
   },
   {
    "duration": 6,
    "start_time": "2023-04-04T18:11:44.794Z"
   },
   {
    "duration": 13,
    "start_time": "2023-04-04T18:11:44.804Z"
   },
   {
    "duration": 737,
    "start_time": "2023-04-04T18:12:27.825Z"
   },
   {
    "duration": 20,
    "start_time": "2023-04-04T18:13:00.179Z"
   },
   {
    "duration": 225,
    "start_time": "2023-04-04T18:13:00.535Z"
   },
   {
    "duration": 5,
    "start_time": "2023-04-04T18:13:02.268Z"
   },
   {
    "duration": 16,
    "start_time": "2023-04-04T18:13:02.735Z"
   },
   {
    "duration": 142,
    "start_time": "2023-04-04T18:13:03.193Z"
   },
   {
    "duration": 88,
    "start_time": "2023-04-04T18:15:40.692Z"
   },
   {
    "duration": 5,
    "start_time": "2023-04-04T18:15:42.794Z"
   },
   {
    "duration": 15,
    "start_time": "2023-04-04T18:15:43.346Z"
   },
   {
    "duration": 5,
    "start_time": "2023-04-04T18:15:43.794Z"
   },
   {
    "duration": 15,
    "start_time": "2023-04-04T18:15:44.572Z"
   },
   {
    "duration": 156,
    "start_time": "2023-04-04T18:15:49.530Z"
   },
   {
    "duration": 10,
    "start_time": "2023-04-04T18:15:49.949Z"
   },
   {
    "duration": 5,
    "start_time": "2023-04-04T18:15:50.379Z"
   },
   {
    "duration": 4,
    "start_time": "2023-04-04T18:15:55.124Z"
   },
   {
    "duration": 232,
    "start_time": "2023-04-04T18:15:55.982Z"
   },
   {
    "duration": 17,
    "start_time": "2023-04-04T18:15:56.834Z"
   },
   {
    "duration": 15,
    "start_time": "2023-04-04T18:16:01.725Z"
   },
   {
    "duration": 3,
    "start_time": "2023-04-04T18:16:04.124Z"
   },
   {
    "duration": 10,
    "start_time": "2023-04-04T18:16:05.891Z"
   },
   {
    "duration": 10,
    "start_time": "2023-04-04T18:16:07.280Z"
   },
   {
    "duration": 36,
    "start_time": "2023-04-04T18:16:07.440Z"
   },
   {
    "duration": 6,
    "start_time": "2023-04-04T18:16:07.769Z"
   },
   {
    "duration": 11,
    "start_time": "2023-04-04T18:16:08.084Z"
   },
   {
    "duration": 18,
    "start_time": "2023-04-04T18:16:08.631Z"
   },
   {
    "duration": 10,
    "start_time": "2023-04-04T18:16:08.981Z"
   },
   {
    "duration": 11,
    "start_time": "2023-04-04T18:16:09.195Z"
   },
   {
    "duration": 28,
    "start_time": "2023-04-04T18:16:09.620Z"
   },
   {
    "duration": 17,
    "start_time": "2023-04-04T18:16:19.897Z"
   },
   {
    "duration": 16,
    "start_time": "2023-04-04T18:16:20.677Z"
   },
   {
    "duration": 16,
    "start_time": "2023-04-04T18:16:21.177Z"
   },
   {
    "duration": 17,
    "start_time": "2023-04-04T18:16:22.017Z"
   },
   {
    "duration": 16,
    "start_time": "2023-04-04T18:16:22.629Z"
   },
   {
    "duration": 10,
    "start_time": "2023-04-04T18:16:24.668Z"
   },
   {
    "duration": 8,
    "start_time": "2023-04-04T18:16:25.572Z"
   },
   {
    "duration": 5,
    "start_time": "2023-04-04T18:16:26.020Z"
   },
   {
    "duration": 5,
    "start_time": "2023-04-04T18:16:26.294Z"
   },
   {
    "duration": 5,
    "start_time": "2023-04-04T18:16:26.592Z"
   },
   {
    "duration": 5,
    "start_time": "2023-04-04T18:16:26.861Z"
   },
   {
    "duration": 5,
    "start_time": "2023-04-04T18:16:27.077Z"
   },
   {
    "duration": 5,
    "start_time": "2023-04-04T18:16:27.368Z"
   },
   {
    "duration": 17,
    "start_time": "2023-04-04T18:16:28.293Z"
   },
   {
    "duration": 6,
    "start_time": "2023-04-04T18:19:01.327Z"
   },
   {
    "duration": 1734,
    "start_time": "2023-04-04T18:19:17.188Z"
   },
   {
    "duration": 76,
    "start_time": "2023-04-04T18:19:18.924Z"
   },
   {
    "duration": 31,
    "start_time": "2023-04-04T18:19:19.002Z"
   },
   {
    "duration": 39,
    "start_time": "2023-04-04T18:19:19.035Z"
   },
   {
    "duration": 24,
    "start_time": "2023-04-04T18:19:19.077Z"
   },
   {
    "duration": 7,
    "start_time": "2023-04-04T18:19:19.103Z"
   },
   {
    "duration": 87,
    "start_time": "2023-04-04T18:19:19.112Z"
   },
   {
    "duration": 416,
    "start_time": "2023-04-04T18:19:19.201Z"
   },
   {
    "duration": 372,
    "start_time": "2023-04-04T18:19:19.620Z"
   },
   {
    "duration": 52,
    "start_time": "2023-04-04T18:19:19.994Z"
   },
   {
    "duration": 545,
    "start_time": "2023-04-04T18:19:20.059Z"
   },
   {
    "duration": 69,
    "start_time": "2023-04-04T18:19:20.606Z"
   },
   {
    "duration": 773,
    "start_time": "2023-04-04T18:19:20.685Z"
   },
   {
    "duration": 21,
    "start_time": "2023-04-04T18:19:21.463Z"
   },
   {
    "duration": 129,
    "start_time": "2023-04-04T18:19:21.486Z"
   },
   {
    "duration": 4,
    "start_time": "2023-04-04T18:19:21.618Z"
   },
   {
    "duration": 31,
    "start_time": "2023-04-04T18:19:21.623Z"
   },
   {
    "duration": 159,
    "start_time": "2023-04-04T18:19:21.658Z"
   },
   {
    "duration": 0,
    "start_time": "2023-04-04T18:19:21.820Z"
   },
   {
    "duration": 0,
    "start_time": "2023-04-04T18:19:21.821Z"
   },
   {
    "duration": 0,
    "start_time": "2023-04-04T18:19:21.822Z"
   },
   {
    "duration": 0,
    "start_time": "2023-04-04T18:19:21.824Z"
   },
   {
    "duration": 0,
    "start_time": "2023-04-04T18:19:21.841Z"
   },
   {
    "duration": 0,
    "start_time": "2023-04-04T18:19:21.843Z"
   },
   {
    "duration": 0,
    "start_time": "2023-04-04T18:19:21.843Z"
   },
   {
    "duration": 0,
    "start_time": "2023-04-04T18:19:21.849Z"
   },
   {
    "duration": 0,
    "start_time": "2023-04-04T18:19:21.850Z"
   },
   {
    "duration": 0,
    "start_time": "2023-04-04T18:19:21.852Z"
   },
   {
    "duration": 0,
    "start_time": "2023-04-04T18:19:21.853Z"
   },
   {
    "duration": 0,
    "start_time": "2023-04-04T18:19:21.854Z"
   },
   {
    "duration": 0,
    "start_time": "2023-04-04T18:19:21.855Z"
   },
   {
    "duration": 0,
    "start_time": "2023-04-04T18:19:21.856Z"
   },
   {
    "duration": 0,
    "start_time": "2023-04-04T18:19:21.857Z"
   },
   {
    "duration": 0,
    "start_time": "2023-04-04T18:19:21.859Z"
   },
   {
    "duration": 0,
    "start_time": "2023-04-04T18:19:21.860Z"
   },
   {
    "duration": 0,
    "start_time": "2023-04-04T18:19:21.861Z"
   },
   {
    "duration": 0,
    "start_time": "2023-04-04T18:19:21.863Z"
   },
   {
    "duration": 0,
    "start_time": "2023-04-04T18:19:21.864Z"
   },
   {
    "duration": 0,
    "start_time": "2023-04-04T18:19:21.865Z"
   },
   {
    "duration": 0,
    "start_time": "2023-04-04T18:19:21.866Z"
   },
   {
    "duration": 0,
    "start_time": "2023-04-04T18:19:21.867Z"
   },
   {
    "duration": 0,
    "start_time": "2023-04-04T18:19:21.868Z"
   },
   {
    "duration": 0,
    "start_time": "2023-04-04T18:19:21.873Z"
   },
   {
    "duration": 0,
    "start_time": "2023-04-04T18:19:21.875Z"
   },
   {
    "duration": 0,
    "start_time": "2023-04-04T18:19:21.876Z"
   },
   {
    "duration": 0,
    "start_time": "2023-04-04T18:19:21.878Z"
   },
   {
    "duration": 0,
    "start_time": "2023-04-04T18:19:21.879Z"
   },
   {
    "duration": 0,
    "start_time": "2023-04-04T18:19:21.880Z"
   },
   {
    "duration": 0,
    "start_time": "2023-04-04T18:19:21.882Z"
   },
   {
    "duration": 0,
    "start_time": "2023-04-04T18:19:21.883Z"
   },
   {
    "duration": 0,
    "start_time": "2023-04-04T18:19:21.885Z"
   },
   {
    "duration": 0,
    "start_time": "2023-04-04T18:19:21.886Z"
   },
   {
    "duration": 19,
    "start_time": "2023-04-04T18:21:52.629Z"
   },
   {
    "duration": 16,
    "start_time": "2023-04-04T18:21:55.269Z"
   },
   {
    "duration": 21,
    "start_time": "2023-04-04T18:21:55.957Z"
   },
   {
    "duration": 117,
    "start_time": "2023-04-04T18:22:17.371Z"
   },
   {
    "duration": 6,
    "start_time": "2023-04-04T18:22:17.587Z"
   },
   {
    "duration": 10,
    "start_time": "2023-04-04T18:22:17.805Z"
   },
   {
    "duration": 7,
    "start_time": "2023-04-04T18:22:18.123Z"
   },
   {
    "duration": 15,
    "start_time": "2023-04-04T18:22:18.800Z"
   },
   {
    "duration": 157,
    "start_time": "2023-04-04T18:22:19.129Z"
   },
   {
    "duration": 8,
    "start_time": "2023-04-04T18:22:19.791Z"
   },
   {
    "duration": 5,
    "start_time": "2023-04-04T18:22:20.065Z"
   },
   {
    "duration": 207,
    "start_time": "2023-04-04T18:22:20.514Z"
   },
   {
    "duration": 21,
    "start_time": "2023-04-04T18:22:20.723Z"
   },
   {
    "duration": 13,
    "start_time": "2023-04-04T18:22:20.820Z"
   },
   {
    "duration": 3,
    "start_time": "2023-04-04T18:22:21.136Z"
   },
   {
    "duration": 9,
    "start_time": "2023-04-04T18:22:21.285Z"
   },
   {
    "duration": 5,
    "start_time": "2023-04-04T18:22:22.064Z"
   },
   {
    "duration": 16,
    "start_time": "2023-04-04T18:22:22.202Z"
   },
   {
    "duration": 4,
    "start_time": "2023-04-04T18:22:22.485Z"
   },
   {
    "duration": 13,
    "start_time": "2023-04-04T18:22:22.657Z"
   },
   {
    "duration": 9,
    "start_time": "2023-04-04T18:22:23.164Z"
   },
   {
    "duration": 8,
    "start_time": "2023-04-04T18:22:26.322Z"
   },
   {
    "duration": 8,
    "start_time": "2023-04-04T18:22:26.661Z"
   },
   {
    "duration": 24,
    "start_time": "2023-04-04T18:22:26.861Z"
   },
   {
    "duration": 18,
    "start_time": "2023-04-04T18:22:27.066Z"
   },
   {
    "duration": 15,
    "start_time": "2023-04-04T18:22:27.286Z"
   },
   {
    "duration": 17,
    "start_time": "2023-04-04T18:22:28.174Z"
   },
   {
    "duration": 18,
    "start_time": "2023-04-04T18:22:28.767Z"
   },
   {
    "duration": 10,
    "start_time": "2023-04-04T18:22:29.209Z"
   },
   {
    "duration": 10,
    "start_time": "2023-04-04T18:22:29.852Z"
   },
   {
    "duration": 5,
    "start_time": "2023-04-04T18:22:30.574Z"
   },
   {
    "duration": 7,
    "start_time": "2023-04-04T18:22:30.736Z"
   },
   {
    "duration": 5,
    "start_time": "2023-04-04T18:22:30.886Z"
   },
   {
    "duration": 5,
    "start_time": "2023-04-04T18:22:31.037Z"
   },
   {
    "duration": 5,
    "start_time": "2023-04-04T18:22:31.168Z"
   },
   {
    "duration": 5,
    "start_time": "2023-04-04T18:22:31.302Z"
   },
   {
    "duration": 7,
    "start_time": "2023-04-04T18:22:31.466Z"
   },
   {
    "duration": 23,
    "start_time": "2023-04-04T18:22:31.602Z"
   },
   {
    "duration": 19,
    "start_time": "2023-04-04T18:27:47.517Z"
   },
   {
    "duration": 76,
    "start_time": "2023-04-04T18:28:02.107Z"
   },
   {
    "duration": 4,
    "start_time": "2023-04-04T18:28:35.017Z"
   },
   {
    "duration": 2,
    "start_time": "2023-04-04T18:30:48.434Z"
   },
   {
    "duration": 23,
    "start_time": "2023-04-04T18:30:48.865Z"
   },
   {
    "duration": 229,
    "start_time": "2023-04-04T18:31:12.681Z"
   },
   {
    "duration": 5,
    "start_time": "2023-04-04T18:31:20.431Z"
   },
   {
    "duration": 19,
    "start_time": "2023-04-04T18:31:36.996Z"
   },
   {
    "duration": 15,
    "start_time": "2023-04-04T18:31:51.648Z"
   },
   {
    "duration": 25,
    "start_time": "2023-04-04T18:31:52.354Z"
   },
   {
    "duration": 22,
    "start_time": "2023-04-04T18:31:53.049Z"
   },
   {
    "duration": 14,
    "start_time": "2023-04-04T18:32:15.777Z"
   },
   {
    "duration": 3,
    "start_time": "2023-04-04T18:32:16.193Z"
   },
   {
    "duration": 1519,
    "start_time": "2023-04-04T18:32:22.594Z"
   },
   {
    "duration": 58,
    "start_time": "2023-04-04T18:32:24.114Z"
   },
   {
    "duration": 22,
    "start_time": "2023-04-04T18:32:24.173Z"
   },
   {
    "duration": 23,
    "start_time": "2023-04-04T18:32:24.197Z"
   },
   {
    "duration": 18,
    "start_time": "2023-04-04T18:32:24.222Z"
   },
   {
    "duration": 8,
    "start_time": "2023-04-04T18:32:24.241Z"
   },
   {
    "duration": 49,
    "start_time": "2023-04-04T18:32:24.251Z"
   },
   {
    "duration": 329,
    "start_time": "2023-04-04T18:32:24.302Z"
   },
   {
    "duration": 288,
    "start_time": "2023-04-04T18:32:24.633Z"
   },
   {
    "duration": 40,
    "start_time": "2023-04-04T18:32:24.922Z"
   },
   {
    "duration": 443,
    "start_time": "2023-04-04T18:32:24.964Z"
   },
   {
    "duration": 67,
    "start_time": "2023-04-04T18:32:25.409Z"
   },
   {
    "duration": 702,
    "start_time": "2023-04-04T18:32:25.477Z"
   },
   {
    "duration": 19,
    "start_time": "2023-04-04T18:32:26.182Z"
   },
   {
    "duration": 113,
    "start_time": "2023-04-04T18:32:26.203Z"
   },
   {
    "duration": 3,
    "start_time": "2023-04-04T18:32:26.318Z"
   },
   {
    "duration": 37,
    "start_time": "2023-04-04T18:32:26.323Z"
   },
   {
    "duration": 141,
    "start_time": "2023-04-04T18:32:26.363Z"
   },
   {
    "duration": 0,
    "start_time": "2023-04-04T18:32:26.506Z"
   },
   {
    "duration": 0,
    "start_time": "2023-04-04T18:32:26.507Z"
   },
   {
    "duration": 0,
    "start_time": "2023-04-04T18:32:26.509Z"
   },
   {
    "duration": 0,
    "start_time": "2023-04-04T18:32:26.509Z"
   },
   {
    "duration": 0,
    "start_time": "2023-04-04T18:32:26.511Z"
   },
   {
    "duration": 0,
    "start_time": "2023-04-04T18:32:26.513Z"
   },
   {
    "duration": 0,
    "start_time": "2023-04-04T18:32:26.514Z"
   },
   {
    "duration": 0,
    "start_time": "2023-04-04T18:32:26.517Z"
   },
   {
    "duration": 0,
    "start_time": "2023-04-04T18:32:26.542Z"
   },
   {
    "duration": 0,
    "start_time": "2023-04-04T18:32:26.543Z"
   },
   {
    "duration": 0,
    "start_time": "2023-04-04T18:32:26.543Z"
   },
   {
    "duration": 0,
    "start_time": "2023-04-04T18:32:26.544Z"
   },
   {
    "duration": 0,
    "start_time": "2023-04-04T18:32:26.545Z"
   },
   {
    "duration": 0,
    "start_time": "2023-04-04T18:32:26.545Z"
   },
   {
    "duration": 0,
    "start_time": "2023-04-04T18:32:26.546Z"
   },
   {
    "duration": 0,
    "start_time": "2023-04-04T18:32:26.555Z"
   },
   {
    "duration": 0,
    "start_time": "2023-04-04T18:32:26.559Z"
   },
   {
    "duration": 0,
    "start_time": "2023-04-04T18:32:26.563Z"
   },
   {
    "duration": 0,
    "start_time": "2023-04-04T18:32:26.564Z"
   },
   {
    "duration": 0,
    "start_time": "2023-04-04T18:32:26.566Z"
   },
   {
    "duration": 0,
    "start_time": "2023-04-04T18:32:26.568Z"
   },
   {
    "duration": 0,
    "start_time": "2023-04-04T18:32:26.570Z"
   },
   {
    "duration": 0,
    "start_time": "2023-04-04T18:32:26.571Z"
   },
   {
    "duration": 0,
    "start_time": "2023-04-04T18:32:26.573Z"
   },
   {
    "duration": 0,
    "start_time": "2023-04-04T18:32:26.574Z"
   },
   {
    "duration": 0,
    "start_time": "2023-04-04T18:32:26.575Z"
   },
   {
    "duration": 0,
    "start_time": "2023-04-04T18:32:26.577Z"
   },
   {
    "duration": 0,
    "start_time": "2023-04-04T18:32:26.578Z"
   },
   {
    "duration": 0,
    "start_time": "2023-04-04T18:32:26.579Z"
   },
   {
    "duration": 0,
    "start_time": "2023-04-04T18:32:26.581Z"
   },
   {
    "duration": 0,
    "start_time": "2023-04-04T18:32:26.581Z"
   },
   {
    "duration": 0,
    "start_time": "2023-04-04T18:32:26.582Z"
   },
   {
    "duration": 0,
    "start_time": "2023-04-04T18:32:26.584Z"
   },
   {
    "duration": 0,
    "start_time": "2023-04-04T18:32:26.585Z"
   },
   {
    "duration": 0,
    "start_time": "2023-04-04T18:32:26.586Z"
   },
   {
    "duration": 0,
    "start_time": "2023-04-04T18:32:26.588Z"
   },
   {
    "duration": 0,
    "start_time": "2023-04-04T18:32:26.589Z"
   },
   {
    "duration": 5,
    "start_time": "2023-04-04T18:32:29.063Z"
   },
   {
    "duration": 1533,
    "start_time": "2023-04-04T18:32:49.889Z"
   },
   {
    "duration": 63,
    "start_time": "2023-04-04T18:32:51.425Z"
   },
   {
    "duration": 21,
    "start_time": "2023-04-04T18:32:51.490Z"
   },
   {
    "duration": 22,
    "start_time": "2023-04-04T18:32:51.513Z"
   },
   {
    "duration": 29,
    "start_time": "2023-04-04T18:32:51.538Z"
   },
   {
    "duration": 4,
    "start_time": "2023-04-04T18:32:51.570Z"
   },
   {
    "duration": 61,
    "start_time": "2023-04-04T18:32:51.576Z"
   },
   {
    "duration": 347,
    "start_time": "2023-04-04T18:32:51.639Z"
   },
   {
    "duration": 298,
    "start_time": "2023-04-04T18:32:51.989Z"
   },
   {
    "duration": 30,
    "start_time": "2023-04-04T18:32:52.289Z"
   },
   {
    "duration": 503,
    "start_time": "2023-04-04T18:32:52.321Z"
   },
   {
    "duration": 69,
    "start_time": "2023-04-04T18:32:52.826Z"
   },
   {
    "duration": 757,
    "start_time": "2023-04-04T18:32:52.897Z"
   },
   {
    "duration": 20,
    "start_time": "2023-04-04T18:32:53.662Z"
   },
   {
    "duration": 110,
    "start_time": "2023-04-04T18:32:53.683Z"
   },
   {
    "duration": 5,
    "start_time": "2023-04-04T18:32:53.795Z"
   },
   {
    "duration": 32,
    "start_time": "2023-04-04T18:32:53.801Z"
   },
   {
    "duration": 88,
    "start_time": "2023-04-04T18:32:53.835Z"
   },
   {
    "duration": 5,
    "start_time": "2023-04-04T18:32:53.925Z"
   },
   {
    "duration": 23,
    "start_time": "2023-04-04T18:32:53.932Z"
   },
   {
    "duration": 7,
    "start_time": "2023-04-04T18:32:53.957Z"
   },
   {
    "duration": 19,
    "start_time": "2023-04-04T18:32:53.966Z"
   },
   {
    "duration": 148,
    "start_time": "2023-04-04T18:32:53.987Z"
   },
   {
    "duration": 19,
    "start_time": "2023-04-04T18:32:54.140Z"
   },
   {
    "duration": 7,
    "start_time": "2023-04-04T18:32:54.162Z"
   },
   {
    "duration": 223,
    "start_time": "2023-04-04T18:32:54.171Z"
   },
   {
    "duration": 9,
    "start_time": "2023-04-04T18:32:54.396Z"
   },
   {
    "duration": 17,
    "start_time": "2023-04-04T18:32:54.407Z"
   },
   {
    "duration": 4,
    "start_time": "2023-04-04T18:32:54.440Z"
   },
   {
    "duration": 22,
    "start_time": "2023-04-04T18:32:54.446Z"
   },
   {
    "duration": 14,
    "start_time": "2023-04-04T18:32:54.471Z"
   },
   {
    "duration": 16,
    "start_time": "2023-04-04T18:32:54.487Z"
   },
   {
    "duration": 7,
    "start_time": "2023-04-04T18:32:54.505Z"
   },
   {
    "duration": 15,
    "start_time": "2023-04-04T18:32:54.513Z"
   },
   {
    "duration": 12,
    "start_time": "2023-04-04T18:32:54.530Z"
   },
   {
    "duration": 16,
    "start_time": "2023-04-04T18:32:54.544Z"
   },
   {
    "duration": 9,
    "start_time": "2023-04-04T18:32:54.567Z"
   },
   {
    "duration": 39,
    "start_time": "2023-04-04T18:32:54.579Z"
   },
   {
    "duration": 42,
    "start_time": "2023-04-04T18:32:54.620Z"
   },
   {
    "duration": 29,
    "start_time": "2023-04-04T18:32:54.663Z"
   },
   {
    "duration": 18,
    "start_time": "2023-04-04T18:32:54.697Z"
   },
   {
    "duration": 40,
    "start_time": "2023-04-04T18:32:54.717Z"
   },
   {
    "duration": 22,
    "start_time": "2023-04-04T18:32:54.761Z"
   },
   {
    "duration": 16,
    "start_time": "2023-04-04T18:32:54.786Z"
   },
   {
    "duration": 18,
    "start_time": "2023-04-04T18:32:54.805Z"
   },
   {
    "duration": 5,
    "start_time": "2023-04-04T18:32:54.825Z"
   },
   {
    "duration": 5,
    "start_time": "2023-04-04T18:32:54.831Z"
   },
   {
    "duration": 9,
    "start_time": "2023-04-04T18:32:54.838Z"
   },
   {
    "duration": 46,
    "start_time": "2023-04-04T18:32:54.852Z"
   },
   {
    "duration": 12,
    "start_time": "2023-04-04T18:32:54.901Z"
   },
   {
    "duration": 9,
    "start_time": "2023-04-04T18:32:54.915Z"
   },
   {
    "duration": 38,
    "start_time": "2023-04-04T18:32:54.926Z"
   },
   {
    "duration": 14,
    "start_time": "2023-04-04T18:32:54.966Z"
   },
   {
    "duration": 12,
    "start_time": "2023-04-04T18:32:54.982Z"
   },
   {
    "duration": 28,
    "start_time": "2023-04-04T18:32:54.997Z"
   },
   {
    "duration": 5,
    "start_time": "2023-04-04T18:32:55.027Z"
   },
   {
    "duration": 4,
    "start_time": "2023-04-04T18:33:03.187Z"
   },
   {
    "duration": 20,
    "start_time": "2023-04-04T18:33:04.302Z"
   },
   {
    "duration": 14,
    "start_time": "2023-04-04T18:33:15.306Z"
   },
   {
    "duration": 41,
    "start_time": "2023-04-04T18:33:16.225Z"
   },
   {
    "duration": 21,
    "start_time": "2023-04-04T18:33:16.996Z"
   },
   {
    "duration": 6,
    "start_time": "2023-04-04T18:33:23.967Z"
   },
   {
    "duration": 124,
    "start_time": "2023-04-04T18:33:44.781Z"
   },
   {
    "duration": 5,
    "start_time": "2023-04-04T18:33:49.538Z"
   },
   {
    "duration": 11,
    "start_time": "2023-04-04T18:33:58.937Z"
   },
   {
    "duration": 5,
    "start_time": "2023-04-04T18:34:10.358Z"
   },
   {
    "duration": 5,
    "start_time": "2023-04-04T18:34:19.773Z"
   },
   {
    "duration": 34,
    "start_time": "2023-04-04T18:37:47.621Z"
   },
   {
    "duration": 1535,
    "start_time": "2023-04-04T18:43:44.677Z"
   },
   {
    "duration": 55,
    "start_time": "2023-04-04T18:43:46.214Z"
   },
   {
    "duration": 21,
    "start_time": "2023-04-04T18:43:46.270Z"
   },
   {
    "duration": 22,
    "start_time": "2023-04-04T18:43:46.294Z"
   },
   {
    "duration": 18,
    "start_time": "2023-04-04T18:43:46.317Z"
   },
   {
    "duration": 11,
    "start_time": "2023-04-04T18:43:46.337Z"
   },
   {
    "duration": 60,
    "start_time": "2023-04-04T18:43:46.353Z"
   },
   {
    "duration": 318,
    "start_time": "2023-04-04T18:43:46.414Z"
   },
   {
    "duration": 284,
    "start_time": "2023-04-04T18:43:46.733Z"
   },
   {
    "duration": 47,
    "start_time": "2023-04-04T18:43:47.020Z"
   },
   {
    "duration": 449,
    "start_time": "2023-04-04T18:43:47.068Z"
   },
   {
    "duration": 53,
    "start_time": "2023-04-04T18:43:47.519Z"
   },
   {
    "duration": 747,
    "start_time": "2023-04-04T18:43:47.574Z"
   },
   {
    "duration": 34,
    "start_time": "2023-04-04T18:43:48.323Z"
   },
   {
    "duration": 99,
    "start_time": "2023-04-04T18:43:48.359Z"
   },
   {
    "duration": 3,
    "start_time": "2023-04-04T18:43:48.460Z"
   },
   {
    "duration": 18,
    "start_time": "2023-04-04T18:43:48.465Z"
   },
   {
    "duration": 88,
    "start_time": "2023-04-04T18:43:48.485Z"
   },
   {
    "duration": 5,
    "start_time": "2023-04-04T18:43:48.574Z"
   },
   {
    "duration": 11,
    "start_time": "2023-04-04T18:43:48.581Z"
   },
   {
    "duration": 5,
    "start_time": "2023-04-04T18:43:48.594Z"
   },
   {
    "duration": 20,
    "start_time": "2023-04-04T18:43:48.600Z"
   },
   {
    "duration": 150,
    "start_time": "2023-04-04T18:43:48.623Z"
   },
   {
    "duration": 8,
    "start_time": "2023-04-04T18:43:48.774Z"
   },
   {
    "duration": 17,
    "start_time": "2023-04-04T18:43:48.784Z"
   },
   {
    "duration": 225,
    "start_time": "2023-04-04T18:43:48.803Z"
   },
   {
    "duration": 19,
    "start_time": "2023-04-04T18:43:49.030Z"
   },
   {
    "duration": 17,
    "start_time": "2023-04-04T18:43:49.060Z"
   },
   {
    "duration": 4,
    "start_time": "2023-04-04T18:43:49.079Z"
   },
   {
    "duration": 14,
    "start_time": "2023-04-04T18:43:49.084Z"
   },
   {
    "duration": 10,
    "start_time": "2023-04-04T18:43:49.100Z"
   },
   {
    "duration": 18,
    "start_time": "2023-04-04T18:43:49.112Z"
   },
   {
    "duration": 27,
    "start_time": "2023-04-04T18:43:49.131Z"
   },
   {
    "duration": 9,
    "start_time": "2023-04-04T18:43:49.160Z"
   },
   {
    "duration": 20,
    "start_time": "2023-04-04T18:43:49.171Z"
   },
   {
    "duration": 8,
    "start_time": "2023-04-04T18:43:49.193Z"
   },
   {
    "duration": 6,
    "start_time": "2023-04-04T18:43:49.203Z"
   },
   {
    "duration": 20,
    "start_time": "2023-04-04T18:43:49.211Z"
   },
   {
    "duration": 21,
    "start_time": "2023-04-04T18:43:49.233Z"
   },
   {
    "duration": 36,
    "start_time": "2023-04-04T18:43:49.255Z"
   },
   {
    "duration": 17,
    "start_time": "2023-04-04T18:43:49.293Z"
   },
   {
    "duration": 16,
    "start_time": "2023-04-04T18:43:49.311Z"
   },
   {
    "duration": 10,
    "start_time": "2023-04-04T18:43:49.328Z"
   },
   {
    "duration": 12,
    "start_time": "2023-04-04T18:43:49.344Z"
   },
   {
    "duration": 10,
    "start_time": "2023-04-04T18:43:49.358Z"
   },
   {
    "duration": 33,
    "start_time": "2023-04-04T18:43:49.370Z"
   },
   {
    "duration": 22,
    "start_time": "2023-04-04T18:43:49.405Z"
   },
   {
    "duration": 15,
    "start_time": "2023-04-04T18:43:49.431Z"
   },
   {
    "duration": 15,
    "start_time": "2023-04-04T18:43:49.454Z"
   },
   {
    "duration": 22,
    "start_time": "2023-04-04T18:43:49.471Z"
   },
   {
    "duration": 22,
    "start_time": "2023-04-04T18:43:49.496Z"
   },
   {
    "duration": 36,
    "start_time": "2023-04-04T18:43:49.520Z"
   },
   {
    "duration": 6,
    "start_time": "2023-04-04T18:43:49.567Z"
   },
   {
    "duration": 30,
    "start_time": "2023-04-04T18:43:49.575Z"
   },
   {
    "duration": 78,
    "start_time": "2023-04-04T18:43:49.607Z"
   },
   {
    "duration": 6,
    "start_time": "2023-04-04T18:43:49.687Z"
   },
   {
    "duration": 81,
    "start_time": "2023-04-04T18:43:49.695Z"
   },
   {
    "duration": 69,
    "start_time": "2023-04-04T18:43:49.779Z"
   },
   {
    "duration": 23,
    "start_time": "2023-04-04T18:43:49.850Z"
   },
   {
    "duration": 156,
    "start_time": "2023-04-04T18:43:49.876Z"
   },
   {
    "duration": 0,
    "start_time": "2023-04-04T18:43:50.034Z"
   },
   {
    "duration": 10,
    "start_time": "2023-04-04T18:43:57.878Z"
   },
   {
    "duration": 6,
    "start_time": "2023-04-04T18:44:13.126Z"
   },
   {
    "duration": 5,
    "start_time": "2023-04-04T18:44:13.734Z"
   },
   {
    "duration": 1504,
    "start_time": "2023-04-04T18:45:33.200Z"
   },
   {
    "duration": 49,
    "start_time": "2023-04-04T18:45:34.706Z"
   },
   {
    "duration": 22,
    "start_time": "2023-04-04T18:45:34.756Z"
   },
   {
    "duration": 22,
    "start_time": "2023-04-04T18:45:34.781Z"
   },
   {
    "duration": 20,
    "start_time": "2023-04-04T18:45:34.807Z"
   },
   {
    "duration": 6,
    "start_time": "2023-04-04T18:45:34.830Z"
   },
   {
    "duration": 90,
    "start_time": "2023-04-04T18:45:34.838Z"
   },
   {
    "duration": 321,
    "start_time": "2023-04-04T18:45:34.930Z"
   },
   {
    "duration": 319,
    "start_time": "2023-04-04T18:45:35.253Z"
   },
   {
    "duration": 32,
    "start_time": "2023-04-04T18:45:35.575Z"
   },
   {
    "duration": 468,
    "start_time": "2023-04-04T18:45:35.609Z"
   },
   {
    "duration": 42,
    "start_time": "2023-04-04T18:45:36.079Z"
   },
   {
    "duration": 677,
    "start_time": "2023-04-04T18:45:36.140Z"
   },
   {
    "duration": 29,
    "start_time": "2023-04-04T18:45:36.821Z"
   },
   {
    "duration": 122,
    "start_time": "2023-04-04T18:45:36.853Z"
   },
   {
    "duration": 4,
    "start_time": "2023-04-04T18:45:36.977Z"
   },
   {
    "duration": 31,
    "start_time": "2023-04-04T18:45:36.983Z"
   },
   {
    "duration": 94,
    "start_time": "2023-04-04T18:45:37.016Z"
   },
   {
    "duration": 5,
    "start_time": "2023-04-04T18:45:37.112Z"
   },
   {
    "duration": 22,
    "start_time": "2023-04-04T18:45:37.119Z"
   },
   {
    "duration": 6,
    "start_time": "2023-04-04T18:45:37.143Z"
   },
   {
    "duration": 23,
    "start_time": "2023-04-04T18:45:37.151Z"
   },
   {
    "duration": 141,
    "start_time": "2023-04-04T18:45:37.176Z"
   },
   {
    "duration": 9,
    "start_time": "2023-04-04T18:45:37.319Z"
   },
   {
    "duration": 6,
    "start_time": "2023-04-04T18:45:37.341Z"
   },
   {
    "duration": 233,
    "start_time": "2023-04-04T18:45:37.349Z"
   },
   {
    "duration": 9,
    "start_time": "2023-04-04T18:45:37.585Z"
   },
   {
    "duration": 15,
    "start_time": "2023-04-04T18:45:37.596Z"
   },
   {
    "duration": 29,
    "start_time": "2023-04-04T18:45:37.612Z"
   },
   {
    "duration": 9,
    "start_time": "2023-04-04T18:45:37.644Z"
   },
   {
    "duration": 20,
    "start_time": "2023-04-04T18:45:37.655Z"
   },
   {
    "duration": 22,
    "start_time": "2023-04-04T18:45:37.678Z"
   },
   {
    "duration": 5,
    "start_time": "2023-04-04T18:45:37.703Z"
   },
   {
    "duration": 15,
    "start_time": "2023-04-04T18:45:37.710Z"
   },
   {
    "duration": 41,
    "start_time": "2023-04-04T18:45:37.727Z"
   },
   {
    "duration": 11,
    "start_time": "2023-04-04T18:45:37.770Z"
   },
   {
    "duration": 10,
    "start_time": "2023-04-04T18:45:37.782Z"
   },
   {
    "duration": 26,
    "start_time": "2023-04-04T18:45:37.794Z"
   },
   {
    "duration": 27,
    "start_time": "2023-04-04T18:45:37.822Z"
   },
   {
    "duration": 24,
    "start_time": "2023-04-04T18:45:37.851Z"
   },
   {
    "duration": 26,
    "start_time": "2023-04-04T18:45:37.881Z"
   },
   {
    "duration": 47,
    "start_time": "2023-04-04T18:45:37.910Z"
   },
   {
    "duration": 13,
    "start_time": "2023-04-04T18:45:37.960Z"
   },
   {
    "duration": 11,
    "start_time": "2023-04-04T18:45:37.975Z"
   },
   {
    "duration": 5,
    "start_time": "2023-04-04T18:45:37.988Z"
   },
   {
    "duration": 19,
    "start_time": "2023-04-04T18:45:37.995Z"
   },
   {
    "duration": 5,
    "start_time": "2023-04-04T18:45:38.017Z"
   },
   {
    "duration": 21,
    "start_time": "2023-04-04T18:45:38.024Z"
   },
   {
    "duration": 6,
    "start_time": "2023-04-04T18:45:38.047Z"
   },
   {
    "duration": 6,
    "start_time": "2023-04-04T18:45:38.055Z"
   },
   {
    "duration": 14,
    "start_time": "2023-04-04T18:45:38.064Z"
   },
   {
    "duration": 27,
    "start_time": "2023-04-04T18:45:38.080Z"
   },
   {
    "duration": 6,
    "start_time": "2023-04-04T18:45:38.109Z"
   },
   {
    "duration": 174,
    "start_time": "2023-04-04T18:45:46.671Z"
   },
   {
    "duration": 1652,
    "start_time": "2023-04-04T18:46:09.035Z"
   },
   {
    "duration": 49,
    "start_time": "2023-04-04T18:46:10.689Z"
   },
   {
    "duration": 24,
    "start_time": "2023-04-04T18:46:10.740Z"
   },
   {
    "duration": 21,
    "start_time": "2023-04-04T18:46:10.766Z"
   },
   {
    "duration": 17,
    "start_time": "2023-04-04T18:46:10.790Z"
   },
   {
    "duration": 5,
    "start_time": "2023-04-04T18:46:10.808Z"
   },
   {
    "duration": 55,
    "start_time": "2023-04-04T18:46:10.815Z"
   },
   {
    "duration": 334,
    "start_time": "2023-04-04T18:46:10.871Z"
   },
   {
    "duration": 286,
    "start_time": "2023-04-04T18:46:11.207Z"
   },
   {
    "duration": 55,
    "start_time": "2023-04-04T18:46:11.494Z"
   },
   {
    "duration": 451,
    "start_time": "2023-04-04T18:46:11.556Z"
   },
   {
    "duration": 60,
    "start_time": "2023-04-04T18:46:12.009Z"
   },
   {
    "duration": 732,
    "start_time": "2023-04-04T18:46:12.071Z"
   },
   {
    "duration": 22,
    "start_time": "2023-04-04T18:46:12.807Z"
   },
   {
    "duration": 115,
    "start_time": "2023-04-04T18:46:12.842Z"
   },
   {
    "duration": 4,
    "start_time": "2023-04-04T18:46:12.958Z"
   },
   {
    "duration": 16,
    "start_time": "2023-04-04T18:46:12.964Z"
   },
   {
    "duration": 74,
    "start_time": "2023-04-04T18:46:12.982Z"
   },
   {
    "duration": 5,
    "start_time": "2023-04-04T18:46:13.058Z"
   },
   {
    "duration": 18,
    "start_time": "2023-04-04T18:46:13.065Z"
   },
   {
    "duration": 6,
    "start_time": "2023-04-04T18:46:13.085Z"
   },
   {
    "duration": 15,
    "start_time": "2023-04-04T18:46:13.093Z"
   },
   {
    "duration": 184,
    "start_time": "2023-04-04T18:46:13.110Z"
   },
   {
    "duration": 9,
    "start_time": "2023-04-04T18:46:13.295Z"
   },
   {
    "duration": 16,
    "start_time": "2023-04-04T18:46:13.306Z"
   },
   {
    "duration": 247,
    "start_time": "2023-04-04T18:46:13.324Z"
   },
   {
    "duration": 9,
    "start_time": "2023-04-04T18:46:13.573Z"
   },
   {
    "duration": 15,
    "start_time": "2023-04-04T18:46:13.584Z"
   },
   {
    "duration": 15,
    "start_time": "2023-04-04T18:46:13.600Z"
   },
   {
    "duration": 37,
    "start_time": "2023-04-04T18:46:13.617Z"
   },
   {
    "duration": 4,
    "start_time": "2023-04-04T18:46:13.658Z"
   },
   {
    "duration": 20,
    "start_time": "2023-04-04T18:46:13.663Z"
   },
   {
    "duration": 3,
    "start_time": "2023-04-04T18:46:13.685Z"
   },
   {
    "duration": 9,
    "start_time": "2023-04-04T18:46:13.690Z"
   },
   {
    "duration": 12,
    "start_time": "2023-04-04T18:46:13.701Z"
   },
   {
    "duration": 29,
    "start_time": "2023-04-04T18:46:13.715Z"
   },
   {
    "duration": 9,
    "start_time": "2023-04-04T18:46:13.749Z"
   },
   {
    "duration": 27,
    "start_time": "2023-04-04T18:46:13.761Z"
   },
   {
    "duration": 22,
    "start_time": "2023-04-04T18:46:13.790Z"
   },
   {
    "duration": 30,
    "start_time": "2023-04-04T18:46:13.814Z"
   },
   {
    "duration": 23,
    "start_time": "2023-04-04T18:46:13.849Z"
   },
   {
    "duration": 17,
    "start_time": "2023-04-04T18:46:13.874Z"
   },
   {
    "duration": 11,
    "start_time": "2023-04-04T18:46:13.893Z"
   },
   {
    "duration": 5,
    "start_time": "2023-04-04T18:46:13.906Z"
   },
   {
    "duration": 12,
    "start_time": "2023-04-04T18:46:13.941Z"
   },
   {
    "duration": 15,
    "start_time": "2023-04-04T18:46:13.955Z"
   },
   {
    "duration": 25,
    "start_time": "2023-04-04T18:46:13.971Z"
   },
   {
    "duration": 20,
    "start_time": "2023-04-04T18:46:13.998Z"
   },
   {
    "duration": 29,
    "start_time": "2023-04-04T18:46:14.022Z"
   },
   {
    "duration": 12,
    "start_time": "2023-04-04T18:46:14.053Z"
   },
   {
    "duration": 50,
    "start_time": "2023-04-04T18:46:14.066Z"
   },
   {
    "duration": 53,
    "start_time": "2023-04-04T18:46:14.118Z"
   },
   {
    "duration": 28,
    "start_time": "2023-04-04T18:46:14.173Z"
   },
   {
    "duration": 19,
    "start_time": "2023-04-04T18:46:14.203Z"
   },
   {
    "duration": 3,
    "start_time": "2023-04-04T18:46:21.292Z"
   },
   {
    "duration": 25,
    "start_time": "2023-04-04T18:46:22.583Z"
   },
   {
    "duration": 4,
    "start_time": "2023-04-04T18:46:23.378Z"
   },
   {
    "duration": 23,
    "start_time": "2023-04-04T18:46:23.755Z"
   },
   {
    "duration": 29,
    "start_time": "2023-04-04T18:46:24.982Z"
   },
   {
    "duration": 11,
    "start_time": "2023-04-04T18:46:25.259Z"
   },
   {
    "duration": 7,
    "start_time": "2023-04-04T18:46:26.191Z"
   },
   {
    "duration": 5,
    "start_time": "2023-04-04T18:46:26.700Z"
   },
   {
    "duration": 19,
    "start_time": "2023-04-04T18:46:49.246Z"
   },
   {
    "duration": 5,
    "start_time": "2023-04-04T19:02:40.763Z"
   },
   {
    "duration": 263,
    "start_time": "2023-04-04T19:02:42.119Z"
   },
   {
    "duration": 1531,
    "start_time": "2023-04-04T19:18:27.119Z"
   },
   {
    "duration": 48,
    "start_time": "2023-04-04T19:18:28.653Z"
   },
   {
    "duration": 20,
    "start_time": "2023-04-04T19:18:28.703Z"
   },
   {
    "duration": 22,
    "start_time": "2023-04-04T19:18:28.725Z"
   },
   {
    "duration": 26,
    "start_time": "2023-04-04T19:18:28.749Z"
   },
   {
    "duration": 4,
    "start_time": "2023-04-04T19:18:28.777Z"
   },
   {
    "duration": 54,
    "start_time": "2023-04-04T19:18:28.782Z"
   },
   {
    "duration": 380,
    "start_time": "2023-04-04T19:18:28.838Z"
   },
   {
    "duration": 380,
    "start_time": "2023-04-04T19:18:29.220Z"
   },
   {
    "duration": 52,
    "start_time": "2023-04-04T19:18:29.603Z"
   },
   {
    "duration": 397,
    "start_time": "2023-04-04T19:18:29.658Z"
   },
   {
    "duration": 35,
    "start_time": "2023-04-04T19:18:30.057Z"
   },
   {
    "duration": 702,
    "start_time": "2023-04-04T19:18:30.093Z"
   },
   {
    "duration": 19,
    "start_time": "2023-04-04T19:18:30.797Z"
   },
   {
    "duration": 106,
    "start_time": "2023-04-04T19:18:30.818Z"
   },
   {
    "duration": 4,
    "start_time": "2023-04-04T19:18:30.926Z"
   },
   {
    "duration": 39,
    "start_time": "2023-04-04T19:18:30.940Z"
   },
   {
    "duration": 91,
    "start_time": "2023-04-04T19:18:30.981Z"
   },
   {
    "duration": 5,
    "start_time": "2023-04-04T19:18:31.074Z"
   },
   {
    "duration": 22,
    "start_time": "2023-04-04T19:18:31.080Z"
   },
   {
    "duration": 13,
    "start_time": "2023-04-04T19:18:31.104Z"
   },
   {
    "duration": 43,
    "start_time": "2023-04-04T19:18:31.119Z"
   },
   {
    "duration": 137,
    "start_time": "2023-04-04T19:18:31.164Z"
   },
   {
    "duration": 9,
    "start_time": "2023-04-04T19:18:31.303Z"
   },
   {
    "duration": 11,
    "start_time": "2023-04-04T19:18:31.313Z"
   },
   {
    "duration": 248,
    "start_time": "2023-04-04T19:18:31.325Z"
   },
   {
    "duration": 8,
    "start_time": "2023-04-04T19:18:31.575Z"
   },
   {
    "duration": 39,
    "start_time": "2023-04-04T19:18:31.588Z"
   },
   {
    "duration": 25,
    "start_time": "2023-04-04T19:18:31.628Z"
   },
   {
    "duration": 36,
    "start_time": "2023-04-04T19:18:31.655Z"
   },
   {
    "duration": 41,
    "start_time": "2023-04-04T19:18:31.692Z"
   },
   {
    "duration": 38,
    "start_time": "2023-04-04T19:18:31.735Z"
   },
   {
    "duration": 27,
    "start_time": "2023-04-04T19:18:31.775Z"
   },
   {
    "duration": 21,
    "start_time": "2023-04-04T19:18:31.804Z"
   },
   {
    "duration": 32,
    "start_time": "2023-04-04T19:18:31.826Z"
   },
   {
    "duration": 23,
    "start_time": "2023-04-04T19:18:31.860Z"
   },
   {
    "duration": 28,
    "start_time": "2023-04-04T19:18:31.885Z"
   },
   {
    "duration": 40,
    "start_time": "2023-04-04T19:18:31.915Z"
   },
   {
    "duration": 21,
    "start_time": "2023-04-04T19:18:31.957Z"
   },
   {
    "duration": 23,
    "start_time": "2023-04-04T19:18:31.979Z"
   },
   {
    "duration": 17,
    "start_time": "2023-04-04T19:18:32.004Z"
   },
   {
    "duration": 35,
    "start_time": "2023-04-04T19:18:32.023Z"
   },
   {
    "duration": 19,
    "start_time": "2023-04-04T19:18:32.060Z"
   },
   {
    "duration": 14,
    "start_time": "2023-04-04T19:18:32.081Z"
   },
   {
    "duration": 14,
    "start_time": "2023-04-04T19:18:32.097Z"
   },
   {
    "duration": 10,
    "start_time": "2023-04-04T19:18:32.113Z"
   },
   {
    "duration": 11,
    "start_time": "2023-04-04T19:18:32.125Z"
   },
   {
    "duration": 10,
    "start_time": "2023-04-04T19:18:32.137Z"
   },
   {
    "duration": 29,
    "start_time": "2023-04-04T19:18:32.153Z"
   },
   {
    "duration": 21,
    "start_time": "2023-04-04T19:18:32.184Z"
   },
   {
    "duration": 23,
    "start_time": "2023-04-04T19:18:32.207Z"
   },
   {
    "duration": 34,
    "start_time": "2023-04-04T19:18:32.232Z"
   },
   {
    "duration": 9,
    "start_time": "2023-04-04T19:18:32.268Z"
   },
   {
    "duration": 12,
    "start_time": "2023-04-04T19:18:32.278Z"
   },
   {
    "duration": 24,
    "start_time": "2023-04-04T19:18:32.291Z"
   },
   {
    "duration": 5,
    "start_time": "2023-04-04T19:18:32.317Z"
   },
   {
    "duration": 31,
    "start_time": "2023-04-04T19:18:32.323Z"
   },
   {
    "duration": 27,
    "start_time": "2023-04-04T19:18:32.355Z"
   },
   {
    "duration": 11,
    "start_time": "2023-04-04T19:18:32.384Z"
   },
   {
    "duration": 6,
    "start_time": "2023-04-04T19:18:32.397Z"
   },
   {
    "duration": 24,
    "start_time": "2023-04-04T19:18:32.404Z"
   },
   {
    "duration": 11,
    "start_time": "2023-04-04T19:18:32.430Z"
   },
   {
    "duration": 3,
    "start_time": "2023-04-04T19:18:46.754Z"
   },
   {
    "duration": 5,
    "start_time": "2023-04-04T19:18:47.988Z"
   },
   {
    "duration": 1587,
    "start_time": "2023-04-04T19:28:10.656Z"
   },
   {
    "duration": 52,
    "start_time": "2023-04-04T19:28:12.248Z"
   },
   {
    "duration": 21,
    "start_time": "2023-04-04T19:28:12.302Z"
   },
   {
    "duration": 26,
    "start_time": "2023-04-04T19:28:12.324Z"
   },
   {
    "duration": 18,
    "start_time": "2023-04-04T19:28:12.353Z"
   },
   {
    "duration": 5,
    "start_time": "2023-04-04T19:28:12.372Z"
   },
   {
    "duration": 53,
    "start_time": "2023-04-04T19:28:12.379Z"
   },
   {
    "duration": 366,
    "start_time": "2023-04-04T19:28:12.434Z"
   },
   {
    "duration": 358,
    "start_time": "2023-04-04T19:28:12.801Z"
   },
   {
    "duration": 37,
    "start_time": "2023-04-04T19:28:13.162Z"
   },
   {
    "duration": 383,
    "start_time": "2023-04-04T19:28:13.201Z"
   },
   {
    "duration": 36,
    "start_time": "2023-04-04T19:28:13.585Z"
   },
   {
    "duration": 689,
    "start_time": "2023-04-04T19:28:13.623Z"
   },
   {
    "duration": 37,
    "start_time": "2023-04-04T19:28:14.315Z"
   },
   {
    "duration": 106,
    "start_time": "2023-04-04T19:28:14.354Z"
   },
   {
    "duration": 4,
    "start_time": "2023-04-04T19:28:14.461Z"
   },
   {
    "duration": 39,
    "start_time": "2023-04-04T19:28:14.467Z"
   },
   {
    "duration": 80,
    "start_time": "2023-04-04T19:28:14.507Z"
   },
   {
    "duration": 5,
    "start_time": "2023-04-04T19:28:14.588Z"
   },
   {
    "duration": 11,
    "start_time": "2023-04-04T19:28:14.595Z"
   },
   {
    "duration": 6,
    "start_time": "2023-04-04T19:28:14.607Z"
   },
   {
    "duration": 32,
    "start_time": "2023-04-04T19:28:14.614Z"
   },
   {
    "duration": 125,
    "start_time": "2023-04-04T19:28:14.648Z"
   },
   {
    "duration": 8,
    "start_time": "2023-04-04T19:28:14.775Z"
   },
   {
    "duration": 17,
    "start_time": "2023-04-04T19:28:14.784Z"
   },
   {
    "duration": 228,
    "start_time": "2023-04-04T19:28:14.803Z"
   },
   {
    "duration": 23,
    "start_time": "2023-04-04T19:28:15.033Z"
   },
   {
    "duration": 16,
    "start_time": "2023-04-04T19:28:15.057Z"
   },
   {
    "duration": 15,
    "start_time": "2023-04-04T19:28:15.074Z"
   },
   {
    "duration": 14,
    "start_time": "2023-04-04T19:28:15.091Z"
   },
   {
    "duration": 8,
    "start_time": "2023-04-04T19:28:15.107Z"
   },
   {
    "duration": 13,
    "start_time": "2023-04-04T19:28:15.116Z"
   },
   {
    "duration": 5,
    "start_time": "2023-04-04T19:28:15.130Z"
   },
   {
    "duration": 22,
    "start_time": "2023-04-04T19:28:15.137Z"
   },
   {
    "duration": 8,
    "start_time": "2023-04-04T19:28:15.161Z"
   },
   {
    "duration": 6,
    "start_time": "2023-04-04T19:28:15.170Z"
   },
   {
    "duration": 13,
    "start_time": "2023-04-04T19:28:15.178Z"
   },
   {
    "duration": 23,
    "start_time": "2023-04-04T19:28:15.193Z"
   },
   {
    "duration": 28,
    "start_time": "2023-04-04T19:28:15.218Z"
   },
   {
    "duration": 21,
    "start_time": "2023-04-04T19:28:15.250Z"
   },
   {
    "duration": 16,
    "start_time": "2023-04-04T19:28:15.275Z"
   },
   {
    "duration": 16,
    "start_time": "2023-04-04T19:28:15.293Z"
   },
   {
    "duration": 41,
    "start_time": "2023-04-04T19:28:15.311Z"
   },
   {
    "duration": 5,
    "start_time": "2023-04-04T19:28:15.357Z"
   },
   {
    "duration": 8,
    "start_time": "2023-04-04T19:28:15.363Z"
   },
   {
    "duration": 7,
    "start_time": "2023-04-04T19:28:15.373Z"
   },
   {
    "duration": 9,
    "start_time": "2023-04-04T19:28:15.381Z"
   },
   {
    "duration": 5,
    "start_time": "2023-04-04T19:28:15.391Z"
   },
   {
    "duration": 7,
    "start_time": "2023-04-04T19:28:15.397Z"
   },
   {
    "duration": 5,
    "start_time": "2023-04-04T19:28:15.406Z"
   },
   {
    "duration": 39,
    "start_time": "2023-04-04T19:28:15.413Z"
   },
   {
    "duration": 23,
    "start_time": "2023-04-04T19:28:15.453Z"
   },
   {
    "duration": 5,
    "start_time": "2023-04-04T19:28:15.478Z"
   },
   {
    "duration": 12,
    "start_time": "2023-04-04T19:28:15.485Z"
   },
   {
    "duration": 30,
    "start_time": "2023-04-04T19:28:15.499Z"
   },
   {
    "duration": 13,
    "start_time": "2023-04-04T19:28:15.531Z"
   },
   {
    "duration": 25,
    "start_time": "2023-04-04T19:28:15.545Z"
   },
   {
    "duration": 8642,
    "start_time": "2023-04-04T19:28:15.572Z"
   },
   {
    "duration": 4,
    "start_time": "2023-04-04T19:28:24.216Z"
   },
   {
    "duration": 16,
    "start_time": "2023-04-04T19:28:24.222Z"
   },
   {
    "duration": 15,
    "start_time": "2023-04-04T19:28:24.240Z"
   },
   {
    "duration": 7,
    "start_time": "2023-04-04T19:28:24.257Z"
   },
   {
    "duration": 21,
    "start_time": "2023-04-04T19:28:24.265Z"
   },
   {
    "duration": 21,
    "start_time": "2023-04-04T19:28:24.288Z"
   },
   {
    "duration": 3,
    "start_time": "2023-04-04T19:28:26.980Z"
   },
   {
    "duration": 5,
    "start_time": "2023-04-04T19:28:55.131Z"
   },
   {
    "duration": 5,
    "start_time": "2023-04-04T19:29:01.974Z"
   },
   {
    "duration": 4,
    "start_time": "2023-04-04T19:29:30.294Z"
   },
   {
    "duration": 170,
    "start_time": "2023-04-04T19:29:49.411Z"
   },
   {
    "duration": 38015,
    "start_time": "2023-04-04T19:30:04.659Z"
   },
   {
    "duration": 12,
    "start_time": "2023-04-04T19:32:47.396Z"
   },
   {
    "duration": 44,
    "start_time": "2023-04-04T19:32:48.012Z"
   },
   {
    "duration": 35,
    "start_time": "2023-04-04T19:32:57.120Z"
   },
   {
    "duration": 70,
    "start_time": "2023-04-04T19:37:58.456Z"
   },
   {
    "duration": 13,
    "start_time": "2023-04-04T19:44:41.558Z"
   },
   {
    "duration": 65,
    "start_time": "2023-04-04T19:44:42.176Z"
   },
   {
    "duration": 1291,
    "start_time": "2023-04-04T19:50:32.287Z"
   },
   {
    "duration": 49,
    "start_time": "2023-04-04T19:50:33.580Z"
   },
   {
    "duration": 20,
    "start_time": "2023-04-04T19:50:33.631Z"
   },
   {
    "duration": 28,
    "start_time": "2023-04-04T19:50:33.653Z"
   },
   {
    "duration": 19,
    "start_time": "2023-04-04T19:50:33.683Z"
   },
   {
    "duration": 4,
    "start_time": "2023-04-04T19:50:33.703Z"
   },
   {
    "duration": 44,
    "start_time": "2023-04-04T19:50:33.709Z"
   },
   {
    "duration": 313,
    "start_time": "2023-04-04T19:50:33.754Z"
   },
   {
    "duration": 253,
    "start_time": "2023-04-04T19:50:34.069Z"
   },
   {
    "duration": 36,
    "start_time": "2023-04-04T19:50:34.323Z"
   },
   {
    "duration": 437,
    "start_time": "2023-04-04T19:50:34.361Z"
   },
   {
    "duration": 43,
    "start_time": "2023-04-04T19:50:34.800Z"
   },
   {
    "duration": 668,
    "start_time": "2023-04-04T19:50:34.845Z"
   },
   {
    "duration": 32,
    "start_time": "2023-04-04T19:50:35.517Z"
   },
   {
    "duration": 104,
    "start_time": "2023-04-04T19:50:35.551Z"
   },
   {
    "duration": 3,
    "start_time": "2023-04-04T19:50:35.657Z"
   },
   {
    "duration": 18,
    "start_time": "2023-04-04T19:50:35.662Z"
   },
   {
    "duration": 79,
    "start_time": "2023-04-04T19:50:35.681Z"
   },
   {
    "duration": 5,
    "start_time": "2023-04-04T19:50:35.762Z"
   },
   {
    "duration": 11,
    "start_time": "2023-04-04T19:50:35.768Z"
   },
   {
    "duration": 4,
    "start_time": "2023-04-04T19:50:35.782Z"
   },
   {
    "duration": 15,
    "start_time": "2023-04-04T19:50:35.788Z"
   },
   {
    "duration": 152,
    "start_time": "2023-04-04T19:50:35.805Z"
   },
   {
    "duration": 9,
    "start_time": "2023-04-04T19:50:35.958Z"
   },
   {
    "duration": 10,
    "start_time": "2023-04-04T19:50:35.968Z"
   },
   {
    "duration": 207,
    "start_time": "2023-04-04T19:50:35.980Z"
   },
   {
    "duration": 8,
    "start_time": "2023-04-04T19:50:36.189Z"
   },
   {
    "duration": 15,
    "start_time": "2023-04-04T19:50:36.199Z"
   },
   {
    "duration": 3,
    "start_time": "2023-04-04T19:50:36.216Z"
   },
   {
    "duration": 25,
    "start_time": "2023-04-04T19:50:36.220Z"
   },
   {
    "duration": 8,
    "start_time": "2023-04-04T19:50:36.246Z"
   },
   {
    "duration": 33,
    "start_time": "2023-04-04T19:50:36.256Z"
   },
   {
    "duration": 5,
    "start_time": "2023-04-04T19:50:36.290Z"
   },
   {
    "duration": 18,
    "start_time": "2023-04-04T19:50:36.296Z"
   },
   {
    "duration": 12,
    "start_time": "2023-04-04T19:50:36.316Z"
   },
   {
    "duration": 9,
    "start_time": "2023-04-04T19:50:36.330Z"
   },
   {
    "duration": 6,
    "start_time": "2023-04-04T19:50:36.341Z"
   },
   {
    "duration": 23,
    "start_time": "2023-04-04T19:50:36.349Z"
   },
   {
    "duration": 20,
    "start_time": "2023-04-04T19:50:36.373Z"
   },
   {
    "duration": 15,
    "start_time": "2023-04-04T19:50:36.394Z"
   },
   {
    "duration": 17,
    "start_time": "2023-04-04T19:50:36.442Z"
   },
   {
    "duration": 24,
    "start_time": "2023-04-04T19:50:36.461Z"
   },
   {
    "duration": 14,
    "start_time": "2023-04-04T19:50:36.488Z"
   },
   {
    "duration": 5,
    "start_time": "2023-04-04T19:50:36.504Z"
   },
   {
    "duration": 34,
    "start_time": "2023-04-04T19:50:36.510Z"
   },
   {
    "duration": 10,
    "start_time": "2023-04-04T19:50:36.545Z"
   },
   {
    "duration": 5,
    "start_time": "2023-04-04T19:50:36.557Z"
   },
   {
    "duration": 13,
    "start_time": "2023-04-04T19:50:36.563Z"
   },
   {
    "duration": 10,
    "start_time": "2023-04-04T19:50:36.578Z"
   },
   {
    "duration": 5,
    "start_time": "2023-04-04T19:50:36.590Z"
   },
   {
    "duration": 12,
    "start_time": "2023-04-04T19:50:36.599Z"
   },
   {
    "duration": 28,
    "start_time": "2023-04-04T19:50:36.612Z"
   },
   {
    "duration": 23,
    "start_time": "2023-04-04T19:50:36.642Z"
   },
   {
    "duration": 22,
    "start_time": "2023-04-04T19:50:36.666Z"
   },
   {
    "duration": 25,
    "start_time": "2023-04-04T19:50:36.691Z"
   },
   {
    "duration": 5,
    "start_time": "2023-04-04T19:50:36.718Z"
   },
   {
    "duration": 30,
    "start_time": "2023-04-04T19:50:36.724Z"
   },
   {
    "duration": 2278,
    "start_time": "2023-04-04T19:50:36.757Z"
   },
   {
    "duration": 6,
    "start_time": "2023-04-04T19:50:39.038Z"
   },
   {
    "duration": 4,
    "start_time": "2023-04-04T19:50:39.046Z"
   },
   {
    "duration": 16,
    "start_time": "2023-04-04T19:50:39.052Z"
   },
   {
    "duration": 7,
    "start_time": "2023-04-04T19:50:39.070Z"
   },
   {
    "duration": 5,
    "start_time": "2023-04-04T19:50:39.078Z"
   },
   {
    "duration": 3,
    "start_time": "2023-04-04T19:50:39.084Z"
   },
   {
    "duration": 8,
    "start_time": "2023-04-04T19:50:39.089Z"
   },
   {
    "duration": 8,
    "start_time": "2023-04-04T19:50:39.098Z"
   },
   {
    "duration": 35,
    "start_time": "2023-04-04T19:50:39.108Z"
   },
   {
    "duration": 37289,
    "start_time": "2023-04-04T19:50:39.145Z"
   },
   {
    "duration": 6,
    "start_time": "2023-04-04T19:51:16.436Z"
   },
   {
    "duration": 1294,
    "start_time": "2023-04-04T19:58:26.662Z"
   },
   {
    "duration": 47,
    "start_time": "2023-04-04T19:58:27.957Z"
   },
   {
    "duration": 20,
    "start_time": "2023-04-04T19:58:28.006Z"
   },
   {
    "duration": 22,
    "start_time": "2023-04-04T19:58:28.028Z"
   },
   {
    "duration": 18,
    "start_time": "2023-04-04T19:58:28.051Z"
   },
   {
    "duration": 5,
    "start_time": "2023-04-04T19:58:28.071Z"
   },
   {
    "duration": 45,
    "start_time": "2023-04-04T19:58:28.078Z"
   },
   {
    "duration": 303,
    "start_time": "2023-04-04T19:58:28.125Z"
   },
   {
    "duration": 260,
    "start_time": "2023-04-04T19:58:28.430Z"
   },
   {
    "duration": 29,
    "start_time": "2023-04-04T19:58:28.693Z"
   },
   {
    "duration": 478,
    "start_time": "2023-04-04T19:58:28.740Z"
   },
   {
    "duration": 52,
    "start_time": "2023-04-04T19:58:29.220Z"
   },
   {
    "duration": 692,
    "start_time": "2023-04-04T19:58:29.273Z"
   },
   {
    "duration": 17,
    "start_time": "2023-04-04T19:58:29.967Z"
   },
   {
    "duration": 103,
    "start_time": "2023-04-04T19:58:29.986Z"
   },
   {
    "duration": 4,
    "start_time": "2023-04-04T19:58:30.091Z"
   },
   {
    "duration": 37,
    "start_time": "2023-04-04T19:58:30.096Z"
   },
   {
    "duration": 109,
    "start_time": "2023-04-04T19:58:30.135Z"
   },
   {
    "duration": 5,
    "start_time": "2023-04-04T19:58:30.246Z"
   },
   {
    "duration": 53,
    "start_time": "2023-04-04T19:58:30.252Z"
   },
   {
    "duration": 50,
    "start_time": "2023-04-04T19:58:30.307Z"
   },
   {
    "duration": 38,
    "start_time": "2023-04-04T19:58:30.359Z"
   },
   {
    "duration": 137,
    "start_time": "2023-04-04T19:58:30.399Z"
   },
   {
    "duration": 8,
    "start_time": "2023-04-04T19:58:30.540Z"
   },
   {
    "duration": 33,
    "start_time": "2023-04-04T19:58:30.551Z"
   },
   {
    "duration": 202,
    "start_time": "2023-04-04T19:58:30.586Z"
   },
   {
    "duration": 7,
    "start_time": "2023-04-04T19:58:30.790Z"
   },
   {
    "duration": 53,
    "start_time": "2023-04-04T19:58:30.801Z"
   },
   {
    "duration": 38,
    "start_time": "2023-04-04T19:58:30.855Z"
   },
   {
    "duration": 38,
    "start_time": "2023-04-04T19:58:30.895Z"
   },
   {
    "duration": 29,
    "start_time": "2023-04-04T19:58:30.935Z"
   },
   {
    "duration": 37,
    "start_time": "2023-04-04T19:58:30.966Z"
   },
   {
    "duration": 29,
    "start_time": "2023-04-04T19:58:31.005Z"
   },
   {
    "duration": 34,
    "start_time": "2023-04-04T19:58:31.035Z"
   },
   {
    "duration": 42,
    "start_time": "2023-04-04T19:58:31.070Z"
   },
   {
    "duration": 26,
    "start_time": "2023-04-04T19:58:31.114Z"
   },
   {
    "duration": 19,
    "start_time": "2023-04-04T19:58:31.142Z"
   },
   {
    "duration": 40,
    "start_time": "2023-04-04T19:58:31.163Z"
   },
   {
    "duration": 32,
    "start_time": "2023-04-04T19:58:31.205Z"
   },
   {
    "duration": 30,
    "start_time": "2023-04-04T19:58:31.239Z"
   },
   {
    "duration": 26,
    "start_time": "2023-04-04T19:58:31.272Z"
   },
   {
    "duration": 28,
    "start_time": "2023-04-04T19:58:31.300Z"
   },
   {
    "duration": 38,
    "start_time": "2023-04-04T19:58:31.330Z"
   },
   {
    "duration": 15,
    "start_time": "2023-04-04T19:58:31.370Z"
   },
   {
    "duration": 16,
    "start_time": "2023-04-04T19:58:31.387Z"
   },
   {
    "duration": 22,
    "start_time": "2023-04-04T19:58:31.405Z"
   },
   {
    "duration": 11,
    "start_time": "2023-04-04T19:58:31.429Z"
   },
   {
    "duration": 20,
    "start_time": "2023-04-04T19:58:31.441Z"
   },
   {
    "duration": 21,
    "start_time": "2023-04-04T19:58:31.463Z"
   },
   {
    "duration": 8,
    "start_time": "2023-04-04T19:58:31.486Z"
   },
   {
    "duration": 32,
    "start_time": "2023-04-04T19:58:31.495Z"
   },
   {
    "duration": 45,
    "start_time": "2023-04-04T19:58:31.529Z"
   },
   {
    "duration": 9,
    "start_time": "2023-04-04T19:58:31.576Z"
   },
   {
    "duration": 24,
    "start_time": "2023-04-04T19:58:31.587Z"
   },
   {
    "duration": 38,
    "start_time": "2023-04-04T19:58:31.613Z"
   },
   {
    "duration": 4,
    "start_time": "2023-04-04T19:58:31.653Z"
   },
   {
    "duration": 35,
    "start_time": "2023-04-04T19:58:31.659Z"
   },
   {
    "duration": 2193,
    "start_time": "2023-04-04T19:58:31.696Z"
   },
   {
    "duration": 4,
    "start_time": "2023-04-04T19:58:33.891Z"
   },
   {
    "duration": 4,
    "start_time": "2023-04-04T19:58:33.897Z"
   },
   {
    "duration": 12,
    "start_time": "2023-04-04T19:58:33.903Z"
   },
   {
    "duration": 5,
    "start_time": "2023-04-04T19:58:33.917Z"
   },
   {
    "duration": 5,
    "start_time": "2023-04-04T19:58:33.924Z"
   },
   {
    "duration": 3,
    "start_time": "2023-04-04T19:58:33.931Z"
   },
   {
    "duration": 5,
    "start_time": "2023-04-04T19:58:33.936Z"
   },
   {
    "duration": 8,
    "start_time": "2023-04-04T19:58:33.943Z"
   },
   {
    "duration": 4,
    "start_time": "2023-04-04T19:58:33.952Z"
   },
   {
    "duration": 38026,
    "start_time": "2023-04-04T19:59:10.795Z"
   },
   {
    "duration": 1313,
    "start_time": "2023-04-04T20:09:31.730Z"
   },
   {
    "duration": 48,
    "start_time": "2023-04-04T20:09:33.045Z"
   },
   {
    "duration": 22,
    "start_time": "2023-04-04T20:09:33.094Z"
   },
   {
    "duration": 23,
    "start_time": "2023-04-04T20:09:33.117Z"
   },
   {
    "duration": 17,
    "start_time": "2023-04-04T20:09:33.142Z"
   },
   {
    "duration": 4,
    "start_time": "2023-04-04T20:09:33.161Z"
   },
   {
    "duration": 43,
    "start_time": "2023-04-04T20:09:33.166Z"
   },
   {
    "duration": 317,
    "start_time": "2023-04-04T20:09:33.211Z"
   },
   {
    "duration": 247,
    "start_time": "2023-04-04T20:09:33.540Z"
   },
   {
    "duration": 30,
    "start_time": "2023-04-04T20:09:33.790Z"
   },
   {
    "duration": 453,
    "start_time": "2023-04-04T20:09:33.822Z"
   },
   {
    "duration": 44,
    "start_time": "2023-04-04T20:09:34.277Z"
   },
   {
    "duration": 674,
    "start_time": "2023-04-04T20:09:34.323Z"
   },
   {
    "duration": 17,
    "start_time": "2023-04-04T20:09:35.000Z"
   },
   {
    "duration": 99,
    "start_time": "2023-04-04T20:09:35.019Z"
   },
   {
    "duration": 3,
    "start_time": "2023-04-04T20:09:35.119Z"
   },
   {
    "duration": 26,
    "start_time": "2023-04-04T20:09:35.124Z"
   },
   {
    "duration": 65,
    "start_time": "2023-04-04T20:09:35.152Z"
   },
   {
    "duration": 5,
    "start_time": "2023-04-04T20:09:35.219Z"
   },
   {
    "duration": 24,
    "start_time": "2023-04-04T20:09:35.226Z"
   },
   {
    "duration": 11,
    "start_time": "2023-04-04T20:09:35.252Z"
   },
   {
    "duration": 19,
    "start_time": "2023-04-04T20:09:35.265Z"
   },
   {
    "duration": 140,
    "start_time": "2023-04-04T20:09:35.286Z"
   },
   {
    "duration": 17,
    "start_time": "2023-04-04T20:09:35.428Z"
   },
   {
    "duration": 7,
    "start_time": "2023-04-04T20:09:35.447Z"
   },
   {
    "duration": 209,
    "start_time": "2023-04-04T20:09:35.455Z"
   },
   {
    "duration": 8,
    "start_time": "2023-04-04T20:09:35.666Z"
   },
   {
    "duration": 19,
    "start_time": "2023-04-04T20:09:35.676Z"
   },
   {
    "duration": 4,
    "start_time": "2023-04-04T20:09:35.698Z"
   },
   {
    "duration": 12,
    "start_time": "2023-04-04T20:09:35.703Z"
   },
   {
    "duration": 4,
    "start_time": "2023-04-04T20:09:35.740Z"
   },
   {
    "duration": 11,
    "start_time": "2023-04-04T20:09:35.746Z"
   },
   {
    "duration": 5,
    "start_time": "2023-04-04T20:09:35.759Z"
   },
   {
    "duration": 10,
    "start_time": "2023-04-04T20:09:35.766Z"
   },
   {
    "duration": 10,
    "start_time": "2023-04-04T20:09:35.778Z"
   },
   {
    "duration": 6,
    "start_time": "2023-04-04T20:09:35.790Z"
   },
   {
    "duration": 10,
    "start_time": "2023-04-04T20:09:35.797Z"
   },
   {
    "duration": 48,
    "start_time": "2023-04-04T20:09:35.809Z"
   },
   {
    "duration": 17,
    "start_time": "2023-04-04T20:09:35.859Z"
   },
   {
    "duration": 16,
    "start_time": "2023-04-04T20:09:35.877Z"
   },
   {
    "duration": 20,
    "start_time": "2023-04-04T20:09:35.897Z"
   },
   {
    "duration": 18,
    "start_time": "2023-04-04T20:09:35.941Z"
   },
   {
    "duration": 11,
    "start_time": "2023-04-04T20:09:35.960Z"
   },
   {
    "duration": 19,
    "start_time": "2023-04-04T20:09:35.973Z"
   },
   {
    "duration": 14,
    "start_time": "2023-04-04T20:09:35.994Z"
   },
   {
    "duration": 6,
    "start_time": "2023-04-04T20:09:36.009Z"
   },
   {
    "duration": 12,
    "start_time": "2023-04-04T20:09:36.016Z"
   },
   {
    "duration": 14,
    "start_time": "2023-04-04T20:09:36.030Z"
   },
   {
    "duration": 9,
    "start_time": "2023-04-04T20:09:36.046Z"
   },
   {
    "duration": 6,
    "start_time": "2023-04-04T20:09:36.056Z"
   },
   {
    "duration": 9,
    "start_time": "2023-04-04T20:09:36.063Z"
   },
   {
    "duration": 21,
    "start_time": "2023-04-04T20:09:36.074Z"
   },
   {
    "duration": 4,
    "start_time": "2023-04-04T20:09:36.097Z"
   },
   {
    "duration": 13,
    "start_time": "2023-04-04T20:09:36.103Z"
   },
   {
    "duration": 30,
    "start_time": "2023-04-04T20:09:36.118Z"
   },
   {
    "duration": 5,
    "start_time": "2023-04-04T20:09:36.150Z"
   },
   {
    "duration": 26,
    "start_time": "2023-04-04T20:09:36.156Z"
   },
   {
    "duration": 2365,
    "start_time": "2023-04-04T20:09:36.183Z"
   },
   {
    "duration": 4,
    "start_time": "2023-04-04T20:09:38.551Z"
   },
   {
    "duration": 6,
    "start_time": "2023-04-04T20:09:38.558Z"
   },
   {
    "duration": 16,
    "start_time": "2023-04-04T20:09:38.566Z"
   },
   {
    "duration": 11,
    "start_time": "2023-04-04T20:09:38.584Z"
   },
   {
    "duration": 6,
    "start_time": "2023-04-04T20:09:38.597Z"
   },
   {
    "duration": 3,
    "start_time": "2023-04-04T20:09:38.605Z"
   },
   {
    "duration": 8,
    "start_time": "2023-04-04T20:09:38.610Z"
   },
   {
    "duration": 22,
    "start_time": "2023-04-04T20:09:38.620Z"
   },
   {
    "duration": 9,
    "start_time": "2023-04-04T20:09:38.644Z"
   },
   {
    "duration": 36090,
    "start_time": "2023-04-04T20:09:38.655Z"
   },
   {
    "duration": 2,
    "start_time": "2023-04-04T20:10:14.747Z"
   },
   {
    "duration": 6,
    "start_time": "2023-04-04T20:10:14.751Z"
   },
   {
    "duration": 15,
    "start_time": "2023-04-04T20:10:14.758Z"
   },
   {
    "duration": 1263,
    "start_time": "2023-04-04T20:12:42.269Z"
   },
   {
    "duration": 5,
    "start_time": "2023-04-04T20:12:51.472Z"
   },
   {
    "duration": 58,
    "start_time": "2023-04-04T20:12:51.480Z"
   },
   {
    "duration": 20,
    "start_time": "2023-04-04T20:12:51.540Z"
   },
   {
    "duration": 23,
    "start_time": "2023-04-04T20:12:51.563Z"
   },
   {
    "duration": 27,
    "start_time": "2023-04-04T20:12:51.589Z"
   },
   {
    "duration": 4,
    "start_time": "2023-04-04T20:12:51.618Z"
   },
   {
    "duration": 58,
    "start_time": "2023-04-04T20:12:51.624Z"
   },
   {
    "duration": 338,
    "start_time": "2023-04-04T20:12:51.684Z"
   },
   {
    "duration": 277,
    "start_time": "2023-04-04T20:12:52.024Z"
   },
   {
    "duration": 37,
    "start_time": "2023-04-04T20:12:52.304Z"
   },
   {
    "duration": 439,
    "start_time": "2023-04-04T20:12:52.343Z"
   },
   {
    "duration": 35,
    "start_time": "2023-04-04T20:12:52.784Z"
   },
   {
    "duration": 680,
    "start_time": "2023-04-04T20:12:52.822Z"
   },
   {
    "duration": 19,
    "start_time": "2023-04-04T20:12:53.504Z"
   },
   {
    "duration": 100,
    "start_time": "2023-04-04T20:12:53.541Z"
   },
   {
    "duration": 4,
    "start_time": "2023-04-04T20:12:53.642Z"
   },
   {
    "duration": 14,
    "start_time": "2023-04-04T20:12:53.648Z"
   },
   {
    "duration": 78,
    "start_time": "2023-04-04T20:12:53.663Z"
   },
   {
    "duration": 5,
    "start_time": "2023-04-04T20:12:53.743Z"
   },
   {
    "duration": 10,
    "start_time": "2023-04-04T20:12:53.750Z"
   },
   {
    "duration": 7,
    "start_time": "2023-04-04T20:12:53.762Z"
   },
   {
    "duration": 23,
    "start_time": "2023-04-04T20:12:53.771Z"
   },
   {
    "duration": 127,
    "start_time": "2023-04-04T20:12:53.796Z"
   },
   {
    "duration": 15,
    "start_time": "2023-04-04T20:12:53.925Z"
   },
   {
    "duration": 4,
    "start_time": "2023-04-04T20:12:53.942Z"
   },
   {
    "duration": 199,
    "start_time": "2023-04-04T20:12:53.947Z"
   },
   {
    "duration": 8,
    "start_time": "2023-04-04T20:12:54.147Z"
   },
   {
    "duration": 22,
    "start_time": "2023-04-04T20:12:54.159Z"
   },
   {
    "duration": 3,
    "start_time": "2023-04-04T20:12:54.183Z"
   },
   {
    "duration": 9,
    "start_time": "2023-04-04T20:12:54.188Z"
   },
   {
    "duration": 4,
    "start_time": "2023-04-04T20:12:54.199Z"
   },
   {
    "duration": 16,
    "start_time": "2023-04-04T20:12:54.204Z"
   },
   {
    "duration": 3,
    "start_time": "2023-04-04T20:12:54.241Z"
   },
   {
    "duration": 9,
    "start_time": "2023-04-04T20:12:54.246Z"
   },
   {
    "duration": 8,
    "start_time": "2023-04-04T20:12:54.256Z"
   },
   {
    "duration": 9,
    "start_time": "2023-04-04T20:12:54.266Z"
   },
   {
    "duration": 14,
    "start_time": "2023-04-04T20:12:54.277Z"
   },
   {
    "duration": 23,
    "start_time": "2023-04-04T20:12:54.292Z"
   },
   {
    "duration": 37,
    "start_time": "2023-04-04T20:12:54.317Z"
   },
   {
    "duration": 15,
    "start_time": "2023-04-04T20:12:54.356Z"
   },
   {
    "duration": 19,
    "start_time": "2023-04-04T20:12:54.373Z"
   },
   {
    "duration": 15,
    "start_time": "2023-04-04T20:12:54.394Z"
   },
   {
    "duration": 38,
    "start_time": "2023-04-04T20:12:54.411Z"
   },
   {
    "duration": 5,
    "start_time": "2023-04-04T20:12:54.451Z"
   },
   {
    "duration": 9,
    "start_time": "2023-04-04T20:12:54.458Z"
   },
   {
    "duration": 6,
    "start_time": "2023-04-04T20:12:54.468Z"
   },
   {
    "duration": 8,
    "start_time": "2023-04-04T20:12:54.476Z"
   },
   {
    "duration": 16,
    "start_time": "2023-04-04T20:12:54.486Z"
   },
   {
    "duration": 6,
    "start_time": "2023-04-04T20:12:54.503Z"
   },
   {
    "duration": 9,
    "start_time": "2023-04-04T20:12:54.511Z"
   },
   {
    "duration": 20,
    "start_time": "2023-04-04T20:12:54.521Z"
   },
   {
    "duration": 20,
    "start_time": "2023-04-04T20:12:54.543Z"
   },
   {
    "duration": 27,
    "start_time": "2023-04-04T20:12:54.564Z"
   },
   {
    "duration": 5,
    "start_time": "2023-04-04T20:12:54.593Z"
   },
   {
    "duration": 24,
    "start_time": "2023-04-04T20:12:54.599Z"
   },
   {
    "duration": 4,
    "start_time": "2023-04-04T20:12:54.625Z"
   },
   {
    "duration": 26,
    "start_time": "2023-04-04T20:12:54.631Z"
   },
   {
    "duration": 2260,
    "start_time": "2023-04-04T20:12:54.659Z"
   },
   {
    "duration": 4,
    "start_time": "2023-04-04T20:12:56.921Z"
   },
   {
    "duration": 4,
    "start_time": "2023-04-04T20:12:56.926Z"
   },
   {
    "duration": 12,
    "start_time": "2023-04-04T20:12:56.932Z"
   },
   {
    "duration": 6,
    "start_time": "2023-04-04T20:12:56.946Z"
   },
   {
    "duration": 5,
    "start_time": "2023-04-04T20:12:56.954Z"
   },
   {
    "duration": 4,
    "start_time": "2023-04-04T20:12:56.960Z"
   },
   {
    "duration": 7,
    "start_time": "2023-04-04T20:12:56.966Z"
   },
   {
    "duration": 6,
    "start_time": "2023-04-04T20:12:56.975Z"
   },
   {
    "duration": 4,
    "start_time": "2023-04-04T20:12:56.983Z"
   },
   {
    "duration": 36068,
    "start_time": "2023-04-04T20:12:56.989Z"
   },
   {
    "duration": 2,
    "start_time": "2023-04-04T20:13:33.059Z"
   },
   {
    "duration": 11,
    "start_time": "2023-04-04T20:13:33.063Z"
   },
   {
    "duration": 15,
    "start_time": "2023-04-04T20:13:33.075Z"
   },
   {
    "duration": 69460,
    "start_time": "2023-04-04T20:13:33.092Z"
   },
   {
    "duration": 2942696,
    "start_time": "2023-04-04T20:14:42.554Z"
   },
   {
    "duration": 10,
    "start_time": "2023-04-04T21:20:05.941Z"
   },
   {
    "duration": 37,
    "start_time": "2023-04-04T21:37:23.873Z"
   },
   {
    "duration": 127,
    "start_time": "2023-04-04T21:40:03.607Z"
   },
   {
    "duration": 8093,
    "start_time": "2023-04-04T21:41:23.753Z"
   },
   {
    "duration": 3248,
    "start_time": "2023-04-05T14:58:14.899Z"
   },
   {
    "duration": 154,
    "start_time": "2023-04-05T14:58:18.149Z"
   },
   {
    "duration": 119,
    "start_time": "2023-04-05T14:58:18.305Z"
   },
   {
    "duration": 101,
    "start_time": "2023-04-05T14:58:18.425Z"
   },
   {
    "duration": 78,
    "start_time": "2023-04-05T14:58:18.528Z"
   },
   {
    "duration": 4,
    "start_time": "2023-04-05T14:58:20.947Z"
   },
   {
    "duration": 36,
    "start_time": "2023-04-05T14:58:21.420Z"
   },
   {
    "duration": 273,
    "start_time": "2023-04-05T14:58:21.639Z"
   },
   {
    "duration": 286,
    "start_time": "2023-04-05T14:58:21.914Z"
   },
   {
    "duration": 25,
    "start_time": "2023-04-05T14:58:22.201Z"
   },
   {
    "duration": 320,
    "start_time": "2023-04-05T14:58:23.212Z"
   },
   {
    "duration": 31,
    "start_time": "2023-04-05T14:58:23.894Z"
   },
   {
    "duration": 612,
    "start_time": "2023-04-05T14:58:27.531Z"
   },
   {
    "duration": 14,
    "start_time": "2023-04-05T14:58:28.145Z"
   },
   {
    "duration": 86,
    "start_time": "2023-04-05T14:58:28.244Z"
   },
   {
    "duration": 3,
    "start_time": "2023-04-05T14:58:30.152Z"
   },
   {
    "duration": 11,
    "start_time": "2023-04-05T14:58:30.704Z"
   },
   {
    "duration": 106,
    "start_time": "2023-04-05T14:58:34.367Z"
   },
   {
    "duration": 5,
    "start_time": "2023-04-05T14:58:35.849Z"
   },
   {
    "duration": 9,
    "start_time": "2023-04-05T14:58:37.566Z"
   },
   {
    "duration": 6,
    "start_time": "2023-04-05T14:58:38.303Z"
   },
   {
    "duration": 13,
    "start_time": "2023-04-05T14:59:14.607Z"
   },
   {
    "duration": 112,
    "start_time": "2023-04-05T14:59:18.241Z"
   },
   {
    "duration": 7,
    "start_time": "2023-04-05T14:59:19.348Z"
   },
   {
    "duration": 14,
    "start_time": "2023-04-05T14:59:19.871Z"
   },
   {
    "duration": 208,
    "start_time": "2023-04-05T14:59:20.398Z"
   },
   {
    "duration": 14,
    "start_time": "2023-04-05T14:59:23.284Z"
   },
   {
    "duration": 7,
    "start_time": "2023-04-05T14:59:25.902Z"
   },
   {
    "duration": 8,
    "start_time": "2023-04-05T14:59:26.196Z"
   },
   {
    "duration": 5,
    "start_time": "2023-04-05T14:59:27.804Z"
   },
   {
    "duration": 25,
    "start_time": "2023-04-05T14:59:38.292Z"
   },
   {
    "duration": 25,
    "start_time": "2023-04-05T14:59:46.799Z"
   },
   {
    "duration": 32,
    "start_time": "2023-04-05T14:59:54.169Z"
   },
   {
    "duration": 14,
    "start_time": "2023-04-05T15:00:01.209Z"
   },
   {
    "duration": 8,
    "start_time": "2023-04-05T15:00:05.201Z"
   },
   {
    "duration": 8,
    "start_time": "2023-04-05T15:00:05.436Z"
   },
   {
    "duration": 15,
    "start_time": "2023-04-05T15:00:05.694Z"
   },
   {
    "duration": 46,
    "start_time": "2023-04-05T15:00:06.459Z"
   },
   {
    "duration": 6,
    "start_time": "2023-04-05T15:02:06.935Z"
   },
   {
    "duration": 6,
    "start_time": "2023-04-05T15:02:13.732Z"
   },
   {
    "duration": 5,
    "start_time": "2023-04-05T15:02:13.915Z"
   },
   {
    "duration": 28,
    "start_time": "2023-04-05T15:02:14.090Z"
   },
   {
    "duration": 16,
    "start_time": "2023-04-05T15:02:17.401Z"
   },
   {
    "duration": 2325,
    "start_time": "2023-04-05T15:16:48.514Z"
   },
   {
    "duration": 86,
    "start_time": "2023-04-05T15:16:50.840Z"
   },
   {
    "duration": 22,
    "start_time": "2023-04-05T15:16:50.928Z"
   },
   {
    "duration": 35,
    "start_time": "2023-04-05T15:16:50.952Z"
   },
   {
    "duration": 56,
    "start_time": "2023-04-05T15:16:50.988Z"
   },
   {
    "duration": 6,
    "start_time": "2023-04-05T15:16:51.798Z"
   },
   {
    "duration": 72,
    "start_time": "2023-04-05T15:16:51.968Z"
   },
   {
    "duration": 423,
    "start_time": "2023-04-05T15:16:52.167Z"
   },
   {
    "duration": 394,
    "start_time": "2023-04-05T15:16:52.592Z"
   },
   {
    "duration": 40,
    "start_time": "2023-04-05T15:16:52.987Z"
   },
   {
    "duration": 424,
    "start_time": "2023-04-05T15:16:53.033Z"
   },
   {
    "duration": 54,
    "start_time": "2023-04-05T15:16:53.460Z"
   },
   {
    "duration": 750,
    "start_time": "2023-04-05T15:16:53.517Z"
   },
   {
    "duration": 34,
    "start_time": "2023-04-05T15:16:54.268Z"
   },
   {
    "duration": 178,
    "start_time": "2023-04-05T15:16:54.304Z"
   },
   {
    "duration": 4,
    "start_time": "2023-04-05T15:16:54.855Z"
   },
   {
    "duration": 15,
    "start_time": "2023-04-05T15:16:55.226Z"
   },
   {
    "duration": 101,
    "start_time": "2023-04-05T15:16:55.759Z"
   },
   {
    "duration": 8,
    "start_time": "2023-04-05T15:16:56.518Z"
   },
   {
    "duration": 12,
    "start_time": "2023-04-05T15:16:56.920Z"
   },
   {
    "duration": 7,
    "start_time": "2023-04-05T15:16:57.519Z"
   },
   {
    "duration": 13,
    "start_time": "2023-04-05T15:16:57.898Z"
   },
   {
    "duration": 134,
    "start_time": "2023-04-05T15:16:58.236Z"
   },
   {
    "duration": 9,
    "start_time": "2023-04-05T15:16:58.641Z"
   },
   {
    "duration": 4,
    "start_time": "2023-04-05T15:16:58.960Z"
   },
   {
    "duration": 213,
    "start_time": "2023-04-05T15:16:59.218Z"
   },
   {
    "duration": 8,
    "start_time": "2023-04-05T15:16:59.594Z"
   },
   {
    "duration": 4,
    "start_time": "2023-04-05T15:17:00.010Z"
   },
   {
    "duration": 4,
    "start_time": "2023-04-05T15:17:00.218Z"
   },
   {
    "duration": 3,
    "start_time": "2023-04-05T15:17:00.423Z"
   },
   {
    "duration": 14,
    "start_time": "2023-04-05T15:17:01.163Z"
   },
   {
    "duration": 7,
    "start_time": "2023-04-05T15:17:01.354Z"
   },
   {
    "duration": 8,
    "start_time": "2023-04-05T15:17:01.541Z"
   },
   {
    "duration": 28,
    "start_time": "2023-04-05T15:17:01.737Z"
   },
   {
    "duration": 15,
    "start_time": "2023-04-05T15:17:02.029Z"
   },
   {
    "duration": 21,
    "start_time": "2023-04-05T15:17:02.710Z"
   },
   {
    "duration": 30,
    "start_time": "2023-04-05T15:17:03.188Z"
   },
   {
    "duration": 10,
    "start_time": "2023-04-05T15:17:03.587Z"
   },
   {
    "duration": 5,
    "start_time": "2023-04-05T15:17:03.947Z"
   },
   {
    "duration": 5,
    "start_time": "2023-04-05T15:17:04.398Z"
   },
   {
    "duration": 5,
    "start_time": "2023-04-05T15:17:09.050Z"
   },
   {
    "duration": 5,
    "start_time": "2023-04-05T15:17:09.298Z"
   },
   {
    "duration": 4,
    "start_time": "2023-04-05T15:17:09.591Z"
   },
   {
    "duration": 4,
    "start_time": "2023-04-05T15:17:09.851Z"
   },
   {
    "duration": 20,
    "start_time": "2023-04-05T15:17:10.093Z"
   },
   {
    "duration": 19,
    "start_time": "2023-04-05T15:17:10.652Z"
   },
   {
    "duration": 9,
    "start_time": "2023-04-05T15:17:15.999Z"
   },
   {
    "duration": 4,
    "start_time": "2023-04-05T15:17:16.919Z"
   },
   {
    "duration": 28,
    "start_time": "2023-04-05T15:17:17.331Z"
   },
   {
    "duration": 16,
    "start_time": "2023-04-05T15:17:18.310Z"
   },
   {
    "duration": 21,
    "start_time": "2023-04-05T15:17:18.591Z"
   },
   {
    "duration": 8819,
    "start_time": "2023-04-05T15:17:19.514Z"
   },
   {
    "duration": 5,
    "start_time": "2023-04-05T15:17:39.610Z"
   },
   {
    "duration": 13,
    "start_time": "2023-04-05T15:17:42.272Z"
   },
   {
    "duration": 6,
    "start_time": "2023-04-05T15:17:44.214Z"
   },
   {
    "duration": 3,
    "start_time": "2023-04-05T15:17:44.499Z"
   },
   {
    "duration": 4,
    "start_time": "2023-04-05T15:17:46.219Z"
   },
   {
    "duration": 5,
    "start_time": "2023-04-05T15:17:47.019Z"
   },
   {
    "duration": 8,
    "start_time": "2023-04-05T15:17:48.894Z"
   },
   {
    "duration": 4,
    "start_time": "2023-04-05T15:17:51.814Z"
   },
   {
    "duration": 37343,
    "start_time": "2023-04-05T15:17:53.939Z"
   },
   {
    "duration": 7,
    "start_time": "2023-04-05T15:20:18.489Z"
   },
   {
    "duration": 6,
    "start_time": "2023-04-05T15:20:18.870Z"
   },
   {
    "duration": 5,
    "start_time": "2023-04-05T15:20:19.201Z"
   },
   {
    "duration": 36297,
    "start_time": "2023-04-05T15:20:19.640Z"
   },
   {
    "duration": 2122,
    "start_time": "2023-04-05T20:22:59.406Z"
   },
   {
    "duration": 152,
    "start_time": "2023-04-05T20:23:01.530Z"
   },
   {
    "duration": 53,
    "start_time": "2023-04-05T20:23:01.684Z"
   },
   {
    "duration": 55,
    "start_time": "2023-04-05T20:23:01.739Z"
   },
   {
    "duration": 46,
    "start_time": "2023-04-05T20:23:01.797Z"
   },
   {
    "duration": 5,
    "start_time": "2023-04-05T20:23:01.846Z"
   },
   {
    "duration": 69,
    "start_time": "2023-04-05T20:23:01.853Z"
   },
   {
    "duration": 318,
    "start_time": "2023-04-05T20:23:01.925Z"
   },
   {
    "duration": 352,
    "start_time": "2023-04-05T20:23:02.245Z"
   },
   {
    "duration": 35,
    "start_time": "2023-04-05T20:23:02.599Z"
   },
   {
    "duration": 545,
    "start_time": "2023-04-05T20:23:02.636Z"
   },
   {
    "duration": 48,
    "start_time": "2023-04-05T20:23:03.183Z"
   },
   {
    "duration": 685,
    "start_time": "2023-04-05T20:23:03.233Z"
   },
   {
    "duration": 18,
    "start_time": "2023-04-05T20:23:03.924Z"
   },
   {
    "duration": 106,
    "start_time": "2023-04-05T20:23:03.944Z"
   },
   {
    "duration": 3,
    "start_time": "2023-04-05T20:23:04.052Z"
   },
   {
    "duration": 17,
    "start_time": "2023-04-05T20:23:04.057Z"
   },
   {
    "duration": 78,
    "start_time": "2023-04-05T20:23:04.076Z"
   },
   {
    "duration": 5,
    "start_time": "2023-04-05T20:23:04.155Z"
   },
   {
    "duration": 37,
    "start_time": "2023-04-05T20:23:04.162Z"
   },
   {
    "duration": 38,
    "start_time": "2023-04-05T20:23:04.201Z"
   },
   {
    "duration": 35,
    "start_time": "2023-04-05T20:23:04.241Z"
   },
   {
    "duration": 125,
    "start_time": "2023-04-05T20:23:04.278Z"
   },
   {
    "duration": 8,
    "start_time": "2023-04-05T20:23:04.405Z"
   },
   {
    "duration": 19,
    "start_time": "2023-04-05T20:23:04.423Z"
   },
   {
    "duration": 198,
    "start_time": "2023-04-05T20:23:04.444Z"
   },
   {
    "duration": 8,
    "start_time": "2023-04-05T20:23:04.644Z"
   },
   {
    "duration": 6,
    "start_time": "2023-04-05T20:23:04.653Z"
   },
   {
    "duration": 13,
    "start_time": "2023-04-05T20:23:04.661Z"
   },
   {
    "duration": 4,
    "start_time": "2023-04-05T20:23:04.676Z"
   },
   {
    "duration": 17,
    "start_time": "2023-04-05T20:23:04.682Z"
   },
   {
    "duration": 12,
    "start_time": "2023-04-05T20:23:04.701Z"
   },
   {
    "duration": 17,
    "start_time": "2023-04-05T20:23:04.716Z"
   },
   {
    "duration": 31,
    "start_time": "2023-04-05T20:23:04.734Z"
   },
   {
    "duration": 21,
    "start_time": "2023-04-05T20:23:04.768Z"
   },
   {
    "duration": 41,
    "start_time": "2023-04-05T20:23:04.791Z"
   },
   {
    "duration": 18,
    "start_time": "2023-04-05T20:23:04.834Z"
   },
   {
    "duration": 5,
    "start_time": "2023-04-05T20:23:04.854Z"
   },
   {
    "duration": 7,
    "start_time": "2023-04-05T20:23:04.861Z"
   },
   {
    "duration": 6,
    "start_time": "2023-04-05T20:23:04.870Z"
   },
   {
    "duration": 5,
    "start_time": "2023-04-05T20:23:04.881Z"
   },
   {
    "duration": 37,
    "start_time": "2023-04-05T20:23:04.888Z"
   },
   {
    "duration": 5,
    "start_time": "2023-04-05T20:23:04.927Z"
   },
   {
    "duration": 9,
    "start_time": "2023-04-05T20:23:04.934Z"
   },
   {
    "duration": 18,
    "start_time": "2023-04-05T20:23:04.945Z"
   },
   {
    "duration": 17,
    "start_time": "2023-04-05T20:23:04.965Z"
   },
   {
    "duration": 5,
    "start_time": "2023-04-05T20:23:04.984Z"
   },
   {
    "duration": 33,
    "start_time": "2023-04-05T20:23:04.991Z"
   },
   {
    "duration": 40,
    "start_time": "2023-04-05T20:23:05.026Z"
   },
   {
    "duration": 6,
    "start_time": "2023-04-05T20:23:05.068Z"
   },
   {
    "duration": 70,
    "start_time": "2023-04-05T20:23:05.076Z"
   },
   {
    "duration": 7539,
    "start_time": "2023-04-05T20:23:05.148Z"
   },
   {
    "duration": 5,
    "start_time": "2023-04-05T20:23:12.690Z"
   },
   {
    "duration": 33,
    "start_time": "2023-04-05T20:23:12.696Z"
   },
   {
    "duration": 19,
    "start_time": "2023-04-05T20:23:12.731Z"
   },
   {
    "duration": 21,
    "start_time": "2023-04-05T20:23:12.752Z"
   },
   {
    "duration": 22,
    "start_time": "2023-04-05T20:23:12.774Z"
   },
   {
    "duration": 6,
    "start_time": "2023-04-05T20:23:36.939Z"
   },
   {
    "duration": 140,
    "start_time": "2023-04-05T20:23:41.742Z"
   },
   {
    "duration": 9,
    "start_time": "2023-04-05T20:23:56.396Z"
   },
   {
    "duration": 1905,
    "start_time": "2023-04-05T20:23:59.839Z"
   },
   {
    "duration": 11025,
    "start_time": "2023-04-06T20:24:20.265Z"
   },
   {
    "duration": 139,
    "start_time": "2023-04-06T20:24:55.313Z"
   },
   {
    "duration": 48,
    "start_time": "2023-04-06T20:24:55.837Z"
   },
   {
    "duration": 49,
    "start_time": "2023-04-06T20:24:56.279Z"
   },
   {
    "duration": 131,
    "start_time": "2023-04-06T20:24:56.489Z"
   },
   {
    "duration": 4,
    "start_time": "2023-04-06T20:24:56.664Z"
   },
   {
    "duration": 40,
    "start_time": "2023-04-06T20:24:57.444Z"
   },
   {
    "duration": 276,
    "start_time": "2023-04-06T20:24:57.698Z"
   },
   {
    "duration": 289,
    "start_time": "2023-04-06T20:24:57.977Z"
   },
   {
    "duration": 27,
    "start_time": "2023-04-06T20:24:58.267Z"
   },
   {
    "duration": 310,
    "start_time": "2023-04-06T20:24:58.368Z"
   },
   {
    "duration": 34,
    "start_time": "2023-04-06T20:25:02.137Z"
   },
   {
    "duration": 895,
    "start_time": "2023-04-06T20:25:02.696Z"
   },
   {
    "duration": 16,
    "start_time": "2023-04-06T20:25:03.593Z"
   },
   {
    "duration": 83,
    "start_time": "2023-04-06T20:25:04.047Z"
   },
   {
    "duration": 3,
    "start_time": "2023-04-06T20:25:09.295Z"
   },
   {
    "duration": 12,
    "start_time": "2023-04-06T20:25:09.870Z"
   },
   {
    "duration": 66,
    "start_time": "2023-04-06T20:25:10.368Z"
   },
   {
    "duration": 5,
    "start_time": "2023-04-06T20:25:11.047Z"
   },
   {
    "duration": 8,
    "start_time": "2023-04-06T20:25:13.362Z"
   },
   {
    "duration": 6,
    "start_time": "2023-04-06T20:25:13.744Z"
   },
   {
    "duration": 13,
    "start_time": "2023-04-06T20:25:14.212Z"
   },
   {
    "duration": 121,
    "start_time": "2023-04-06T20:25:16.570Z"
   },
   {
    "duration": 8,
    "start_time": "2023-04-06T20:25:18.222Z"
   },
   {
    "duration": 5,
    "start_time": "2023-04-06T20:25:19.195Z"
   },
   {
    "duration": 173,
    "start_time": "2023-04-06T20:25:19.757Z"
   },
   {
    "duration": 7,
    "start_time": "2023-04-06T20:25:20.994Z"
   },
   {
    "duration": 2,
    "start_time": "2023-04-06T20:26:37.810Z"
   },
   {
    "duration": 11,
    "start_time": "2023-04-06T20:26:52.895Z"
   },
   {
    "duration": 3,
    "start_time": "2023-04-06T20:27:02.794Z"
   },
   {
    "duration": 5,
    "start_time": "2023-04-06T20:27:03.300Z"
   },
   {
    "duration": 10,
    "start_time": "2023-04-06T20:27:17.081Z"
   },
   {
    "duration": 2,
    "start_time": "2023-04-06T20:27:32.554Z"
   },
   {
    "duration": 13,
    "start_time": "2023-04-06T20:27:33.078Z"
   },
   {
    "duration": 8,
    "start_time": "2023-04-06T20:27:34.394Z"
   },
   {
    "duration": 2,
    "start_time": "2023-04-06T20:27:48.699Z"
   },
   {
    "duration": 11,
    "start_time": "2023-04-06T20:27:49.117Z"
   },
   {
    "duration": 8,
    "start_time": "2023-04-06T20:27:49.997Z"
   },
   {
    "duration": 2,
    "start_time": "2023-04-06T20:28:26.111Z"
   },
   {
    "duration": 13,
    "start_time": "2023-04-06T20:28:26.677Z"
   },
   {
    "duration": 13,
    "start_time": "2023-04-06T20:28:27.857Z"
   },
   {
    "duration": 8,
    "start_time": "2023-04-06T20:28:30.191Z"
   },
   {
    "duration": 8,
    "start_time": "2023-04-06T20:28:56.191Z"
   },
   {
    "duration": 6,
    "start_time": "2023-04-06T20:28:56.417Z"
   },
   {
    "duration": 8,
    "start_time": "2023-04-06T20:28:56.654Z"
   },
   {
    "duration": 21,
    "start_time": "2023-04-06T20:28:56.901Z"
   },
   {
    "duration": 16,
    "start_time": "2023-04-06T20:28:58.091Z"
   },
   {
    "duration": 13,
    "start_time": "2023-04-06T20:29:01.491Z"
   },
   {
    "duration": 16,
    "start_time": "2023-04-06T20:29:02.405Z"
   },
   {
    "duration": 4,
    "start_time": "2023-04-06T20:29:10.644Z"
   },
   {
    "duration": 34,
    "start_time": "2023-04-06T20:38:40.595Z"
   },
   {
    "duration": 19,
    "start_time": "2023-04-06T20:39:00.932Z"
   },
   {
    "duration": 9,
    "start_time": "2023-04-06T20:39:21.517Z"
   },
   {
    "duration": 20,
    "start_time": "2023-04-06T20:39:22.324Z"
   },
   {
    "duration": 3499,
    "start_time": "2023-04-06T20:42:15.810Z"
   },
   {
    "duration": 47,
    "start_time": "2023-04-06T20:42:19.312Z"
   },
   {
    "duration": 20,
    "start_time": "2023-04-06T20:42:19.361Z"
   },
   {
    "duration": 22,
    "start_time": "2023-04-06T20:42:19.382Z"
   },
   {
    "duration": 17,
    "start_time": "2023-04-06T20:42:19.406Z"
   },
   {
    "duration": 3,
    "start_time": "2023-04-06T20:42:19.425Z"
   },
   {
    "duration": 40,
    "start_time": "2023-04-06T20:42:19.430Z"
   },
   {
    "duration": 288,
    "start_time": "2023-04-06T20:42:19.472Z"
   },
   {
    "duration": 295,
    "start_time": "2023-04-06T20:42:19.762Z"
   },
   {
    "duration": 26,
    "start_time": "2023-04-06T20:42:20.059Z"
   },
   {
    "duration": 332,
    "start_time": "2023-04-06T20:42:20.086Z"
   },
   {
    "duration": 40,
    "start_time": "2023-04-06T20:42:20.420Z"
   },
   {
    "duration": 614,
    "start_time": "2023-04-06T20:42:20.462Z"
   },
   {
    "duration": 17,
    "start_time": "2023-04-06T20:42:21.079Z"
   },
   {
    "duration": 98,
    "start_time": "2023-04-06T20:42:21.098Z"
   },
   {
    "duration": 3,
    "start_time": "2023-04-06T20:42:21.198Z"
   },
   {
    "duration": 19,
    "start_time": "2023-04-06T20:42:21.203Z"
   },
   {
    "duration": 81,
    "start_time": "2023-04-06T20:42:21.223Z"
   },
   {
    "duration": 4,
    "start_time": "2023-04-06T20:42:21.306Z"
   },
   {
    "duration": 9,
    "start_time": "2023-04-06T20:42:21.311Z"
   },
   {
    "duration": 4,
    "start_time": "2023-04-06T20:42:21.322Z"
   },
   {
    "duration": 14,
    "start_time": "2023-04-06T20:42:21.328Z"
   },
   {
    "duration": 114,
    "start_time": "2023-04-06T20:42:21.343Z"
   },
   {
    "duration": 7,
    "start_time": "2023-04-06T20:42:21.459Z"
   },
   {
    "duration": 4,
    "start_time": "2023-04-06T20:42:21.468Z"
   },
   {
    "duration": 191,
    "start_time": "2023-04-06T20:42:21.473Z"
   },
   {
    "duration": 7,
    "start_time": "2023-04-06T20:42:21.665Z"
   },
   {
    "duration": 3,
    "start_time": "2023-04-06T20:42:21.674Z"
   },
   {
    "duration": 22,
    "start_time": "2023-04-06T20:42:21.678Z"
   },
   {
    "duration": 16,
    "start_time": "2023-04-06T20:42:21.702Z"
   },
   {
    "duration": 10,
    "start_time": "2023-04-06T20:42:21.720Z"
   },
   {
    "duration": 23,
    "start_time": "2023-04-06T20:42:21.731Z"
   },
   {
    "duration": 11,
    "start_time": "2023-04-06T20:42:21.755Z"
   },
   {
    "duration": 12,
    "start_time": "2023-04-06T20:42:21.768Z"
   },
   {
    "duration": 20,
    "start_time": "2023-04-06T20:42:21.782Z"
   },
   {
    "duration": 14,
    "start_time": "2023-04-06T20:42:21.803Z"
   },
   {
    "duration": 14,
    "start_time": "2023-04-06T20:42:21.818Z"
   },
   {
    "duration": 16,
    "start_time": "2023-04-06T20:42:22.100Z"
   },
   {
    "duration": 9,
    "start_time": "2023-04-06T20:42:24.607Z"
   },
   {
    "duration": 3,
    "start_time": "2023-04-06T20:42:26.825Z"
   },
   {
    "duration": 2,
    "start_time": "2023-04-06T20:42:26.959Z"
   },
   {
    "duration": 2,
    "start_time": "2023-04-06T20:42:27.111Z"
   },
   {
    "duration": 3,
    "start_time": "2023-04-06T20:42:27.292Z"
   },
   {
    "duration": 3,
    "start_time": "2023-04-06T20:42:27.426Z"
   },
   {
    "duration": 3,
    "start_time": "2023-04-06T20:42:27.560Z"
   },
   {
    "duration": 3,
    "start_time": "2023-04-06T20:42:27.715Z"
   },
   {
    "duration": 3,
    "start_time": "2023-04-06T20:42:27.894Z"
   },
   {
    "duration": 15,
    "start_time": "2023-04-06T20:42:30.338Z"
   },
   {
    "duration": 5,
    "start_time": "2023-04-06T20:42:40.189Z"
   },
   {
    "duration": 4,
    "start_time": "2023-04-06T20:42:40.699Z"
   },
   {
    "duration": 33,
    "start_time": "2023-04-06T20:42:40.931Z"
   },
   {
    "duration": 4,
    "start_time": "2023-04-06T20:42:41.438Z"
   },
   {
    "duration": 21,
    "start_time": "2023-04-06T20:42:41.676Z"
   },
   {
    "duration": 4,
    "start_time": "2023-04-06T20:43:16.958Z"
   },
   {
    "duration": 9,
    "start_time": "2023-04-06T20:43:20.740Z"
   },
   {
    "duration": 6,
    "start_time": "2023-04-06T20:43:21.143Z"
   },
   {
    "duration": 4,
    "start_time": "2023-04-06T20:43:21.472Z"
   },
   {
    "duration": 3,
    "start_time": "2023-04-06T20:43:24.249Z"
   },
   {
    "duration": 4,
    "start_time": "2023-04-06T20:43:25.572Z"
   },
   {
    "duration": 4,
    "start_time": "2023-04-06T20:43:28.419Z"
   },
   {
    "duration": 4,
    "start_time": "2023-04-06T20:43:28.644Z"
   },
   {
    "duration": 35000,
    "start_time": "2023-04-06T20:43:29.340Z"
   },
   {
    "duration": 13,
    "start_time": "2023-04-06T20:44:17.496Z"
   },
   {
    "duration": 2206,
    "start_time": "2023-04-06T21:03:53.242Z"
   },
   {
    "duration": 3421,
    "start_time": "2023-04-06T21:07:06.241Z"
   },
   {
    "duration": 50,
    "start_time": "2023-04-06T21:07:19.816Z"
   },
   {
    "duration": 21,
    "start_time": "2023-04-06T21:07:20.296Z"
   },
   {
    "duration": 21,
    "start_time": "2023-04-06T21:07:20.741Z"
   },
   {
    "duration": 35,
    "start_time": "2023-04-06T21:07:21.185Z"
   },
   {
    "duration": 2191,
    "start_time": "2023-04-06T21:07:29.716Z"
   },
   {
    "duration": 48,
    "start_time": "2023-04-06T21:07:31.910Z"
   },
   {
    "duration": 20,
    "start_time": "2023-04-06T21:07:31.960Z"
   },
   {
    "duration": 22,
    "start_time": "2023-04-06T21:07:31.982Z"
   },
   {
    "duration": 17,
    "start_time": "2023-04-06T21:07:32.006Z"
   },
   {
    "duration": 3,
    "start_time": "2023-04-06T21:07:32.025Z"
   },
   {
    "duration": 56,
    "start_time": "2023-04-06T21:07:32.030Z"
   },
   {
    "duration": 282,
    "start_time": "2023-04-06T21:07:32.087Z"
   },
   {
    "duration": 300,
    "start_time": "2023-04-06T21:07:32.371Z"
   },
   {
    "duration": 26,
    "start_time": "2023-04-06T21:07:32.673Z"
   },
   {
    "duration": 321,
    "start_time": "2023-04-06T21:07:32.701Z"
   },
   {
    "duration": 41,
    "start_time": "2023-04-06T21:07:33.024Z"
   },
   {
    "duration": 608,
    "start_time": "2023-04-06T21:07:33.066Z"
   },
   {
    "duration": 16,
    "start_time": "2023-04-06T21:07:33.677Z"
   },
   {
    "duration": 90,
    "start_time": "2023-04-06T21:07:33.695Z"
   },
   {
    "duration": 3,
    "start_time": "2023-04-06T21:07:33.787Z"
   },
   {
    "duration": 14,
    "start_time": "2023-04-06T21:07:33.792Z"
   },
   {
    "duration": 82,
    "start_time": "2023-04-06T21:07:33.807Z"
   },
   {
    "duration": 5,
    "start_time": "2023-04-06T21:07:33.891Z"
   },
   {
    "duration": 8,
    "start_time": "2023-04-06T21:07:33.897Z"
   },
   {
    "duration": 4,
    "start_time": "2023-04-06T21:07:33.907Z"
   },
   {
    "duration": 29,
    "start_time": "2023-04-06T21:07:33.912Z"
   },
   {
    "duration": 117,
    "start_time": "2023-04-06T21:07:33.942Z"
   },
   {
    "duration": 8,
    "start_time": "2023-04-06T21:07:34.060Z"
   },
   {
    "duration": 6,
    "start_time": "2023-04-06T21:07:34.069Z"
   },
   {
    "duration": 190,
    "start_time": "2023-04-06T21:07:34.077Z"
   },
   {
    "duration": 7,
    "start_time": "2023-04-06T21:07:34.268Z"
   },
   {
    "duration": 2,
    "start_time": "2023-04-06T21:07:34.277Z"
   },
   {
    "duration": 12,
    "start_time": "2023-04-06T21:07:34.280Z"
   },
   {
    "duration": 12,
    "start_time": "2023-04-06T21:07:34.294Z"
   },
   {
    "duration": 34,
    "start_time": "2023-04-06T21:07:34.307Z"
   },
   {
    "duration": 8,
    "start_time": "2023-04-06T21:07:34.343Z"
   },
   {
    "duration": 13,
    "start_time": "2023-04-06T21:07:34.353Z"
   },
   {
    "duration": 7,
    "start_time": "2023-04-06T21:07:34.368Z"
   },
   {
    "duration": 21,
    "start_time": "2023-04-06T21:07:34.377Z"
   },
   {
    "duration": 40,
    "start_time": "2023-04-06T21:07:34.400Z"
   },
   {
    "duration": 15,
    "start_time": "2023-04-06T21:07:34.442Z"
   },
   {
    "duration": 21,
    "start_time": "2023-04-06T21:07:34.459Z"
   },
   {
    "duration": 9,
    "start_time": "2023-04-06T21:07:34.482Z"
   },
   {
    "duration": 4,
    "start_time": "2023-04-06T21:07:34.493Z"
   },
   {
    "duration": 14,
    "start_time": "2023-04-06T21:07:34.501Z"
   },
   {
    "duration": 10,
    "start_time": "2023-04-06T21:07:34.517Z"
   },
   {
    "duration": 5,
    "start_time": "2023-04-06T21:07:34.540Z"
   },
   {
    "duration": 4,
    "start_time": "2023-04-06T21:07:34.547Z"
   },
   {
    "duration": 8,
    "start_time": "2023-04-06T21:07:34.552Z"
   },
   {
    "duration": 7,
    "start_time": "2023-04-06T21:07:34.561Z"
   },
   {
    "duration": 8,
    "start_time": "2023-04-06T21:07:34.569Z"
   },
   {
    "duration": 15,
    "start_time": "2023-04-06T21:07:34.578Z"
   },
   {
    "duration": 4,
    "start_time": "2023-04-06T21:07:34.595Z"
   },
   {
    "duration": 3,
    "start_time": "2023-04-06T21:07:34.600Z"
   },
   {
    "duration": 39,
    "start_time": "2023-04-06T21:07:34.604Z"
   },
   {
    "duration": 4,
    "start_time": "2023-04-06T21:07:34.645Z"
   },
   {
    "duration": 21,
    "start_time": "2023-04-06T21:07:34.650Z"
   },
   {
    "duration": 4,
    "start_time": "2023-04-06T21:07:34.672Z"
   },
   {
    "duration": 11,
    "start_time": "2023-04-06T21:07:34.677Z"
   },
   {
    "duration": 5,
    "start_time": "2023-04-06T21:07:34.689Z"
   },
   {
    "duration": 4,
    "start_time": "2023-04-06T21:07:34.696Z"
   },
   {
    "duration": 3,
    "start_time": "2023-04-06T21:07:34.701Z"
   },
   {
    "duration": 36,
    "start_time": "2023-04-06T21:07:34.706Z"
   },
   {
    "duration": 7,
    "start_time": "2023-04-06T21:07:34.743Z"
   },
   {
    "duration": 4,
    "start_time": "2023-04-06T21:07:34.751Z"
   },
   {
    "duration": 35127,
    "start_time": "2023-04-06T21:08:09.692Z"
   },
   {
    "duration": 12,
    "start_time": "2023-04-06T21:08:51.449Z"
   },
   {
    "duration": 4552,
    "start_time": "2023-04-06T21:25:25.499Z"
   },
   {
    "duration": 48,
    "start_time": "2023-04-06T21:25:30.053Z"
   },
   {
    "duration": 21,
    "start_time": "2023-04-06T21:25:30.103Z"
   },
   {
    "duration": 27,
    "start_time": "2023-04-06T21:25:30.125Z"
   },
   {
    "duration": 28,
    "start_time": "2023-04-06T21:25:30.154Z"
   },
   {
    "duration": 9,
    "start_time": "2023-04-06T21:25:30.184Z"
   },
   {
    "duration": 62,
    "start_time": "2023-04-06T21:25:30.194Z"
   },
   {
    "duration": 293,
    "start_time": "2023-04-06T21:25:30.258Z"
   },
   {
    "duration": 297,
    "start_time": "2023-04-06T21:25:30.553Z"
   },
   {
    "duration": 39,
    "start_time": "2023-04-06T21:25:30.851Z"
   },
   {
    "duration": 361,
    "start_time": "2023-04-06T21:25:30.892Z"
   },
   {
    "duration": 35,
    "start_time": "2023-04-06T21:25:31.254Z"
   },
   {
    "duration": 734,
    "start_time": "2023-04-06T21:25:31.291Z"
   },
   {
    "duration": 28,
    "start_time": "2023-04-06T21:25:32.029Z"
   },
   {
    "duration": 104,
    "start_time": "2023-04-06T21:25:32.058Z"
   },
   {
    "duration": 3,
    "start_time": "2023-04-06T21:25:32.164Z"
   },
   {
    "duration": 30,
    "start_time": "2023-04-06T21:25:32.169Z"
   },
   {
    "duration": 103,
    "start_time": "2023-04-06T21:25:32.201Z"
   },
   {
    "duration": 4,
    "start_time": "2023-04-06T21:25:32.306Z"
   },
   {
    "duration": 9,
    "start_time": "2023-04-06T21:25:32.312Z"
   },
   {
    "duration": 17,
    "start_time": "2023-04-06T21:25:32.323Z"
   },
   {
    "duration": 17,
    "start_time": "2023-04-06T21:25:32.342Z"
   },
   {
    "duration": 127,
    "start_time": "2023-04-06T21:25:32.361Z"
   },
   {
    "duration": 8,
    "start_time": "2023-04-06T21:25:32.490Z"
   },
   {
    "duration": 7,
    "start_time": "2023-04-06T21:25:32.499Z"
   },
   {
    "duration": 196,
    "start_time": "2023-04-06T21:25:32.508Z"
   },
   {
    "duration": 8,
    "start_time": "2023-04-06T21:25:32.706Z"
   },
   {
    "duration": 3,
    "start_time": "2023-04-06T21:25:32.716Z"
   },
   {
    "duration": 30,
    "start_time": "2023-04-06T21:25:32.721Z"
   },
   {
    "duration": 24,
    "start_time": "2023-04-06T21:25:32.752Z"
   },
   {
    "duration": 28,
    "start_time": "2023-04-06T21:25:32.778Z"
   },
   {
    "duration": 13,
    "start_time": "2023-04-06T21:25:32.808Z"
   },
   {
    "duration": 8,
    "start_time": "2023-04-06T21:25:32.824Z"
   },
   {
    "duration": 7,
    "start_time": "2023-04-06T21:25:32.840Z"
   },
   {
    "duration": 32,
    "start_time": "2023-04-06T21:25:32.849Z"
   },
   {
    "duration": 21,
    "start_time": "2023-04-06T21:25:32.883Z"
   },
   {
    "duration": 48,
    "start_time": "2023-04-06T21:25:32.906Z"
   },
   {
    "duration": 23,
    "start_time": "2023-04-06T21:25:32.956Z"
   },
   {
    "duration": 13,
    "start_time": "2023-04-06T21:25:32.982Z"
   },
   {
    "duration": 3,
    "start_time": "2023-04-06T21:25:32.997Z"
   },
   {
    "duration": 4,
    "start_time": "2023-04-06T21:25:33.004Z"
   },
   {
    "duration": 30,
    "start_time": "2023-04-06T21:25:33.010Z"
   },
   {
    "duration": 4,
    "start_time": "2023-04-06T21:25:33.042Z"
   },
   {
    "duration": 4,
    "start_time": "2023-04-06T21:25:33.047Z"
   },
   {
    "duration": 3,
    "start_time": "2023-04-06T21:25:33.053Z"
   },
   {
    "duration": 11,
    "start_time": "2023-04-06T21:25:33.057Z"
   },
   {
    "duration": 14,
    "start_time": "2023-04-06T21:25:33.070Z"
   },
   {
    "duration": 33,
    "start_time": "2023-04-06T21:25:33.086Z"
   },
   {
    "duration": 5,
    "start_time": "2023-04-06T21:25:33.121Z"
   },
   {
    "duration": 13,
    "start_time": "2023-04-06T21:25:33.128Z"
   },
   {
    "duration": 37,
    "start_time": "2023-04-06T21:25:33.142Z"
   },
   {
    "duration": 4,
    "start_time": "2023-04-06T21:25:33.181Z"
   },
   {
    "duration": 23,
    "start_time": "2023-04-06T21:25:33.186Z"
   },
   {
    "duration": 5,
    "start_time": "2023-04-06T21:25:33.211Z"
   },
   {
    "duration": 29,
    "start_time": "2023-04-06T21:25:33.218Z"
   },
   {
    "duration": 7,
    "start_time": "2023-04-06T21:25:33.248Z"
   },
   {
    "duration": 4,
    "start_time": "2023-04-06T21:25:33.257Z"
   },
   {
    "duration": 3,
    "start_time": "2023-04-06T21:25:33.262Z"
   },
   {
    "duration": 4,
    "start_time": "2023-04-06T21:25:33.267Z"
   },
   {
    "duration": 6,
    "start_time": "2023-04-06T21:25:33.272Z"
   },
   {
    "duration": 5,
    "start_time": "2023-04-06T21:25:33.279Z"
   },
   {
    "duration": 35686,
    "start_time": "2023-04-06T21:26:08.771Z"
   },
   {
    "duration": 10,
    "start_time": "2023-04-06T21:26:58.209Z"
   },
   {
    "duration": 69644,
    "start_time": "2023-04-06T21:27:01.697Z"
   },
   {
    "duration": 175,
    "start_time": "2023-04-06T21:44:55.765Z"
   },
   {
    "duration": 161,
    "start_time": "2023-04-06T21:44:56.765Z"
   },
   {
    "duration": 9,
    "start_time": "2023-04-06T21:45:03.213Z"
   },
   {
    "duration": 2,
    "start_time": "2023-04-06T21:45:17.658Z"
   },
   {
    "duration": 6,
    "start_time": "2023-04-06T21:45:18.236Z"
   },
   {
    "duration": 13,
    "start_time": "2023-04-06T21:46:05.174Z"
   },
   {
    "duration": 4,
    "start_time": "2023-04-06T21:46:09.019Z"
   },
   {
    "duration": 9,
    "start_time": "2023-04-06T21:48:39.447Z"
   },
   {
    "duration": 3364,
    "start_time": "2023-04-06T21:49:42.978Z"
   },
   {
    "duration": 2807,
    "start_time": "2023-04-06T21:49:50.908Z"
   },
   {
    "duration": 246,
    "start_time": "2023-04-06T21:55:55.277Z"
   },
   {
    "duration": 4,
    "start_time": "2023-04-06T22:02:24.155Z"
   },
   {
    "duration": 4,
    "start_time": "2023-04-06T22:02:28.656Z"
   },
   {
    "duration": 14,
    "start_time": "2023-04-06T22:02:42.614Z"
   },
   {
    "duration": 2,
    "start_time": "2023-04-06T22:03:22.222Z"
   },
   {
    "duration": 16,
    "start_time": "2023-04-06T22:03:22.746Z"
   },
   {
    "duration": 15,
    "start_time": "2023-04-06T22:03:43.846Z"
   },
   {
    "duration": 5,
    "start_time": "2023-04-06T22:05:55.480Z"
   },
   {
    "duration": 3,
    "start_time": "2023-04-06T22:05:59.182Z"
   },
   {
    "duration": 15,
    "start_time": "2023-04-06T22:06:00.349Z"
   },
   {
    "duration": 16,
    "start_time": "2023-04-06T22:10:54.719Z"
   },
   {
    "duration": 13,
    "start_time": "2023-04-06T22:12:27.322Z"
   },
   {
    "duration": 3355,
    "start_time": "2023-04-06T22:19:41.340Z"
   },
   {
    "duration": 47,
    "start_time": "2023-04-06T22:19:44.697Z"
   },
   {
    "duration": 21,
    "start_time": "2023-04-06T22:19:44.746Z"
   },
   {
    "duration": 22,
    "start_time": "2023-04-06T22:19:44.769Z"
   },
   {
    "duration": 17,
    "start_time": "2023-04-06T22:19:44.793Z"
   },
   {
    "duration": 4,
    "start_time": "2023-04-06T22:19:44.811Z"
   },
   {
    "duration": 40,
    "start_time": "2023-04-06T22:19:44.816Z"
   },
   {
    "duration": 287,
    "start_time": "2023-04-06T22:19:44.858Z"
   },
   {
    "duration": 297,
    "start_time": "2023-04-06T22:19:45.146Z"
   },
   {
    "duration": 25,
    "start_time": "2023-04-06T22:19:45.446Z"
   },
   {
    "duration": 320,
    "start_time": "2023-04-06T22:19:45.472Z"
   },
   {
    "duration": 46,
    "start_time": "2023-04-06T22:19:45.794Z"
   },
   {
    "duration": 674,
    "start_time": "2023-04-06T22:19:45.841Z"
   },
   {
    "duration": 29,
    "start_time": "2023-04-06T22:19:46.517Z"
   },
   {
    "duration": 100,
    "start_time": "2023-04-06T22:19:46.549Z"
   },
   {
    "duration": 3,
    "start_time": "2023-04-06T22:19:46.651Z"
   },
   {
    "duration": 16,
    "start_time": "2023-04-06T22:19:46.656Z"
   },
   {
    "duration": 100,
    "start_time": "2023-04-06T22:19:46.673Z"
   },
   {
    "duration": 5,
    "start_time": "2023-04-06T22:19:46.775Z"
   },
   {
    "duration": 11,
    "start_time": "2023-04-06T22:19:46.783Z"
   },
   {
    "duration": 6,
    "start_time": "2023-04-06T22:19:46.797Z"
   },
   {
    "duration": 45,
    "start_time": "2023-04-06T22:19:46.805Z"
   },
   {
    "duration": 134,
    "start_time": "2023-04-06T22:19:46.852Z"
   },
   {
    "duration": 9,
    "start_time": "2023-04-06T22:19:46.987Z"
   },
   {
    "duration": 5,
    "start_time": "2023-04-06T22:19:46.998Z"
   },
   {
    "duration": 190,
    "start_time": "2023-04-06T22:19:47.005Z"
   },
   {
    "duration": 7,
    "start_time": "2023-04-06T22:19:47.197Z"
   },
   {
    "duration": 4,
    "start_time": "2023-04-06T22:19:47.209Z"
   },
   {
    "duration": 38,
    "start_time": "2023-04-06T22:19:47.215Z"
   },
   {
    "duration": 16,
    "start_time": "2023-04-06T22:19:47.255Z"
   },
   {
    "duration": 18,
    "start_time": "2023-04-06T22:19:47.273Z"
   },
   {
    "duration": 31,
    "start_time": "2023-04-06T22:19:47.293Z"
   },
   {
    "duration": 22,
    "start_time": "2023-04-06T22:19:47.326Z"
   },
   {
    "duration": 19,
    "start_time": "2023-04-06T22:19:47.349Z"
   },
   {
    "duration": 24,
    "start_time": "2023-04-06T22:19:47.369Z"
   },
   {
    "duration": 16,
    "start_time": "2023-04-06T22:19:47.395Z"
   },
   {
    "duration": 15,
    "start_time": "2023-04-06T22:19:47.413Z"
   },
   {
    "duration": 23,
    "start_time": "2023-04-06T22:19:47.430Z"
   },
   {
    "duration": 8,
    "start_time": "2023-04-06T22:19:47.455Z"
   },
   {
    "duration": 4,
    "start_time": "2023-04-06T22:19:47.465Z"
   },
   {
    "duration": 5,
    "start_time": "2023-04-06T22:19:47.470Z"
   },
   {
    "duration": 3,
    "start_time": "2023-04-06T22:19:47.477Z"
   },
   {
    "duration": 4,
    "start_time": "2023-04-06T22:19:47.482Z"
   },
   {
    "duration": 9,
    "start_time": "2023-04-06T22:19:47.487Z"
   },
   {
    "duration": 3,
    "start_time": "2023-04-06T22:19:47.498Z"
   },
   {
    "duration": 6,
    "start_time": "2023-04-06T22:19:47.503Z"
   },
   {
    "duration": 30,
    "start_time": "2023-04-06T22:19:47.510Z"
   },
   {
    "duration": 20,
    "start_time": "2023-04-06T22:19:47.543Z"
   },
   {
    "duration": 5,
    "start_time": "2023-04-06T22:19:47.564Z"
   },
   {
    "duration": 5,
    "start_time": "2023-04-06T22:19:47.570Z"
   },
   {
    "duration": 23,
    "start_time": "2023-04-06T22:19:47.576Z"
   },
   {
    "duration": 4,
    "start_time": "2023-04-06T22:19:47.601Z"
   },
   {
    "duration": 42,
    "start_time": "2023-04-06T22:19:47.607Z"
   },
   {
    "duration": 4,
    "start_time": "2023-04-06T22:19:47.651Z"
   },
   {
    "duration": 11,
    "start_time": "2023-04-06T22:19:47.657Z"
   },
   {
    "duration": 6,
    "start_time": "2023-04-06T22:19:47.670Z"
   },
   {
    "duration": 5,
    "start_time": "2023-04-06T22:19:47.678Z"
   },
   {
    "duration": 11,
    "start_time": "2023-04-06T22:19:47.685Z"
   },
   {
    "duration": 5,
    "start_time": "2023-04-06T22:19:47.698Z"
   },
   {
    "duration": 5,
    "start_time": "2023-04-06T22:19:47.739Z"
   },
   {
    "duration": 10,
    "start_time": "2023-04-06T22:19:47.746Z"
   },
   {
    "duration": 35455,
    "start_time": "2023-04-06T22:19:47.757Z"
   },
   {
    "duration": 9,
    "start_time": "2023-04-06T22:20:23.217Z"
   },
   {
    "duration": 2121,
    "start_time": "2023-04-06T22:27:22.547Z"
   },
   {
    "duration": 2129,
    "start_time": "2023-04-06T22:27:29.677Z"
   },
   {
    "duration": 51,
    "start_time": "2023-04-06T22:27:36.496Z"
   },
   {
    "duration": 2134,
    "start_time": "2023-04-06T22:27:51.085Z"
   },
   {
    "duration": 51,
    "start_time": "2023-04-06T22:27:53.221Z"
   },
   {
    "duration": 19,
    "start_time": "2023-04-06T22:27:53.274Z"
   },
   {
    "duration": 22,
    "start_time": "2023-04-06T22:27:53.295Z"
   },
   {
    "duration": 18,
    "start_time": "2023-04-06T22:27:53.319Z"
   },
   {
    "duration": 4,
    "start_time": "2023-04-06T22:27:53.338Z"
   },
   {
    "duration": 40,
    "start_time": "2023-04-06T22:27:53.344Z"
   },
   {
    "duration": 282,
    "start_time": "2023-04-06T22:27:53.386Z"
   },
   {
    "duration": 231,
    "start_time": "2023-04-06T22:27:53.670Z"
   },
   {
    "duration": 38,
    "start_time": "2023-04-06T22:27:53.903Z"
   },
   {
    "duration": 318,
    "start_time": "2023-04-06T22:27:53.942Z"
   },
   {
    "duration": 30,
    "start_time": "2023-04-06T22:27:54.262Z"
   },
   {
    "duration": 712,
    "start_time": "2023-04-06T22:27:54.293Z"
   },
   {
    "duration": 18,
    "start_time": "2023-04-06T22:27:55.008Z"
   },
   {
    "duration": 84,
    "start_time": "2023-04-06T22:27:55.040Z"
   },
   {
    "duration": 15,
    "start_time": "2023-04-06T22:27:55.126Z"
   },
   {
    "duration": 14,
    "start_time": "2023-04-06T22:27:55.143Z"
   },
   {
    "duration": 69,
    "start_time": "2023-04-06T22:27:55.159Z"
   },
   {
    "duration": 5,
    "start_time": "2023-04-06T22:27:55.241Z"
   },
   {
    "duration": 9,
    "start_time": "2023-04-06T22:27:55.248Z"
   },
   {
    "duration": 5,
    "start_time": "2023-04-06T22:27:55.258Z"
   },
   {
    "duration": 11,
    "start_time": "2023-04-06T22:27:55.265Z"
   },
   {
    "duration": 137,
    "start_time": "2023-04-06T22:27:55.278Z"
   },
   {
    "duration": 9,
    "start_time": "2023-04-06T22:27:55.416Z"
   },
   {
    "duration": 16,
    "start_time": "2023-04-06T22:27:55.426Z"
   },
   {
    "duration": 183,
    "start_time": "2023-04-06T22:27:55.444Z"
   },
   {
    "duration": 14,
    "start_time": "2023-04-06T22:27:55.629Z"
   },
   {
    "duration": 6,
    "start_time": "2023-04-06T22:27:55.645Z"
   },
   {
    "duration": 12,
    "start_time": "2023-04-06T22:27:55.653Z"
   },
   {
    "duration": 12,
    "start_time": "2023-04-06T22:27:55.667Z"
   },
   {
    "duration": 9,
    "start_time": "2023-04-06T22:27:55.681Z"
   },
   {
    "duration": 8,
    "start_time": "2023-04-06T22:27:55.692Z"
   },
   {
    "duration": 5,
    "start_time": "2023-04-06T22:27:55.702Z"
   },
   {
    "duration": 7,
    "start_time": "2023-04-06T22:27:55.740Z"
   },
   {
    "duration": 20,
    "start_time": "2023-04-06T22:27:55.748Z"
   },
   {
    "duration": 15,
    "start_time": "2023-04-06T22:27:55.770Z"
   },
   {
    "duration": 15,
    "start_time": "2023-04-06T22:27:55.787Z"
   },
   {
    "duration": 49,
    "start_time": "2023-04-06T22:27:55.803Z"
   },
   {
    "duration": 10,
    "start_time": "2023-04-06T22:27:55.853Z"
   },
   {
    "duration": 3,
    "start_time": "2023-04-06T22:27:55.865Z"
   },
   {
    "duration": 2,
    "start_time": "2023-04-06T22:27:55.873Z"
   },
   {
    "duration": 4,
    "start_time": "2023-04-06T22:27:55.877Z"
   },
   {
    "duration": 5,
    "start_time": "2023-04-06T22:27:55.882Z"
   },
   {
    "duration": 4,
    "start_time": "2023-04-06T22:27:55.889Z"
   },
   {
    "duration": 3,
    "start_time": "2023-04-06T22:27:55.895Z"
   },
   {
    "duration": 6,
    "start_time": "2023-04-06T22:27:55.899Z"
   },
   {
    "duration": 34,
    "start_time": "2023-04-06T22:27:55.906Z"
   },
   {
    "duration": 22,
    "start_time": "2023-04-06T22:27:55.942Z"
   },
   {
    "duration": 4,
    "start_time": "2023-04-06T22:27:55.966Z"
   },
   {
    "duration": 4,
    "start_time": "2023-04-06T22:27:55.972Z"
   },
   {
    "duration": 25,
    "start_time": "2023-04-06T22:27:55.977Z"
   },
   {
    "duration": 4,
    "start_time": "2023-04-06T22:27:56.003Z"
   },
   {
    "duration": 40,
    "start_time": "2023-04-06T22:27:56.009Z"
   },
   {
    "duration": 4,
    "start_time": "2023-04-06T22:27:56.051Z"
   },
   {
    "duration": 16,
    "start_time": "2023-04-06T22:27:56.056Z"
   },
   {
    "duration": 5,
    "start_time": "2023-04-06T22:27:56.074Z"
   },
   {
    "duration": 7,
    "start_time": "2023-04-06T22:27:56.081Z"
   },
   {
    "duration": 3,
    "start_time": "2023-04-06T22:27:56.090Z"
   },
   {
    "duration": 4,
    "start_time": "2023-04-06T22:27:56.095Z"
   },
   {
    "duration": 7,
    "start_time": "2023-04-06T22:27:56.101Z"
   },
   {
    "duration": 33,
    "start_time": "2023-04-06T22:27:56.110Z"
   },
   {
    "duration": 4,
    "start_time": "2023-04-06T22:27:58.144Z"
   },
   {
    "duration": 35231,
    "start_time": "2023-04-06T22:28:00.993Z"
   },
   {
    "duration": 35338,
    "start_time": "2023-04-06T22:28:40.789Z"
   },
   {
    "duration": 18,
    "start_time": "2023-04-06T22:29:16.129Z"
   },
   {
    "duration": 392607,
    "start_time": "2023-04-06T22:29:31.442Z"
   },
   {
    "duration": 151,
    "start_time": "2023-04-06T22:37:12.489Z"
   },
   {
    "duration": 3,
    "start_time": "2023-04-06T22:37:12.958Z"
   },
   {
    "duration": 4,
    "start_time": "2023-04-06T22:37:13.575Z"
   },
   {
    "duration": 4,
    "start_time": "2023-04-06T22:37:14.675Z"
   },
   {
    "duration": 349,
    "start_time": "2023-04-06T22:37:15.448Z"
   },
   {
    "duration": 2251,
    "start_time": "2023-04-06T22:43:59.019Z"
   },
   {
    "duration": 1133,
    "start_time": "2023-04-06T22:44:08.110Z"
   },
   {
    "duration": 178,
    "start_time": "2023-04-06T22:46:21.332Z"
   },
   {
    "duration": 12,
    "start_time": "2023-04-06T22:47:19.359Z"
   },
   {
    "duration": 281,
    "start_time": "2023-04-06T22:47:43.811Z"
   },
   {
    "duration": 12,
    "start_time": "2023-04-06T22:47:47.559Z"
   },
   {
    "duration": 143,
    "start_time": "2023-04-06T22:48:24.807Z"
   },
   {
    "duration": 148,
    "start_time": "2023-04-06T22:48:33.907Z"
   },
   {
    "duration": 157,
    "start_time": "2023-04-06T22:49:31.916Z"
   },
   {
    "duration": 10,
    "start_time": "2023-04-06T22:51:24.208Z"
   },
   {
    "duration": 3171,
    "start_time": "2023-04-06T22:51:42.259Z"
   },
   {
    "duration": 47,
    "start_time": "2023-04-06T22:51:45.432Z"
   },
   {
    "duration": 23,
    "start_time": "2023-04-06T22:51:45.480Z"
   },
   {
    "duration": 20,
    "start_time": "2023-04-06T22:51:45.505Z"
   },
   {
    "duration": 17,
    "start_time": "2023-04-06T22:51:45.527Z"
   },
   {
    "duration": 4,
    "start_time": "2023-04-06T22:51:45.546Z"
   },
   {
    "duration": 38,
    "start_time": "2023-04-06T22:51:45.551Z"
   },
   {
    "duration": 293,
    "start_time": "2023-04-06T22:51:45.591Z"
   },
   {
    "duration": 288,
    "start_time": "2023-04-06T22:51:45.886Z"
   },
   {
    "duration": 28,
    "start_time": "2023-04-06T22:51:46.178Z"
   },
   {
    "duration": 327,
    "start_time": "2023-04-06T22:51:46.207Z"
   },
   {
    "duration": 29,
    "start_time": "2023-04-06T22:51:46.540Z"
   },
   {
    "duration": 635,
    "start_time": "2023-04-06T22:51:46.571Z"
   },
   {
    "duration": 16,
    "start_time": "2023-04-06T22:51:47.207Z"
   },
   {
    "duration": 87,
    "start_time": "2023-04-06T22:51:47.224Z"
   },
   {
    "duration": 3,
    "start_time": "2023-04-06T22:51:47.313Z"
   },
   {
    "duration": 28,
    "start_time": "2023-04-06T22:51:47.317Z"
   },
   {
    "duration": 67,
    "start_time": "2023-04-06T22:51:47.347Z"
   },
   {
    "duration": 5,
    "start_time": "2023-04-06T22:51:47.415Z"
   },
   {
    "duration": 20,
    "start_time": "2023-04-06T22:51:47.421Z"
   },
   {
    "duration": 5,
    "start_time": "2023-04-06T22:51:47.442Z"
   },
   {
    "duration": 13,
    "start_time": "2023-04-06T22:51:47.448Z"
   },
   {
    "duration": 123,
    "start_time": "2023-04-06T22:51:47.462Z"
   },
   {
    "duration": 7,
    "start_time": "2023-04-06T22:51:47.586Z"
   },
   {
    "duration": 6,
    "start_time": "2023-04-06T22:51:47.594Z"
   },
   {
    "duration": 179,
    "start_time": "2023-04-06T22:51:47.601Z"
   },
   {
    "duration": 7,
    "start_time": "2023-04-06T22:51:47.781Z"
   },
   {
    "duration": 2,
    "start_time": "2023-04-06T22:51:47.792Z"
   },
   {
    "duration": 15,
    "start_time": "2023-04-06T22:51:47.796Z"
   },
   {
    "duration": 28,
    "start_time": "2023-04-06T22:51:47.813Z"
   },
   {
    "duration": 8,
    "start_time": "2023-04-06T22:51:47.842Z"
   },
   {
    "duration": 9,
    "start_time": "2023-04-06T22:51:47.852Z"
   },
   {
    "duration": 11,
    "start_time": "2023-04-06T22:51:47.862Z"
   },
   {
    "duration": 6,
    "start_time": "2023-04-06T22:51:47.875Z"
   },
   {
    "duration": 19,
    "start_time": "2023-04-06T22:51:47.882Z"
   },
   {
    "duration": 19,
    "start_time": "2023-04-06T22:51:47.903Z"
   },
   {
    "duration": 15,
    "start_time": "2023-04-06T22:51:47.940Z"
   },
   {
    "duration": 15,
    "start_time": "2023-04-06T22:51:47.957Z"
   },
   {
    "duration": 8,
    "start_time": "2023-04-06T22:51:47.973Z"
   },
   {
    "duration": 3,
    "start_time": "2023-04-06T22:51:47.982Z"
   },
   {
    "duration": 3,
    "start_time": "2023-04-06T22:51:47.987Z"
   },
   {
    "duration": 5,
    "start_time": "2023-04-06T22:51:47.991Z"
   },
   {
    "duration": 5,
    "start_time": "2023-04-06T22:51:47.997Z"
   },
   {
    "duration": 5,
    "start_time": "2023-04-06T22:51:48.003Z"
   },
   {
    "duration": 2,
    "start_time": "2023-04-06T22:51:48.009Z"
   },
   {
    "duration": 28,
    "start_time": "2023-04-06T22:51:48.013Z"
   },
   {
    "duration": 8,
    "start_time": "2023-04-06T22:51:48.043Z"
   },
   {
    "duration": 15,
    "start_time": "2023-04-06T22:51:48.053Z"
   },
   {
    "duration": 4,
    "start_time": "2023-04-06T22:51:48.070Z"
   },
   {
    "duration": 8,
    "start_time": "2023-04-06T22:51:48.075Z"
   },
   {
    "duration": 28,
    "start_time": "2023-04-06T22:51:48.084Z"
   },
   {
    "duration": 3,
    "start_time": "2023-04-06T22:51:48.114Z"
   },
   {
    "duration": 29,
    "start_time": "2023-04-06T22:51:48.119Z"
   },
   {
    "duration": 4,
    "start_time": "2023-04-06T22:51:48.149Z"
   },
   {
    "duration": 9,
    "start_time": "2023-04-06T22:51:48.154Z"
   },
   {
    "duration": 4,
    "start_time": "2023-04-06T22:51:48.165Z"
   },
   {
    "duration": 6,
    "start_time": "2023-04-06T22:51:48.171Z"
   },
   {
    "duration": 3,
    "start_time": "2023-04-06T22:51:48.178Z"
   },
   {
    "duration": 4,
    "start_time": "2023-04-06T22:51:48.182Z"
   },
   {
    "duration": 5,
    "start_time": "2023-04-06T22:51:48.187Z"
   },
   {
    "duration": 4,
    "start_time": "2023-04-06T22:51:48.194Z"
   },
   {
    "duration": 34270,
    "start_time": "2023-04-06T22:51:48.199Z"
   },
   {
    "duration": 8,
    "start_time": "2023-04-06T22:52:22.473Z"
   },
   {
    "duration": 71859,
    "start_time": "2023-04-06T22:52:22.483Z"
   },
   {
    "duration": 1905,
    "start_time": "2023-04-06T22:53:34.343Z"
   },
   {
    "duration": 109,
    "start_time": "2023-04-06T22:53:36.249Z"
   },
   {
    "duration": 5,
    "start_time": "2023-04-06T22:53:36.439Z"
   },
   {
    "duration": 7,
    "start_time": "2023-04-06T22:53:36.445Z"
   },
   {
    "duration": 288,
    "start_time": "2023-04-06T22:53:36.453Z"
   },
   {
    "duration": 2090,
    "start_time": "2023-04-06T22:53:36.744Z"
   },
   {
    "duration": 996,
    "start_time": "2023-04-06T22:53:38.838Z"
   },
   {
    "duration": 8809,
    "start_time": "2023-04-06T22:53:39.836Z"
   },
   {
    "duration": 622,
    "start_time": "2023-04-06T22:53:48.647Z"
   },
   {
    "duration": 4080,
    "start_time": "2023-04-06T23:01:38.413Z"
   }
  ],
  "kernelspec": {
   "display_name": "Python 3 (ipykernel)",
   "language": "python",
   "name": "python3"
  },
  "language_info": {
   "codemirror_mode": {
    "name": "ipython",
    "version": 3
   },
   "file_extension": ".py",
   "mimetype": "text/x-python",
   "name": "python",
   "nbconvert_exporter": "python",
   "pygments_lexer": "ipython3",
   "version": "3.9.12"
  },
  "toc": {
   "base_numbering": 1,
   "nav_menu": {},
   "number_sections": true,
   "sideBar": true,
   "skip_h1_title": true,
   "title_cell": "Table of Contents",
   "title_sidebar": "Contents",
   "toc_cell": false,
   "toc_position": {},
   "toc_section_display": true,
   "toc_window_display": false
  }
 },
 "nbformat": 4,
 "nbformat_minor": 2
}
